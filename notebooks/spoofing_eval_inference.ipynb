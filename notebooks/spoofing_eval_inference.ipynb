{
  "nbformat": 4,
  "nbformat_minor": 0,
  "metadata": {
    "colab": {
      "provenance": [],
      "gpuType": "T4"
    },
    "kernelspec": {
      "name": "python3",
      "display_name": "Python 3"
    },
    "language_info": {
      "name": "python"
    },
    "accelerator": "GPU"
  },
  "cells": [
    {
      "cell_type": "code",
      "execution_count": 1,
      "metadata": {
        "colab": {
          "base_uri": "https://localhost:8080/"
        },
        "id": "OZvg_WGr4X2o",
        "outputId": "ce118af6-5171-4cda-d741-b6eba192d3e3"
      },
      "outputs": [
        {
          "output_type": "stream",
          "name": "stdout",
          "text": [
            "Mounted at /content/drive\n"
          ]
        }
      ],
      "source": [
        "from google.colab import drive\n",
        "drive.mount('/content/drive')"
      ]
    },
    {
      "cell_type": "code",
      "source": [
        "# IF UTF-8 ERROR THEN EXECUTE\n",
        "import locale\n",
        "def getpreferredencoding(do_setlocale = True):\n",
        "    return \"UTF-8\"\n",
        "locale.getpreferredencoding = getpreferredencoding"
      ],
      "metadata": {
        "id": "2C5qEPMdk3hw"
      },
      "execution_count": 2,
      "outputs": []
    },
    {
      "cell_type": "code",
      "source": [
        "!git clone -b development https://github.com/InhumanlyInsane/aasist-id.git"
      ],
      "metadata": {
        "colab": {
          "base_uri": "https://localhost:8080/"
        },
        "id": "zQNi5J6k4gOo",
        "outputId": "b85cbf3a-d410-4709-b3bc-e8edb876faa6"
      },
      "execution_count": 3,
      "outputs": [
        {
          "output_type": "stream",
          "name": "stdout",
          "text": [
            "Cloning into 'aasist-id'...\n",
            "remote: Enumerating objects: 119, done.\u001b[K\n",
            "remote: Counting objects: 100% (97/97), done.\u001b[K\n",
            "remote: Compressing objects: 100% (69/69), done.\u001b[K\n",
            "remote: Total 119 (delta 58), reused 58 (delta 28), pack-reused 22 (from 1)\u001b[K\n",
            "Receiving objects: 100% (119/119), 1.45 MiB | 3.10 MiB/s, done.\n",
            "Resolving deltas: 100% (62/62), done.\n"
          ]
        }
      ]
    },
    {
      "cell_type": "code",
      "source": [
        "!pip install -qq -r ./aasist-id/requirements.txt"
      ],
      "metadata": {
        "id": "57Vs6eZl6VWY",
        "colab": {
          "base_uri": "https://localhost:8080/"
        },
        "outputId": "06b087f1-b330-45d3-d5fb-1f32b73e534c"
      },
      "execution_count": 4,
      "outputs": [
        {
          "output_type": "stream",
          "name": "stdout",
          "text": [
            "  Preparing metadata (setup.py) ... \u001b[?25l\u001b[?25hdone\n",
            "  Building wheel for torchcontrib (setup.py) ... \u001b[?25l\u001b[?25hdone\n"
          ]
        }
      ]
    },
    {
      "cell_type": "markdown",
      "source": [
        "# Evaluation Logs"
      ],
      "metadata": {
        "id": "JvEuUH3GhY3C"
      }
    },
    {
      "cell_type": "code",
      "source": [
        "from tensorboard.backend.event_processing import event_accumulator\n",
        "import tensorflow as tf\n",
        "\n",
        "# Method 1: Using event_accumulator\n",
        "def read_tensorboard_file(path):\n",
        "    # Load the event file\n",
        "    ea = event_accumulator.EventAccumulator(path)\n",
        "    ea.Reload()  # Load all data written to the event file\n",
        "\n",
        "    # Print available tags (metrics tracked)\n",
        "    print(\"Available tags:\", ea.Tags())\n",
        "\n",
        "    # Get all scalar events\n",
        "    for tag in ea.Tags()['scalars']:\n",
        "        events = ea.Scalars(tag)\n",
        "        print(f\"\\nMetric: {tag}\")\n",
        "        for event in events:\n",
        "            print(f\"Step: {event.step}, Value: {event.value}\")\n",
        "\n",
        "# Method 2: Using TensorFlow directly\n",
        "def read_tf_events(path):\n",
        "    for event in tf.compat.v1.train.summary_iterator(path):\n",
        "        for value in event.summary.value:\n",
        "            print(f\"Step: {event.step}, Tag: {value.tag}, Value: {value.simple_value}\")"
      ],
      "metadata": {
        "id": "DZpBNiLTIpEA"
      },
      "execution_count": 5,
      "outputs": []
    },
    {
      "cell_type": "code",
      "source": [
        "print(\"AASIST LOSS & EER\")\n",
        "path = \"/content/drive/MyDrive/dataspoofv2/IDASVspoofing_AASIST_ep10_bs32/events.out.tfevents.1734160827.3460581b0a93.91.0\"\n",
        "read_tensorboard_file(path)"
      ],
      "metadata": {
        "colab": {
          "base_uri": "https://localhost:8080/"
        },
        "id": "ZYzTwVHFJryK",
        "outputId": "e75f829e-e4a9-45c5-ec61-318c4ccc5d4d"
      },
      "execution_count": 6,
      "outputs": [
        {
          "output_type": "stream",
          "name": "stdout",
          "text": [
            "AASIST LOSS & EER\n",
            "Available tags: {'images': [], 'audio': [], 'histograms': [], 'scalars': ['loss', 'val_eer', 'best_val_eer'], 'distributions': [], 'tensors': [], 'graph': False, 'meta_graph': False, 'run_metadata': []}\n",
            "\n",
            "Metric: loss\n",
            "Step: 0, Value: 0.06818849593400955\n",
            "Step: 1, Value: 0.007652659434825182\n",
            "Step: 2, Value: 0.0038923099637031555\n",
            "Step: 3, Value: 0.0029161139391362667\n",
            "Step: 4, Value: 0.0013371428940445185\n",
            "Step: 5, Value: 0.0014094673097133636\n",
            "Step: 6, Value: 0.002916323719546199\n",
            "Step: 7, Value: 0.00079766457201913\n",
            "Step: 8, Value: 0.0019749212078750134\n",
            "Step: 9, Value: 0.0008926637819968164\n",
            "\n",
            "Metric: val_eer\n",
            "Step: 0, Value: 0.03333333507180214\n",
            "Step: 1, Value: 0.03333333507180214\n",
            "Step: 2, Value: 0.03333333507180214\n",
            "Step: 3, Value: 0.0\n",
            "Step: 4, Value: 0.0\n",
            "Step: 5, Value: 0.03333333507180214\n",
            "Step: 6, Value: 0.03333333507180214\n",
            "Step: 7, Value: 0.0\n",
            "Step: 8, Value: 0.0\n",
            "Step: 9, Value: 0.03333333507180214\n",
            "\n",
            "Metric: best_val_eer\n",
            "Step: 0, Value: 0.03333333507180214\n",
            "Step: 1, Value: 0.03333333507180214\n",
            "Step: 2, Value: 0.03333333507180214\n",
            "Step: 3, Value: 0.0\n",
            "Step: 4, Value: 0.0\n",
            "Step: 5, Value: 0.0\n",
            "Step: 6, Value: 0.0\n",
            "Step: 7, Value: 0.0\n",
            "Step: 8, Value: 0.0\n",
            "Step: 9, Value: 0.0\n"
          ]
        }
      ]
    },
    {
      "cell_type": "code",
      "source": [
        "print(\"AASIST-L LOSS & EER\")\n",
        "path = \"/content/drive/MyDrive/dataspoofv2/IDASVspoofing_AASIST-L_ep10_bs32/events.out.tfevents.1734164759.3460581b0a93.616.0\"\n",
        "read_tensorboard_file(path)"
      ],
      "metadata": {
        "colab": {
          "base_uri": "https://localhost:8080/"
        },
        "id": "h_hmS2BGJsH4",
        "outputId": "5a38643f-0d8e-4240-e752-1a8bd513fc1f"
      },
      "execution_count": 7,
      "outputs": [
        {
          "output_type": "stream",
          "name": "stdout",
          "text": [
            "AASIST-L LOSS & EER\n",
            "Available tags: {'images': [], 'audio': [], 'histograms': [], 'scalars': ['loss', 'val_eer', 'best_val_eer'], 'distributions': [], 'tensors': [], 'graph': False, 'meta_graph': False, 'run_metadata': []}\n",
            "\n",
            "Metric: loss\n",
            "Step: 0, Value: 0.10227407515048981\n",
            "Step: 1, Value: 0.013514837250113487\n",
            "Step: 2, Value: 0.00539843924343586\n",
            "Step: 3, Value: 0.00300589413382113\n",
            "Step: 4, Value: 0.0025840424932539463\n",
            "Step: 5, Value: 0.0018022647127509117\n",
            "Step: 6, Value: 0.004545168951153755\n",
            "Step: 7, Value: 0.001462487387470901\n",
            "Step: 8, Value: 0.0013291959185153246\n",
            "Step: 9, Value: 0.0016450178809463978\n",
            "\n",
            "Metric: val_eer\n",
            "Step: 0, Value: 0.0\n",
            "Step: 1, Value: 0.0\n",
            "Step: 2, Value: 0.0\n",
            "Step: 3, Value: 0.0\n",
            "Step: 4, Value: 0.0\n",
            "Step: 5, Value: 0.0\n",
            "Step: 6, Value: 0.0\n",
            "Step: 7, Value: 0.0\n",
            "Step: 8, Value: 0.0\n",
            "Step: 9, Value: 0.0\n",
            "\n",
            "Metric: best_val_eer\n",
            "Step: 0, Value: 0.0\n",
            "Step: 1, Value: 0.0\n",
            "Step: 2, Value: 0.0\n",
            "Step: 3, Value: 0.0\n",
            "Step: 4, Value: 0.0\n",
            "Step: 5, Value: 0.0\n",
            "Step: 6, Value: 0.0\n",
            "Step: 7, Value: 0.0\n",
            "Step: 8, Value: 0.0\n",
            "Step: 9, Value: 0.0\n"
          ]
        }
      ]
    },
    {
      "cell_type": "code",
      "source": [
        "print(\"RAWGAT-ST LOSS & EER\")\n",
        "path = \"/content/drive/MyDrive/dataspoofv2/IDASVspoofing_RawGATST_baseline_ep10_bs16/events.out.tfevents.1734188227.3460581b0a93.398.0\"\n",
        "read_tensorboard_file(path)"
      ],
      "metadata": {
        "colab": {
          "base_uri": "https://localhost:8080/"
        },
        "id": "r1_de16nJ3nV",
        "outputId": "a7f0b3f4-f192-4f1e-b2fd-0eb0155f613f"
      },
      "execution_count": 8,
      "outputs": [
        {
          "output_type": "stream",
          "name": "stdout",
          "text": [
            "RAWGAT-ST LOSS & EER\n",
            "Available tags: {'images': [], 'audio': [], 'histograms': [], 'scalars': ['loss', 'val_eer', 'best_val_eer'], 'distributions': [], 'tensors': [], 'graph': False, 'meta_graph': False, 'run_metadata': []}\n",
            "\n",
            "Metric: loss\n",
            "Step: 0, Value: 0.19102348387241364\n",
            "Step: 1, Value: 0.024499066174030304\n",
            "Step: 2, Value: 0.007270664907991886\n",
            "Step: 3, Value: 0.007672182749956846\n",
            "Step: 4, Value: 0.0037938738241791725\n",
            "Step: 5, Value: 0.0025529623962938786\n",
            "Step: 6, Value: 0.0029981161933392286\n",
            "Step: 7, Value: 0.0016629694728180766\n",
            "Step: 8, Value: 0.0017481627874076366\n",
            "Step: 9, Value: 0.0010955765610560775\n",
            "\n",
            "Metric: val_eer\n",
            "Step: 0, Value: 0.0\n",
            "Step: 1, Value: 0.03333333507180214\n",
            "Step: 2, Value: 0.0\n",
            "Step: 3, Value: 0.0\n",
            "Step: 4, Value: 0.0\n",
            "Step: 5, Value: 0.0\n",
            "Step: 6, Value: 0.0\n",
            "Step: 7, Value: 0.0\n",
            "Step: 8, Value: 0.0\n",
            "Step: 9, Value: 0.0\n",
            "\n",
            "Metric: best_val_eer\n",
            "Step: 0, Value: 0.0\n",
            "Step: 1, Value: 0.0\n",
            "Step: 2, Value: 0.0\n",
            "Step: 3, Value: 0.0\n",
            "Step: 4, Value: 0.0\n",
            "Step: 5, Value: 0.0\n",
            "Step: 6, Value: 0.0\n",
            "Step: 7, Value: 0.0\n",
            "Step: 8, Value: 0.0\n",
            "Step: 9, Value: 0.0\n"
          ]
        }
      ]
    },
    {
      "cell_type": "markdown",
      "source": [
        "# Inference"
      ],
      "metadata": {
        "id": "2Dpdmd59hXPR"
      }
    },
    {
      "cell_type": "code",
      "source": [
        "import argparse\n",
        "import json\n",
        "import os\n",
        "import sys\n",
        "import warnings\n",
        "from importlib import import_module\n",
        "from pathlib import Path\n",
        "from shutil import copy\n",
        "from typing import Dict, List, Union\n",
        "import numpy as np\n",
        "\n",
        "import torch\n",
        "import torchaudio\n",
        "import torch.nn as nn\n",
        "from torch.utils.data import DataLoader\n",
        "from torch.utils.tensorboard import SummaryWriter\n",
        "from torchcontrib.optim import SWA\n",
        "\n",
        "warnings.filterwarnings(\"ignore\", category=FutureWarning)"
      ],
      "metadata": {
        "id": "5lmsAu3nL_JN"
      },
      "execution_count": 9,
      "outputs": []
    },
    {
      "cell_type": "code",
      "source": [
        "model_config = {\n",
        "  \"architecture\": \"AASIST\",\n",
        "  \"nb_samp\": 64600,\n",
        "  \"first_conv\": 128,\n",
        "  \"filts\": [70, [1, 32], [32, 32], [32, 64], [64, 64]],\n",
        "  \"gat_dims\": [64, 32],\n",
        "  \"pool_ratios\": [0.5, 0.7, 0.5, 0.5],\n",
        "  \"temperatures\": [2.0, 2.0, 100.0, 100.0]\n",
        "}"
      ],
      "metadata": {
        "id": "qxCY08CuLnPM"
      },
      "execution_count": 10,
      "outputs": []
    },
    {
      "cell_type": "code",
      "source": [
        "def get_model(model_config: Dict, device: torch.device):\n",
        "    \"\"\"Define DNN model architecture\"\"\"\n",
        "    module = import_module(\"aasist-id.models.{}\".format(model_config[\"architecture\"]))\n",
        "    _model = getattr(module, \"Model\")\n",
        "    model = _model(model_config).to(device)\n",
        "    nb_params = sum([param.view(-1).size()[0] for param in model.parameters()])\n",
        "    print(\"no. model params:{}\".format(nb_params))\n",
        "\n",
        "    return model\n",
        "\n",
        "def load_model(model_config, model_path, device='cuda' if torch.cuda.is_available() else 'cpu'):\n",
        "    \"\"\"Load trained AASIST model\"\"\"\n",
        "    model = get_model(model_config, device)\n",
        "    model.load_state_dict(torch.load(model_path, map_location=device))\n",
        "    model.eval()\n",
        "    model.to(device)\n",
        "    return model\n",
        "\n",
        "def predict(model_config, model_path, audio_path):\n",
        "    \"\"\"Predict if audio is bonafide or spoofed\"\"\"\n",
        "    device = 'cuda' if torch.cuda.is_available() else 'cpu'\n",
        "\n",
        "    # Load model\n",
        "    model = load_model(model_config, model_path, device)\n",
        "\n",
        "    # Load audio\n",
        "    waveform, sr = torchaudio.load(audio_path)\n",
        "\n",
        "    waveform = pad(waveform.squeeze(0), max_len=model_config['nb_samp'])\n",
        "    waveform = torch.FloatTensor(waveform).unsqueeze(0)\n",
        "\n",
        "    waveform = waveform.to(device)\n",
        "\n",
        "    # Get prediction\n",
        "    with torch.no_grad():\n",
        "        _, output = model(waveform)\n",
        "        score = output[0][1].item()  # Get bonafide score\n",
        "\n",
        "    # Classify based on score\n",
        "    prediction = 'bonafide' if score > 0.5 else 'spoof'\n",
        "\n",
        "    return {\n",
        "        'file_name': os.path.basename(audio_path),\n",
        "        'prediction': prediction,\n",
        "        'raw_score': score\n",
        "    }\n",
        "\n",
        "def pad(x, max_len=64600):\n",
        "    x_len = x.shape[0]\n",
        "    if x_len >= max_len:\n",
        "        return x[:max_len]\n",
        "    # need to pad\n",
        "    num_repeats = int(max_len / x_len) + 1\n",
        "    padded_x = np.tile(x, (1, num_repeats))[:, :max_len][0]\n",
        "    return padded_x"
      ],
      "metadata": {
        "id": "9yDSP4A9KHid"
      },
      "execution_count": 11,
      "outputs": []
    },
    {
      "cell_type": "markdown",
      "source": [
        "## Bonafide"
      ],
      "metadata": {
        "id": "rH8mT1j0iXHL"
      }
    },
    {
      "cell_type": "code",
      "source": [
        "model_config = {\n",
        "  \"architecture\": \"AASIST\",\n",
        "  \"nb_samp\": 64600,\n",
        "  \"first_conv\": 128,\n",
        "  \"filts\": [70, [1, 32], [32, 32], [32, 64], [64, 64]],\n",
        "  \"gat_dims\": [64, 32],\n",
        "  \"pool_ratios\": [0.5, 0.7, 0.5, 0.5],\n",
        "  \"temperatures\": [2.0, 2.0, 100.0, 100.0]\n",
        "}\n",
        "\n",
        "model_path = \"/content/drive/MyDrive/dataspoofv2/IDASVspoofing_AASIST_ep10_bs32/weights/epoch_8_0.000.pth\"\n",
        "\n",
        "audio_name_ls = [\n",
        "    'ID_TT_Ind350_F_1635.flac',\n",
        "    'ID_TT_Ind354_F_1811.flac',\n",
        "    'ID_TT_Ind239_M_1276.flac',\n",
        "    'ID_TT_Ind239_M_1285.flac',\n",
        "    'ID_TT_Ind387_F_2939.flac'\n",
        "]\n",
        "\n",
        "raw_scores = []\n",
        "print(\"AASIST\")\n",
        "for audio_name in audio_name_ls:\n",
        "  audio_path = f\"/content/drive/MyDrive/dataspoofv2/IDASVspoofing_test_joined/flac/{audio_name}\"\n",
        "  result = predict(model_config, model_path, audio_path)\n",
        "  raw_scores.append(result['raw_score'])\n",
        "\n",
        "  print(f\"File name: {result['file_name']}\")\n",
        "  print(f\"Prediction {result['file_name']}: {result['prediction']}\")\n",
        "  print(f\"Raw Score {result['file_name']}: {result['raw_score']:.4f}\")\n",
        "  print()\n",
        "\n",
        "print(f\"Average Raw Score: {np.mean(raw_scores):.4f}\")"
      ],
      "metadata": {
        "colab": {
          "base_uri": "https://localhost:8080/"
        },
        "id": "BKO-H-cVP2wD",
        "outputId": "03963451-719c-4fe2-d5de-c9e211175700"
      },
      "execution_count": 13,
      "outputs": [
        {
          "output_type": "stream",
          "name": "stdout",
          "text": [
            "no. model params:297866\n",
            "File name: ID_TT_Ind350_F_1635.flac\n",
            "Prediction ID_TT_Ind350_F_1635.flac: bonafide\n",
            "Raw Score ID_TT_Ind350_F_1635.flac: 4.3296\n",
            "\n",
            "no. model params:297866\n",
            "File name: ID_TT_Ind354_F_1811.flac\n",
            "Prediction ID_TT_Ind354_F_1811.flac: bonafide\n",
            "Raw Score ID_TT_Ind354_F_1811.flac: 4.3698\n",
            "\n",
            "no. model params:297866\n",
            "File name: ID_TT_Ind239_M_1276.flac\n",
            "Prediction ID_TT_Ind239_M_1276.flac: bonafide\n",
            "Raw Score ID_TT_Ind239_M_1276.flac: 4.2627\n",
            "\n",
            "no. model params:297866\n",
            "File name: ID_TT_Ind239_M_1285.flac\n",
            "Prediction ID_TT_Ind239_M_1285.flac: bonafide\n",
            "Raw Score ID_TT_Ind239_M_1285.flac: 4.5902\n",
            "\n",
            "no. model params:297866\n",
            "File name: ID_TT_Ind387_F_2939.flac\n",
            "Prediction ID_TT_Ind387_F_2939.flac: bonafide\n",
            "Raw Score ID_TT_Ind387_F_2939.flac: 4.4298\n",
            "\n",
            "Average Raw Score: 4.3964\n"
          ]
        }
      ]
    },
    {
      "cell_type": "code",
      "source": [
        "model_config_aasist_l = {\n",
        "    \"architecture\": \"AASIST\",\n",
        "    \"nb_samp\": 64600,\n",
        "    \"first_conv\": 128,\n",
        "    \"filts\": [70, [1, 32], [32, 32], [32, 24], [24, 24]],\n",
        "    \"gat_dims\": [24, 32],\n",
        "    \"pool_ratios\": [0.4, 0.5, 0.7, 0.5],\n",
        "    \"temperatures\": [2.0, 2.0, 100.0, 100.0]\n",
        "}\n",
        "\n",
        "model_path = \"/content/drive/MyDrive/dataspoofv2/IDASVspoofing_AASIST-L_ep10_bs32/weights/epoch_9_0.000.pth\"\n",
        "\n",
        "audio_name_ls = [\n",
        "    'ID_TT_Ind350_F_1635.flac',\n",
        "    'ID_TT_Ind354_F_1811.flac',\n",
        "    'ID_TT_Ind239_M_1276.flac',\n",
        "    'ID_TT_Ind239_M_1285.flac',\n",
        "    'ID_TT_Ind387_F_2939.flac'\n",
        "]\n",
        "\n",
        "raw_scores = []\n",
        "print(\"AASIST-L\")\n",
        "for audio_name in audio_name_ls:\n",
        "  audio_path = f\"/content/drive/MyDrive/dataspoofv2/IDASVspoofing_test_joined/flac/{audio_name}\"\n",
        "  result = predict(model_config_aasist_l, model_path, audio_path)\n",
        "  raw_scores.append(result['raw_score'])\n",
        "\n",
        "  print(f\"File name: {result['file_name']}\")\n",
        "  print(f\"Prediction {result['file_name']}: {result['prediction']}\")\n",
        "  print(f\"Raw Score {result['file_name']}: {result['raw_score']:.4f}\")\n",
        "  print()\n",
        "\n",
        "print(f\"Average Raw Score: {np.mean(raw_scores):.4f}\")"
      ],
      "metadata": {
        "colab": {
          "base_uri": "https://localhost:8080/"
        },
        "id": "RUcZOVI8UMSR",
        "outputId": "5e4521ca-5a6d-4d48-8349-ef86de7bd0b7"
      },
      "execution_count": 14,
      "outputs": [
        {
          "output_type": "stream",
          "name": "stdout",
          "text": [
            "no. model params:85306\n",
            "File name: ID_TT_Ind350_F_1635.flac\n",
            "Prediction ID_TT_Ind350_F_1635.flac: bonafide\n",
            "Raw Score ID_TT_Ind350_F_1635.flac: 3.8740\n",
            "\n",
            "no. model params:85306\n",
            "File name: ID_TT_Ind354_F_1811.flac\n",
            "Prediction ID_TT_Ind354_F_1811.flac: bonafide\n",
            "Raw Score ID_TT_Ind354_F_1811.flac: 4.0582\n",
            "\n",
            "no. model params:85306\n",
            "File name: ID_TT_Ind239_M_1276.flac\n",
            "Prediction ID_TT_Ind239_M_1276.flac: bonafide\n",
            "Raw Score ID_TT_Ind239_M_1276.flac: 4.0903\n",
            "\n",
            "no. model params:85306\n",
            "File name: ID_TT_Ind239_M_1285.flac\n",
            "Prediction ID_TT_Ind239_M_1285.flac: bonafide\n",
            "Raw Score ID_TT_Ind239_M_1285.flac: 4.2836\n",
            "\n",
            "no. model params:85306\n",
            "File name: ID_TT_Ind387_F_2939.flac\n",
            "Prediction ID_TT_Ind387_F_2939.flac: bonafide\n",
            "Raw Score ID_TT_Ind387_F_2939.flac: 4.4990\n",
            "\n",
            "Average Raw Score: 4.1610\n"
          ]
        }
      ]
    },
    {
      "cell_type": "code",
      "source": [
        "model_config_rawgatst =  {\n",
        "  \"architecture\": \"RawNetGatSpoofST\",\n",
        "  \"nb_samp\": 64600,\n",
        "  \"first_conv\": 128,\n",
        "  \"filts\": [70, [1, 32], [32, 32], [32, 64], [64, 64]]\n",
        "}\n",
        "\n",
        "model_path = \"/content/drive/MyDrive/dataspoofv2/IDASVspoofing_RawGATST_baseline_ep10_bs16/weights/epoch_9_0.000.pth\"\n",
        "\n",
        "audio_name_ls = [\n",
        "    'ID_TT_Ind350_F_1635.flac',\n",
        "    'ID_TT_Ind354_F_1811.flac',\n",
        "    'ID_TT_Ind239_M_1276.flac',\n",
        "    'ID_TT_Ind239_M_1285.flac',\n",
        "    'ID_TT_Ind387_F_2939.flac'\n",
        "]\n",
        "\n",
        "raw_scores = []\n",
        "print(\"RAWGAT-ST\")\n",
        "for audio_name in audio_name_ls:\n",
        "  audio_path = f\"/content/drive/MyDrive/dataspoofv2/IDASVspoofing_test_joined/flac/{audio_name}\"\n",
        "  result = predict(model_config_rawgatst, model_path, audio_path)\n",
        "  raw_scores.append(result['raw_score'])\n",
        "\n",
        "  print(f\"File name: {result['file_name']}\")\n",
        "  print(f\"Prediction {result['file_name']}: {result['prediction']}\")\n",
        "  print(f\"Raw Score {result['file_name']}: {result['raw_score']:.4f}\")\n",
        "  print()\n",
        "\n",
        "print(f\"Average Raw Score: {np.mean(raw_scores):.4f}\")"
      ],
      "metadata": {
        "colab": {
          "base_uri": "https://localhost:8080/"
        },
        "id": "u-BXCaKbVJyG",
        "outputId": "9ed8e153-b354-408b-c629-a63fa2153fae"
      },
      "execution_count": 15,
      "outputs": [
        {
          "output_type": "stream",
          "name": "stdout",
          "text": [
            "no. model params:437034\n",
            "File name: ID_TT_Ind350_F_1635.flac\n",
            "Prediction ID_TT_Ind350_F_1635.flac: bonafide\n",
            "Raw Score ID_TT_Ind350_F_1635.flac: 2.0519\n",
            "\n",
            "no. model params:437034\n",
            "File name: ID_TT_Ind354_F_1811.flac\n",
            "Prediction ID_TT_Ind354_F_1811.flac: bonafide\n",
            "Raw Score ID_TT_Ind354_F_1811.flac: 1.9783\n",
            "\n",
            "no. model params:437034\n",
            "File name: ID_TT_Ind239_M_1276.flac\n",
            "Prediction ID_TT_Ind239_M_1276.flac: bonafide\n",
            "Raw Score ID_TT_Ind239_M_1276.flac: 2.1788\n",
            "\n",
            "no. model params:437034\n",
            "File name: ID_TT_Ind239_M_1285.flac\n",
            "Prediction ID_TT_Ind239_M_1285.flac: bonafide\n",
            "Raw Score ID_TT_Ind239_M_1285.flac: 2.3256\n",
            "\n",
            "no. model params:437034\n",
            "File name: ID_TT_Ind387_F_2939.flac\n",
            "Prediction ID_TT_Ind387_F_2939.flac: bonafide\n",
            "Raw Score ID_TT_Ind387_F_2939.flac: 2.0677\n",
            "\n",
            "Average Raw Score: 2.1205\n"
          ]
        }
      ]
    },
    {
      "cell_type": "markdown",
      "source": [
        "## Spoofed"
      ],
      "metadata": {
        "id": "8qwvTDL1iYoQ"
      }
    },
    {
      "cell_type": "code",
      "source": [
        "!pip install -qq datasets coqui-TTS\n",
        "!pip install -Uqq g2p_id_py"
      ],
      "metadata": {
        "colab": {
          "base_uri": "https://localhost:8080/"
        },
        "id": "XAcB0ZzLVVtN",
        "outputId": "fcbb7548-097f-4655-c4a0-5fb06ff9936c"
      },
      "execution_count": 16,
      "outputs": [
        {
          "output_type": "stream",
          "name": "stdout",
          "text": [
            "\u001b[2K     \u001b[90m━━━━━━━━━━━━━━━━━━━━━━━━━━━━━━━━━━━━━━━━\u001b[0m \u001b[32m3.7/3.7 MB\u001b[0m \u001b[31m94.9 MB/s\u001b[0m eta \u001b[36m0:00:00\u001b[0m\n",
            "\u001b[?25h  Preparing metadata (setup.py) ... \u001b[?25l\u001b[?25hdone\n",
            "\u001b[2K     \u001b[90m━━━━━━━━━━━━━━━━━━━━━━━━━━━━━━━━━━━━━━━━\u001b[0m \u001b[32m85.3/85.3 kB\u001b[0m \u001b[31m8.4 MB/s\u001b[0m eta \u001b[36m0:00:00\u001b[0m\n",
            "\u001b[?25h  Preparing metadata (setup.py) ... \u001b[?25l\u001b[?25hdone\n",
            "\u001b[2K     \u001b[90m━━━━━━━━━━━━━━━━━━━━━━━━━━━━━━━━━━━━━━━━\u001b[0m \u001b[32m44.1/44.1 kB\u001b[0m \u001b[31m4.2 MB/s\u001b[0m eta \u001b[36m0:00:00\u001b[0m\n",
            "\u001b[2K     \u001b[90m━━━━━━━━━━━━━━━━━━━━━━━━━━━━━━━━━━━━━━━━\u001b[0m \u001b[32m101.6/101.6 kB\u001b[0m \u001b[31m10.2 MB/s\u001b[0m eta \u001b[36m0:00:00\u001b[0m\n",
            "\u001b[?25h  Preparing metadata (setup.py) ... \u001b[?25l\u001b[?25hdone\n",
            "\u001b[2K     \u001b[90m━━━━━━━━━━━━━━━━━━━━━━━━━━━━━━━━━━━━━━━━\u001b[0m \u001b[32m15.3/15.3 MB\u001b[0m \u001b[31m78.7 MB/s\u001b[0m eta \u001b[36m0:00:00\u001b[0m\n",
            "\u001b[?25h  Preparing metadata (setup.py) ... \u001b[?25l\u001b[?25hdone\n",
            "\u001b[2K     \u001b[90m━━━━━━━━━━━━━━━━━━━━━━━━━━━━━━━━━━━━━━━━\u001b[0m \u001b[32m10.9/10.9 MB\u001b[0m \u001b[31m79.2 MB/s\u001b[0m eta \u001b[36m0:00:00\u001b[0m\n",
            "\u001b[?25h  Preparing metadata (setup.py) ... \u001b[?25l\u001b[?25hdone\n",
            "\u001b[2K     \u001b[90m━━━━━━━━━━━━━━━━━━━━━━━━━━━━━━━━━━━━━━━━\u001b[0m \u001b[32m18.1/18.1 MB\u001b[0m \u001b[31m21.4 MB/s\u001b[0m eta \u001b[36m0:00:00\u001b[0m\n",
            "\u001b[?25h  Preparing metadata (setup.py) ... \u001b[?25l\u001b[?25hdone\n",
            "\u001b[2K     \u001b[90m━━━━━━━━━━━━━━━━━━━━━━━━━━━━━━━━━━━━━━━━\u001b[0m \u001b[32m31.4/31.4 MB\u001b[0m \u001b[31m13.3 MB/s\u001b[0m eta \u001b[36m0:00:00\u001b[0m\n",
            "\u001b[?25h  Preparing metadata (setup.py) ... \u001b[?25l\u001b[?25hdone\n",
            "  Preparing metadata (setup.py) ... \u001b[?25l\u001b[?25hdone\n",
            "\u001b[2K   \u001b[90m━━━━━━━━━━━━━━━━━━━━━━━━━━━━━━━━━━━━━━━━\u001b[0m \u001b[32m480.6/480.6 kB\u001b[0m \u001b[31m35.7 MB/s\u001b[0m eta \u001b[36m0:00:00\u001b[0m\n",
            "\u001b[2K   \u001b[90m━━━━━━━━━━━━━━━━━━━━━━━━━━━━━━━━━━━━━━━━\u001b[0m \u001b[32m859.3/859.3 kB\u001b[0m \u001b[31m55.7 MB/s\u001b[0m eta \u001b[36m0:00:00\u001b[0m\n",
            "\u001b[2K   \u001b[90m━━━━━━━━━━━━━━━━━━━━━━━━━━━━━━━━━━━━━━━━\u001b[0m \u001b[32m289.9/289.9 kB\u001b[0m \u001b[31m27.7 MB/s\u001b[0m eta \u001b[36m0:00:00\u001b[0m\n",
            "\u001b[2K   \u001b[90m━━━━━━━━━━━━━━━━━━━━━━━━━━━━━━━━━━━━━━━━\u001b[0m \u001b[32m57.0/57.0 kB\u001b[0m \u001b[31m6.1 MB/s\u001b[0m eta \u001b[36m0:00:00\u001b[0m\n",
            "\u001b[2K   \u001b[90m━━━━━━━━━━━━━━━━━━━━━━━━━━━━━━━━━━━━━━━━\u001b[0m \u001b[32m116.3/116.3 kB\u001b[0m \u001b[31m12.4 MB/s\u001b[0m eta \u001b[36m0:00:00\u001b[0m\n",
            "\u001b[2K   \u001b[90m━━━━━━━━━━━━━━━━━━━━━━━━━━━━━━━━━━━━━━━━\u001b[0m \u001b[32m179.3/179.3 kB\u001b[0m \u001b[31m17.9 MB/s\u001b[0m eta \u001b[36m0:00:00\u001b[0m\n",
            "\u001b[2K   \u001b[90m━━━━━━━━━━━━━━━━━━━━━━━━━━━━━━━━━━━━━━━━\u001b[0m \u001b[32m577.9/577.9 kB\u001b[0m \u001b[31m46.3 MB/s\u001b[0m eta \u001b[36m0:00:00\u001b[0m\n",
            "\u001b[2K   \u001b[90m━━━━━━━━━━━━━━━━━━━━━━━━━━━━━━━━━━━━━━━━\u001b[0m \u001b[32m134.8/134.8 kB\u001b[0m \u001b[31m14.4 MB/s\u001b[0m eta \u001b[36m0:00:00\u001b[0m\n",
            "\u001b[2K   \u001b[90m━━━━━━━━━━━━━━━━━━━━━━━━━━━━━━━━━━━━━━━━\u001b[0m \u001b[32m143.3/143.3 kB\u001b[0m \u001b[31m15.7 MB/s\u001b[0m eta \u001b[36m0:00:00\u001b[0m\n",
            "\u001b[2K   \u001b[90m━━━━━━━━━━━━━━━━━━━━━━━━━━━━━━━━━━━━━━━━\u001b[0m \u001b[32m71.1/71.1 kB\u001b[0m \u001b[31m7.4 MB/s\u001b[0m eta \u001b[36m0:00:00\u001b[0m\n",
            "\u001b[2K   \u001b[90m━━━━━━━━━━━━━━━━━━━━━━━━━━━━━━━━━━━━━━━━\u001b[0m \u001b[32m10.0/10.0 MB\u001b[0m \u001b[31m109.8 MB/s\u001b[0m eta \u001b[36m0:00:00\u001b[0m\n",
            "\u001b[2K   \u001b[90m━━━━━━━━━━━━━━━━━━━━━━━━━━━━━━━━━━━━━━━━\u001b[0m \u001b[32m194.1/194.1 kB\u001b[0m \u001b[31m18.7 MB/s\u001b[0m eta \u001b[36m0:00:00\u001b[0m\n",
            "\u001b[2K   \u001b[90m━━━━━━━━━━━━━━━━━━━━━━━━━━━━━━━━━━━━━━━━\u001b[0m \u001b[32m293.8/293.8 kB\u001b[0m \u001b[31m28.0 MB/s\u001b[0m eta \u001b[36m0:00:00\u001b[0m\n",
            "\u001b[2K   \u001b[90m━━━━━━━━━━━━━━━━━━━━━━━━━━━━━━━━━━━━━━━━\u001b[0m \u001b[32m1.2/1.2 MB\u001b[0m \u001b[31m68.0 MB/s\u001b[0m eta \u001b[36m0:00:00\u001b[0m\n",
            "\u001b[2K   \u001b[90m━━━━━━━━━━━━━━━━━━━━━━━━━━━━━━━━━━━━━━━━\u001b[0m \u001b[32m72.1/72.1 MB\u001b[0m \u001b[31m10.3 MB/s\u001b[0m eta \u001b[36m0:00:00\u001b[0m\n",
            "\u001b[2K   \u001b[90m━━━━━━━━━━━━━━━━━━━━━━━━━━━━━━━━━━━━━━━━\u001b[0m \u001b[32m1.7/1.7 MB\u001b[0m \u001b[31m75.7 MB/s\u001b[0m eta \u001b[36m0:00:00\u001b[0m\n",
            "\u001b[?25h  Building wheel for encodec (setup.py) ... \u001b[?25l\u001b[?25hdone\n",
            "  Building wheel for gruut (setup.py) ... \u001b[?25l\u001b[?25hdone\n",
            "  Building wheel for docopt (setup.py) ... \u001b[?25l\u001b[?25hdone\n",
            "  Building wheel for gruut-ipa (setup.py) ... \u001b[?25l\u001b[?25hdone\n",
            "  Building wheel for gruut_lang_de (setup.py) ... \u001b[?25l\u001b[?25hdone\n",
            "  Building wheel for gruut_lang_en (setup.py) ... \u001b[?25l\u001b[?25hdone\n",
            "  Building wheel for gruut_lang_es (setup.py) ... \u001b[?25l\u001b[?25hdone\n",
            "  Building wheel for gruut_lang_fr (setup.py) ... \u001b[?25l\u001b[?25hdone\n",
            "\u001b[31mERROR: pip's dependency resolver does not currently take into account all the packages that are installed. This behaviour is the source of the following dependency conflicts.\n",
            "gcsfs 2024.10.0 requires fsspec==2024.10.0, but you have fsspec 2024.9.0 which is incompatible.\u001b[0m\u001b[31m\n",
            "\u001b[2K   \u001b[90m━━━━━━━━━━━━━━━━━━━━━━━━━━━━━━━━━━━━━━━━\u001b[0m \u001b[32m5.1/5.1 MB\u001b[0m \u001b[31m8.4 MB/s\u001b[0m eta \u001b[36m0:00:00\u001b[0m\n",
            "\u001b[2K   \u001b[90m━━━━━━━━━━━━━━━━━━━━━━━━━━━━━━━━━━━━━━━━\u001b[0m \u001b[32m13.3/13.3 MB\u001b[0m \u001b[31m74.0 MB/s\u001b[0m eta \u001b[36m0:00:00\u001b[0m\n",
            "\u001b[2K   \u001b[90m━━━━━━━━━━━━━━━━━━━━━━━━━━━━━━━━━━━━━━━━\u001b[0m \u001b[32m46.0/46.0 kB\u001b[0m \u001b[31m3.4 MB/s\u001b[0m eta \u001b[36m0:00:00\u001b[0m\n",
            "\u001b[2K   \u001b[90m━━━━━━━━━━━━━━━━━━━━━━━━━━━━━━━━━━━━━━━━\u001b[0m \u001b[32m86.8/86.8 kB\u001b[0m \u001b[31m8.7 MB/s\u001b[0m eta \u001b[36m0:00:00\u001b[0m\n",
            "\u001b[?25h"
          ]
        }
      ]
    },
    {
      "cell_type": "code",
      "source": [
        "def grapheme_to_phomene(text):\n",
        "  converter = G2p()\n",
        "  converted_text = converter(text)\n",
        "\n",
        "  seq_phoneme = []\n",
        "  for phoneme_ls in converted_text:\n",
        "    seq_phoneme.append(''.join(phoneme_ls))\n",
        "\n",
        "  return ' '.join(seq_phoneme)"
      ],
      "metadata": {
        "id": "_nQMwf_1jRGz"
      },
      "execution_count": 17,
      "outputs": []
    },
    {
      "cell_type": "code",
      "source": [
        "from g2p_id import G2p\n",
        "import torch\n",
        "from TTS.api import TTS\n",
        "\n",
        "text = \"Saya mau makan nasi goreng.\"\n",
        "\n",
        "# UPLOAD speakers.pth\n",
        "device = \"cuda\" if torch.cuda.is_available() else \"cpu\"\n",
        "tts = TTS(\n",
        "    model_path=\"/content/drive/MyDrive/idasvspoofing-project/tts_model/checkpoint_1260000-inference.pth\",\n",
        "    config_path=\"/content/drive/MyDrive/idasvspoofing-project/tts_model/config.json\"\n",
        ").to(device)\n",
        "\n",
        "# Generate speech inference\n",
        "tts.tts_to_file(\n",
        "    text=grapheme_to_phomene(text),\n",
        "    file_path=\"output1.flac\",\n",
        "    speaker=\"wibowo\"\n",
        ")"
      ],
      "metadata": {
        "colab": {
          "base_uri": "https://localhost:8080/",
          "height": 52
        },
        "id": "sELwEmIaidtN",
        "outputId": "8d242022-ac51-402c-c4df-44e68888f455"
      },
      "execution_count": 18,
      "outputs": [
        {
          "output_type": "stream",
          "name": "stderr",
          "text": [
            "[nltk_data] Downloading package wordnet to /root/nltk_data...\n"
          ]
        },
        {
          "output_type": "execute_result",
          "data": {
            "text/plain": [
              "'output1.flac'"
            ],
            "application/vnd.google.colaboratory.intrinsic+json": {
              "type": "string"
            }
          },
          "metadata": {},
          "execution_count": 18
        }
      ]
    },
    {
      "cell_type": "code",
      "source": [
        "import IPython.display as ipd\n",
        "ipd.Audio('output1.flac')"
      ],
      "metadata": {
        "colab": {
          "base_uri": "https://localhost:8080/",
          "height": 75
        },
        "id": "FCzzRcqVlCoi",
        "outputId": "4426c5c1-5286-47dd-a77f-9c9628811584"
      },
      "execution_count": 19,
      "outputs": [
        {
          "output_type": "execute_result",
          "data": {
            "text/plain": [
              "<IPython.lib.display.Audio object>"
            ],
            "text/html": [
              "\n",
              "                <audio  controls=\"controls\" >\n",
              "                    <source src=\"data:audio/flac;base64,UklGRkTYAQBXQVZFZm10IBAAAAABAAEAIlYAAESsAAACABAAZGF0YSDYAQD//wAAAAAAAAAAAAAAAAAAAAAAAAAAAAAAAAEAAAAAAAAA/v///wAAAAAAAAAAAAAAAAAAAAAAAAAAAAAAAP//AAAAAAAAAAAAAAAAAAAAAAAAAAAAAAAAAAAAAAAA//8AAAAAAAD/////AAAAAAAAAAAAAAAAAAAAAAAAAAAAAAAAAAAAAAAAAAAAAAAAAAAAAAAAAAAAAAAAAQAAAAAAAAAAAAAAAAAAAAAAAAAAAAAAAAAAAAAAAAAAAAAAAAAAAAAAAAAAAAAAAAAAAAAAAAAAAAAAAAAAAAAAAAAAAAAAAAAAAAAAAAAAAAAAAAAAAAAAAAAAAAAAAAAAAAAAAAAAAAAAAAAAAAAAAAAAAAAAAAAAAAAAAAAAAAAAAAAAAAAAAAAAAAAAAAAAAAEAAAAAAAAAAAAAAAAAAAAAAAAAAAAAAAAAAAAAAAAAAAAAAAAAAAAAAAAAAAAAAAAAAAD//wAAAAAAAAAAAAD//wAAAAAAAAAAAAAAAAAAAAAAAAAAAAD//wAA//8AAAAAAAAAAAAAAAAAAAAAAAAAAAAAAAAAAAAAAAAAAAAAAAAAAAAAAAAAAAAAAAAAAAAAAAAAAAAAAAAAAAAAAAAAAAAAAAAAAAEAAAAAAAAAAAAAAAAAAAAAAAAAAAAAAAEAAAAAAAAAAAAAAAAAAAAAAAAAAAAAAAAAAAD//wAAAAAAAP//AAAAAAAAAAAAAP//AAAAAAAAAAAAAAAAAAAAAAAAAAAAAAAAAAAAAAAAAAAAAAAAAAAAAAAAAAAAAAAAAAAAAAAAAAAAAAAAAAAAAAAAAAAAAAAAAAAAAAAAAAAAAAAAAAAAAAAAAAAAAAAAAAAAAAAAAAAAAAAAAAAAAAAAAAAAAAAAAAAAAAAAAAAAAAAAAAAAAAAAAAAAAAAAAAAAAAAAAAAAAAAAAAAAAAAAAAAAAAAAAAAAAAAAAAAAAAAAAAAAAAAAAAAAAAAAAAAAAAAAAAAAAAAAAAAAAAAAAAAAAAAAAAAAAAAAAAAAAAAAAAAAAAAAAAAAAAAA//8AAAAA//8AAAAAAAAAAAAA//8AAAAAAAAAAAAA//8AAAAAAQAAAAAAAAAAAAAAAAAAAAAAAAAAAAAAAAAAAAAAAAAAAP//AAAAAAAAAAAAAAAAAAAAAAAA//8AAAAAAAAAAAAAAAAAAAAAAAAAAAAAAAAAAAAAAAAAAAAAAAAAAAAAAAAAAAAAAAAAAAAAAAAAAAAAAAAAAAAAAAAAAAAAAAAAAP//AAAAAAAAAAAAAAAAAAAAAAAAAAAAAAAAAAAAAAAAAAAAAAAAAAAAAAAAAAAAAAAAAAAAAAAAAAAAAAAAAAAAAAAAAAAAAAAAAAAAAAAA//8AAAAAAAAAAAAAAQAAAAAAAAAAAAAAAAAAAAAAAAAAAAAAAAAAAAEAAAAAAAAAAAAAAAAAAAAAAAAAAAAAAAAAAAAAAAAAAAAAAAAAAAAAAAAAAAAAAAAAAAAAAAAAAAAAAAAAAAAAAAAAAAAAAAAAAAAAAAAAAAAAAAAAAAAAAAAAAAAAAAAAAAD//wAAAAAAAAAAAAAAAAAAAAAAAAAAAAAAAAAAAAAAAAAAAAAAAAAAAAAAAAAAAAAAAAAAAAAAAAAAAAAAAAAAAAAAAAAAAAAAAAAAAAAAAAAAAAAAAAAAAAAAAAAAAAAAAAAAAAAAAAAAAAAAAAAAAAAAAAAAAAAAAAAAAAAAAAAAAAAAAAAAAAAAAAAAAAAAAAAAAAAAAAAAAAAAAAAAAAAAAAAAAAAAAAAAAAAAAAAAAAAAAAAAAAAAAAAAAAAAAAAAAAAAAAAAAAAAAAAAAAAAAAAAAAAAAAAAAAAAAAAAAAAAAAAAAAAAAAAAAAAAAAAAAAAAAAAAAAAAAAAAAAAAAAAAAAAAAAAAAAAAAAAAAAAAAAAAAAAAAAAAAAAAAAAAAAAAAAAAAAAAAAAAAAAAAAAAAAAAAAAAAAAAAAAAAAAAAAAAAAAAAAAAAAAAAAAAAAAAAAAAAAAAAAAAAAAAAAAAAAAAAAAAAAAAAAAAAAAAAAAAAAAAAAAAAAAAAAAAAAAAAAAAAAAAAAAAAAAAAAAAAAAAAAAAAAAAAAAAAAAAAAAAAAAAAAAAAAAAAAAAAAAAAAAAAAABAAAAAAAAAAAAAAAAAAAAAAAAAAAAAAAAAAAAAAAAAAAAAAAAAAAAAAAAAAAAAAAAAAAAAAAAAAAAAAAAAAAAAAAAAAAAAAAAAAAAAAAAAAAAAAAAAAAAAAAAAAAAAAAAAAAAAAAAAAAAAAAAAAAAAAAAAAAAAAAAAAAAAAAAAAAAAAAAAAAAAAAAAAAAAAAAAAAAAAAAAAAAAAAAAAAAAAAAAAAAAAAAAAAAAAAAAAAAAAAAAAAAAAAAAAAAAAAAAAAAAAAAAAAAAAAAAAAAAAAAAAAAAAAAAAAAAAAAAAAAAAAAAAAAAAAAAAAAAAAAAAAAAAAAAAAAAAAAAAAAAAAAAAAAAAAAAAAAAAAAAAAAAAAAAAAAAAAAAAAAAAD//wAAAAAAAAAAAAAAAAAAAAAAAAAAAAAAAAAAAAAAAAAAAAAAAAAAAAAAAAAAAAAAAAAAAAAAAAAAAAAAAAAAAAAAAAAAAAAAAAAAAAAAAAAAAAAAAAAAAAAAAAAAAAAAAAAAAAAAAAAAAAAAAAAAAAAAAAAAAAAAAAAAAAAAAAAAAAABAAAAAAAAAAAAAAAAAAAAAAAAAAAAAAAAAAAAAAAAAAAAAAAAAAAAAAAAAAAAAAAAAAAAAAAAAAAAAAAAAAAAAAAAAAAAAAAAAAAAAAAAAAAAAAAAAAAAAAAAAAAAAAAAAAAAAAAAAAAAAAAAAAAAAAAAAAAAAAAAAAAAAAAAAAAAAAAAAAAAAAAAAAAAAAAAAAAAAAAAAAAAAAAAAAAAAAAAAAAAAAAAAAAAAAAAAAAAAAAAAAAAAAAAAAAAAAAAAAAAAAAAAAAAAAAAAAAAAAAAAAAAAAAAAAAAAAAAAAAAAAAAAAAAAAAAAAAAAAAAAAAAAAAAAAAAAAAAAAAAAAAAAAAAAAAAAAAAAAAAAAAAAAAAAAAAAAAAAAAAAAAAAAAA//8AAAAAAAAAAAAAAAAAAAAAAAAAAAAA//8AAAAAAAAAAAAAAAAAAAAAAAAAAAAAAAAAAAAAAAAAAAAAAAAAAAAAAAAAAAAAAAAAAAAAAAAAAAAA//8AAAAAAAAAAAAAAAAAAAAAAAAAAAAAAAAAAAAAAAAAAAAAAAAAAAAAAAAAAAAAAAAAAAAAAAAAAAAA//8AAAAAAAAAAAAAAAAAAAAAAAAAAAAAAAAAAAAAAAAAAAAAAAAAAAAAAAAAAAAAAAAAAAAAAAAAAAAAAAAAAAAAAAAAAAAAAAAAAAAAAAAAAAAAAAAAAAAAAAAAAAAAAAAAAAAAAAAAAAAAAAAAAAAAAAAAAAAAAAAAAAAAAAAAAAAAAAAAAAAAAAAAAAAAAAAAAAAAAAAAAAAAAAAAAAAAAAAAAAAAAAAAAAAAAAAAAAAAAAAAAAAAAAAAAAAAAAAAAAAAAAAAAAAAAAAAAAAAAAAAAAAAAAAAAAAAAAAAAAAAAAAAAAAAAAAAAAAAAAAAAAAAAAAAAAAAAAAAAAAAAAAAAAAAAAAAAAAAAAAAAAAAAAAAAAAAAAAAAAAAAAAAAAAAAAAAAAAAAAAAAAAAAAAAAAAAAAAAAAAAAAAAAAAAAAAAAAAAAAAAAAAAAAAAAAAAAAAAAAAAAAAAAAAAAAAAAAAAAAAAAAAAAAAAAAAAAAAAAAAAAAAAAAAAAAAAAAAAAAAAAAAAAAAAAAAAAAAAAAAAAAAAAAAAAAAAAAAAAAAAAAAAAAAAAAAAAAAAAAAAAAAAAAAAAAAAAAAAAAAAAAAAAAAAAAAAAAAAAAAAAAAAAAAAAAAAAAAAAAAAAAAAAAAAAAAAAAAAAAAAAAAAAAAAAAAAAAAAAAAAAAAAAAAAAAAAAAAAAAAAAAAAAAAAAAAAAAAAAAAAAAAAAAAAAAAAAAAAAAAAAAAAAAAAAAAAAAAAAAAAAAAAAAAAAAAAAAAAAAAAAAAAAAAAAAAAAAAAAAAAAAAAAAAAAAAAAAAAAAAAAAAAAAAAAAAAAAAAAAAAAAAAAAAAAAAAAAAAAAAAAAAAAAAAAAAAAAAAAAAAAAAAAAAAAAAAAAAAAAAAAAAAAAAAAAAAAAAAAAAAAAAAAAAAAAAAAAAAAAAAAAAAAAAAAAAAAAAAAAAAAAAAAAAAAAAAAAAAAAAAAAAAAAAAAAAAAAAAAAAAAAAAAAAAAAAAAAAAAAAAAAAAAAAAAAAAAAAAAAAAAAAAAAAAAAAAAAAAAAAAAAAAAAAAAAAAAAAAAAAAAAAAAAAAAAAAAAAAAAAAAAAAAAAAAAAAAAAAAAAAAAAAAAAAAAAAAAAAAAAAAAAAAAAAAAAAAAAAAAAAAAAAAAAAAAAAAAAAAAAAAAAAAAAAAAAAAAAAAAAAAAAAAAAAAAAAAAAAAAAAAAAAAAAAAAAAAAAAAAAAAAAAAAAAAAAAAAAAAAAAAAAAAAAAAAAAAAAAAAAAAAAAAAD//wAAAAAAAAAAAAAAAAAAAAAAAAAAAAAAAAAAAAAAAAAAAAAAAAAAAAAAAAAAAAAAAAAAAAAAAAAAAAAAAAAAAAAAAAAAAAAAAAAAAAAAAAAAAAAAAAAAAAAAAAAAAAAAAAAAAAAAAAAAAAAAAAAAAAAAAAAAAAAAAAAAAAAAAAAAAAAAAAAAAAAAAAAAAAAAAAAAAAAAAAAAAAAAAAAAAAAAAAAAAAAAAAAAAAAAAAAAAAAAAAAAAAAAAAAAAAAAAAAAAAAAAAAAAAAAAAAAAAAAAAAAAAAAAAAAAAAAAAAAAAAAAAAAAAAAAAAAAAAAAAAAAAAAAAAAAAAAAAAAAAAAAAAAAAAAAAAAAAAAAAAAAAAAAAAAAAAAAAAAAAAAAAAAAAAAAAAAAAAAAAAAAAAAAAAAAAAAAAAAAAAAAAAAAAAAAAAAAAAAAAAAAAAAAAAAAAAAAAAAAAAAAAAAAAAAAAAAAAAAAAAAAAAAAAAAAAAAAAAAAAAAAAAAAAAAAAAAAAAAAAAAAAAAAAAAAAAAAAAAAAAAAAAAAAAAAAAAAAAAAAAAAAAAAAAAAAAAAAAAAAAAAAAAAAAAAAAA//8AAAAAAAD//wAAAAAAAAAAAAAAAAAAAAAAAAAAAAAAAAAAAAAAAAAAAAAAAAAAAAAAAAAAAAAAAAAAAAAAAAAAAAAAAAAAAAAAAAAAAAAAAAAAAAAAAAAAAAAAAAAAAAAAAAAAAAAAAAAAAAAAAAAAAAAAAAAAAAAAAAAAAAAAAAAAAAAAAAAAAAAAAAAAAAAAAAAAAAAAAAAAAAAAAAAAAAAAAAAAAAAAAAAAAAAAAAAAAAAAAAAAAAAAAAAAAAAAAAAAAAAAAAAAAAAAAAAAAAAAAAAAAAAAAAAAAAAAAAAAAAAAAAAAAAAAAAAAAAAAAAAAAAAAAAAAAAAAAAAAAAAAAAAAAAAAAAAAAAAAAAAAAAAAAAAAAAAAAAAAAQAAAAAAAAAAAAAAAAAAAAAAAAAAAAAAAAAAAAAAAAAAAAAAAAAAAAAAAAAAAAAAAAAAAAAAAAAAAAAAAAAAAAAAAAAAAAAAAAAAAAAAAAAAAAAAAAAAAAAAAAAAAAAAAAAAAAAAAAAAAAAAAAAAAAAAAAAAAAAAAAAAAAAAAAAAAAAAAAAAAAAAAAAAAAAAAAAAAAAAAAAAAAAAAAAAAAAAAAAAAAAAAAAAAAAAAAAAAAAAAAAAAAAAAAAAAAAAAAAAAAAAAAAAAAAAAAAAAAAAAAAAAAAAAAAAAAAAAAAAAAAAAAAAAAAAAAAAAAAAAAAAAAAAAAAAAAAAAAAAAAAAAAAAAAAAAAAAAAAAAAAAAAAAAAAAAAAAAAAAAAAAAAAAAAAAAAAAAAAAAAAAAAAAAAAAAAAAAAAAAAAAAAAAAAAAAAAAAAAAAAAAAAAAAAAAAAAAAAAAAAAAAAAAAAAAAAAAAAAAAAAAAAAAAAAAAAAAAAAAAAAAAAAAAAAAAAAAAAAAAAAAAAAAAAAAAAAAAAAAAAAAAAAAAAAAAAAAAAAAAAAAAAAAAAAAAAAAAAAAAAAAAAAAAAAAAAAAAAAAAAAAAAAAAAAAAAAAAAAAAAAAAAAAAAAAAAAAAAAAAAAAAAAAAAAAAAAAAAAAAAAAAAAAAAAAAAAAAAAAAAAAAAAAAAAAAAAAAAAAAAAAAAAAAAAAAAAAAAAAAAAAAAAAAAAAAAAAAAAAAAAAAAAAAAAAAAAAAAAAAAAAAAAAAAAAAAAAAAAAAAAAAAAAAAAAAAAAAAAAAAAAAAAAAAAAAAAAAAAAAAAAAAAAAAAAAAAAAAAAAAAAAAAAAAAAAAAAAAAAAAAAAAAAAAAAAAAAAAAAAAAAAAAAAAAAAAAAAAAAAAAAAAAAAAAAAAAAAAAAAAAAAAAAAAAAAAAAAAAAAAAAAAAAAAAAAAAAAAAAAAAAAAAAAAAAAAAAAAAAAAAAAAAAAAAAAAAAAAAAAAAAAAAAAAAAAAAAAAAAAAAAAAAAAAAAAAAAAAAAAAAAAAAAAAAAAAAAAAAAAAAAAAD//wAAAAAAAAAAAAAAAAAAAAAAAAAAAAAAAAAAAAAAAAAAAAAAAAAAAAAAAAAAAAAAAAAAAAAAAAAAAAAAAAAAAAAAAAAAAAAAAAAAAAAAAAAAAAAAAAAAAAAAAAAAAAAAAAAAAAAAAAAAAAAAAAAAAAAAAAAAAAAAAAAAAAAAAAAAAAAAAAAAAAAAAAAAAAAAAAAAAAAAAAAAAAAAAAAAAAAAAAAAAAAAAAAAAAAAAAAAAAAAAAAAAAAAAAAAAAAAAAAAAAAAAAAAAAAAAAAAAAAAAAAAAAAAAAAAAAAAAAAAAAAAAAAAAAAAAAAAAAAAAAAAAAAAAAAAAAAAAAAAAAAAAAAAAAAAAAAAAAAAAAAAAAAAAAAAAAAAAAAAAAAAAAAAAAAAAAAAAAAAAAAAAAAAAAAAAAAAAAAAAAAAAAAAAAAAAAAAAAAAAAAAAAAAAAAAAAAAAAAAAAAAAAAAAAAAAAAAAAAAAAAAAAAAAAAAAAAAAAAAAAAAAAAAAAAAAAAAAAAAAAAAAAAAAAAAAAAAAAAAAAAAAAAAAAAAAAAAAAAAAAAAAAAAAAAAAAAAAAAAAAAAAAAAAAAAAAAAAAAAAAAAAAD//wAAAAAAAAAAAAAAAAAAAAAAAAAAAAAAAAAAAAAAAAAAAAAAAAAAAAAAAAAAAAAAAAAAAAAAAAAAAAAAAAAA//8AAAAAAAAAAAAAAAAAAAAAAAAAAAAAAAAAAAAAAAAAAAAAAAAAAAAAAAAAAAAAAAAAAAAAAAAAAAAAAAAAAAAAAAAAAAAAAAAAAAAAAAAAAAAAAAAAAAAAAAAAAAAAAAAAAAAAAAAAAAAAAAAAAAAAAAAAAAAAAAAAAAAAAAAAAAAAAAAAAAAAAAAAAAAAAAAAAAAAAAAAAAAAAAAAAAAAAAAAAAAAAAAAAAAAAAAAAAAAAAAAAAAAAAAAAAAAAAAAAAAAAAAAAAAAAAAAAAAAAAAAAAAAAQAAAP//AAAAAAAAAAAAAAAAAAAAAAAAAAAAAAAAAAAAAAAAAAAAAAAAAAAAAAAAAAAAAAAAAAAAAAAAAAAAAAAAAAAAAAAAAAAAAAAAAAAAAAAAAAAAAAAAAAAAAAAAAAAAAAAAAAAAAAAAAAAAAAAAAAAAAAAAAAAAAAAAAAAAAAAAAAAAAAAAAAAAAAAAAAAAAAAAAAAAAAAAAAAAAAAAAAAAAAAAAAAAAAAAAAAAAAAAAAAAAAAAAAAAAAAAAAAAAAAAAAAAAAAAAAAAAAAAAAAAAAAAAAAAAAAAAAAAAAAAAAAAAAAAAAAAAAAAAAAAAAAAAAAAAAAAAAAAAAAAAAAAAAAAAAAAAAAAAAAAAAAAAAAAAAAAAAAAAAAA//8AAAAAAAAAAAAAAAAAAAAAAAAAAAAAAAAAAAAAAAAAAAAAAAAAAAAAAAAAAAAAAAAAAAAAAAAAAAAAAAAAAAAAAAAAAAAAAAAAAAAAAAAAAAAAAAAAAAAAAAAAAAAAAAAAAAAAAAAAAAAAAAAAAAAAAAAAAAAAAAAAAAAAAAAAAAAAAAAAAAAAAAAAAAAAAAAAAAAAAAAAAAAAAAAAAAAAAAAAAAAAAAAAAAAAAAAAAAAAAAAAAAAAAAAAAAAAAAAAAAAAAAAAAAAAAAAAAAAAAAAAAAAAAAAAAAAAAAAAAAAAAAAAAAAAAAAAAAAAAAAAAAAAAAAAAAAAAAAAAAAAAAAAAAAAAAAAAAAAAAAAAAAAAAAAAAAAAAAAAAAAAAAAAAAAAAAAAAAAAAAAAAAAAAAAAAAAAAAAAAAAAAAAAAAAAAAAAAAAAAAAAAAAAAAAAAAAAAAAAAAAAAAAAAAAAAAAAAAAAAAAAAAAAAAAAAAAAAAAAAAAAAAAAAAAAAAAAAAAAAAAAAAAAAAAAAAAAAAAAAAAAAAAAAAAAAAAAAAAAAAAAAAAAAAAAAAAAAAAAAAAAAAAAAAAAAAAAAAAAAAAAAAAAAAAAAAAAAAAAAAAAAAAAAAAAAAAAAAAAAAAAAAAAAAAAAAAAAAAAAAAAAAAAAAAAAAAAAAAAAAAAAAAAAAAAAAAAAAAAAAAAAAAAAAAAAAAAAAAAAAAAAAAAAAAAAAAAAAAAAAAAAAAAAAAAAAAAAAAAAAAAAAAAAAAAAAAAAAAAAAAAAAAAAAAAAAAAAAAAAAAAAAAAAAAAAAAAAAAAAAAAAAAAAAAAAAAAAAAAAAAAAAAAAAAAAAAAAAAAAAAAAAAAAAAAAAAAAAAAAAAAAAAAAAAAAAAAAAAAAAAAAAAAAAAAAAAAAAAAAAAAAAAAAAAAAAAAAAAAAAAAAAAAAAAAAAAAAAAAAAAAAAAAAAAAAAAAAAAAAAAAAAAAAAAAAAAAAAAAAAAAAAAAAAAAAAAAAAAAAAAAAAAAAAAAAAAAAAAAAAAAAAAAAAAAAAAAAAAAAAAAAAAAAAAAAAAAAAAAAAAAAAAAAAAAAAAAAAAAAAAAAAAAAAAAAAAAAAAAAAAAAAAAAAAAAAAAAAAAAAAAAAAAAAAAAAAAAAAAAAAAAAAAAAAAAAAAAAAAAAAAAAAAAAAAAAAAAAAAAAAAAAAAAAAAAAAAAAAAAAAAAAAAAAAAAAAAAAAAAAAAAAAAAAAAAAAAAAAAAAAAAAAAAAAAAAAAAAAAAAAAAAAAAAAAAAAAAAAAAAAAAAAAAAAAAAAAAAAAAAAAAAAAAAAAAAAAAAAAAAAAAAAAAAAAAAAAAAAAAAAAAAAAAAAAAAAAAAAAAAAAAAAAAAAAAAAAAAAAAAAAAAAAAAAAAAAAAAAAAAAAAAAAAAAAAAAAAAAAAAAAAAAAAAAAAAAAAAAAAAAAAAAAAAAAAAAAAAAAAAAAAAAAAAAAAAAAAAAAAAAAAAAAAAAAAAAAAAAAAAAAAAAAAAAAAAAAAAAAAAAAAAAAAAAAAAAAAAAAAAAAAAAAAAAAAAAAAAAAAAAAAAAAAAAAAAAAAAAAAAAAAAAAAAAAAAAAAAAAAAAAAAAAAAAAAAAAAAAAAAAAAAAAAAAAAAAAAAAAAAAAQAAAAAAAAAAAAAAAAAAAAAAAAAAAAAAAAAAAAAAAAAAAAAAAAAAAAAAAAAAAAAAAAAAAAAAAAAAAAAAAAAAAAAAAAAAAAAAAAAAAAAAAAAAAAAAAAAAAAAAAAAAAAAAAAAAAAAAAAAAAAAAAAAAAAAAAAAAAAAAAAAAAAAAAAAAAAAAAAAAAAAAAAAAAAAAAAAAAAAAAAAAAAAAAAAAAAAAAAAAAAAAAAAAAAAAAAAAAAAAAAAAAAAAAAAAAAAAAAAAAAAAAAAAAAAAAAAAAAAAAAAAAAAAAAAAAAAAAAAAAAAAAAAAAAAAAAAAAAAAAAAAAAAAAAAAAAAAAAAAAAAAAAAAAAAAAAAAAAAAAAAAAAAAAAAAAAAAAAAAAAAA//8AAAAAAAAAAAAAAAAAAAAAAAAAAAAAAAAAAAAAAAAAAAAAAAAAAAAAAAAAAAAAAAAAAAAAAAAAAAAAAAAAAAAAAAAAAAAAAAAAAAAAAAAAAAAAAAAAAAAAAAAAAAAAAAAAAAAAAAAAAAAAAAAAAAAAAAAAAAAAAAAAAAAAAAAAAAAAAAAAAAAAAAAAAAAAAAAAAAAAAAAAAAAAAAAAAAAAAAAAAAAAAAAAAAAAAAAAAAAAAAAAAAAAAAAAAAAAAAAAAAAAAAAAAAAAAAAAAAAAAAAAAAAAAAAAAAAAAAAAAAAAAAAAAAAAAAAAAAAAAAAAAAAAAAAAAAAAAAAAAAAAAAAAAAAAAAAAAAAAAAAAAAAAAAAAAAAAAAAAAAAAAAAAAAAAAAAAAAAAAAAAAAAAAAAAAAAAAAAAAAAAAAAAAAAAAAAAAAAAAAAAAAAAAAAAAAAAAAAAAAAAAAAAAAAAAAAAAAAAAAAAAAAAAAAAAAAAAAAAAAAAAAAAAAAAAAAAAAAAAAAAAAAAAAAAAAAAAAAAAAAAAAAAAAAAAAAAAAAAAAAAAAAAAAAAAAAAAAAAAAAAAAAAAAAAAAAAAAAAAAAAAAAAAAAAAAAAAAAAAAAAAAAAAAAAAAAAAAAAAAAAAAAAAAAAAAAAAAAAAAAAAAAAAAAAAAAAAAAAAAAAAAAAAAAAAAAAAAAAAAAAAAAAAAAAAAAAAAAAAAAAAAAAAAAAAAAAAAAAAAAAAAAAAAAAAAAAAAAAAAAAAAAAAAAAAAAAAAAAAAAAAAAAAAAAAAAAAAAAAAAAAAAAAAAAAAAAAAAAAAAAAAAAAAAAAAAAAAAAAAAAAAAAAAAAAAAAAAAAAAAAAAAAAAAAAAAAAAAAAAAAAAAAAAAAAAAAAAAAAAAAAAAAAAAAAAAAAAAAAAAAAAAAAAAAAAAAAAAAAAAAAAAAAAAAAAAAAAAAAAAAAAAAAAAAAAAAAAAAAAAAAAAAAAAAAAAAAAAAAAAAAAAAAAAAAAAAAAAAAAAAAAAAAAAAAAAAAAAAAAAAAAAAAAAAAAAAAAAAAAAAAAAAAAAAAAAAAAAAAAAAAAAAAAAAAAAAAAAAAAAAAAAAAAAAAAAAAAAAAAAAAAAAAAAAAAAAAAAAAAAAAAAAAAAAAAAAAAAAAAAAAAAAAAAAAAAAAAAAAAAAAAAAAAAAAAAAAAAAAAAAAAAAAAAAAAAAAAAAAAAAAAAAAAAAAAAAAAAAAAAAAAAAAAAAAAAAAAAAAAAAAAAAAAAAAAAAAAAAAAAAAAAAAAAAAAAAAAAAAAAAAAAAAAAAAAAAAAAAAAAAAAAAAAAAAAAAAAAAAAAAAAAAAAAAAAAAAAAAAAAAAAAAAAAAAAAA//8AAAAAAAAAAAAAAAAAAAAAAAAAAAAAAAAAAAAAAAAAAAAAAAAAAAAAAAAAAAAAAAAAAAAAAAAAAAAAAAAAAAAAAAAAAAAAAAAAAAAAAAAAAAAAAAAAAAAAAAAAAAAAAAAAAAAAAAAAAAAAAAAAAAAAAAAAAAAAAAAAAAAAAAAAAAAAAAAAAAAAAAAAAAAAAAAAAAAAAAAAAAAAAAAAAAAAAAAAAAAAAAAAAAAAAAAAAAAAAAAAAAAAAAAAAAAAAAAAAAAAAAAAAAAAAAAAAAAAAAAAAAAAAQAAAAAAAAAAAAAAAAAAAAAAAAAAAAAAAAAAAAAAAAAAAAAAAAAAAAAAAAAAAAAAAAAAAAAAAAAAAAAAAAAAAAAAAAAAAAAAAAAAAAAAAAAAAAAAAAAAAAAAAAAAAAAAAAAAAAAAAAAAAAAAAAAAAAAAAAAAAAAAAAAAAAAAAAAAAAAAAAAAAAAAAAAAAAAAAAAAAAAAAAAAAAAAAAAAAAAAAAAAAAAAAAAAAAAAAAAAAAAAAAAAAAAAAAAAAAAAAAAAAAAAAAAAAAAAAAAAAAAAAAAAAAAAAAAAAAAAAAAAAAAAAAAAAAAAAAAAAAAAAAAAAAAAAAAAAAAAAAAAAAAAAAAAAAAAAAAAAAAAAAAAAAAAAAAAAAAAAAAAAAAAAAAAAAAAAAAAAAAAAAAAAAAAAAAAAAAAAAAAAAAAAAAAAAAAAAAAAAAAAAAAAAAAAAAAAAAAAAAAAAAAAAAAAAAAAAAAAAAAAAAAAAAAAAAAAAAAAAAAAAAAAAAAAAAAAAAAAAAAAAAAAAAAAAAAAAAAAAAAAAAAAAAAAAAAAAAAAAAAAAAAAAAAAAAAAAAAAAAAAAAAAAAAAAAAAAAAAAAAAAAAAAAAAAAAAAAAAAAAAAAAAAAAAAAAAAAAAAAAAAAAAAAAAAAAAAAAAAAAAAAAAAAAAAAAAAAAAAAAAAAAAAAAAAAAAAAAAAAAAAAAAAAAAAAAAAAAAAAAAAAAAAAAAAAAAAAAAAAAAAAAAAAAAAAAAAAAAAAAAAAAAAAAAAAAAAAAAAAAAAAAAAAAAAAAAAAAAAAAAAAAAAAAAAAAAAAAAAAAAAAAAAAAAAAAAAAAAAAAAAAAAAAAAAAAAAAAAAAAAAAAAAAAAAAAAAAAAAAAAAAAAAAAAAAAAAAAAAAAAAAAAAAAAAAAAAAAAAAAAAAAAAAAAAAAAAAAAAAAAAAAAAAAAAAAAAAAAAAAAAAAAAAAAAAAAAAAAAAAAAAAAAAAAAAAAAAAAAAAAAAAAAAAAAAAAAAAAAAAAAAAAAAAAAAAAAAAAAAAAAAAAAAAAAAAAAAAAAAAAAAAAAD//wAAAAAAAAAAAAAAAAAAAAAAAAAAAAAAAAAAAAAAAAAAAAAAAAAAAAAAAAAAAAAAAAAAAAAAAAAAAAAAAAAAAAAAAAAAAAAAAAAAAAAAAAAAAAAAAAAAAAAAAAAAAAAAAAAAAAAAAAAAAAAAAAAAAAAAAAAAAAAAAAAAAAAAAAAAAAAAAAAAAAAAAAAAAAAAAAAAAAAAAAAAAAAAAAAAAAAAAAAAAAAAAAAAAAAAAAAAAAAAAAAAAAAAAAAAAAAAAAAAAAAAAAAAAAAAAAAAAAAAAAAAAAAAAAAAAAAAAAAAAAAAAAAAAAAAAAAAAAAAAAAAAAAAAAAAAAAAAAAAAAAAAAAAAAAAAAAAAAAAAAAAAAAAAAAAAAAAAAAAAAAAAAAAAAAAAAAAAAAAAAAAAAAAAAAAAAAAAAAAAAAAAAAAAAAAAAAAAAAAAAAAAAAAAAAAAAAAAAAAAAAAAAAAAAAAAAAAAAAAAAAAAAAAAAAAAAAAAAAAAAAAAAAAAAAAAAAAAAAAAAAAAAAAAAAAAAAAAAAAAAAAAAAAAAAAAAAAAAAAAAAAAAAAAAAAAAAAAAAAAAAAAAAAAAAAAAAAAAAAAAAAAAAAAAAAAAAAAAAAAAAAAAAAAAAAAAAAAAAAAAAAAAAAAAAAAAAAAAAAAAAAAAAAAAAAAAAAAAAAAAAAAAAAAAAAAAAAAAAAAAAAAAAAAAAAAAAAAAAAAAAAAAAAAAAAAAAAAAAAAAAAAAAAAAAAAAAAAAAAAAAAAAAAAAAAAAAAAAAAAAAAAAAAAAAAAAAAAAAAAAAAAAAAAAAAAAAAAAAAAAAAAAAAAAAAAAAAAAAAAAAAAAAAAAAAAAAAAAAAAAAAAAAAAAAAAAAAAAAAAAAAAAAAAAAAAAAAAAAAAAAAAAAAAAAAAAAAAAAAAAAAAAAAAAAAAAAAAAAAAAAAAAAAAAAAAAAAAAAAAAAAAAAAAAAAAAAAAAAAAQAAAAAAAAAAAAAAAAAAAAAAAAAAAAAAAAAAAAAAAAAAAAAAAAAAAAAAAAAAAAAAAAAAAAAAAAAAAAAAAAAAAAAAAAAAAAAAAAAAAAAAAAAAAAAAAAAAAAAAAAAAAAAAAAAAAAAAAAAAAAAAAAAAAAAAAAAAAAAAAAAAAAAAAAAAAAAAAAAAAAAAAAAAAAAAAAAAAAAAAAAAAAAAAAAAAAAAAAAAAAAAAAAAAAAAAAAAAAAAAAAAAAAAAAAAAAAAAAAAAAAAAAAAAAAAAAAAAAAAAAAAAAAAAAAAAAAAAAAAAAAAAAAAAAAAAAAAAAAAAAAAAAAAAAAAAAAAAAAAAAAAAAAAAAAAAAAAAAAAAAAAAAAAAAAAAAAAAAAAAAAA//8AAAAAAAAAAAAAAAAAAAAAAAAAAAAAAAAAAAAAAAAAAAAAAAAAAAAAAAAAAAAAAAAAAAAAAAAAAAAAAAAAAAAAAAAAAAAAAAAAAAAAAAAAAAAAAAAAAAAAAAAAAAAAAAAAAAAAAAAAAAAAAAAAAAAAAAAAAAAAAAAAAAAAAAAAAAAAAAAAAAAAAAAAAAAAAAAAAAAAAAAAAAAAAAAAAAAAAAAAAAAAAAAAAAAAAAAAAAAAAAAAAAAAAAAAAAAAAAAAAAAAAAAAAAAAAAAAAAAAAAAAAAAAAAAAAAAAAAAAAAAAAAAAAAAAAAAAAAAAAAAAAAAAAAAAAAAAAAAAAAAAAAAAAAAAAAAAAAAAAAAAAAAAAAAAAAAAAAAAAAAAAAAAAAAAAAAAAAAAAAAAAAAAAAAAAAAAAAAAAAAAAAAAAAAAAAAAAAAAAAAAAAAAAAAAAAAAAAAAAAAAAAAAAAAAAAAAAAAAAAAAAAAAAAAAAAAAAAAAAAAAAAAAAAAAAAAAAAAAAAAAAAAAAAAAAAAAAAAAAAAAAAAAAAAAAAAAAAAAAAAAAAAAAAAAAAAAAAAAAAAAAAAAAAAAAAAAAP//AAAAAAAA//8AAAAAAAABAAAAAAAAAAAAAAAAAAAAAAAAAAAAAAAAAAAAAAAAAAAAAAAAAAAAAAAAAAAAAAAAAAAAAAAAAP//AAAAAAAAAAAAAAAAAAAAAAAAAAAAAAAAAAAAAAAAAAAAAAAAAAAAAAAAAAAAAAAAAAAAAAAAAAAAAAAAAAAAAAAAAAAAAAAAAAAAAAAAAAAAAAAAAAAAAAAAAAAAAAAAAAAAAAAAAAAAAAAAAAAAAAAAAAAAAAAAAAAAAAAAAAAAAAAAAAAAAAAAAAAAAAAAAAAAAAAAAAAAAAAAAAAAAAAAAAAAAAAAAAAAAAAAAAAAAAAAAAAAAAAAAAAAAAAAAAAAAAAAAAAAAAAAAAAAAAAAAAAAAAAAAAAAAAAAAAAAAAAAAAAAAAAAAAAAAAAAAAAAAAAAAAAAAAAAAAAAAAAAAAAAAAAAAAAAAAAAAAAAAAAAAAAAAAAAAAAAAAAAAAAAAAAAAAAAAAAAAAAAAAAAAAAAAAAAAAAAAAAAAAAAAAAAAAAAAAAAAAAAAAAAAAAAAAAAAAAAAAAAAAAAAAAAAAAAAAAAAAAAAAAAAAAAAAAAAAAAAAAAAAAAAAAAAAAAAAAAAAAAAAAAAAAAAAAAAAAAAAAAAAAAAAAAAAAAAAAAAAAAAAAAAAAAAAAAAAAAAAAAAAAAAAAAAAAAAAAAAAAAAAAAAAAAAAAAAAAAAAAAAAAAAAAAAAAAAAAAAAAAAAAAAAAAAAAAAAAAAAAAAAAAAAAAAAAAAAAAAAAAAAAAAAAAAAAAAAAAAAAAAAAAAAAAAAAAAAAAAAAAAAAAAAAAAAAAAAAAAAAAAAAAAAAAAAAAAAAAAAAAAAAAAAAAAAAAAAAAAAAAAAAAAAAAAAAAAAAAAAAAAAAAAAAAAAAAAAAAAAAAAAAAAAAAAAAAAAAAAAAAAAAAAAAAAAAAAAAAAAAAAAAAAAAAAAAAAAAAAAAAAAAAAAAAAAAAAAAAAAAAAAAAAAAAAAAAAAAAAAAAAAAAAAAAAAAAAAAAAAAAAAAAAAAAAAAAAAAAAAAAAAAAAAAAAAAAAAAAAAAAAAAAAAAAAAAAAAAAAAAAAAAAAAAAAAAAAAAAAAAAAAAAAAAAAAAAAAAAAAAAAAAAAAAAAAAAAAAAAAAAAAAAAAAAAAAAAAAAAAAAAAAAAAAAAAAAAAAAAAAAAAAAAAAAAAAAAAAAAAAAAAAAAAAAAAAAAAAAAAAAAAAAAAAAAAAAAAAAAAAAAAAAAAAAAAAAAAAAAAAAAAAAAAAAAAAAAAAAAAAAAAAAAAAAAAAAAAAAAAAAAAAAAAAAAAAAAAAAAAAAAAAAAAAAAAAAAAAAAAAAAAAAAAAAAAAAAAAAAAAAAAAAAAAAAAAAAAAAAAAAAAAAAAAAAAAAAAAAAAAAAAAAAAAAAAAAAAAAAAAAAAAAAAAA//8AAAAAAAAAAAAAAAAAAAAAAAAAAAAAAAAAAAAAAAAAAAAAAAAAAAAAAAAAAAAAAAAAAAAAAAAAAAAAAAAAAAAAAAAAAAAAAAAAAAAAAAAAAAAAAAAAAAAAAAAAAAAAAAAAAAAAAAAAAAAAAAAAAAAAAAAAAAAAAAAAAAAAAAAAAAAAAAAAAAAAAAAAAAAAAAAAAAAAAAAAAAAAAAAAAAAAAAAAAAAAAAAAAAAAAAAAAAAAAAAAAAAAAAAAAAAAAAAAAAAAAAAAAAAAAAAAAAAAAAAAAAAAAQAAAAAAAAAAAAAAAAAAAAAAAAAAAAAAAAAAAAAAAAAAAAAAAAAAAAAAAAAAAAAA//8AAAAAAAAAAAAAAAAAAAAAAAAAAAAAAAAAAAAAAAAAAAAAAAAAAAAAAAAAAAAAAAAAAAAAAAAAAAAAAAAAAAAAAAAAAAAAAAAAAAAAAAAAAAAAAAAAAAAAAAAAAAAAAAAAAAAAAAAAAAAAAAAAAAAAAAAAAAAAAAAAAAAAAAAAAAAAAAAAAAAAAAAAAAAAAAAAAAAAAAAAAAAAAAAAAAAAAAAAAAAAAAAAAAAAAAAAAAAAAAAAAAAAAAAAAAAA//8AAAAAAAAAAAAAAAAAAAAAAAAAAAAAAAAAAAAAAAAAAAAAAAAAAAAAAAAAAAAAAAAAAAAAAAAAAAAAAAAAAP//AAAAAAAAAAAAAAAAAAAAAAAAAAAAAAAAAAAAAAAAAAAAAAAAAAAAAAAAAAAAAAAAAAAAAAAAAAAAAAAAAAAAAAAAAAAAAAAAAAAAAAAAAAAAAAAAAAAAAAAAAAAAAAAAAAAAAAAAAAAAAAAAAAAAAAAAAAAAAAAAAAAAAAAAAAAAAAAAAAAAAAAAAAAAAAAAAAAAAAAAAAAAAAAAAAAAAAAAAAAAAAAAAAAAAAAAAAAAAAAAAAAAAAAAAAAAAAAAAAAAAAAAAAAAAAAAAAAAAAAAAAAAAAAAAAAAAAAAAAAAAAAAAAAAAAAAAAAAAAAAAAAAAAAAAAAAAAAAAAAAAAAAAAAAAAAAAAAAAAAAAAAAAAAAAAAAAAAAAAAAAAAAAAAAAAAAAAAAAAAAAAAAAAAAAAAAAAAAAAAAAAAAAAAAAAAAAAAAAAAAAAAAAAAAAAAAAAAAAAAAAAAAAAAAAAAAAAAAAAAAAAAAAAAAAAAAAAAAAAAAAAAAAAAAAAAAAAAAAAAAAAAAAAAAAAAAAAAAAAAAAAAAAAAAAAAAAAAAAAAAAAAAAAAAAAAAAAAAAAAAAAAAAAAAAAAAAAAAAAAAAAAAAAAAAAAAAAAAAAAAAAAAAAAAAAAAAAAAAAAAAAAAAAAAAAAAAAAAAAAAAAAAAAAAAAAAAAAAAAAAAAAAAAAAAAAAAAAAAAAAAAAAAAAAAAAAAAAAAAAAAAAAAAAAAAAAAAAAAAAAAAAAAAAAAAAAAAAAAAAAAAAAAAAAAAAAAAAAAAAAAAAAAAAAAAAAAAAAAAAAAAAAAAAAAAAAAAAAAAAAAAAAAAAAAAAAAAAAAAAAAAAAAAAAAAAAAAAAAAAAAAAAAAAAAAAAAAAAAAAAAAAAAAAAAAAAAAAAAAAAAAAAAAAAAAAAAAAAAAAAAAAAAAAAAAAAAAAAAAAAAAAAAAAAAAAAAAAAAAAAAAAAAAAAAAAAAAAAAAAAAAAAAAAAAAAAAAAAAAAAAAAAAAAAAAAAAAAAAAAAAAAAAAAAAAAAAAAAAAAAAAAAAAAAAAAAAAAAAAAAAAAAAAAAAAAAAAAAAAAAAAAAAAAAAAAAAAAAAAAAAAAAAAAAAAAAAAAAAAAAAAAAAAAAAAAAAAAAAAAAAAAAAAAAAAAAAAAAAAAAAAAAAAAAAAAAAAAAAAAAAAAAAAAAAAAAAAAAAAAAAAAAAAAAAAAAAAAAAAAAAAAAAAAAAAAAAAAAAAAAAAAAAAAAAAAAAAAAAAAAAAAAAAAAAAAAAAAAAAAAAAAAAAAAAAAAAAAAAAAAAAAAAAAAAAAAAAAAAAAAAAAAAAAAAAAAAAAAAAAAAAAAAAAAAAAAAAAAAAAAAAAAAAAAAAAAAAAAAAAAAAAAAAAAAAAAAAAAAAAAAAAAAAAAAAAAAAAAAAAAAAAAAAAAAAAAAAAAAAAAAAAAAAAAAAAAAAAAAAAAAAAAAAAAAAAAAAAAAAAAAAAAAAAAAAAAAAAAAAAAAAAAAAAAAAAAAAAAAAAAAAAAAAAAAAAAAAAAAAAAAAAAAAAAAAAAAAAAAAAAAAAAAAAAAAAAAAAAAAAAAAAAAAAAAAAAAAAAAAAAAAAAAAAAAAAAAAAAAAAAAAAAAAAAAAAAAAAAAAAAAQAAAAAAAAAAAAAAAAAAAAAAAAAAAAAAAAAAAAAAAAAAAAAAAAAAAAAAAAAAAAAA//8AAAAAAAAAAAAAAAAAAAAAAAAAAAAAAAAAAAAAAAAAAAAAAAAAAAAAAAAAAAAAAAAAAAAAAAAAAAAAAAAAAAAAAAAAAAAAAAAAAAAAAAAAAAAAAAAAAAAAAAAAAAAAAAAAAAAAAAAAAAAAAAAAAAAAAAAAAAAAAAAAAAAAAAAAAAAAAAAAAAAAAAAAAAAAAAAAAAAAAAAAAAAAAAAAAAAAAAAAAAAAAAAAAAAAAAAAAAAAAAAAAP//AAAAAAAA//8AAAAAAAAAAAAAAAAAAAAAAAAAAAAAAAAAAAAAAAAAAAAAAAAAAAAAAAAAAAAAAAAAAAAAAAAAAAAAAAAAAAAAAAAAAAAAAAAAAAAAAAAAAAAAAAAAAAAAAAAAAAAAAAAAAAAAAAAAAAAAAAAAAAAAAAAAAAAAAAAAAAAAAAAAAAAAAAAAAAAAAAAAAAAAAAAAAAAAAAAAAAAAAAAAAAAAAAAAAAAAAAAAAAAAAAAAAAAAAAAAAAAAAAAAAAAAAAAAAAAAAAAAAAAAAAAAAAAAAAAAAAAAAAAAAAAAAAAAAAAAAAAAAAAAAAAAAAAAAAAAAAAAAAAAAAAAAAAAAAAAAAAAAAAAAAAAAAAAAAAAAAAAAAAAAAAAAAAAAAAAAAAAAAAAAAAAAAAAAAAAAAAAAAAAAAAAAAAAAAAAAAAAAAAAAAAAAAAAAAAAAAAAAAAAAAAAAAAAAAAAAAAAAAAAAAAAAAAAAAAAAAAAAAAAAAAAAAAAAAAAAAAAAAAAAAAAAAAAAAAAAAAAAAAAAAAAAAAAAAAAAAAAAAAAAAAAAAAAAAAAAAAAAAAAAAAAAAAAAAAAAAAAAAAAAAAAAAAAAAAAAAAAAAAAAAAAAAAAAAAAAAAAAAAAAAAAAAAAAAAAAAAAAAAAAAAAAAAAAAAAAAAAAAAAAAAAAAAAAAAAAAAAAAAAAAAAAAAAAAAAAAAAAAAAAAAAAAAAAAAAAAAAAAAAAAAAAAAAAAAAAAAAAAAAAAAAAAAAAAAAAAAAAAAAAAAAAAAAAAAAAAAAAAAAAAAAAAAAAAAAAAAAAAAAAAAAAAAAAAAAAAAAAAAAAAAAAAAAAAAAAAAAAAAAAAAAAAAAAAAAAAAAAAAAAAAAAAAAAAAAAAAAAAAAAAAAAAAAAAAAAAAAAAAAAAAAAAAAAAAAAAAAAAAAAAAAAAAAAAAAAAAAAAAAAAAAAAAAAAAAAAAAAAAAAAAAAAAAAAAAAAAAAAAAAAAAAAAAAAAAAAAAAAAAAAAAAAAAAAAAAAAAAAAAAAAAAAAAAAAAAAAAAAAAAAAAAAAAAAAAAAAAAAAAAAAAAAAAAAAAAAAAAAAAAAAAAAAAAAAAAAAAAAAAAAAAAAAAAAAAAAAAAAAAAAAAAAAAAAAAAAAAAAAAAAAAAAAAAAAAAAAAAAAAAAAAAAAAAAAAAAAAAAAAAAAAAAAAAAAAAAAAAAAAAAAAAAAAAAAAAAAAAAAAAAAAAAAAAAAAAAAAAAAAAAAAAAAAAAAAAAAAAAAAAAAAAAAAAAAAAAAAAAAAAAAAAAAAAAAAAAAAAAAAAAAAAAAAAAAAAAAAAAAAAAAAAAAAAAAAAAAAAAAAAAAAAAAAAAAAAAAAAAAAAAAAAAAAAAAAAAAAAAAAAAAAAAAAAAAAAAAAAAAAAAAAAAAAAAAAAAAAAAAAAAAAAAAA//8AAAAAAAAAAAAAAAAAAAAAAAAAAAAAAAAAAAAAAAAAAAAAAAAAAAAAAAAAAAAAAAAAAAAAAAAAAAAAAAAAAAAAAAAAAAAAAAAAAAAAAAAAAAAAAAAAAAAAAAAAAAAAAAAAAAAAAAAAAAAAAAAAAAAAAAAAAAAAAAAAAAAAAAAAAAAAAAAAAAAAAAAAAAAAAAAAAAAAAAAAAAAAAAAAAAAAAAAAAAAAAAAAAAAAAAAAAAAAAAAAAAAAAAAAAAAAAAAAAAAAAAAAAAAAAAAAAAAAAAAAAAAAAQAAAAAAAAAAAAAAAAAAAAAAAAAAAAAAAAAAAAAAAAAAAAAAAAAAAAAAAAAAAAAAAAAAAAAAAAAAAAAAAAAAAAAAAAAAAAAAAAAAAAAAAAAAAAAAAAAAAAAAAAAAAAAAAAAAAAAAAAAAAAAAAAAAAAAAAAAAAAAAAAAAAAAAAAAAAAAAAAAAAAAAAAAAAAAAAAAAAAAAAAAAAAAAAAAAAAAAAAAAAAAAAAAAAAAAAAAAAAAAAAAAAAAAAAAAAAAAAAAAAAAAAAAAAAAAAAAAAP//AAAAAAAAAAAAAAAAAAAAAAAAAAAAAP//AAAAAAAA//8AAAAAAAAAAAAAAAAAAAAAAAAAAAAAAAAAAAAAAAAAAAAAAAAAAAAAAAAAAAAAAAAAAAAAAAAAAAAAAAAAAP//AAAAAAAAAAAAAAAAAAAAAAAAAAAAAAAAAAAAAAAAAAAAAAAAAAAAAAAAAAAAAP//AAAAAAAAAAAAAAAAAAAAAAAAAAAAAAAAAAAAAAAAAAAAAAAAAAAAAAAAAAAAAAAAAAAAAAAAAAAAAAAAAAAAAAAAAAAAAAAAAAAAAAAAAAAAAAAAAAAAAAAAAAAAAAAAAAAAAAAAAAAAAAAAAAAAAAAAAAAAAAAAAAAAAAAAAAAAAAAAAAAAAAAAAAAAAAAAAAAAAAAAAAAAAAAAAAAAAAAAAAAAAAEAAAAAAAAAAAAAAAAAAAAAAAAAAAAAAAAAAAAAAAAAAAAAAAAAAAAAAAAAAAAAAAAAAAAAAAAAAAAAAAAAAAAAAAAA//8AAAAAAAAAAAAAAAAAAAAAAAAAAAAAAAAAAAAAAAAAAAAAAAAAAAAAAAAAAAAAAAAAAAAAAAAAAAAAAAAAAAAAAAAAAAAAAAAAAAAAAAAAAAAAAAAAAAAAAAAAAAAAAAAAAAAAAAAAAAAAAAAAAAAAAAAAAAAAAAAAAAAAAAAAAAAAAAAAAAAAAAAAAAAAAAAAAAAAAAAAAAAAAAAAAAAAAAAAAAAAAAAAAAAAAAAAAAAAAAAAAAAAAAAAAAAAAAAAAAAAAAAAAAAAAAAAAAAAAAAAAAAAAAAAAAAAAAAAAAAAAAAAAAAAAAAAAAAAAAAAAAAAAAAAAAAAAAAAAAAAAAAAAAAAAAAAAAAAAAAAAAAAAAAAAAAAAAAAAAAAAAAAAAAAAAAAAAAAAAAAAAAAAAAAAAAAAAAAAAAAAAAAAAAAAAAAAAAAAAAAAAAAAAAAAAAAAAAAAAAAAAAAAAAAAAAAAAAAAAAAAAAAAAAAAAAAAAAAAAAAAAAAAAAAAAAAAAAAAAAAAAAAAAAAAAAAAAAAAAAAAAAAAAAAAAAAAAAAAAAAAAAAAAAAAAAAAAAAAAAAAAAAAAAAAAAAAAAAAAAAAAAAAAAAAAAAAAAAAAAAAAAAAAAAAAAAAAAAAAAAAAAAAAAAAAAAAAAAAAAAAAAAAAAAAAAAAAAAAAAAAAAAAAAAAAAAAAAAAAAAAAAAAAAAAAAAAAAAAAAAAAAAAAAAAAAAAAAAAAAAAAAAAAAAAAAAAAAAAAAAAAAAAAAAAAAAAAAAAAAAAAAAAAAAAAAAAAAAAAAAAAAAAAAAAAAAAAAAAAAAAAAAAAAAAAAAAAAAAAAAAAAAAAAAAAAAAAAAAAAAAAAAAAAAAAAAAAAAAAAAAAAAAAAAAAAAAAAAAAAAAAAAAAAAAAAAAAAAAAAAAAAAAAAAAAAAAAAAAAAAAAAAAAAAAAAAAAAAAAAAAAEAAAAAAAAA//8AAAAAAAAAAAAAAAAAAAAAAAAAAAAAAAAAAAAAAAAAAAAAAAAAAAAAAAAAAAAAAAAAAAAAAAAAAAAAAAAAAAAAAAAAAAAAAAAAAAAAAAAAAAAAAAAAAAAAAAAAAAAAAAAAAAAAAAAAAAAAAAAAAAAAAAD//wAAAAAAAAAAAAAAAAAAAQAAAAAAAAD//wAAAAAAAAAAAAAAAAAAAAAAAAAAAAAAAAAAAAAAAAAAAAAAAAAAAAAAAAAAAAAAAAAAAAAAAAAAAAD//wAAAAAAAAAAAAAAAAAAAAAAAAAAAAAAAAAAAAAAAAAAAAAAAAAAAAAAAAAAAAAAAAAAAAAAAAAAAAAAAAAAAAAAAP//AAAAAAAAAAAAAAAAAAAAAAAAAAAAAAAAAAD//wAAAAAAAP//AAAAAAAAAAAAAAAAAAAAAAAAAAAAAAAAAAD//wAA//8AAAAAAAAAAAAAAAAAAAAAAAAAAAAAAAAAAAAAAAAAAAAAAAAAAAAAAAAAAAAAAAAAAAAAAAAAAAAAAAAAAAAAAAAAAAAAAAAAAAAAAAD//wAAAAAAAAAAAAAAAAAAAAAAAAAAAAAAAAAAAAAAAP//AAAAAAEA//8AAAAAAAAAAAAAAAAAAAAAAAAAAAAAAAAAAAIAAAD//wAAAAAAAAAAAAAAAAAAAAAAAP//AAAAAAAAAAAAAP//AAAAAAAAAAAAAAAAAAAAAAAAAAAAAAAAAAAAAAAAAAAAAAAAAAD//wAAAAAAAAAAAAAAAAAAAAD//wEAAAAAAAAA//8AAAAAAAAAAAAA/v8AAAAAAAAAAAAAAAAAAAAAAAAAAAAAAAAAAP7/AAAAAAAAAAAAAP////8AAAAA/////wAAAAAAAAAAAAAAAAEA//8AAAAAAAD//wAA//8AAAAAAAD//wAAAAD/////AAAAAAAAAQAAAP//AAACAP///v8AAAMAAQAAAAAA//8CAAEA/f8AAAcAAAD5/wAABQD+//7/AQAAAAAA//8AAAEABAD9/wIAAwAAAP7///8CAAAAAAAAAAAACAABAP7/BAAGAAAA//8DAAAAAQAAAPz/CQACAPr//v8GAAMA///+/wMAAwABAPf/AAAIAAIA+v8BAAAAAwD3/wAABQAFAPn//v8FABMA9f/3/xMA+f/9//r/+v/0/wEACQAUAAsA+v8NAAAAAgD4/wYA/P8FAP3/+/8MAAAABAD7/wMA+v8AAAIA9v8GAPv/9f8EAAMAAgAAAAQAAQACAAQAAQD7/wYAAgDy/wcAAgDw/wEADQDz///////2/wgACgDu/wEAEQDr//X/EgAHAOn/BQAJAO//AwABAPX/AAAAAAAAAwDz/wEABwD0/wAACAAAAAIA/f/5/wQAAAD+/wkADADu//n/DgAHAPv/9v8SAPz/8v8EAAIAEAD5/+b/DQAXAPj/6v8TAPn/BgDx/+3/IQADAOX/DgADAPL/8v8RABcA7/8BABYA5/8AAAwA4/8TAAIA///4//j/CAD2/wkABAAIAAkA5f/u/ycA2//p/yMA+P/w/woAAAD8/97/DQAiAM7/6P8IAPH/BQDi/w0ANgDM//T/JgD+/xcA5P/I/yAAJgDp/wYABwDF/0cA9f/d/20AjP8IAJIABQAAABwAaf9NAGAAUf/S/zYAGAD8/xoAEgDN/9z/hQDe/7b/6P/8/0oA2f+V/7kAcv8bALYATv8OAAsAhv/FAI0AIP8z/8gAxP/e/xUAdQAaAMH/VQDY/93/n/+Q//cAz//4/1gANf9LAPUAgv9O/zgAwf/1/3cAAQCE/wQATwCI/xcATABZADL+hADXAJwARv9dAHD/nv9XABkAigCj/y7/vwCqAFL/TwDd/xUA+v9Y/yIAqgDY/zP/kAANAPv//P+a/zQAZgB1/kwAYwGY/+/+hAEp/5v/z//BAFoAvv71/74AAgBy/+cAmf8z/5gAsABh/8//1v+J/6IBdP5MAHEB1f6p/msBQQHK/mz/1gBqACz/cf5AAr//E/5EAF4DC/+z/aL/wwBA/8j/PAE2AHr/6v8vAT8ABv9xATb/HgDj/nsARAC0/7//Iv4pASYAcP+pAMcCKgKv/5X9IQKI/Zj/A/+0AOP+jP7iAQn/vv+zAEsBYfy5AY3/Gf4TAEoAOf/+/3sAnwAkANMAjv0hAqX/3v9+/jQDsf6t/UACoAEY/AgB4gMh/EgBOgHF/sUACABQ/oYCyf8//poBRv4iAo7+Ef61BLr/gvv8A7AANwDy/PX//gMy/kb8bQIQAo38DwBxAnb/tgH3+6QCIARP+Zz/0wLHAQb65gK6Bav40gIWAiH+3gBr/oACxPz6ALwBYwG8/jP+tgL5/AoByQFE/wwA//4iAp7/hPyuAXkA/QHf+wIDRADQ+zMCsQKJ/UEA4QANAG7+B/5SA5n/AP60AF8ASwLT/n7+yv4BAqcACP5HAj//HgDYAJX8SgaO/Rj+PQCn/1EC2P5F/2P+YAH8ARX95QF/+/z//AbX/PD7QgKuAKX8XgZs/pf/LwHg/EgAUwAQ/hv/AQCmBFb7dwHHAyP/AP+I/3wCqPyW/6kDQf3XAAEDN/oHAu//v/0Y/3r/zAHB+4oDLgFi/iMAJP8jAAwBNf2gAcgCevt+/TkDiv7c+7cCJwFF+0IGl/t9AMwGnvrZ/ykEMfvgAnoBRv7QAgD/GgF9/L4B+gHL/U8AAwFl/BkHPv0L/gwBuf03AiQB4wAS/psEgwB4/aoCAv/8/BgCpPw9/ccA9/+1AF/87wGz/joD8f/8/4797AC1BHH+P/7r/7/9NQC2A6ICJ/7vAAEBIv+7AX/8ZwOU/4IBif3p/UQCOwD+/mgCw/tkBCT9zPx4B2L8DwWi+28AjARW/Cn+eQSlATj5WgDRBpL3uAMhAlv6HgVQ/CoA7gM996gHpv2zAYwA5P70Ab78zgQK/UP/Iv6GA+D/hP1xAWgDefst//T/QfyvAcr/if8H/e0DDwCx/mIC5/uNAjX+fwUH+8wELAAh/7gBa/9LA+H6AwDb/x4AfQD7+z4ISAFT/WwAmQFYAcv7LQDoAp/9xv5k/6P7wwGF/qkDA/64APMCbPpWB0v9fAEUAg4AZgA0/mABzf1KAOUA/v+JBIn+UQEwAC3+6wKR+bL8RQIA+2YBn/2RAQQCjf7yAWgAt/8fAVYAbwCX/uYBkv28AKABo/7g/0UAlv8x/B0BMfyGApwC3/zcA/r/Mv0pBxT80AI3/db75gH3/ML9WwO4AJf9qwLW/QYAY/6ZAAgCSv/W/CUB/P6+AIEBj/2ZBf//jf26A338uv0v/7n+OvyvABkAqQF5AHIA3gLAAKD6JQTGAgD9Xv49AzP5cQN+BJf2ZgTh/sz+QgAeAhIAiwD0A/v63AV39xMF1P3V/XECL//mAK4AYQHM/dsF1fo7BZD+rAAx/e4FE/uTA/kFgPaEA0kCtPxjAfv+tf4bA5IA2wXz/fj5C/9NA7n59QXD/5oBbwCY/2kAXgMY+gIEgQFI+mADqf00/JsEDv9FBD3+3vwEB2X+9frsBLL+EvvZCVf9xADQA/72rAx1+tf+ogCZAEX8C/uWCg33XAVE/579jgL4+tMCmP16BpL2mgVSAQ37HQSc/dD/kQB0/G4ASQOo9qkHZP6NAfr8WAXw/sv75AHvAhj8tAPd/sf+9wT2+LIDvP7l/xcC1PpTBHQACvw8A40BJ/8DA5j/1f1tBKX7k/vjBPX8PwHJAZj+ef6lAVb9iQCrAAYDnfsBAMsBk/TBDAD5VgOrAwv4UwMgBI/5EQHrBpH6pgAN/gYDq/+Q/CX+VQVI/5cAs/3HA6n/YwBv/zQCUvtMANACNP0uA2f9/f8nB8P59/67AMb/fgDbAK4AOAUt9y8Du/5I/vABAfyhBxz8iPwGBTT6QwWTAU/9gPxMAw79IQF+BQj8Rv+C+7gFwfo3BXn/Rv1nAIwDMPyMBDsCX/cZCR/9rPoICyj2BAT0/+P6NQF+/p79IgMEAlH+RwJi/tEB2PxRA4r+N/0iBiH5l/7jAAL+3gJd/rYCmP1PA13+DfxhAogBSv9V/lkGpPdfCp7/h/rFCwX0OQK9AAr+BQAc/dX+CPqOB9T58QQgAP0BFQLx/P4AivzN/OoBSfyeAZgA7v1mA7T/v/8EAuAEMf2vBQb8VPtJANr80wGN/XoGRfwl/14Jbvj0AWAG8Pnl/wIIk/NkDT34zfSdEXbxRwQMAev51wYs+/sB2APk/wr7FgPL+xQBSwUc+WX+tQMz+uMGefzG/+H+7/78AOMC0f6MAgH+i/1hAvT4DgmfAVb4twVl/aIDyPoiBOIBzfdHCKb9Tv2DBP36uATG/R0AiQGp+y4Fw/iNC+P7AftzC3v1GwgyAhb2BAIf/qr9hwAaAyL+/wZz/Xr+5wKn/j4DawEr/UUFNf5A+cIH7fk3BdkAkf1ABUr/vvZmA7P8oANwAHIA8AExAYr7EQI7Bvb4IP8mAeL+hv0qBeX//QUn/b8BKAB++n4GsfisArUAqvytBNUBpPdSBtEAgvhqC0X3XP9nCoXysgf3/Sz9KAhB+f4EYAAA/ncAcP6TBAv74Qem+eoALAcN7EAKSQIg/KX5DgUAAKb9EgUi/j8ItviZ/usKg/tOAUz+IQE4/rn/7vv9AGf+/ANs+8cAVQjP+dr+jwFb/74BRwHX/cYFD/rn/fUCNgO8+7f9uAdX92j/0ALA/DwHv/sw/QYImfv3AOP9xwea+uz+swhT9OcEDADM+CAE9v8G/NQEov9l/af/TQKD/dcCAv1YAWIBf/48AG7+tAIb/kEB+QBR/rIBP/6IAbn90QBJ/YsE9f6NAa/8/vp7Bob9t/1PAo376ALbAHIHj/lo/WUG6/viBRL6yAbC+2H/bQLH/dgCgQH9+BIGbvi1CMv52f4tClfyTAi7APr4OAzJ+00D+gDAAK75kgGIBRP69QHdBY31eQuN9/EI8v5i+/0CAwDY/UQDb/zFApH91QXh+uwD4/7BApT7PgE4A3P+A/4LB439uPsWAGICXvvFAfn/3wRl/i3/bf+9/wr7CwaU+zMD+v39AWIBIv5nATT+TPoe///9FP8d/5oFxwIe9xwK+vZrClL6RPkBDkzy5ARZAgv0Fwu39UILXP5hA6UFAfCQEsj0wQKzB3b1Zwkj9coGiPzw+o4HCvyxB8D9ngEf/ub9YgGq9nQEw/hn/hAFZPhXBDwE6/01B3T9cQSLAHL68v8LA5P7uPwHBMD6vP7XBWb7dgAEBH73QQOBAYX8swTA/vz9hAOwAuL6VgnB91L+5wWo8SEKof0bADUBjQBA/+3/A/9cAN8DfP0D/mUBWvv3BFT/jvohDJv5PPxSCMH01QRy+44DmPrbA4H+dQUT/owCEQM3+xz9YgOR/Sf/1AAHApH7U/6yCeLzzgJ4Adr8ZQOdAZsAzvu4CPzzmgt+9qUDcwAw+WEIv/ygAGADnPx3/bwHIvlKBBcByv84+pQI2PeJA4UGs/LvBpMAVP/o/YoCg/5WA0P/VwVR///3+v8DA6P36Amo/VYD//8e/CkELgH5+a0CFwQI9VIHgf0P/XIF+/mMCLX67f4cBYj/yvnQBl/88vxLCqX6FgIgBFL1AA2C+d4AT/6AAvr+w/aqDwnyjQpF+wf9zQOE+dIHv/YgDa7zrQI7BmD56APK/fT++wKd9v0Gzf4w9ycMv/grBuT64AJW/xj/Ovw5CBr4lgaZ/vH7Wwp38psHJQGX+h4IxPfIAwgE3PacBUwD2fwmBgEAAPxeBFL+1vl1Bx3+B/0vBgH89v2lA334gwdk+u8E1//I+vQGi/CNDoj4MwDpB7z3HQBICOj2fgLVAxv8mgIT+wgE8vz+AKz6ngX0/UQAhP/i/woFSf+Y/+oC7fnrAIcD8/qAA6r+nP3zCFn3tQMa/3H9aAV//Wv/Wwg087gGevuC/nUETPjQDC75ZP2ICLLzEwl8Afb6bP8cA2r8uQJpAfX/iv+U+LcJp/RICmv7Yv8HA8r/iv0CBJwAM/ohCZL9vvlzDAf0tAeB/rH8BgBX/gD+VQDxBMj6ywRW/fwCsvwuBPkAj/uFB+n5cf3C/2f+twBq/EUFpPuyAy4CcfulAdgB8P+P+bsLJvPSCcEEavJnFHfwpgMiBJD6OAON/Sf+/fcDCqfzSQkw/v0AlQeV+CwFOfxy+7sD0fte/j4DSfwfARsDu/kZBpIErvtPC7z5Ef63ADz4yAS2+nMDX/2+/i4HSf/E+ygMsfiJ+9QRTemQEzj2+O/DFzvs8QTRAkz0zgnn+8YAJAaz/x/82QEA/IoBhAQT+HEBaANc+TQLR/bWBOH9uPvtBBACZfsyBef+Ivl4Bm/50gT0BUD03Afv/rAA6vu8BNwBEvXWCcn7PPxsBJb65AVE/hn+QQK6/VYGNvPzDYf9h/iLDDn2gAmmADv1uwRa+375QgLLAiD7oQwY+s8AJQU1+xQHUALN+oYKWfZe/eYI6POVCqz+if6/BKz/1PTpB/H1SwS6AwT7hgee/5X3Ygoa/yX4ewa9+t7+yv4nA7f+GA6D9uMIsAJN8w8QUO9eBNoEp/SoCewBWPVnCBv/wPkLCgT2GwM+B/LwHQv0/U764Au7+UsFZAKN+0sDqPxkBTr5LAaK/tr8uAau7pYJswDW+bz67gIe/3n8Og1a+XAJifzm+P8NAfmm/qIDNQGZ+hYAtPs9/wABv/7l/ekEBgEcAan/pf13AZwA6QBG/w8E9varBgH99AAFBKz3OQk39PX9oAdh9+4GCAEv/BMGJ/4I/pf/fAn49v4BxQZC8goIPfz397MHf/zx/IwHSP74/EgCiAAS/EwEiflTBN39TQAPAJv71QUO/koBewRmAAAANAF6AAL9YQKf+yQDcQF2ANP7zfyiAj39hv1kBDP4vAceAZ4Ea/86+ukI3vl+Bg/6lQVf+o8AVgPt+fMGjgDU9U4LofE6DFj5Qf4FDSPvbAwo/s/2ORAM+PIGqv2YAjD2YgSmAlD3rgnkAjr14hCx84ILpf4X+8UCsv4m/PoFgvi+A5wBnAAv+5YI5fpZAh79uwUg/JcG4gBWAyoBiPjcAUP+mPheBqj4FwhqBOT4/QPSAoP2wQVP+ToDHv1d/PUGKvY3/tv+S/W8///6MQbH/XsMIAjk64QZmegjC2D+ne8VE9jtxQYXCCXufxaN9pkJ9AnYA4IBCPQBEyXraAwuCLTvGgz7+LoE5/oVBIsCLf85B0r2Y/yL+7T1yPyH+uL+ffy6BHkGdf5vBrcMHfr+Dkv3rf63AZ/t0QHQAQ79wvs1BJz8AP1WBlv8bf1oCl/zTwVMBUf3uwo1+yv/kQAJAZz4VQYh9gL6cQkw7CQSowEn/vkIff/G/FADAP3//3b/GgFH+73+aABkAc7+bfxmCCX4avvnCL7ytQgs/7IFYvoSC6b46QV0/EkFMfrJ/mH5MQKS/r77eA3V8ssEbv0w/r35jwLI/VT7RhQh9l8G8P6E/LX2ywjG9REB5QRo9+oNufxxAOUInfWxBKUGPfb8A44HPvdB+b8KVPK2AqYJ8ez0DW4DffSsC577pPdbCoH3/QFHART17gB1CS/ylg+NB4/xOAmn+X/7QwOa+a4C4wGz/+IBnAIWAOoByf0/ApUEVfXPC1D/Rf+tCU/9dgbNCLP9s/0gAuruaAy+/ijxCQ3k/zD3VwhNB3Py+A+A9QX4jwdT+LUCmP20C2zuuAV9Bg/35//SAqv0pgBu/F7+3wIr97sIxPvCAQACfPt2AusEXvOEDaD75wLB/lL3iwu+76UFkQTZ+kMH9f7HAyQEsP0/BMYAtgYf/SgAcgD2/Z/7MwBvA2gE/P/fBHT/tvrBAXj8RgCB+SH/7f3B/jYBjPEMEQr9J/6BCUr2cf/iAZTyZgXuAUH5CQE/Aw3+vgSFBCP5EgcF+6/5VP3p+w0DTwQC+10CKvkIAQX7uAFj/cMEvAd++VIJCvUSB3j93wMkCngARg3B8y8GEvnG/xEC5feiDs34awIuCc73ChLw9EYD6fobBAz6OgVsA+vwzQzY89wFPgD79ogC4QWe99wNGACK/c0Gx+4aCwL53fI7CHLw6wAh/PH58/gXAV78egOFCGT46wQdAbz+p/1tBFEEEAQa/wED4v0iAZsJDv3lBdYFdflGA3QFgvm4BZoFQwDBBgESufnEEC4ELPEYCvPoZPtE+an+uPqI/OT13/suA77ybAl49jUHPPWt9VgD0/BWAN0Euf7zDCcQ/v91HJEHtP0THNr+HQilB5v2sf2l9Rb9FAWpBhYMRQKuDNsTwABXBykFrenSAdT/ieswBPzzPfCmFLbxwf26AUvykgFjBPj/Pv5g/CntLga2+C0CX/0I8B77pPo6/XkH/fZbBXX0lf/u/Lf2IQ6z7n8P1PlBBfcFgPsNCpP7bBDe/l0Jz/0lAmv+z/o+APf3u/NsA9X8LAe9+4sDBgUJAMoMgvEDFVL1E/MEEDj4Kwc1Bfn8Yv87Aqf5zAR9Agj70QQl/4b5F/49/zn7wwOu+nMLQfzz+yoJAvueAAv/ngMqA2MB9+6W/lv4gfTPAxj/vvyqCe0ETQRDAhn2UwQd/6/8Lv0h+tcGnv90AWURX/40AqcHFvlsARH+hPFW/LABlPdLBiQBs/lZALD7sgIb+Y39HAEG+aoDDf56+/cKQP92/JAIV/my+bn7vvrO/+X5UASa+BEAPwc4+MUHqQEt9zIMfAUKAcEJOPqCA6MCs/dZ/AIDNfrqBeP/yP7KBb7v1/p9Aa/9wv3A/Tb7xwB6AQn9+wB8B8wEvAFWCIEBRwZiAKH6Nf5t+1H85/4b/f/9gwD7B1kJqgbXBRALbgJgAu4D0gTBAbr2efvT+Az9XwBEBRIPjwyUDd8DEAC9+h3+nvcl+036x/eu+Fz5PAbUBqYKigoKD7wGmQacAtj7oPrX+JH/ffv09c/1VfVt9s390/5cA/wGYAUXCd0IJQUfBUgE9/2mAw785PsV+VL+zvxV/qsHjAT7A8EF4gQLBLoADP7N9fzvU+yk8Xn9zf1oBAUMpAy8DooNyQw5BygEOv+X/lL4bPix9174avng+uD8qPqS/XT8fPxs/Cf9vPkD/dn6VvRF8IbtcvKx94D7a/43AaX/0f7bASEAQ/11+ub6HfnP9kn7WvzZ/lcEhQedCdsJgwqVCb8IogU2A+kB9AA5A6QHFwVPBRoHlwgrBsYLUAsSDSoQWg9JENcK7geRCnkQhhKBF7ITiwyQCw0M/Q2xCSwK3QpICzwL5QhsBnIGFQdACa4I4QFk/9D9UP4XBcMDiwLp+sv5r/cQ+Pn05fd1+G/3o/fd9FLwnu1X7/nuWPFS62HmJt9S3EjZHNik1pbW9dVM1crWptVQ1t/X5de62GLWydC/z4LNGM5+0n3WBtcl2CDZhdvH257eDeJO38Tg2dxA3o7gpuev+FQMkCJpMeg5NkKsQzVJREpYS4dNXkf2Q09BMkKoRtFPQ1dnY61ksF/1WhhO7EE2OBUxLSsuJ28gLhv2GKIauh9/JLwn8CYOIhgbGBK9DBgKoQPXAu7+bP4f/NP6sv5tAlkHuwoZCeQFGgG6+rj1NvQr89nyaPPL8rzzEvS59PzyyvHi7ezqteS/4Urebdyv3B3aLdtS3mHeBd/E4cPgMN+836zaktcv06LOos+lyujJ+8YFwgW/NLo1uBu7AL1QwxjHjMjaylvLpcqkyRnJ/Mdpx9rI7Mk1zOnQ59XX3WnjE/CY+G0G4BhjK44/hEe7R41Jq0TQQUI9/Tl2N7syxzPPMkY4WD0VQnZCM0RCPHs05icEFwoN1AIHAsYBFQi+ClEODBKPFe4bpR0jHgQaQRURDzYHKQGX/Qj+uAMeCfQRJBggHW8h7iRgJcAjnh1nFYYL/wDZ98f0EvTY9nz9kwEJCNIIsAmYBjQFnQD0/IX2BfAh7C7pgeu37xr2a/sW/7P+7PuV+v75fvd89nfzsu8L7o7sRu858jr0HvZW9L/v4OhX4czcW9ec0t7PtMvzxz7FsMcRy4PR7dVO2LPYxdYj0QjQMc6kzM7PL9Ed11LYi9tV4H3jbOvo+NsOkiTMMUNAo0RlRfk/jjqlO7k1fC94KJAjyx3gGkod+Se5Knkt7StOIHIShwHH+ErzLvKi8V33xPq8/2kKUBNQHpwjLSeCKL0gEReHEWUKgwqdDSkTBRrTGsUd0iIEJqAqLSmbJh8fcRInBOr4k/Go7EnvwfKW9fD5cvto/DYB1gElA4/9n/XJ65jmsuYZ5rvqzPGA9bT8NQP5B18LeQnlBo8BzP4F+q/2VvO+75Xvoe9f8w34vv6wBAoEyAD+9T/q/tu1znTIA8RJw2jFwMbyyePP7dZT37rnr+gY5MLaY9FKyBjGK8iCzR/XfdpV5ALmoep18Sf98hpRMQk+aUNsOy40UyYfHnAi8yayKxcomickKyUntiAWKOApNysBJNAWLgpz9tPrrurr9fH9AAd+DroVvhtAGzohJh4ZGygbDhVpD0EJyAOMAzkJARULIIEozyjNJuEj8xs8FXwO8QRy/rT1HvGE72DtH/PN+An8kQIHBVv9l/q/8rPy2vST8Wrxn/Hl8mf2lvoAAPMD4QMwBBABQf+v/+v6r/gS+k/5YPzT+wb5ePYl9a74GPqX+vX50fjZ9tzxVvC47ljsE+NM2ubTMs+By43LP83nz03Uq9jp3VHiAeW/41fbU9fZ0rTO88pryP/PsM/s0wnW5t5F53r1rxTKMc5CiETRQX8/SSxSIiQjcyKNIRseyiQ8KP4p2yqoM7Q1hTSzK7Ag+gvW8MLp5ugx9FoC5BG7Gi4dQyFPHqEdchn4FP8VLQ42CYgF2wL+BQcMOhzlJ40vni9AJiwdQxGZBBkAd/q7+KX2Rvat9hX77v7//5oEtAN5AML1nvD26OTmvulV77r3I/wE/rD93QEJA4r+Gv5e+6D4kffQ9Y71DPim+zn6ZADPBMcFIgCd+Irxo+737evpyO4T8Q/zoPM29UX0M/EG7wLpteLF3+/ZbdIey1HJ5M520ljYi92J5d7j6+KT4Brir9lU0ajSHc7+z4/OY9U71o/V/Nn13dbwqApxJWM/okUpRzI/qC64Hgce9SUJJPUllSglKtknyi5VNNQ7hzqJL8ckHA/V96nrJO/L9FsGAxkuJPwlRCZPIy8b9BoJGr4VMQ74A28B2gbeB/kT9x/jKQcrbSV3HE4KXP89+gL1pvi4+FL8cfk49GT7LgGtBRkGKgcK/8r06+zG6HDole2V8wn+oQQWAUEDRwE++tP3JvoX+G70XPRh8mr0jPiO/QcE7QKS/8j8dvqD8dHs+u2Y7hruKu2F7+ft2e4370XzrfS/8BTuHOcp3sDUvtH+0QfQNNLs17raYt+x5djqiuoY5+zcUNn/0DHK1MxjzpnVLte24fnhgt9w5irxJg+DJ/QyTzvBOR80ySMOG5YexCMjJxEmmTAhOX42oS/MNjQ4WzCCJWUe3RBy/Ab1IvZdBvMORRitI68nxyVJH8sXQw1zCGAJBwWsBCsGVgavC2wSSyD1KJEnPx80FfsKVADN+W/8/PveAA0DJQS4A8MBdgKT/7wBEQAS/kX36fHt7Szyo/kG/7gD0gUhATz8Tfiu7xzwhPLz8l/2RPrY+nP6H/yw+6v8Uf6Q+qj26+5R6Tzpe++79Mv5+/6y+pz0Xe5w7bPrp+eP6Gjoaug74cDZPNYS1JbVe9l/3BPdadtG3RzbwtxV4hTh29n41sfSLNMv0BrMD9zh3DjifN/O5GDpU+xWD4wpjDhUPrs75TxuKqYcPR/xIH8jpiYoNdQ7SDjkNJ47pTR6L1srIiLaEDn7kPWP86sE9RAiH1ErGCZHIcsZxQslAd8CXQMPBHkHWwoxC/oPIBXYGvklwSVyHQAZqw0FBYH/Ff9pAJ0H7AsrDNQOfgqVA6j9Yvoz91D4u/aD9xz2PfhQ+Hf6mP0p/5r55PLn7fzo7exo7+f00vxo/yz7lPq6/N77O/ga+N7zT/SP8RjwkvOv9Jv1bvg6/Zb25/C563PqPec25Yjn+uUR4MPcfd2O3FbctNzx3HLaJdZM1RTbYNiA16faC+NN3wjhU+Dt2c/b0dej3tPdreLA5fHkE+GP2sPriAIREjswH0UqSM46xytYIr0Z/BlgHnIuFToDN2A3aEEcNzw1lTPmLh4n7Rd4CxL6tv0r/pEJkxuRIx0ngiCOFsQHiwEo/+YBUwWEC8sKtAv7D2kRxReJHHocGxqIFGwReweeALUEPglxC7gO4BHtDSwIRgHQ+TT8KP4H+cUA3wC0+pX8qvuD9GDzQPPM7lHsqerR6tPuNPKa9Nv3fPpG9XXxR/Nj7ofv7vOH9dX2L/ZW9d/3Mfhs97/4y/cN9Mfun+qS5/bmpuj/6k3sEOlT5Gvfatln1k/VxdgF2xjYONzZ3eXfGN3c3dbaQdfO1JjUude/3j/eL92a7Pvjbur5673jbehu9OwVMythM947vTQtLaIcvxW6IWEpMil4Krs+yT+wOm886j+0NKEpJSFGFSgSrwCAA5gPhxilGs4gVyKWFcIQCgX/Amf7PvpeBrYGzQqbDG8NFxRCEWYWehk2E7oLZQiGCosKvg/KFKYYIxgPEqsMPAfKBpYD+QUuC/kDuwXCA9L+Pvr7+Ir5qfRQ8wzyyu+j7Hfo2eYO7P3xivO/8YzyE+rF5YzoZuyh7tTwxfag94/4gfgA9Hv0LPMa9qH01PXD+IPxaPIV9S7xFvGf8LHre+aV3/DerOL14cXheuFr5dzgLtmZz8nThdUDz2PVf+D73U7cRt0o2/LcLtsI43PmAuey5O7na/4EFi4mTzZXPS00Ch4cFzAXrRPaL2o96kZKVkdMrEEFP30uuCm6I/YhCSXLFnEa6xisGmMj1SDtGfgVrAv5++b8VPg9+kwD8wbwDY4KwgWXBNj8AfyhAKME4wUeB5oIMgnwDcoNmA7dEgIMEA+tC5wKTA4HDdkTWBUAESkOCA00BswBNPyf+q77D/tN+YLzxO+47vvqwOk37Nvk0uM945bfLN994VjluejM6rrtxukP7NvpKekF6Zzsv/PV83X18PT98pXzUvLz8SX3vfct8oXwluxg5W3jUecV6xfteOXZ5jXiXtvO3eTgvuTR2fnSd9IezrrPm8/r16jkU96s5DrnbOOy7O7+jRdNImYfqxoMGEsNQgXSHEU2SDyjR+ZJfkw7SLk4oznaQ7g1mzbbNuU09zoVKZwwTjcdLEksYyM4G0ITvgloBQgK6AQcCVAIhALLAW/0y/RR+Kzw6/Sx9w34efxW/M/92P3a+Qn7Bvnd/ikCeQRcCwMKxQkfCg8LWw6IDCEN3BBdD2UOngdqA1cE0wFrAzsCJP9t+0H02ezd7sLpqOp07m3oLeiP5mDfad9c3kTjMONz5Yjo9uWO5FPiUOLW5gbrQ+te70LxLu1l69HqFezQ7L3vIvEr8fDvLu+n6+3r8uzR7mHrY+nw62fnq+Mb4l7f1eAe3X3bMt9x3MLdmdyI3rrgKuei/xERRQwvCBMEFQC/+vb6ARIOKwEuvDNDOqQ3CTTcKTQ4jz3tOF46pz01Qg06dEIiRrFGUEJ0NvQyISbFIzopqyv/JsQjXx1NFo0H5/1Q/9j74vux/bH/U/tq9FzwkOra5Wzjo+XC5J3mXuxk8ZL1JPLA7bvxWOo87MP3df5xBVUCZAXWCOgHHAX5BF4GgwEHA3oGVgnpCG4IvQonCuIDXP9E+WjzL/E18M3yGPaG9x/4gfDE6JjjBuHG3jfeCeNV5bTl7eKC45Tizd3D3rHb/No023bfDedo6GPqpupf4ebg8uDn4LDjUOq3653s1evT5IPi7+Wd4h/jiOpr4szj3uRs5BDsPf35EsYVUAx+Alr7Sfer+ncJ4iH9MeEwOSlqK3IkcSIAKAA3EjTDLwI3XzccPe89y0LUR7U+azLKLHosGyu9Nis5cjsRMB0igh99EYUKCAteDDYM2guZDBMHzf/a9+vzeO6M5aHjWOcJ7N/wQfPD9ZntWeQ/4YTkE+hS7OXytvba+TP3ovlV/Nn7L/1l/FT68fWn9vj8WQYKDHoMMQlrAvz4f/RP85H1tPszACkBmv55+Zb0/+3n6n/qr+gR6gHrKezS7bPoauYF5S3iztxm30LfcN093w/h1OMl4qrdLN/v33DeHN2k4UPnJN+w22ffi+BX4urelt+D5jjf3t6b4zHrGvOYBSEXyxP4B2f23fPH+wT9RhJ4KwcxiyzHJwEmCiMRJSglCjZXNRku0zVZOmlER0FJQoBE0D1qNSUqHC9qNL48CUCuP0o20CuZHg4SPBQ4EskU3RaXEc0PUwo3BhEDEvx480LpQuWV5uLqr/Gr9kz21u4F5wDc8NhT3r3mZe1I7T3wevMy9EXvRe7w8fTvoOyz6oXyz/x9/20Dsgd4AHv44PFM74j2u/kO+xYC3AQSArX7EvmP9PTu7e317LTyYPhg+Wz2Yu+j6UjkFeb95Zbl2uY35SPjIOMe5BLi5OCQ4hHdP9tv3kjfF+Jn41Lf7d+q3UDXSNuh4MjhkOB95NThi+fk8g8A9xHNCsb5MfLD86j7RgWJGaQp1ixiJOkb9CDhIJUoyilPOD06hS8SNcg5akKgRwVF3z4SPho29S4YOlRAn0exSMA+qTB2KAYiixnJH2AhKh9vG9cU1BCeDVoJEwSV/vP11Omf5crsnvP09xb6ufHc4Z/YdtL112/k7ee7687vcerA4eLiFeZA6OnnQOY96rTtle749MT78f6S+wz0L/CS8F/xDfZz/voCoANP/Xz6Kfqf9RfyOPTb+D74+ffJ90L2jPPe76bs9+fZ5X/lwuVs5kvpNOsM583h7d+y3BbaXNhQ3FPig+SC3yDd7tzE2EDYB9x83iPe+N0X2p7did8s5p7/1Al6AP/7Wvgu+A32xvwuExwlxCZvJXQmoB6UH2Eh2TE2Pus4ejTaNfw83UNGSN9GA0vdQUI2qzuBPeJE90oHSM1C6DrcK68iBSGzIDUmRyPSHKcaBxRWDQsInAJJ/cfwAOqB7ZruZ/LY9cvwbOjs3YnS4tBu2Mnhz+j76Sro++LE4Dng4t8q4o/ksuaF6W7rFPIe96b7gvrS86HwNu5f70H2Kf8hApgDi/+3+4r7RPhq9WX1EfrF+Eb36/m7+aT6d/QX7dXmmOKs4nLmgOzg7tHr/+Nr3aPaSNa72eTe7N9V3kHbbNiD12zWH9e/2ynbS9iN1knY5Nda5F32NgAgBuL4pOw48Gnygft8CmsYHyR+JSQe7RuhIKEecy0qN802izX4Mmk4QkChSWZNTUv8Qfc6FzqmODdCv0qbTuhN5kIpNMcnViALILEoZij7JAohJxawEUcQ6gmJANX78PPd6ojqWOxO8GT3QfbJ7FjeuNEdz5jUJd715ujtvOrF5PjfoN7D3aPfSOU+5ofoUO/I8HLxh/Ru9fD2H/TV8DnvuPLJ9c79QARaAhYA6PzF9wny7/Js8+72hv6G/z7+FveG8WnoLeR+5HriWeYw6QXpturK5pPfpN8M21vRzdEI1zrWz9bQ2hjblNdJ0tfMkNL9103jF/XXABH+vu6B6tDrK+9G/EEHfxc0Hp0bXhvVHKgeiB2DKccugzLzMRo0dDzuPw9HpEiYSfRC4TtaPG46WENgSm9QQ09MQ9k25iwOJl0iuyVWJUEo9yLnGbsVRQ+9CqEFUf6D9nHtVulw6vjvUfVE9GftpeJT13/QLNR43NHiC+l36Uvm4N8O2zjdWeR75hDpNuwU64Hqn+vg8xP72voy+bf2pfDy8DfzTfs3BSMHjgJC/s34VvMZ9bH4Yf6hAFX8C/pe9Krs4Ou772rtDOuz5WLk5uWf4qXiSeiV5cXcXtZw0xPVG9UD1LraLd0/1GXSfM8Qzr3S1N4Y8eD79vf37Vjr4euN7Hj4xAbAEvoZlhqTGiUZiB0kHR0rcDH8L8ItkjJiPj9Cl0m7SehHX0LLOcY5uUFZSItL2lGyS71BmjeSKTsmliZUJWEmESfqHr0ZXxf1EMQKvwBg9hvv1epL69nuufMo9jrxAuhs29HRD9GN1RncbuTr6x3oWuY25HHf3t8O41biGuQC6gDuJfVB+OT5Q/wj+nz0ffO/8gj2tfrsACIHOQfpAoD9xPrL9733hfjd+eP8Pvpr9wf1cvLQ7WnrxeeU4WTiJeTr4bvkpuJy4UHh29Yv0GHTadDj0c/WqtTC1u3UL88Izf7OxdKZ5fv4vvsR+avyhuxA7mvxoPykDRAaBx4VHfUhMR8WJKon8jJBNb0xSDHMNM1CHEgQTTZO1UpwQrA3YjZ7PF9FVEtZTMhElDvVLWIeBhtZG5gdAx2AGQYXYw+BCLsEPv7g9rXuYOW45JrmyucD7djyW+8a6EjclNLd0pjYK+KR6hrzs/OB70ftvOrp5pfq4u9t9Hj45PnG+dj7Cv/2ASEIPwQr/kz4Hfjz+R//IAbdBykGo/7n9vjzwfHg86/3fvcS9P7vF+Yu4VXh+9/t4UTh9N3S3fnap9hy2UvaF9aG0xXQac20zg/THtcE2r7XmNAx1HHU090I99AE2wZJAVn2EveK9/P3LwkjI9cqDiwVLhAnISdvJAgxQj3IP/858jepPao9ckUmStRMJkZIO3A2zywuLmE2Gj6pPek1pycXGnIPyATTBsYJJgm9CxoHs/4Y+PzzFO4p66nl6eCU4KbfouWc8M7vtPCX7Qjn++LU363mbvJZ9ZH5xACQASYCPf/u/J/+q/nq+dv/lwHpBDgKQQ6QEV0LfAJq/Ej3PfKg9t/6/f3VANH8oPim8srqiugZ50/mcuOE4bDfn93+2wbYS9Vq1TfV3dUF1jbZgdyu1mLR+dBKzwLQ5cty0RndZ9oi2kPcHd4N44LviQKyFMET+gbfBWcDov6HCWYYiSx4Myc2LjkDNugxQy7KOWM5FjlCNgk56UGOOak9dEM6QkY92S8IJb8gTiB+HckoRyicIbIZaglR/nv16fRd9x/4d/kC+kr3w/GQ68nqt+wl5s3k1+PL5FDp5+6P9vb+C/5D/Zr57PVq9xD54gBwCVwRHBVIFawTzRCqDAYHiQXhCuYL7wqsC+kKDAypCAUERACl+bzvPerI6G7p2Ox979fz1u/b5gzfzNZs0hDUZ9dc2fTaPdwO2ybWxtX01U7Z5di41qna09613hrfbeHY423eRd5T5JThMuZ36hTsseuX8soDOBN+GksaQR3/GtwKPwTZDjkbAiRVL449fEI5OeIsHjPAKRId5RxpIGMl1ShkL14wEzacJn0cyRphCdwIxQ49EaIQEhDCC3EI2ft39mH5m/fZ9539U/9y+Rf3nvXZ96H4wvhy/tb+c/lH+UYAXwb9CDYMsw8bDLcGPQaRCOoKkg0tFwsauxXLDpYIQQSC/eb74f58/yz+hfsr+Kv4y/TK747teuuv43beq99F4Ojmlujv5vPncOUy35PZh9sR3DTa1tn44Nfk/eDI4FzmruQI4oDjMem/7OLmdONh6JDmHOMe4vLl8upC5vjrt/HE8Z3yqAcSGxkayh+hH8YSQAa//G0EHBhOIiwodDrFQWc1Ui0hJDMjhRSdEZMbNB+PI1QieSWmI0ckWh2gFaYVgQ1fCnQIpQYtAh0H5QeqBaEGygLCA4MA2vra/Nv7eP33/7z/JQYPC2gJJwYoBmAFAgBZA9sGSggoDFgNRA/wET0PLg11DiQLVgiIAU7/0fzd92f4vfp7+Qf4MfVx8QTxIO/8643nU+fX5SfhgeGT5hTtcu4d7cTtzupT5KjeOeAT4wHh6+In6p3sjOiw4dvlx+Xt4e/jQe3P7rDlL+NN5kTjft1X3GDf+OFK3s7ls+ce5TrsL/7+EWYdxyEhI3EghAuP+fAF5g9hFZ8lCDe3QiQ/Uzu6Mg8wZyA1Grkeox/WIi4cKCFKI3YhYSGuJYMjBBurF9gJawEb+lT5xf1UBLgJjwpLD3wKIAJ0/g349vaf+Rb5mAAHBgAHIwr1CEoIXQekCNkHbQaIBXQFlwfDBjEHrgbCCm4MRQgGBYABWPqX9kHzZfK68yv1V/Gk7CDuLe9j7uztGO1R7DnnMuI85Rvrde3W7cXwZe9a623myuZP6InmmOiN7eTrAubS4JDk6OLP38PjO+s36d/k/OVW6MnhRtr31OHSVdhw1KneMuXF4GriLfNCA+MQ9CBtKwcqaBmqDaUJOgx4EKUesTCpQsBFL0AGQ846tyhwLLgpziPuJBwUCxJNEAcQnhmmI5MnTiSxGyQMigD075ntk/TX+CUD7woPCwUKTQKY/K3+jAErBf8EQgfdBZ0BygN7Bt0LOBJgGGUZlRb7ERYIFwXVA10BBAhZDlwLqgsGBKz6Dffd83LyDvFo7vPoxOUn4qbgaOUh6YnqxuxB737qbOiS58rl5Ocl5tvog+nE5qDmwuio6ATqde5s8uTsD+WN3vDdWtsv26DirumF5l3izOIV5N3dwNWp2W7UpdGs0pramtpg3hrw/gkbIU4qmS9yNk0n4gyTCzkV3Rl3Hrkqnz2URzI/nUBZQRk96jHbMCs0qyX1FH8EZAO4AcgG5xS+JvwsvCPEGQkM7/z87lDvBPhq/mv+pfwp/Hr7Lfz7AO4OPBvhHmkcmxGpB//9afSn930EyQ4EGhYapRXmEbcMgwupC4cP+ws8CPX+lfHN6tvp8ema8ZD37fXt9DPrVeRF4cbh3+SE5dTmC+Uy5cnkm+Ti56DtWvEk8YD0CfLR6nDjF96V32jijeHg4yPjheDE3BDiJOj/6Nrjit9K3YfZEdLn0B/Va8/g0dTPuNra3gbgIe36BFAeUydvLvEzWym4GsUTpxrfJ+QqZS6uN+5AODzaOos9MkLDOuQ4lzhCKzMawwQJAFMAtwRJD1UdmyM/HN4Uxg/pCGr+Dv4iAu4BQv8S+In0f/Pp9WwBNRI+HeMiISRKG7cMZgLjAPUAPQSJBikMpA0mCmMHcQuREHgQAhSfD4oJlv5f8XbpEuej5/jsX++n7RPsJOqC6/DrAO2P7hLs/eXD4TzhH+Sr5DHlA+yT9Ln3C/WK8wDxu+gv4w7lv+ap42zb1Ncg3GLZ69jf32joiuYf5X7gzt7I18vKic27znvRutIQ2pXZd9cA4QjxZAMuGJglYjHMNOspUCTvJyopXSf+LQ007jKNLkowZDDWNlw6OUCWQhE7aS0wF88K6/9u/o4DlgmgDs4PyhCrEOwQZBFcFO0RehFFDe0BfvuJ9F/zrfnXBBMRhBYsGScZExc+GWcXSRSSFccOlgipA0r+IfrZ/L4AVQTxDMkQPRCqCD8ABPZ58RPtUuhP5wXilNt72hfeEeQ27MDx7fIB8/3vIu+Q7yXqaOhk6anok+iD6fXoKOh/5jXnGOsX8EzurefG4LnZvdQI1xLb1d3J3JLdG9wU2tzZ3dc/2MHZ0dli1ejaJ9oi16fcUuwm/k8PkRugJCksdiqvJTYrTTJpMQIvDy2DLagnDSZNJ9kuLzVNOitAaD//M+4kBRwfE0wOjA2JEFMM0QcgBrgGwwyXD0IVoho/GfYUtA2pBpr+Gfy5/7wCnwZ6CJcLMA36CR0OhxUGGGsZ1hScEHEIhv9U+kT6S/0J/34BsQAPAJb++v1i+/P62vjL9cXwp+dw4qTf+d0P3inh6eTy5jLpfukK7OTvUPDj72fwgvE07lnrGOi75FHhVN0/3xjiseE83/jcQt3n2rncw+CW5GXktOCO3n7eVdgb1InVJNEx0PXPN9Vd1S7YYeSD9JUFxRH4HFwpdS1hK1MtizZnOCYxVDH2MLosPCYSJC4l7yrxLk01kDwtPqk2Ji4ALEwncSYaJJsg5hhdDxQJWwVsBk0GvQhGDvAP4w4WDpAOjwzxC9cN4g5kEYwN4AWIA7IAFf6l/rz/9/89/5z///7VAPcC8gX1B20IywdsB9EETf7f+bD0KvE77ZXphOaj46fgGeGD403nrOqF7LLtYu0q7yfwJ/Bi7pTs/eou6E/lLOQu463hwd/53uHgSOEt4Tzgn+Ag4mniweVy5wHnnOT04hHhTd+b3t7ca9u82ePXDtYT2aDZDNs14QPre/bEACYL5hWmHnEmuizCNW493T8+QFo9+TqwNM0tjyisJqUkayS2Jhsorid9JpUnlChALAMvnDAdL0Yr8CXeH00aWhT9D18L5AW8AGT9NPpw94f28PhD/Bv/RQJ7BVkH9AabBigH9AV2A2//X/vg9qrzGPG88GDx2PJq9BL1evcw+DX64Plv+aX4VfdH9ZvyefCt7mbsv+pa6cLosejs51joMenV6anp8Okp67PrIOwo7CPsZOxH7BvsY+tB6qXoZedh527ndeej6GXpceoH6z/ske1b74TwwfEd8wz0yvRc9cb2ZPeB+Nr4wPhg+u/8qAC2A+UGNQtZDg4SGBSSFyQbfB3gHrwfeiGrID4gTiCoIGwgSyGoIlkjTyOnIm8jYyMDJM0jnSPQI9QixyJIIiYhOCA+Hqsc4RmTFoUUYBFbD7MMLQtSClkIowdYB7QG8wXXBFYE4wKcAdz/nf3B+3n6rPl0+H73D/dC9gv14POD8kjxZ++d7tXsVevg6iLqwena6E/ojedk5qjlJeRh46Pip+FO4bvgz9+d397fMODI33XgQOGz4T7iruJX403jG+P/4nfjluPe4zrl4ubX5wzphuri6+Lssu7J8EDyZPOg9B723far9yP5L/so/WD/LgJXBeUH2AqXDWcQZhI1FK8W5Rg8Gncb/RzAHWgesR+DIlgkZCYTKMwojSnIKeUqrSsYLPcrUysGKzQqqil4KRgplii8J3wm9CQLI8chDiB1HmUcGBpQGCQVYBIdEOYNmgv3CHYHIAUsAjwAAf4h/H36L/mu9wf2J/Tt8rnwB+8q7SvrUeoY6KXm4uSw4+HikuGS4CPgX9/X3hjeid3m3JrcAt1T3JDbeNtl243aQ9ri2fzZ3tmv2bjZV9ru2kPc792Q3+Pg8uEl45bjeeRk5Ubml+cM6NTo9ekR65Ps/e558ZbzrfWY9535z/vZ/XcA0gJLBQwIAAtLDUoPHBJHFDAWHBmdGxEdih4rIDAi5SPAJYsnpSmAKzAtVi4zLwIwcTE8MhYzaTOdMu0xMzHUMCIwJi9ELngsYivzKTgo/Sb1JGcj1SHCHyQddRp/F4EUJhJYD5kMOAqzBvoDXAHv/iL9NftN+Rj31PQ58xHxRe8N7ULrT+oa6EfmOORB4v7g+t/M3jHeZd3K3HDcCdzk247bZdsZ29La2tp82iLaptp02o/aMduD22/bftun2y7cjtwR3QDe3t4P36bf8N+s3+/fPOE+4zLkyeSd5UDmP+c46Jzpluut7XXvVPGO8ljzhvWs+Fz7df7dAUsEsAZsCTMMZA9WEqYVoBjiGt8clB5SIJ8ijiXoJ7EpRCv8LN4tOi/uMGgy4DMwNT02TjYANlE2HTYDNqM1EzW3NA0z4zHYLy4uTS3zK6wq3Cc5Jfgi+R/UHBIaGxc2FLERSg6KCkcHRgSqATv/Bv3n+ir4W/Zy86jw2u6O7Gvre+lH5wXlROMx4X/fHt533NTb1toH2lHZINjl17vXJNeq1lfWl9ah1njW79XM1Q7WM9aa1gXXL9d614nXFtiR2LPYStlV2qrbBN3i3KXdnt5A31fhsuPx5ITlu+Yy6MTo6+ne6zTuivDd8nX05fXB99D5I/3WAFMEiAfmCr0N1Q80E6YWcxpTHuUgfyMtJYEmUiiFKiYtYC9UMecyhTNuNLU0xTXCNnU3QTiWOAk48zY8Nl41CjUiNMYzvDLzMBAv+Cy7KhgpkydPJZ4jxSCdHRQaihaiE6QQ6A0eC8oHJgQFAa79x/oC+dX2oPRj8vrvlO1R67LpP+gx5xrm++QF5D7i9OCk30Deit1d3aDc6Nu22tbZUdl82LrXNNeS1wLYWtjT1x/XFdc41/fXmdhm2H7YoNgG2Q7Z7Ni82I7ZlNmR2fLZutqY25rdL+AB4/zk+OVU6LXpYev97MTsT+8m8RHyi/ST9nL4lvpf/WAAIgReBywLVQ5iECwUgxcvG+Ae5CGMJA4nrSmnK3ktNS9rMQozyzQbNg83TjeEN+A3iTj4N6I3jjcPNr80wTPMMi8xITDVLnktNiw6KlUoYSb2I3wiviAkHsgbnBjYFWkS1Q5WDAkJCgZsA/r/kfwq+qH3UPVp817xjO+Q7SbrHOko55flGeXD4wbjB+LQ4O7f3t5G3vTdnt063cnc2dse29bar9pR2gLaUNrx2qjaatpx2qXaLdt/2/bbZNxx3LrckdyL3KXco9x/3H3cWtxI3e/cYtys3Hfdd98x4tXk1+Zj6SnsDu6/73vxzfOf9T/3kvhY+X76p/sH/vgA1gSKCFQMxg9/EvgVfhleHf4gqSThJ6YqJS0zL/kwQTPSNd43yDlJOrc6dDoqOic6IDriOQ45FTivNgY1YzNHMjExKzAML/kt6Ss0KtMnjyXoIwsh7R70GycYehR8EHwMGQkcBgsDcv/5+3f5hPbM83Dxpe9B7pzsvuqK6M7m4OTK46jiqeEx4Wbg796l3S/dn9wd3PrbxNsQ2xzaO9nb2M/Y+NgR2YrZlNmg2bbZj9lz2UnaNdsm24vb4tu12+nb3NuC3ObcF9xS3CfdHN273THeHt6v3QHfUOH54tbkbeaN6FbrSu0g79PxAfVp96n5nPu7/Pf91f/DAqkFPwmdDMIPCRMIFoUZPR2VIYYlyyhtK7At2S8GMpo0PTcYObE6czwaPC08LzwIPAM8sjtEO3M69Dh9Nlc1NjRjM2MynDAiL2ItDisuKSMn3iQAI8Ygnh1PGvsWqRKjDngL+ge8BF4BfP1w+jD3rvT18rnw4u/y7Rvsy+po6CjnkeXS5AzkHONR4pPhNuAN30jeHt3v3OLcFtwa22bZwthh2MDXSNej1v/WTteB19jWU9aX1g7X9ddi2PXXM9hX2IjYcNhP2ArYW9iw2IbYvNeb1z3YGNqF3A3g6OJ04xvmJOm76pbsV+6e8G3yWPQ79sH3nvkL+2b92gDABBQIQgypD/kRAhbWGV8eKiOnJgEq/SyOL9ox9zP1NeU3wjkSO187AjxlO2o7iTtgOzk70Dp+Ohc58TfFNgc2AzU9NFEz7zECMMwtOCxEKs0nyCX5ItAfshziGCUVZRHADbAKpwdYBCsBT/5d+7T4ovbE9DLzSfEu73PtXOtc6efnL+Zj5Q7kh+K64A/f791D3K7bHNsc27HaC9o92e/Yjtl92eTZtdpJ287bx9uf2zHbnNuk3PjcTd1T3aXdzN383Mrcs93g3T/ddt2r3RveF94X3kDeAt7b3WPfjuEN4xrlmOck6ofsj+7q8MHybfSz9Tj20PYk9wz43vnH/Kr/wQMlCLEL1g78EdcVaBknHfwgZyTZJp4pVCzsLmIxZTN0NXk2oDfRN003vzauNng2PzZpNg02GDbKNaE1qDVBNis2HDaCNY00VDNnMd0u5Sv4KbomrCOOIFQdihnwFeESoRAfDVYJuQc8BHgAhfxU+bv25PIF83LzevAb7UDpYef65CDjrOJR4pXge9943aLaIdme1zzYONe71OjSAdJs0DjRBNPA0tjSC9Qv1AvUm9Mp0znUXtU/1njXrtgb2OjW3NgI2dLYyNol2f7YSdk72W7ZNNk617DX/tof3T/hAeQm5q/qFu0u76LxUvRX9jX4Uvt//TUAMAI5BKYGugmZDe8SEhjDHJUhzyTaKMUtvzIQNgI6xT36QLtC/0SDR1FIXUevRExDhz/AO6E3EzVvMcEszyoZKoEqWStkLXotnyxXLEIrgypXKsgq3CnGKCUnxCSuIaMeexqmFf8Q0Qo5A//7yfbs8d7sA+ku5T7hD94g2ufZBNtb2w/a6dmw2szYU9ky3SLhauPo4x7l+eSU5IPkwOSu5NDjfeK737fcG9ZGzcfGdcIzvwq+iLzAuHK2P7aYtbG3mbv3u8G8X79Uv3m/vcGNwg7EmMXcyFLLUs/D1hXl1fpVDBIcBClBNFtABUY8UXBddmCvW5pT6UiAOksyUiokIYwY3hJ/DcgJ9guIDzcXASE3LAI3jEL8R9dHQEn9SYhIN0XjP7s04iXdFaAJiwRbA2QB/AAIALsALAYAD5IZ+CFPJiElFyILHR4XSxH/B6j+nvID6ZXixdsb2B7ZQd/e5TDwAPjl+yEBlgVWDPYTuhfPE/8Knf859hXycuwq5gfg4tnu1N7TWtg234boXPB2+UgDKgv9EKUSqRIREEgMIQXo+hbub+AW1LDK0cVcxBDD+8HKv/7B7MdszqvXlt6O4s/jM+Ie30Pf5tun1uPSU88wzLHIl8qEyX3IHsoZz3XhP/ntD4Yj+jEMP5RGs1I+X7tl9WQ8WcBGgTE6Iv4QPwEs+dn0EPK19HP6t/6EB4MR9yCxMulBlEmRS/tIP0BfOcU0sC36I1kYTAxPASn7Zvns+hgCYgiUD6kWjxtfH78jAiZwI5QfSxfRCLv46+iS3ZzWLNUu03PTNNX618fi5u9AAGEOZhejGjQXOBTWD8gLHgab/C7y8OVl3l7Y1tYJ2sndWOSi6vzyCvuDA7MJag16ErEUQhI/DIECpPdJ7jTm9OBC2+TVxc/oyljK1s0c1OPaoN5Y4qDkEeaQ5xDnY+nv5b7fZ9t/2FfRQ87WzNbIDMvtyxvQitGc0nzS1tdY7OoBuhkCMRQ96kaqTOBTflviYfhhuFGdPtwoZRIX/9zzlu0876H0ZvqeBbgNgRKEHG8xfkMNUbVXl1INR6w2PCeWHyAYSw99Bd39f/cA9iX7FgM/D4wc9irlMgw1yjCUKUwhJBU3Cjb99ur214vH1cHqwNPJxdSS3l7q8vMDBEERXh/ZJYklACE+FE0KN/488ejkiNmN08rP5dH81sLdaugJ83T/+gnAEP8TDBVrEtYOrQrfBL761+7+5X7el9y02sHbmd3U3mngHuHn5PTngOlI6aXk/eFi3sXaw9g91iDWtNNY0wHTctfM12rXeNjk1wXcA9yS4BPhU9zI15fTXNvr7psGcRueKsE7ZkQ4TURYj2A/ZaBcF0jIMkwhVweH8mjpr+fE6QT0hALGCkkT/hokK/s9ukwnVGRSiEdQNoIp4SAWF/wNxweCA7z+gwCpBb4KgBHsGe0n9isiKvkh8xUgDKEANPjl8NjjpNSUypvLdc9n27TqKvTD/xkJcBKZGUsepRyJGEMSPwXq+M3t9eM13jHd9OC54mzmYurr76n6rgSrDsQRdxAdCkUEq/8++0D3RPL67W7qOOn86FLqcOtX76H1k/pp/Lv5QvJC57jaTtPcz07O7MljxT3FN8VEyTLS4t1g4oPkPueh62Lo7eJP4OfYldOeyyrPy8vDxs3OIub/CfcgnjbFS1RS11IUVntgNmEsVOk/9CIHDTf8fvF96tDrO/Da+r0HLw8CHeQnZTCmO0pKvk5xSdM8dSnOGw4TXBGSEYAP6xBmD/0PGBIcGMAisyNPJ5gniSDtFYkJBf1o8EzoAOS04vTg+9gk2jHgo+mM9qEFEQyVCssOowuQDKkNLAs0CJf9WPP/7f/q++jS6K3uFPVN+TL9/f0S/bP9RwC3Au0Cu/46+i3ywu3h7KftoPBf8fDyuPRN91P2NPi2+Jn4W/lZ9nvxWelN30fVwc2Ay0fKK8tCy1vKIM0C0XfXh96L5PHkYObh4qvgq9zL1IjSzsw6zszJMshKxirE29cX9wgYMzDeQZFR/1TrVq1aIGGfXc9FHDBLIcAPy/lB8YDv2/F+/FcMKxiyID0k5iZ8ND09EUbcSjlB+S0IHrcVOhEMEJURVxCQFPgVfxYIHIMfwSSzJgQq2SiLJP4XTwQm96XvRutf6e/ksOJ73QLidujj8On+2gWbDQYOhQ7oC4gJBQZM/Y74pPSV7tDptuQY4y7om/GL+On97QFjAnECIAAAAk0C3f/u+Arynu9c7eHor+ao6DXsPu9O8SD2EvhR+bn2NPUJ9Oru9ejN4fXYFtMwz+zJecY5x4LJFs7p0xHYk9+i44Hk1eQg6tTlIuBC3XbUXtCrzJHOoM6izqDMQ8q+1vHp8wIkHv8s6juuSAFQEFENVtZaQE8vPyguZB17DGj/z/hi/i4ITBEgHIIkDCUNJsMwxzWlPBc/QzeuLDoiQBrAFqoUphZkGNAbVB1lHIkeBBs7HdsgeiNeI8cabQ1KARn43/PK8Y7yK/E57zfqUurE7wL2dfzMAlUImgmtCC8Dd/5P+Qn6pvhN9ubxF+1o69zos+ss8nT4aPxO/DX88fu2/C7/hv0//H/5SfdO81LvQux+6/7ss+0p8pj1aPe/9dPyKfAL7xfxEfCx7NfopeEN2oHSwc4yz9rQQtTK1QfWctYC2y/g4OIA5DTmk+J73uPZztUH1k/OYs6bzlrOc8vnzlzd2+pUAxkZgSSbL5w3rD4SQeNDCUlcRx49JC4IJ4se5xO3D6kVhBhVHH4hQiS6IdodRiMkKVwvjjGcM18rrh+0GrUZJxkmGnsbXxxBGzQXChUOF5UY8hlQHmYfoR5AG0kU8glMBzgENADc/Ub51fMQ8EHtpu788hn3qfpE/TP8ovqe/CD6H/jx9074XPZJ8tDtVesX7BDt4O8A9ZX1U/d8+Fr2Dfdj+Dn64fhX98D17/TZ8g/wI/BK8DnwvfAn8hDyg/DK7ejrdeqj6g3p7+aS4p3fJ9//3CzcndrY2q7a/Noj3Vzf799n35De1uCf3wvftd2t21fbKNcG2gfaKNoM3JLbwt2S4qLuafwnBvsQahnXJMYrYTJ+PW5EAEIUPfA4AjBVKmMjDR8YGx4cxh7kH20eTRv4IN8j2yUvKuIuUiw8KWwnviNZIlIiaR1kG/gYWBa3FFgR8A6vD04VsRTuFLAXbxa5EwYTHhBmDmQO3ApeAlr9sfhu98f1QvRv9lD5vfwo++D8oPx//Lv9h/rL9y/2GfQM8TTsC+ut6QvpIOeH5lPob+nK6sTrEu497/PwmPJW9I/z6vLN8dzwH/BM8APvFe2J7J7qZOue6cvon+jr577ohenB6gPqpumc6TDo7efD5lTm8uY65SXla+Yu6N7nC+gE6ELoxufS5qDnWujY5/DlZuiX6IrpM+vO627x1/ep/zcFDgkeD/ESNxnMG64fBCVzJjslgyQfJjQkOyIhIJUfHR2dHq8fsx8mILYedh9FINgiASSMJj0oayX3JLgl7SI3IYEgWB9fHZEa9xb2EhoRhg3lCjoMnQxDDAENLAtrCdkJ8QhbBwMHfAXEA78BOf9D/Zr8k/uu+sf5IvpR+sH5ofis9mv3uPWJ9hr3D/Uv9dr0F/MK9Bz03vOQ80zzm/Hn8L3xl+9U77/wcvHK8Y/yevHX74rwMvJS8V3ygfLw8szzHvID8aHu9e097UDtCPHE8QXxtPEz8YPyn/Qv9t733Pfm91b4mvkk+3b7LPse/Pj7Q/w0/Ar9iP4N/ib/ogDdAYEC8wEQAo0C7AJbAy4D6AK+AS0A9v6k/rj+rf9VAD0BtQJeA9kDLQThBXQGsAZgBmMG8QY7B3EHQAd8BhsG3AaWB1YIiwhoCNwHugdnCIsIugjzB3YHUAehBtIFnAURBe0E8AUdBkAHuwfYB7kGWQbsBlIGCgf2BqMGSAZ2BTUFCQV1BcgE7QSeBZoFLwUHBYoEkQMVA7ACqQG6AOsAwQCs/2f/6v5w/g3+6/1r/uL9q/4v/rD9jP17/BH7SPpP+nL52fiG+av48PfJ+Cj5gflO+gf7k/uK/Hv88vsL/Cb8Bfyr+3P7b/sP+wn7JvuT+2z7EPv1+mz6nvqN+3H7c/uX+7j7NvzI+1v8G/zT++v7pPsb/Db8/fwu/Vf9gv21/f79YP4U/zP/SP9e/0f/vf+oAF0A2wD2AD0BKgEAAWUBLAFUAfgBYQKAAqwC2QIDAzYDhwO4AwoEBQTqA24DagMZA7oCXALdAfwBJAJ+Ap8CuwK6ArcCgwIuAhEC2wHCAZYBcAGLAQkB5gAMAeEBdgLqAk4DvgPVA3UDKQPfAgYDdAIrAp0BHAFRAJ//jf8G/yv/O/9F/8j/MABGAH4ArwDuAEgBzgGUAYIBlwFJAdsArgB0ADMASgDu/+f/p//k/wkA9v8sAGAAJQDG/wcA/v9s/5//mP+g/6L/hf8a/wv/Sf8n/0L/Mv9K/1L/hv94/1L/FP81/6X/7f+x/57/+P98/0z/Wv8L/9v+8f7S/p/+of6+/sP+G/+F/4j/2P9iAJUAqwDgAKIAfwBFADgADQCa/5z/Yv95/6j/o/+Y/8D/EgA2AF8AagCRAKgAdwBpAGQAHQAdAAYAJgAwAP3//v8AAEsAbQBuANYA/wANASEB9wBIASoBtQCgAGoA+v+c/3T/ZP8v/xX/9P7i/tD+y/7y/hP/Uf9K/1T/iP+L/5//sP+Z/9L/6/+c/9T/6/+b/5L/iv+G/4//iP9q/2X/Sf81/0b/MP8//2f/V/91/2n/Uf+Y/5z/l/+e/3r/Qv81/xL/0v7X/tj+2f68/tj+7/7l/hn/R/9o/4T/s/+2/7n/rf+X/7b/o/+M/5n/f/9a/1D/QP9R/47/7/8aAEkAVgBnAKYAlwCuAOYAAAH1APgA6QDBALAAvgC0AMMAywDZAOgA8gD1APUA9QDpAOoAygC5AKAAjACLAJgAoACwALIA3AAFAQEBLQE/ASgBOwEyAR8BEgH2AOEA1AC6AJ0ArACwAK4ArwDJAMAAsQCwAKAAkABfAFAAKwAHAPD/wv+E/2X/Wf86/zH/HP8e/xb/FP8t/zn/Rv9T/27/dP9x/43/nv+w/7n/0f/Z/7n/u/+c/4T/if9S/0P/Kf8G//r+4/7p/ur+1P7U/t/+4/7z/vj+/v4Z/xL/Ef8Z/xH/Cf8N/w//Cv/7/vr+Dv8M/x3/Jf8y/07/Zv93/5b/rf+9/77/0P/j/+b/9P/1/wAABwAdACwAVQCDAKAAwgDcAN4A2gDoANkA1gDVAL0AqgCKAHIAdgBlAHEAmAC3ANwA9AAGARMBJgElATYBJwEPAQUB9gDWANQAzgDEAM0A4ADxAPoADwEXASEBLgEwAToBGwH9APgAwwCfAG8ASAAtAAUA4//J/6n/pf+z/6L/s/+5/6//r/+z/6b/qP+w/3n/Zv9s/2P/af+I/3//bP+H/3//if+c/5b/hv+W/5z/l/+K/27/Sv8n/xb/+P7r/uD+z/7b/t3+4P7s/v3+AP8Q/w7/GP8s/yP/Of8q/zX/LP8k/yv/K/8v/zf/Rv9v/4H/jP+m/7r/yv/o/xQAIQAoADAARgBKAE0AXwB4AJIAngCoAMcA1ADuAPsADQEaARgBFgH4APYA4wDaAN4AwwDCALkArAClAKkArACvALgAvgC8ALUAswC6AK8ArACjAKEAnACVAI8AkgCHAIwAigCIAJUAnQCoAJ4AowCXAIYAdQBjAE8AOAAdAPb/1f+u/5z/fv9p/2r/V/9a/1j/R/9S/1X/T/9R/2j/bv9j/2r/bP9q/2v/VP9L/0H/Pv82/yb/Hv8b/x7/J/83/z3/Tv9f/2n/dv+F/3v/fP9x/27/Zf9U/0z/Tv9L/07/WP9T/2r/af9r/3P/gP+Q/5X/p/+h/6L/pP+g/7f/uf/K/+P/8P///wwAJAA5AEEATgBWAGYAdAB6AIYAlgCSAJkAnwCpAK4AqgCxALUArgCrAK8AqACiAKMApACrAKsApQCrAKoApwCqAKkArgCsAKoArQClAKIAoACbAKYApAClAJ8AmgCVAIkAfwB7AGoAXABSAEYAPAA1ACsAGgAOAAQA8//y/+P/zv/E/7H/q/+d/43/hP97/23/V/9P/0b/Rf9H/zz/Ov88/zn/PP9E/0f/S/9S/1X/Vv9g/17/Wv9i/13/aP9w/2//bv9p/2T/Zf9o/2n/cP9u/2r/bv9v/3f/ev94/4v/l/+Z/6L/rf+4/7b/tv/L/9f/2P/l/+j/6v/t//L/8//0//z/AAAKABIAFgAlAC8ANwBHAE4ATABUAFYAVwBpAG8AbwB1AHkAhwCKAIYAhwCIAIkAjgCDAIQAhgB5AHwAfwB3AHcAeAB2AHIAcABtAGkAaQBiAGAAXwBbAFYATgBFAD8AOAAxACsAHQAZABQABQD5//z/9v/q/+j/5P/f/9j/0f/T/8b/uv+0/67/rv+s/6D/mv+T/5X/j/+M/47/iv+O/4//iP+N/4//jf+Y/5//oP+k/57/ov+k/6b/r/+p/6n/qf+l/6H/o/+l/6T/qf+p/67/sf+4/8L/yP/P/9D/2//j/+X/7f/x//b///8HAAoADQASABoAGgAcACYALAAzADkAPAA7ADwARABGAEsAUABOAEwATwBRAFUAWwBgAGQAaABsAHMAdAB0AHcAdwB0AHYAbwBsAGkAYQBgAGIAXwBdAGAAYgBaAFoAXgBaAFMATABGAD0AMwAwAB0AEgAWAA0A///5//v//v/5//n//v/1/+//+f/v/+T/6P/b/8//y/++/8D/wf+8/7b/rf+v/6L/qv+n/57/ov+Z/6D/nf+a/5b/kv+R/5X/kv+S/5L/k/+a/6L/ov+i/5z/mv+h/6X/rP+t/6z/sv+y/7f/uP+6/8D/w//K/8n/zP/N/87/0//c/+L/5v/t//P/+////wUACQAGAAcADQARABwAHgAYAB4AHwAiACMAKQAvAC4ANAA4AEUASABLAFAAUABVAFcAVgBbAFkAXgBnAGcAZgBpAGcAZgBpAGYAYwBdAF4AXQBVAFIATwBMAEgAQQA8ADsAMwAoAB4AFwAOAAcAAAD//wAA/v/+//j/9P/1//H/6//q/+v/5f/j/+D/3P/d/9f/1f/X/9T/z//H/8L/vP+3/7H/rv+q/6j/pf+n/6b/pf+q/6z/rf+v/6v/q/+n/6H/of+e/6D/pP+o/6b/q/+x/7L/tf+5/77/wf/C/8b/zP/N/9T/3f/h/9z/4//n/+v/7v/1//3/AAACAAQACAANAA4ADAASABoAHQAaACEAJAAlACcAKQAxADQAMQAxADkAOgA+AD0APgA+AD8AQQBHAEwATQBNAE8ATwBPAEsATABOAEcARwBGAEMAPQBCAEIAPgA7ADcAMAApACgAJQAkAB8AHAAZABQAEgAOAAkACQAGAAYAAAD5//n/+//2//P/7//p/+X/5P/g/+D/2v/X/9f/0//T/9X/1v/U/9H/z//M/8n/xv/I/8j/xv/D/8T/wv/B/8L/wv/B/8H/v//B/73/vP/A/8L/xv/G/8r/zv/O/8//0//T/9P/2f/e/97/4v/n/+X/5f/n/+z/7P/u//L/9v/3//b//f8EAAUACwAMAAwADQAMABEAFAAWABcAGwAcABoAHAAfAB8AHQAeAB8AHQAXABkAHgAdABsAHQAdACAAIwAjACMAHwAbACIAIAAfAB8AGgAeAB8AGgAXABUAFQAWABUAEgATABQAEgAXABgAEwAUABQAEgATABIADwANAAsACwAIAAMAAAACAAQAAwAAAAAAAAABAAEA/f/8////AAD7//n/+v/1//b/8//s/+7/8f/s/+r/6v/t/+r/6P/m/+P/5v/q/+f/6f/p/+v/7//z//b/9P/5//7//P/9//v//P/+//3/+//4//P/9v/3//r/AAD+/wMADAAOAAwADgAQABAAFAAPABEAFAAUABEADgANABAADAAIAAkAAQABAAkABgAFAAYAAwAFAAYAAAACAP3/+P/8//n/+f/7/wAAAQAAAAAAAAAEAAAA/f/9//3/+//5//7//f/8//7/AgABAAMAAQADAAIAAAD9//r/+//4//r/9//5//7//f8BAPz//P8BAPv////5//3/+v////7//v8DAPv/CQAFAAUABwAFAAgABgACAAMAAgABAAQAAQD9/wAA///8/wEA+P/7//P/+P/1//P/9v/z//z/+P/4/wAA/P8AAAIAAwAHAAMADAAEAAcAAwADAAMA/P8AAPf/+P/+//P/+f/y//X/8P/r//L/4//y/+L/5//y/+H/8v/4//D///8EAAQAHgAYACEALgAkAC4ANQA9ADoANQBDAC4ASwAfAD8ANAALADYAAQASAO3/BQDm/8z/+v+6//7/9P/U/xcA9P9IACkAcgBzAI0A1wCmAC0B8gAlAT4BEwFRARYBCwEBAa8AvgBPAA4A/P9L/23/uP6x/lv+2/31/an9if11/VP9kP3G/er9Tf50/gf/df/1/2oAvgCVAZIBxwEZAjwCUALmAQgChwFvAToBdwCGAKD/2/+d/7n+iP5C/lP+4P2m/UT9i/3U/KT92/uZ/TX9v/xq/oP9QP+N/1cBhwLOBAAH+AiRCcMKlQqNDaIKZQq/CaQJdgdvBFQENAJ/ADv9TP6R+jn5Ovhc92f3GvSx88/2JfUc9u32YPhU+Qv63f47/jz+BAIXAmcFcAO5AjcGMAKsBVsBUQLC/8X/4QAp+Qf/iPvC+ZP6LPne+WP6M/jJ/Wz56P1q/tD/ugCEAKcFgAQxBwoEBQojBb8KvQlkBf0I/gdUBSEIywLOAbEEeP6CARgAQviFAN37DPlY/aX33vtW+0n8Ufuu/CX8kACl/xv8Wwe6+5oDzwTDACIEvQCRAvoE3P8GAuT/3QDr/sUAD/+S/Oz+tv5t/UL/sfxa/PIBfftBAYv91/5gA+v9JAE+AUwATQHKAoj+UgL/AJUAjwEXAJP/VAGy/qQBRQB4/4MAjwGLAHMBpwHg/z8DmQC4AQYAFQHj/qMBb/69/YD+ifz3/m/7B/0V+/79d/20/a39MP7eAJwAHQFTA0MCiQXEBQsGNwf3BywJrAdpCmgHHgsaBk4GewbUBHsDJAGIAET+8f6S/DD8qfoH+fX6EvwM+Jb6Xfjc/Av8fPp//Gn7Q/2G/pT9Zv1y/XL9Xv76/Kn8jPnG++v59vq69LP2Kfh98Uv26vEC9MbxfPEl9Ez0MvWU9Ob69/uD/DsAyP/4CJcFswY3Dr8LtwwzDfwMtQvjC1AHLwr/AW0CugJJ/Ez9QPpt+pD6nvvd+FkB5gcqDCgO4hJ3GVkdUSCJIVYhViN5I34j2h6QGqIYiRQPELwGYAnu/rD62fcC86zx2eim6gDrguYE6vXoOupn7IrrlPJU8qPzRvOO93/4xPVg97HyE/VI8nPscfAB5zTkSeZR4Yvh4tzx3VDcf+Gn3nDi2OFw4UvsHej98OLurvGM9tf51fwl/ZEBef9OBnIHQAV4CZ0KGgoQCWUQnA1xCtcQBxDYFLoRJRRHF+MX7hkRHIQcmB5GH24dcSORI00fVyJQIwgfwyPHH/8e/CCMG54fex0/Gx4a5BamGIQWdROHD6EPoA29B4QKYAMYAuwATP2g/FP6QPmE9Zn1N/RU9NDyz/Hb8iPyN/IV9m3zLfW59mn1XfhT+rD4Nvk9++b5Ffq++AX4yfdt9rDz2vVH8XTw/PBu7tfvNO8d7+ftDvLX8X3ywfby9gn6Nvwj/ucCfwJhBFwFAwhRB8MH7AUiBD4FjP/S/oz7sfgp9Y/zAvH+7FbsO+gB57XloeV146bhgOAS4HbffNyF2vbZs9md1uzVIdOQ09nSNc/q0krTmM/g03DWLdfo1ybbR+HH4tTjDOwl9a31+/ppBPgKJg+QExEY9iCyJUInEC6JNFY0uDeqP4I/S0EbRMZJLUyLSd9NUE/JTk5O8k8DUtFNH0+ETjJMmEyFSK9F+ESjQfw7gDvdNv4uty1GKDkimhyPGTYTWA0PCQwDwP9S+Vz20vGd7Nvr5+bz5FvibeC33U7dWdyF2Ina7ter1RfXx9Vp1BTUdNR90yfTw9PL0jvU59Qm1ajWQNdR2V7a99t53szePOLB5IXmlumL7ITuSPAA9hr2kPoK/jL9kALWAucEUwRFBMsF5AMQAzH/9P4Q/Ef1yPFp7u/q/+Qs4UPck9d21NrOi84zyyfHisdkxxzEPsQwxbTE8cZEx1XKbNA30+3V2OD26PXqCfIt+FH9UwXGBZkKgRPwFFkYmCA7Ia0kuSwLLV0wdDWIOCM/2kL6QQpJJU1IS8tRRVZIVKtWflrxWGdZ4FobWL1Xv1QFUoJSL06iRw9FjD/8Oms1Py4aK84kbhzBGpEUcAp7COIDjfuC+E31h/EO7M3o2OO14TjiL91N203aANrj1sjVuNU+0/HTH9K40hbSatJc0gXQANLS0GrRUtQg1S7WUNYV2avbD9033xDiFeWl6LPsk+4T8kj04/Xn+fX87v0XABcDPAPHA+UDEwQtBJ4CrQFcAN3+g/zi+XD1SvJU8IbssecT5Uvklt4n2/HZN9j41Y3S+9KQ1CXS6c9O0hzUHNP90t/V+ddk17LaX+IP5arkzOvG87XzNfkVAAsDkwljDqoRoRlSHsUf4SerLAItSzVgPCY7CT9XRspHfElSTLZQO1O6UUpUJViBVqhVi1caVudUsFTCUdZQFk5kR81FJEOYO6c26TO6LLAmDiExGjkVYw8GCP4Bpf5a+e70j/Au60zpHuXp4mbi5t5d3UXcvts82b/XiNcA1gHWD9MR03XU99Hmz5rQYNDL0EzRMNFJ0tfS69Mh1RnYldm52zfeeeHF5DvnE+qz7KHv0fEW9LT2bPkT+tn5Kfo5+xv6lviQ94b2WfTI8Pfuke1B6hDmX+RY4vrea9xr3CjaGNdt1z/Wj9Wk1dfVO9Wh1UbXLde82GfaqtvC3eDdxt935YXqM+sq7hb2L/kW+1QAbQelCikO/xRpGkAeoyP0KCEshy8kNUU6aD2WQQlF1UYoSudLVU0JUQ1SyFC6UkVULlIAUpNTJ0/cTJtPskt2SPlGs0KuPT46qDb2MAcugCftIGAdpRezEWoKbAVRALb6wfaA8jPtbeci5ObgI91D3HnZhtb21o3UjNNR1JTSatKU0vvTSdQC1XvVNNRT1RXWY9f819HYaNq42oLbK91l3uTf8+ES5K/lMui06dfr2u4C8Cryg/TO9lb4//l7+k77v/t++nj68vqx+cv2QfXs8hnwFe5W6/boEOdS4s3fdN9x3JzafNpl2P/Wftik14DXptc62O/Za9qH3M7f9OAP4QrnEu0E7jzyJ/fx+hMASAEQB5kNxQ+qEk8Z6B7cIEomiCprLXMxvTV1O+E9I0BBRGFGD0daSkFNGE3zTu9P2U+nUANQYE95TgNNREwXS4RJu0YzQ25AyDy0OGQ1cjLtLF8nCyT+HiYZcRPQDWgIVANZ/oz5vPSK7lPp4uWC4BneAts51zDVsNJ/0Z3PRc+WzQ3Nvs7lzkjQ9s/d0LPRkdLG1JnV/teF2NrZ9tol3KTemd524M3hGOPn5Frm7Ofj59fobOqK7Njuoe9a8LbxNvOJ9EH1LPbX9qD3tve59xv4PPe/9VT1avQD887xOvBD7X/rnenp5gTmr+OE4mbhvN8Z37ze2d0o3hbfwd4X4efiy+NT5mbo5uoE8G704PXu+Z7/uwG8BZIJnw48ErMUzxroHpghDSaHKR0rbTDxM5U13zq6PJY8/z+KQmVBL0ObRbdEOkS7RJxEf0PbQTZBAUC3PYY9bTsnODo2CzS1LystVCtYJoQjtx/5GtQXohJhDosJCgVbAFn8h/hf8zHvX+ps59LkheGy3oPcads52QXYyde11sHWYNa110bYqNh/2lTa6Nto3fje8eCT4hfkNOV45rLn4Ojh6V7q1eqj663rHexg67vqpOro6X/pM+qB6R7pNOnB6PDo9eg56eTpWOqV6q7riutg7GTtfe087q3uZO9U8MfwK/Bv8OPwMvA/8JXwYvAK8Izvxu8R8OruV+9U8G/vavCo8UbyKfOL9A73iPks/Cz+TQGVBCAHhAoADUQRfxTcFkkbPB+DISok7CctKvUr8C6UMTYzfDPCND02/jV8NcQ1HjXWMzEz9DHSMBIv6iznKwIrpSiMJ2UlNCQOIvwfwx7HHL8aIxgtF/kUphK9EEUO9wt1CQAHPQUBAyYAKf7m+4T57PcY9r3zSvKT8GvvEu7H7Njrdur46dnp2egZ6SjpYejt6AzotOgY6fPoTOlj6T3ptOmc6TfpmekR6UzouOiq5xbnZOZU5UDl1uN945PiIeKd4d7g1+Bz4NXgTOEZ4rXi0uMB5crm4uhe6jfsHu4r8AzyDfT59ZH2OfiI+ff5KPsd+wT74fqE+hv6p/kR+Xr4oPfu9tf2bvac9ab1N/bp9Wn2dvfc92T4PPrb/Cr+xf86AmYEJwbnB6wKRAwADjEQlhE4E84U/RU7F4MYFhlEGoUbbBzOHKUcih3+HbQdBB4/HpwdfB3IHacdaB1HHSgdOR0yHRwdwh2nHPUcCR1OHCgc/Bs9G5EazhkvGd8YWhdPFmgVzRMvExESdBAND1sNNAyYCgkJ5geIBskElANSAs0Asf9t/vP89vvt+g76HPnY9732nfVy9JzzufKc8Zjwte8U71HuPu1s7GHraurV6eroqOc75x7mOeXB5A3kQ+PN4oHiXeJX4kzi+eIT4xHjr+M55IDkguVH5oHmFue856ron+k46grr3eto7HztFe6B7n3uSO8o8J/wA/Gh8Nrw7/Aw8aPxovGw8djxbfLU8gTziPPN80f0RfUT9hf3SfiA+Uf7sf2w/5sAiwKZBN4F7QdsCZgLTQ2yDvQQgRLpE7UVRxdbGOAZPBudHMcdZB4sH4QfXyA1IXIh5CExIvUhASJ0Iq8ixCKLIhMj1iKuIs4iGyOeIjgi/iGyIYEhwSA6IM4fyB7bHQId3xujGocZahioFioV5BPXEdsPYQ5fDJgK4QjnBgUFagP6ASMAU/7e/J77K/qB+Iv3VvbR9Kvzr/Jt8SzwO+8H7sTs4ut16njpKOgG5xPmuOTu48/i6eHo4CPgsd+m3kTe9d3E3b7dzd3V3bTdyN1d3rzey96K3wzgdeC44X7id+OJ5JLlvOaH54fou+mA6jXrL+z37K7tH+6i7jTvVe/17wXxZ/GZ8ZTyOPOe81z0IfW59Uz2Fvf89+f4pfks+uf60vtX/Ub/5ACUAiwE0AXBB1sJDQv5DOcOhBADEpcT1hTxFRkXLhmPGtAbjx2AHqofwSDOIckikSMgJBYlBiZRJsYmKSeBJwgoqSglKScpDilrKRQpuCg4KMQnUyd4JlYlPyTXIkIh4R8YHpgcshrlGEgXGxX/EgcRDg8GDWILsAlxB2IFjQP0AQAASf6G/Gj6Jfks9371//Pt8bTwKe+S7evrOOoD6WTnquWH5PzihOFV4Aff4t3B3Prbd9tb2r7ZM9m+2OzYF9kC2QPZOtlY2cjZ7tl82gTbd9tc3OTc292S3mLfyOCr4Wbin+P+5M3l/uZC6C3paupM66fshu2o7lTv8O8/8cLxz/IT9PD00/Xg9sT3gPhG+QH6UPuy/Ln9ov6g/2QAjAFUA48FRQe4CJEKcwz2DakPhhGVE2oVUBchGYYaghu0HFsedR8xIdciUiR0Jfcl7yasJ4MoiSlBKtQqNCumK+UrzSvYKy4seCzVLLAslSwRLIoroioAKsko9Sd9J+slaSSBItwgoR5zHJoa5xgDF7EUfRLoD44N/goSCfIGtgRgAz4BzP6k/KL6qvgC96v1GvSR8uTwVe+R7b3rpeo+6eXn2uab5Unkf+Iq4cLfr97w3SDdL9we25HaYtmv2CnYfdel11PYktjR2MzYeNje2IfZHdrO2qTbf9xs3W/e9d5u3xjgB+Fg4m3jOuRO5U3m0ObJ5/bovunK6vnryO3W7hDwlfCz8Bzx8PFq8z704vT79bb2Q/fM91n4TvnZ+mH8af3g/Z3+aP93AQYEZQadCBUKOAxLDnEPURHXEhIVchfiGc0b2hw1HrAeMiCqIZIj2SX3JvQnRyiNKIopiiv6K4QsJC70LcouKy+KLtAuHS/DL5kwMzCDMKwv9y4TLtss5CtvKoYpNyhXJskj8yFIH14ciRoVGDIW5hOAEcEO8wseCaMGmwS5AuQAqv6A/Pv59vfJ9czzGfKZ8FzvnO2467Lp+udq5hPlMeR04l7haOC/3gndvNvT2vDZudl32bHY59dR19bWztb11n3XgthD2dTZHto82pfalNtd3FPdFd6v3v/eWt/537/gjeGY4uXjZOTr5Mnlg+aI55foFOpg62fsWO2I7t7vmfB38WzzsPTT9dH2Svfe93H4tfmn+gj7LPx0/an9/f3p/kv/9v8gAYMCjwNaBIsEJAVnBtEIuwsDDkkQQxIcFOYVGBfbGOwaGB2mHtYflSCZIFMhuSH7IvsjrCUWJzYnMycEJ2cnkidbKDIpiSnSKZYpcikYKUYo9CjXKeUpGSpdKUgonSYBJUgjHyLsIBYfKB1pGrcX8BQ0EqQP6A1gDJ4KpggNBp4DfgHr/5r+nv2j/F/7xfm39zr2TfQy8x7y6/BN8HHuBO2e68rp3+im533m1uVa5RHkuuJX4YLg/N/232zgMuAC4Azgzt9A4DPgfeB34TLiK+PT4zLkhOTz5EXlW+bi5tLngujE6Gfpuen86Z3qOOst7A/t/O0N79TvnPBY8THyIvOK9Jj1z/YQ+Oz4kPmo+tH7vvzE/fP+SQD2AHwBTwFhAZcBPQLJAj0DewN7A6EDWwMXAyQDeAOcA/YDZgQuBFgDIQMSAw4EKwU1BiUHzAbWBmcH3Ab5BgkHZQe0B2sH/QbgBRYFbwSlBH0E/ATNBGcEJgTsAuUCAwNoA/sDEATFA6QDbwP8AvMCOwN2A9ADLQSoA74CFgLuAbwBPAJYAkkCAwJ1AdMBmwHXAcQCiQOHBBoFYAWJBagFhgb1B84IlQnqCfkJAgq+CRQKWAqKCjELgQvrCqMKXwoiCtUKnwv8CzwMCAsTC6YLbAwVDakMwAx+DI0Logs+Ct0IeQj+B24Hywa3BbEDIwIHAScB4QCQAMP/aP6n/aX8OfxP/C/8aPwB/LP7OPuZ+qH69fpm+9T70PtT+4r65Pkp+X75jfnU+Qz6afnX+Iz4Nfic+Df6YftV/GH8yfuk+1j7xPtZ/J78D/2J/M37v/qa+Wb5Avkh+V/5l/hP+Iv3x/ft+IX58vmM+UH5Ivn399v31/aI9q/2A/ax9Yr0y/Po8sjyPfIp8vbxefFB8SPwQ+/k7nLvFPBU8DTw/O/j7x3w2PA98VTyQPMU9MX0ZvRY9MH0C/Ww9WL22PZN98T3QvjV+Ef5Evqq+xn9Qf6x/h7/EQBTALkBFgMlA3IEoAXyBX4GBge5BxMJAAohC9gLlAxNDcsOxhC4E/8VfBaGF34Y+hhhGloaBRuhGxocpBylHCsdYRw6HCccxBy5HdEdcR3gHJschRv3G5ocWxwrHDYblBpOGZ8Y/RcNF7gWcRbEFCoT9BDhDikNfQupCQ4I4gVHAwsBWf6K/Cj7ZfoE+jj5Cfjx9tH1MvVe9Tb1efXe9PnzkfLP8B3vz+3W7OPr9+pP6bbnueVy5N3j7uNc5AzlROW95Wjml+bo5kvnIOgi6aXpr+mH6UvpiulJ6sDqiut+7HHs/+to6/Pqc+ta7PrsqO3p7eztDe4B7nHuTu+r8FLyT/Mr9Hr0c/SW9Tf3l/iK+S36dvqS+uv6WfuA+9v7Xvxz/aP9nP0B/c/8L/3F/Z7+RP+s/8j/nwArATIBgwF3AngD5wPBBH4FJgVdBDwFJQdlCacLWA3JDtEP2BAgEsUS1hMRFQ8WpxaPFhUWrRVSFqsXrRlTGxgdfx7lHoofXCDbITYjiSRHJZIlNSWEJHMk0CSnJaAmQieoJnwltiMmI/UhtyCnHzYepRxuGmwYdxZvFFgTCxOqEmwSfBGoEKoP5A5ODrEN9Ay7C2kK5QffBPMBSP8d/ZD69/cs9Zvy7u9a7Zfro+kd6EHn3OV/5DDj7uEc4argceBE4NXfod6A3Z3c4Nvn2rfa7NqQ2iDai9m12E3YnNiP2TXa1tl+2gjbwNvI3CzdNd7u34XhG+Mj5A/lZeZO53zoxuk96+Ls/O0Y7wLwj/DO8fry6vNj9ar1rPVf9lP3//ct+Wn5uvqx++P7Ef2N/Q/+vP7f/tf+af9T/9X/HADb/7sAnwA4APf/vwBiAlIDxQRZBpoHmQntCkYMnQ0fD/MPABHyESQSHBPHE3EUkRXKF8IZtRxaH3ghPiNoJJklIicdKf8qlSz1LeYugC94MOAxpjK1MzI1MDVkNS810TO4MVQv/SzqKmop1SdDJVQiRh/aG1AY1RX3FBQUkBLKEV4RsA8jEGAP4A2XC4EIdwVwAUn9i/nN9WLxGe2A6inpruam5P3hJODq3uXcmtnt1crTqdBezHnLTctZytfKx8t6zFPNIs9t0OzRaNLy0sjTPNb92FjaZdxi3cPdjd4R4APjAua756PpTuvg67frK+xR62PrbOu860Dt1uyv61rqNuht5STl8uON4ZbgfN2w2QLZA9i91iDY+9cF1u/WE9k92i7cBt4w3sPf1+Ow5ivsbvGJ9cj8KwgQFuwhnyxPNydBA0vwUnVdomXDaeBqP2lDZldgMFkyURZLhUJgPAo4eDHuKpMmOSVsJJMpSy86MwI2ijZjNSA2iDYONdIxFCuDIXoUAwnY/d7zZOuS5Njexdty2kfaId4U5MHswfaKAKsJ4Q8nFUoa0x53IS8jRSAjF+QMmgOv+M/vbukU4SDZg9HbzLHMg9AJ1tvd7+Wn7Fb0xvs1AR8FyQYyBkUGTANX/Yb1wuya5fngCt8B3XbbItrR29/gvOec8FX55wBPB8cOrhNMFXwVmRPqDyALFgVb+/bv8OPV2SnSQc5SyrjH08WexMbFbcps0C/V3trW4Prk1ueM53zmveXY4unfS90G3DvX6NLU0J7P6M5x0uDWBNsy4v/nFu3d8ZD2Kfqy/6IKrxe/JJcwyzdPPvpC5EnSUGBWMFh7VFJN2EEhN04rLCD/F7IV7hSdFCwV9BNYFJgX5CBTLCI3hz2MP2U9XTmTNeIvkCnWIcQZ+A9rBdv6EvHk6qrpFe3A9P76pP40AQcGCg4UFbIbxB0WGTUS/AiKAdT62PMV7dHlf+Jh4N/gEONu5uzsfvWJ//IHOA0ZD/wOKw6gDogN3wmhAu/3CO6P5kziIeA54GDfneCm4wjo5+6R9hz+tQPnCEgLpAu1ClAG6ADG+uT0u/Aa6y/l796H21jb8N1G5PToBO2Q7lLvR/Bi8uzzHPJJ7qfnqd8r2MLQmsoLxnjFa8fPytjN3tAA1AjYFt/Q5pDuHfLw8sPwDfGB7zXvze0n6KLlXeHC403my+rW9NMBihaJKQY5JUkgUx1beF5dZhFrxWK4Vn1GGTXFI8EW5gttByYFKAZ6CIUNixP+GOIlbzHwPe1F6EbEQzs7PDQxLMQioxmxDnEFwPsH86vvBfDB83T6UAOiCjsSeBYuGoQdAR5/G8UT3gnp/HHvKOSC2avUstHX0l7Xs9z64znrifWXAJYMKRZpGRQYsRGpCSkCgPxi9u7uZecd4CXbBtnw29/greYJ7nf2YP3IBFoIBQogDOoLjAxeCLgCofnc76rpRuVQ5Gbk4eTR5GPliuhH7gP0TfvM/goAVv2F+Yf0hu/q6mflbt7j13nTNM8/zJjMkdCA1ADaKt/h48Lmduex6mvulu+v7lHsuurJ5ZXiM+H34JDecd7Q4u7kUurU7j7yz/J+8Rn3RANuFCIn2zegRxxNIVPnWqNio2WzYD1YFki9NFAgRhHsA9T6QvqwAnQMfhLPGBgcqR8ZJq8yVjsUPxo7si2PIgkYyA49Ce4DMf+i+2D6U/vu/d8D6AlxEaoa/iEEIXkaqA+1BGP85/Tq7gjo492k1LbQSdao3iHtp/tNA/sLBBEpF1Ea+RtUGL4PVAeF+iHxI+hC49/hQuHM5iPrsvAc9pv56gABBWwK7grSBoEC0vhA9BnvFu2p6lHoIee85IToe+xq8a/1avu+AGYCyQLcAFn8Pfab8MDrHOcp4fHbR9cr1VrUX9cL3NbgzuYc7B7vCO/07XHqIOTB32/beNZY0TDPwtGT1d/Zc9946PTtp/I59l796PsA9970Qe566TzkpuXo4/jhE+PY5d70BQ8/KjREF1Q/XVJhP2Z9aFVl+mDdTRQ0kSEQFGcDxPor+nsBbA0CHR0q5C0AMZgu6jPtOYU5czQRKCoYKAl0AqYCxwAwAr8D3ga0DfcUgBsIHf8djBxUHckaEhPOBgb50Ozk5b/kLOUR5SblseK4563vKP1zB38M9g8xDI0LEAh8B1ECm/ot9TDvn+zz6/Tsk+4t8Qf4xf95BfQFFwMoABv8y/s1+jn4Z/H05kDjeeFy5H3qX/Cr9bf2ffu8/C797/xr+Yj56fYS9ZzwYuxH5pvhm+L746bmv+el5lPlSOQM5pjoYeoM6UbmAuIB3nPa+NVI0lfS/9N01RXVJNYJ2Rzd1+Jo6a3zk/U89H7vHO8w6I3jX+Lx3j3ii+Ja6Z7tjO/U8H7yFwDREqYqG0PCSB1NFVA5UF5Sz1V5WFZOmT7OL8Qj1RoFEyEP4xhHIAkpfjHtLxUqyCEgIpgj9iehKHIiChtwEfMOkRHbFWob+B3NH+8eXx2kGHIT7Q9NC0UMjgjHAuH6b/Ir7ZztKvCd9iL7jPxt+Or02fTR9Tb4xPk++875/fjQ9J3zTfLQ80n0uvRm9sv3a/kr+Lv36fo1/33/of8h+5v0z/C27x7wBfJw8SnxgPHq77TxZPN49SX45fgR+hf3MfLQ7WjpFerm7BrtSOzj6irqx+lk6rLtafAF8sDvru2r6JTjtN6i3LTdVdxS3IDaVNfs0yLRD9MP1c3YOtzj3bzfst8X5SzqzO7072Xwaexm6THklOTe5O3evuUy6fnw6vHx9lwFrxS/L9pDHU6lVS1RQU1yRco/YkLQO9sveyeeKEYkoB0vGgwkuCyOMxg8yTw/Mz0lxxxzGfsdbx8bHw8c4BVZFPUXIB34IJkksygeKbclQhsMFIQNVgXOAlYDfAh8BL/+efz8+rn6t/7lAFoDiwCz/Kb30fGP71HvBfAT7g7vm++w8ZXvrO5v8Zj1Jvg3+Tr2qPQA9Y7zkvbG9if2MfbX8ITugewx7hjzFPEz8qX0Xvfv9jL0M/Sx9cX1xPXo9J3xbO1n6TnnAufP6MHqg+wy7FvtAu2J6tHp3uhG6DjnLOYU5kbiMd+E3WLdI9yJ2QHYitjP2N/YE9m+2sXdUd6x35njG+iA6cLsgewA8ETsFekB6C7l1Ofc5pXsQvHs8pv0n/ST+OcDYxO4JWIxfzwVQrJGXkkHTMhQuU0NRrY7tTR7LGIlgyFUJr0pyjA7Omc5SDQ7LEwozyOzIY8grB6FGhAW+xOwElUUgxgHHEgf/yB2IKoctBUNELsNSQ6nDCAL4gIV/X/6R/qe/XIANwShBhsAavzf+dX3yfXs8Gvw6fBD8PPul+rp5c/o1enh7OPu5O9+8CztvOqW6yXu9vIc8oXwpvBD8HjwrvCF8Svx7/Ig9Kn1wfMy8uzvku7s74fwB/Ao7Yrp/eao5krnDOdJ6MDo+OnG6ojrx+sJ6hzp8eaQ5obka+LP3hvcQdsZ2sXaXNuT2ZnZONm7273ekeC941Tje+SB54jsjO9n7vXrle6l69rq8ett7R3vyOub8kL2CPoh/lcEOhDXGlwmRC7OLzUzlDbXOuM4oTmzPjA8OjdjN3s7Gjc6M8QydjZdOFQ7IDuvNd0wwimZKGImKCbJI14gIx6NGWkaKxo/GdYaIRoWHJQa0Ba/EOUKjgpyBx8HUgeXBdkDvwGZ/6YAZQN4BVgDqAFs/yj9sfkw93r0n/TA9fbz1fEU79nwg/Ex8YruBPDl8C/uOuyY7GPtNezd7dHt3Ouq7cXtMuvZ6S3rie657ivwsvCf7qTvfO/p7zHwoe5b8Brwtu7L6x/q9uuK61nqb+uG6vbpieic5iTl5ONF5MXhKeID4QDibeIK4oTgDd/t4T3jA+MY5rzmyuUD5/HnF+lq6oTuHO5S78Pvvu/S7gjxUfIz8Qj0Tva997v49Ptl/MT8gP2S/ycELwq9DlwW2xp0IKMlpSuCL7ow2zXWNa0z7TEjLzwsTy0RL4sybzN0N/06AzviOx46WDmJNuIyYi8bLe8q7CddJMsgMiBcIpkh9B4rGmAXfRYcE1IRKwyZCKMGtwJ/AHT9j/tU+z/48PcK+Fr40Pb+89zxufLY8sbyP/Fx76vvC+6g68Hqv+mj6evoEucU6NDlbedJ59Dnzumn6+3tdu0o63rrmOlo6ODn0+cU6XDmC+eK6JPpFuo96ifrVu727RftkOxv7SDv+O2B7U7uUe/67yHw0+4Q8ULyxvKw8eXtCO4z7r/uYO5C7t/wR/IX9Mz1t/bb9qn2Mflv/IX+Vf17/Oz8oPwt/pn/MQFEA20E1AVSB0EJsQrUCcQKCwvPCtoKRQrXC7gL3gpXCdgHrQgpCdAJ1ghmCtMLOgwoDJ0Khgy5DEcLbwutCkoJQgqNCjcMrgydDVkPaxFHEpASVROPEnkSehCJEMoQXxGwEZ8RYBH0D6gRMhEdEiQS+xCiEb0QQBA2D7sN5gzyCuoJTAiXB+UFGwVDBGQCwgFMAJoA6ADtAAP/yv75/aP9TvwV+m762flb+R35dPn++XX5KPnA+F35Ffrw+vb6bPot+b/3XPhd9+32rvV29hT4UfcA+Kb48vk8+i751vgm+IX3r/fY9n724vXX9cL2P/c597D2f/eR+Cb4oPjv96X1BPWZ9Y322Pb/9kP3Gvhk+V36Y/q/+j/7WPzq/BH9t/1R/Rj+Av3t/DL9lfxE/Uz9Lv7F/gP/5P9TAO4A/wEdAR4C8AFqAYgB1ACQAMQA8wACALkANQBYACIAqgD4ANoAwwCAACIBlQH4AScCNwL4AbIB0AD1AB4BsgB8AAQBTwHfAPIBLQMUAwkEHwStBGYFMQWoBPMD6QOvA2kDKgP1ArsDmQPhA+EDeANJBA4EqwPOAl4CygFCAhECfgEjAloBggF5AcEB8wEXAqICrgLbAjECFwLnAdMBGQH4ADUBvQBqAKkAugCFAA4BWgEQAh0ChwIyAuEBoQFkAasBhwFcAWcBkwGAARYBWwAtALUArgGuAT8CfgJAAn0BBAG/AE0AGQAJACcA/v/V/7D/qP9i/7n/pP/U/+7/zP+X/z3/IP8a/8D+3f6a/vv9Df7M/df9l/0n/RH9Nv0K/SH9Nf2O/aH9U/1z/U79Yf1v/Yr9Y/1F/S39wfxb/NP8Av1Z/Y/9af0D/hT+Lv6U/pj+j/6F/pf+n/5g/sL+h/6Z/rX+2P4B/x7/U/8r/3v/9f+S/+r/AACb/xAA/P/0/0gAPgAtAL4AywD5APUAvAA0AewAugCgADsATQCrAJEAvADVANMAQwH/AAcBHwEXAXwBqQGoAZoBUQEyAfUA8AC1AMgANAFDAa0B7QEjAjwCKwJsAmwCWgICAoQBbgFaAQgBIwFdAWEBjgFrAYsBIAInAnwCkwJwAnACBwKzAW4BCwHnACEB1gDzAA4BAQE1AV8BZwFyAWwBaQFfAfgApwCAAFcATwBAAFcAFwCm/8v/sv/c/9v/xP/K/6//sf/F/67/yf/e/7X/s/+W/13/XP9f/9z+Lv9V/7b+5v7t/vP+LP9K/1H///4i/xv/hP+0/03/Pf9c/4v/pf+S/2X/Xf+U/+r/3f85AHEAdgCLADcADADU/+j/tf/O/5z/uf/z/8f/IQDn/yQAHAD//wcACADg/9T/pP+2/6L/Uv9U/0T/A/8Q/yb//f70/tr+9v74/h//Kv9P/3H/XP9F/17/bP95/3L/X/9v/2H/Y/9N/47/wf/z/xUAEAAhABkAGwAcAA4AAgAJAAgA+//o/9H/8/8UACEAPAAyADAALQAkABsAOAAiAEgAQwA9AFUASQBeAFUATABJAFIASgBFACUAGADx/7b/of+W/6X/pv+W/4//j/+b/6T/qf/R/8z/0P/V/+7/AADX/9//ov+H/5r/Qv8z/0D/Qf9m/3j/bv+J/6f/sv/V/7f/u/+y/57/d/9c/yv/NP8s/0P/W/9u/5n/rf/Y/+n/BAD//xgAFQAJAP3/9//0/+r/BQD+/wIAHwAmAFgAawBtAIAAdQBiAFMALQAPAPb/5f/O/9r/4P/j//X//P/+/wEADQAPAAYA8v/Y/8f/sf+m/7b/tv/D/9T/5/8GAAwACwAnACwALwAwACoANQAgACAAKwAjADUAQwBMAG8AbQBqAGEAWwBQAEoAPgAnABMABQD+//X/7P/k/+X/4f/c/9z/y//T/9D/xv/A/7P/tv+s/6H/o/+i/57/k/+k/6T/q/+w/5v/lv+M/3f/ev95/2v/bf91/3j/ev+G/4b/jP+g/5n/qv+w/6n/oP+a/5T/m/+p/6z/vP/B/7//wv/I/9f/4f/U/+X/5v/W/9j/2v/k/+f/5f8AABUAEgArACUAHgAhAC4AJgAfACsAKQAmACwAJwAyADcAMAA/AD4ANQBBAD8APwBfAFcASABHAC0AOgA/ACcALAAkACAAIwALAAsACADo/+H/3v/F/77/s/+q/6n/oP+d/6f/t/++/8v/1f/i/+n/5v/n//D/6v/u//P/7P/2/wAA/v8HAB8AJwAqACwAMgAxACcAJAAqABsAEwAWABkAIQAjABsAHAAVABkAFQAEAAAA8v/s/+b/0f/U/9L/y//Y/9//4f/n/9//5f/d/9f/2v/H/7r/uP+u/6j/rv+6/8D/x//J/9X/2P/U/9n/0f/K/7v/t/+7/7b/u/+//8T/1//g/+v/9f/9/wgABwAKABAADQAPAA8ABwACAAAABgAIABMAIQAXABwAKAAxADYAQgBFAEsATQBFAEYAQwBCADoAOAAxADwAOAA2ADoAOwA+AEUAQABDAEQAOgAsACkAKAAYAA0ABwD///X/7P/v/9f/y//h/9//4P/Z/+X/6//m/+D/2f/P/8b/3P/Q/8z/4//k/+L/7//y/xEAKQAUAA8ABgAVAAcAJAAsACEAKwAaACoAKgAkABoAHAAdACEAGAAQAAoA/P/3//X/5//k/9f/0v/e/+D/6v/o/9v/3//S/9b/0P/K/9X/z//V/8T/xf/H/8X/zv/U/9j/1P/W/9L/1P/U/9X/1//Z/9j/3//i/+j/6P/e/+X/4//i/+H/5P/r/+H/6f/p//H/9//y//r/7v/8/wAACAAYABEAIwAoACgAJwAtACcAJgAwAC4ANwA5AEQAUwBMAFEAWgBgAGIAXgBdAF8AWgBXAEwASwBKAEYAQQBEAD8ANwAzAB8AGQAXAAoABQD+//n/7v/s/+v/4//n/+P/5f/k/9r/1f/Q/8n/xv/I/8r/yP/K/87/0P/Y/9b/2P/j/97/4P/l/9//4f/k/+X/6v/t//L/+f8AAPz//f////3/AAAHAAAABQAHAAsABwAGAAwADwAMAAIAAQD+//n/9v/1//D/7f/k/+D/2f/b/9j/1//Y/9j/3//W/9j/2f/W/9z/0v/X/9v/0f/R/9X/1v/X/9H/z//M/9D/y//P/9P/2P/W/9v/4//q/+v/9/8AAAAACgANABYAGQAiACAAIgAgACQAJAAjACkALAAwACcAKgApAC4ANgA1AC8ANQA0ADoANwA0ADMAOgA4ADYAMwAwAC0ALAAuACoAJgAdABsAEwARAA0ABgAFAP3/9//0//L/7P/r/+r/6P/g/9//2//c/9//2v/a/9b/0v/W/9D/1P/V/9T/1v/X/9n/2//e/+f/6v/m/+T/7v/1//X/+/8AAAEABQAIAA0ADQAPABEAEwAXABMAFwAcABYAFwASABUAEwAVAB8AFwAZAA4ADQALAAMABQACAAYA+//4//n/9v/3//j/+f/2//T/9//u//T/8v/y//H/6P/s/+3/7f/t/+3/5//p/+//9P/r/+//7//y//T/7v/0//f/8P/4//f//v/8/wAAAAD//wYAAgAGAAcABwAKAAkADAAKABEAFQAPABQAFQATABsAFwAgAB4AIAAcABEAGgAPABIAEQAOABMAGAASABAADwARABEAFQATAA8ADgAKAA4ACwABAP7/BgAJAAUA//8CAPv/AAD7//v//v8AAAkA9v/0/+T/8f/6//3/BQD8/wEA+//7////CwAEABkAFwAHABMA/P8UAAoADQAVAAUAHwAFAA4AAAAAAAgABQANAAAA/P/7/wQA9v8HAAEACAAQAAUA6v8AANr/9//n/+b/BQABAAsACAAdABMAJgAbABYAFgADAAUA7v/r/+D/4f/0/+//9/8KAAQAHQAoADAAMwBAAB8AHQAXAOv/1P/w/9f/+f/i/+//AwDT/wcA4P/B/9H/qP92//L/qv/q/18AjAC/AC0BxwBfAGr/6f09/eD7DfuC+2X9hf5rAfUBSAPZAxwDMALrAIb/2vyd/KL8pvye/rP/4QDpAhADjAQIBPsDVwPhAq0BdwCXAHD/pwAt/3//GP96/Qb/uPt5/Hv5ZfZu+TL82QCIAo4DIwQ1AvYBEv1X+er3AvYb9tH1J/sf/KcAjwfnBlwJaQlMBZ4FdgFdAOT9uvwhANb/oASQCMQNihE1FA8UmxfNET4PKAIp/Jbzd+3m7X/otO5w9S33OQLCCX0MbxaGDQ0PoAZv/xj3r+vJ6bfk7ev96v3yk/2JABkMtg5wD8MOUwZP/5T2UPNe8oP4Vvq+BR0HZwjHBqkCOgFA/7n7h/ic+Sr7Lft5/qT7CAR2/JMMsP1DBBIFCgBQCUX51wUVBAYLyRTpHucwfCqIHBoJlur367XbItN7z7XYLfL0BSsZsiIvMpcfSCWzBPXn/NMWxs7GKsxZ4xnvYhFnK3AhgyzgFfsDq/3u4z/WL9qI3tftqv89Ec0U9CgbJgcX2Qef977fAN7t4GDcAfL2BgAbiiyeLtI26CfbHQoHE+MG447TkNGY3F7hqOu1/xYKYQkuEAEDDAer9LXxUu5v5B72t/w2/9YUpw3QEKIOPg6xADvyi/Db3zb0qPns/8kMiRngIWgjlhnRFfQMDRGiCrcOMhYFDBwXJwaVBb36FfEM7TvqNep+80X+Ff63Ba8IrgqG/FL2jOmd5fHpmN5C6DLu3veOA28EAwaoApwL0Qn0CTMMrwNQEt8QNROaBgf3oPD37kr3L/15DjgR9RniI6cqhy1AIyca0Q0DCuz+TPrc64/ccO5G9HYALAj5BNgOKRfcGg4K4vuO7CDeuN4R1arVreWw7j33V/+QA/v+IvmJ8JDqNu3F7yrx1POE+qgHxhAFGD8cAhP6CUUK0gB4Ay8HzQUWBqMH9gh6A0YCifk/+YUCwQEk/oj9J/Z28pb4Gvg79j4AAf7O/k3/0/sb+3H5UfTS86fycfA47l3uFPVH8YPvfek08RD4cv1gCngRvxVqH9chTxuxDTEE4ACR+aD2MPPM+zz/7gQsAMz9jwE5AysG0wCw967vLu8B+1AFuws7FoAbvyD+GBgVPg0g/Z/1S+rw5lzsveit8uL4TPhz/m78rARi/kL7Rver677vtOf/4eHqEepk8f/2+wExBE7/MwohBwQJmgbkBOEAC/7C+FHy1Pbq9s/8ngobEz8VGBljGk4XfhDAB9P/uvpH9sn0Y/Tr9pj4W/1RAj8FaAnQBJcE4wEM/Jb8kvuz+gb3kvU298P7zAYTCkoUVBzYIM8qsi2iK8wkcxsEFAgPZAvdCZsLexVsG80ibSKhGhoYrBLhDc8JIAR3/dP9wvr7+Ev6sfoe+ywB9wAsA2sCHPyV+rzzsO3p4yPit+Vo5WvtVPHe87z8R/6tACX+sPXV9DLykPQc8WjywPbR9CP4z/VK+HP5B/nu+9r2EvJ953Pga+Af3LzdJNvO26jbEdbk0RTVdNWF3DPcNtwT4Encrd9m2xbe0NrI1x/Zp9l32+XhPOe779rxnvYp9aP21vJ97m/ttO9l8Vb1+QG8AuIInQ4gE2cUDRryJ1VA1VjKYederl7pSJY54i9YLL036kTuWMBmlW6DZYJd6UybPcIxci5qK3wiyhumEVUSYhCnEmwbDR5XHq0agwvt/CfumuIs4aHkK+wJ+Bj/fwEx/pb8hPt4+2z9d/0r/tD5bPNO7mLxhvmyAgIJ0g+qEXMOZAYY/q71X/T19Yn5Qf4D/Rr/4Pxq+IXw++/y8QTvS/AE6kbnqeTq4VznbOs98qf1M/ni95/yv+3c5Azi7N8Z6CXugPbc+pD6h/s/9G7w5uqg5/Dnh+YI5bHhjd9M4iDl2OUA6zzr0OMl3GTR7MuYx77I4M6W1PTZ79nh13LSEc/UzYHQFNQ014rc2eB837Pe8t1v5Bfpy/Ax+CL7D/ji87TshOyb7g3wc/w+/rAN9RF/HhQjHC9kUAJpgnz/fwdyoWQNQSIl1B9cJ/g3zkKlWV1vEXG2WxBJiDB3HesMpQikDKQH7v+c/GIKABGrGWshvyjoJ/4eQxfLCDv3EOcK5G7vwP5qEp8fTiesJbIddBlfE1wSrA+hDR8KjAL9+y32x/Ec9xb7CAebD50L/ANM9KXp0+Mx5PrmFe348jP31vd3+T72/O8Q6tjqAPHT84j2zvDO7rHufu829GL1xfpY+lX4nPgP9e/y7u7D7Yzzi/Q1+aT6qPcs9FzqlOYV5IvnM+tB75LxrvEA8DTviO3S6m/pquoJ6bnjTeCx3qLfzOCU5LfokOnz6NTn7eTC493fweAX4LrhVuIz45rqsuwn7YHr6+UW4HvYJ9SI1h/YZuHo6zDyKPEu8AvoX+cK4OrgTehJ5jDxNPGE+tH9Kvnj9hDwcPPeCKAtfFhfbzZ+x3ePXY1B6yiYKQYp4DCmQz9RblR+SUg3WjOqKH8niS51Jkga4QcE+zPw6+oG71wDUxPoJRAxqyljH3kIWfmw9HHxrfs2BtUPXRdGGpcgQh6dGkEVfBNIEOoMswkuAR/88fhi9Q/5jfvSAJgDdP1j/Yr3T/Or8VTuqe6X8BrwLPL88OfvvvGN9Vz4pvo4/Eb+6PyQ9Fr0OvU/9lP7UP7EAX0Ak/tH+YDziPBd85T1P/us+275gvdf8f3txOp16ibsc+5P7hLvi+zR6jPsMeyN7H7rAuwC8PftsOpp6O/mhOha68HuO/HS7xLuCu1w6gPqIOmr6cTqE+vh60nrxud64wbgk94E4ObjIOje7a7v6u9+7t7o5+b04gbjF+bC6MXrxe3D6ATqhOiF7EX1afSp/tj59Ply9Rz0tggbJtVSc3LmeW92FV0bQ9AmaRRlFi0bVC2rQT5SHFajTOU8BzSrKL4l5CEoEzsEM+/w6qvrvfZ0BukXPSfxLdQv6CSQEwH8He3Z6H7ru/ZYAkoOlBfPGlQfHSDrIbMhOhw2EzUG4/jY7pXqr+8b+t4EXwwXDvkJMwFG+VPxnehF5T3lQ+nU72/yk/ae9sv1LvcG9nH2UvhG9/33ZPiw9i32JvQQ9RH6MQAQBsAGUwJW/sH8l/nX+bT3v/Xx9qj4Afy4+yv7RfiZ9iD1J/bI9e/y0fCZ7FTpKunm6tjtmO8173bumOzq67Hrpeqg6Tvpa+h56SLrnOyC7hTvSO/k7NDr7utr65vsF+3g7rjuw+5b8GfvLu7O7Nfpcema59rmO+Zk487jVuPF5WPo7urD7Sbvwu4t7kHqG+uK6MPpcO0z7sX1OvNa9ZL0v/Q1BGwavTt4WLxkoGcGVw5CYyuXGAYVzhnPKeg6IkcjSmNG/z0yOy44ITnYOMMuQCHwDI/+jPRw9aD/kQ90HlQnuypZI30Yjwrf/9H55PWE9WP11/Wm9+36TQGaCSET2BgrGs4VDQwOAkH3ovBU7g/vyfE69Lj4lfweAXkD0QU0BSkBC/1t9iXwruna5MLjROW46I3s0PBs9Z/5ffxw+yD4fPH26wjp1eaM5jTq0e4n9Ej38/hP+wT8nv7uAHkBVv8t++z1U/FC79zw//QY+if92/7W/YD6xvfi83zxnvAg8NvwxPHL8f/xO/Hw8HPw2+5x7Zfs9uuf7Vzy8/bI++v8WPtc9+fyj/Bs8OLyufZO+1/+2f8XAF/+rfw/+836w/tR/fj/CQNfBHoDIQFw/df66flU+jr8x/7RAbADrwWeBfIFRQU5AucAqPwY+b72+PYb/dIDXQpeEaMTdhXLE+wQlgxnCGYGPAZ7CM8KwA5xEHcSIBOiFIwW/xlLHfEeSx+wHK8bTRmxF3AXtBbDF7EYhRmPGpMbdhxCHJwbYxpfGGoWdxM0EawOEQ0LDbAMNQziCucI2wY6BUUETgROBAwD7gEK/zX8NfqC+GX3evcb9731nfN18DHvxe3i7Ozt++588JLxy/Dh71ztO+wP7LPt5e+u8SDzS/Nt8+by9fKE8qPzJ/Xs9e33Bfk++T/40PY/9hf1C/Tl8xH0DvQc9VT25vfi+H758/kF+S74x/YN9V7zzfH48Azx2PEt9Bn3sflt/M38rfue+e330fYT9jn2o/bX9uD2/vf++FX7bP35/kL/uv2J/Hz6/fiZ+H/4jflu+7z9Z/9L/779OfxX+7j6tfsW/Ob7nfu8+mP5G/ib9jD2zfbG95v6BPw0/Vn9Bv42ACkB3QEYAm8CqwOjAmYCdgJzA04FRgg+DPUOJhGDEsUUJBZnGAIaWRvqG+EbWh3GHuEguSEKInciciMEJgsoLSlmKWQoUSfQJXQj9CEwIF0fCB+bHlMeHx0gG60Y1hYjFdsTFhLID1QNTgqAB7oECwKv/4X9v/tC+vv43ff19Qn0LvJK8Ozuvu1B7Jzq9+ls6TXou+cG5+LmruZK5qLmTudl5+TnUejH6Erpi+kT6nbqJesj6//rPOxF7S/uju4d8DPxHvL+8nTzDPTt8x30f/R39Bj1EfVm9fL1gfY997n3BvjE+IT5qvlQ+XP45/e+9w/47/iP+Rj6ZPoS+rn5kvko+Wb5nvku+eX4OPi4+HX5Mvro+qH7x/vg+577ZPo4+j/6ovoa+7L78/u1+0P8Kf0F/nv+/v15/aL8Dvy0+777xPvI+9n7Tvtq+4T6e/k/+DT3A/jg+M35b/qy+lz86PxR/mf/PQA/AY8BaALxApcDPwSBBmEJJwyyDqcRFRQmFoMYpRkNG7QbaRyyHXAecR+xIHUiTiTGJVgnOChmKJooMygRKD4naibOJcQkniOJItghcCAzH/kd7hx0GyUZyRYMFG8Row7PC6sJlQdnBbgDmAG8/yX+Efz8+Qv4JPZf9C/yg/Co7jntAeyZ6vfpiek26QzpkOhT6MHnXucL58HmvuZf5pvm0+Ye50jn9efv6Njpjuog68DrEex67HHs9+yX7SvuEe/D79zwg/Eg8uTyxPPK9BP1bfW79bb1lPV19df18fVg9mD2y/Zv96z3zveP9533oPe794D3bvdS94n3kPft93j4WvjA+Iv44vhx+Zz51PmC+bz5vvnW+Rb6Qvqy+jT7BfzC/N38e/zf+6z7mftn+2f7+Poa+xL7sfpW+637Dfxk/PP7Z/w0/FD87/y1/oMB5AL+Ay0FjQVuB3kHwwjHCt0MUQ/kED8TTBQdFvIXrxphHScgXiKBI9okyCSeJaAmUyiSKW8qLSsQK2QrxypgKtQp4ymXKbMoByfVJNoi0CCBHs8cahuTGZAX+xT8EjUQWg2QCo4IlgbYAxEBu/1I+y34FfZo9CzzHfIH8M7uBO1Y6+npOeiN58LmleVK5DXjzOKD4o/iYuMb5DHl1eUR5l7moeZn5tbm9+eR6J7o3+hC6VDqWevg6zbtt+79727whvAG8WHxFfKH8gLzqfOG8/XzHPRt9CL1VvUy9jX3hPdZ99b2HPcJ97z3N/jJ9xz4UfhM+B/4C/j59zX4jPil+Lz4pvhL+Lv3NPjW+PP48/ju+Db5GPm4+Dv4ePjW+MD4+/gA+RX5CvnX+B/59vha+Qj6XfoA+836TPrr+uH7ifzx/C39qv60/woBKgMjBv0IhgrhC9sNtg6OEMEQiBJhFe4XpBrQHAUgWSHlI0smPiltKzYtrC7ELpEv3y4+L/0vDzElMioyhTK4Mcgwxy+2LtUtOyxJKj0o8yTkId0ePByOGS4XUhXWEpoQuQ3tCoAHsATSAan+EPyT+Gr1zfE07xLtK+vG6ZnoZOcT5rXkpOKC4Svg9t5m3sTdbN2W3CHcDdzK3NXdrt4f4MfhouJg49/jjeQ55SvmKedO6IXps+k76svqauwX7pLvX/FK8kTz5/NX9Bv1gfW19U725vYs9x/3NfcE+NX4n/l9+rP6E/ua+2v7jPvT+hT6ffkN+Sf5DvkU+ar4Cfh49/L2ifaQ9iX3lveg96f2sPUC9VL06fNt9FH1HfbG9bv0/fQX9UH1oPWN9mX3U/f/9qb2gvZ39m321vaT9wL4p/e39hT36/Y59v/17/YP+ZH61vtZ/dX+/QAsARkDTgXjBtcICArzC8gNIhAtEvUVthl4HWkgWCIxJe4lwCcqKdcqnSzCLV4vDDATMXsxPjI1M2Q0JTWTNPYyGzGwLycuLyzIKjEpVie9JSAj9CB1HpAbuBm/F14V+RG0Dd4J0wZzA28BgP+n/SP8K/k396j0OPLQ8PbuM+6g7NTq2ugD5zzmV+ZS5mjmIOdl57zna+dd55XnJ+iA6VDqKut362zrkOuu7OrtAO8z8FfxUPJm8vnxUfLK8l/zqvME9Ij06fPs8rfyQvOz8xv0X/S+9BP0YPIx8THxqPGB8UvxqPGc8dLw+O/l74XwUPG18dTx5vEk8bLwmPB18djyjPNl9BT1OvWg9V/1UPXO9VT2JfdW9173Zvf59jf3c/d09wT4Efcl9m/0+vJK8vjyP/WB9Wz1MfaJ9Xz1kvNg84DzYfQp9Z30UfX59Mb13vZ/+fz7Xv4xAOQAjwJOAn0C+gOeBpwJ2wp7DO8Nnw9WEgkUqBbqGZEcoR5CH4UfRCBfIBYiLSSrJjMooSgzKt8qRCy6LSsuji7HLn0ujS15K1kqlCnUKccpjijHJ+QlhiQVIgIgIh4SHOsZ4havFLcRlw4LDCQKrQgKB2IEYwJeAGL+0/v9+Fv33vUz9EvyGPBL74vtcuzz6yfrD+t86RbpV+iT51jmkeSm5EPkHuSx46Djb+TJ5A7lHeWQ5UHmPubc5mHnruev5+HnT+g+6evpyOql67jslu3x7YzuXu+j8GfxifGv8bPx6PFJ8tXyJPQd9bf1u/VC9hj2E/YF9mP2rPZc9333HPeF92X3gPdU94r3uvce+Cr4FPhM+Dn4ofic+Ob4Pfnu+Xb6x/qF+4f7s/vR+x/8P/32/aT95/3O/lv/lP8S/wf/8v/YANYAqwB1Ac4BRwJ4Ap8CvgKAAggDfAMJBCUE6AOSBL4ExwRdBMwDmQRuBbAFlgX9BHoFxAXOBU0GmwUJBq0FmwZ4CM8KxQ0QD8MPoBGFEVgSqhGlE9AVYRdTGhgbUx3IHa8fzCElJYMn7yhpKpEpNCknJ0UnOyhZKcUqkSrrKj0pPyhZJyQmuCXOJQ8lYCIcH44bYhiyFg4VyBO4EmwR4w9lDMsJcAZGAzcBS/93/dr56/Xf8cvv6e2/7RTt/OtJ69Lod+ce5DHi2+Bs3yHgAN/Z3Rjdb9y13LHd5t4v4IjhYeI74uLhneHN4aTikOT/5fzmQOgo6MXo5+mT6rHs3+7S73vwD/BF8PDwNvGY8vvz5fUf97X2b/aw9Xj15vYl+Af5gfkq+R/5B/nw+In5IPo9+wb8v/td+2r54ffE9673mveA9zP3xPay9sD2/PbD9jX2Z/ZW9uL1fPRY8+vyrvLs8gXzmvJP8xn0LPNt8zHzm/Lw8ibzpvOh8xHzMPNa89/zuPQt9Az1/PTn9MH2+fhv/Fj/NgEMBEAFmwbbBqQIkQtADiURixKVFPEVnhlLHeUh9iblKroumzDOMagxfzIkNGI2YjgrOa05rTk2OtY6fjvCPLI9Cz62PBs5uDXxMQEvlixxKkIo1CQzIdodSxsZGMAV2xOKEbwO3gn4A5/92Pih9a/zcPJr8NrtRutq6PLlmuRR47niwuLy4f/f/dyN2mfZidm62mrbTNuM27DbuNws3qPfDeKP5FTmK+c+5njkeONH41DldOes6Cjqw+rO64bsFO0f747wkfKq8/nyK/JU8Jbv3/CB8jL0XPWx9cX1o/XW9X72r/bs9hj3H/YI9dHyUvFS8Vnx6fKQ9ND12faP9kn1jPR68+XyDPNg81f0F/VA9DbzJPJn8tz0ava/9xH3mfY39hz1X/VG9l/2iveY+FD5evo/+S/5Gvi798j5Nfwu/4gAaAF2BIQFqgfhCNwKjw3eD60SIRRSFKITgxa5GgIgriMCKM4rcC3OL6MwoDJ2MxA1WjbyNfU07zNANWA3ODmCO2U8EDsuOZs2dTOrLuMqWCdrJA8iZx5YHAIa5heYF1IXXBbIE7UOaAmzA1X8jfcJ84Dwpe0R7IHrEOpe6TDpfumT6eToauZ34jnfb9xo27vaqtrb2sXZHtpJ227dAuCL4pzkbeZx52bnyeWi45Xhet+33ibfFeLc5dnode0w8qr1wPgn+Kz2P/Nk7jLukO8C7yXs9edi48ni1OiK8hv5+fur+vH4U/Yx8R7tZujX5SnnL+cp547nNema7PvvAPKY8YrwdO1N62jny+Nf5OLlUej66srrTuvH6Innhufh5rrpVuwJ7crt3+zz7hDuuOyf7gPu4vE/97oCWhAWIN0wBThcOQU2ijFqMQkrwypOKl8nvSuXMj0/GE0nWTdh7miJZHJc91G9Qd80/SoxKkgrFDA+MhA0pjYEOPU9akHHPUA1OynRGAIJFvxJ9DTyWfZv/RYEOQhVCf8LCQzaC4EHV/xm7Qjd/tBIydXJm9B63D7ogPL+97X3P/RK7x7skudD4LTZLNNW0GDTDdyJ5yrz4/sQ/w3/qvrp9U30Z/Gj8JLuFuwM6+3qd+/t9ogBxQhQDpgMDAbh/tX4GfcF9jb2f/VO9Kz0S/da/OMCBwhtCl0HSgBj+M/vZOnk5fnjeuJc4qTisuUB6ArqBOwT697pE+e84mbeBduN2oraCdzf3bTg4OIQ563pm+p36krpI+kG6ibqQ+jm5cfhXOH34cjkvedi64juOfHJ8fXyofAc8tXxpvDZ84Pw6vTp9Xb1YPyEAscSmSyIQG5RB1RuUClHUD31NoozzDPMMuA23zrqPjVHtlSpX/VoYmaTWUFF6SpTHFMSfhOSGHkgHCliK+cw2DOuNLU16S8GJL4Te/4x8F/prOsZ+K8EEw4TEzsRxQyWBuT+9fbf7srlcNzO08DO3M752MHm0/dMAm8DSP6b8bHnEN4m20DZy9c+2z7cC+NJ6x/0lf4xAvsDAP/79cHtEuVr4kvjNuhk7dDyQPcX/TQDIgkMDnAMlwis/5f36+8w7KTrQO5485T4uf50/qIAwv7D+qX3ae+D5+7eiNhn1tLXbNqk4Ejljeiw6ynqdehq5dTjkeJQ4bjhauGW4/TjVObb5/vpnur16fvoZOY15nLlHOb76YDsLe/J8WbwG/DI69TogOaU5MjjUuNr4X3hnODa4h7hTuEw4InaON853LXi0Orr9XEUKi8NRgZUFU/fSkM9ozL2KYsjrSQnKKw1f0ZyVoNgLma4YRBgvVXbQ2A0ax1oEoQOKBezHz8uJjmBO8VCdz1PPC401CeAHfUPawM0/Q37W/8SC5cUHx6jI8wgrhsqE3MI1P6S8mPmZN1a1v7X+t8J7J76tQFxBr4BiPsO97/wZe4t64vp1uqt6t7tvPDu80P6Tv26/6n75vSh8MnsI+t06znpe+vZ7lXy8fjA/n4CDAMcAvj9TfxV96P20fc398b4WPj19/r2tvhf+JT6vvjB9UTy3Opn5XPgdt+L3/vjrOZE6LTpdueu5gXoA+f05q7lseR55gHmyef/6FXo6eip6qvr2esq7ADs1O0b7efsluyw65bruer86PjoOuZd5Rzm1eTo6Mzo6evH63jrlete7Snrt+w66KvosegO57vyefMUA5MLfg+JFG0TbCQSPu1UkW3GbihqdlbsO8wwcSc7KIgqxi8zO4hDPj+wQN87TTffND8syyINFjAKtwD5CHkOcBqJJyYt3TYrNDgvNCdwHNMQLQZ7/vf28/PZ9qz+Aw0pFqwWMhJ2BFn7C/LM6F/lINv00yrOa83T19DjuvI7/KH9yvxK9MvruOeC5BzpneyD7jXvXvBU9Jv3vP3zAukE3AJH/k/1Y/C765TrLu508VD29fmg/Vv92/9w/aX/M/7F/OL8u/Ym9DfyCvMO9w76Qv10/t/9Y/1M+jj2o/JD7w7tietN6ajozemw6pHq/euW6hzoBudY5DTkP+Hn4MriQOXu5wTolOqZ6gLp5+hz5yfpcugj6ePrVOz77AjunO3s7PXsHusj7AjqHOdZ5HznBOhj6NnrB/Gy7zX0TfFD8pPvKOj57CXsJvli/+0LFBQ7EnMYeR/1NpRP4Vn0a01kvVPZRSoy9y1vKl0pKTIZQLtB6kNVQHA6nzaCMRIuGiZwG00MMwgxCT0R6hqsJtovODNGNSkwRSpQHO4Pewc9/5v6R/cv+RAAygaWDBkOnAv5A2j5uvLu7Uzqy+Yh4GHbhtjZ3T7lFe+8+CT+3QGB/eP3vfCQ7vTrCOwi7T7wDPN59IH3bPcp+rX4MPpK91j0lfFd7sbtQ+2q8kX28/vT/G39G/5B/L78Wf1Y/bT9S/36+qz4JPcL9GX1FPVM9W35MvhL9sDxYPLK8PDtq+qm5DLi6t2r3qbh0OXZ5/fo9+nu50rn3OQY5BXlW+Ty5fbmH+ba5jbp8uig6cnpl+qi6rvo3uh+5kfm7eQL50jqa+v86s7sMex78OzyavSg8KHt5OcR6LXl3+UG6T7j4uvu6rz4AgLlBEcWOSrKQh5P0k7qT/498i8DJ9EhGypaLcQtOji5RLVFXkxDSexL6UQKOAcwqB8IF08O0hKJHv4tnTg6P4xExDxCOT4wtSQEHeoQxAqbA/L+0PuV/5cHCQ3cFqIaghWkDlADXvm370Ln+uIO4VDjhOCW50XvVPhzAQMCXwLK+aDv1eX74X7jqelP7v/yHPiF+FP7bf0l+5n38fc/9MHyB+9U7W7vVvOp9+77PgQJApn6sflv9cr0z/WI9I/1e/IV86PxTPXu9EryHPWU9Bb1z/A87a3opeR+5Cznx+SY5/foVOe453bjy+RW4lrfCNuZ2i/cfNrQ3A7g6uAI4mbkguWC5XHim9ym4JjeUuBx5NTo8etP63rwFfFh9VHx3e+h7DPp0OcE6g/s8+xd6s3wJfUlAEoA9gKoBrn45PwF9gb2C/Zi9oT9BgGICBkUZSM3O09C6FBhVjlOOEn4PXE66TLRLBUpOSxiNCI8wEXEVdhTMk3RROE4OirUGDwYuBCdDe0UeBmmKfo1mjjUPd038TF4JXkXHgzN/Fj62PgF+OIAiAWbDIUOCgy1D24JtQJf93btfuWO3jveQOCF5ezsZvad+v76ufq3+tL0be9U6WzlfOH120XckN/U5z3sKvKB9Zr2fvfR9mD3lvZm9OTymvAg7+ztPO9a8Evynvc7+D78BPqj9ijz4Ot2673nUuvl6SnqruyV6n/tAeyo7Wvtv+rI6R3lIt/P3D7ZFttO3QXgy+Fv307fXtsH3Evd8Nsw4PffrOFX4RnjHOSz5XTnVuh960Dssu2S6tjoI+gW6VbqY++I9Br4MvgN9xT5aP/1/4X9TvkV+Q/z+fPi9dj6ewMaAq8KkQvUDucOWQ9vG+wlvzFXNTkxGjYeNU44qTZJPKRETT0ZPJI9tz6aPW090jtiQYJBlT5iNEwtVylbJBEqFCj5KzMtuilVLMco6ivrK9wkHiRNGmEXNA8OBu4EqgA1CHAMBgv+C6EHhwRlAwz98vwB+4/2bPFq6RjqC+4870H2P/bS9tX5IvIe8J7r5+uD653lEeTf4S3lV+hD54PtN/Qd85H2fvYP84bysO9J7W7tOOyr7m3xY/Rj9bL0EvgC9Czx6u4l64Tqeeer5oflcugX6+3tc+7Q7kfxnO+C7gvrcOU+5QTkON/O4dfgu+Ea42bigeQO5D3oqOhB5BfioeCc3qXeJOCb4q3pvez58JLw+vDv8uLv4e+g8TPwLfCO7+brVu9Q8bn0B/mk+AP8u/oS+J35/fci/rT+yAD1/k0AvP6j//cDxgWbC/8JgwyUCTAFIQUTB4YS4hvIHi0o4icrKQApmSszMKAy0DTGNS43WDIBMrIxwzjwPexCvEP0OpIzZyrYIy8jsyYrKdEnmSj6JwcmliU4J+wqGChoJ9ciIBgBEr8OdxFHFYAYvBvDF+kS7Q5hB4IE3QJ8/0D9WvjR8o3ydO668bH3WvtN/yP7s/XV8ZbrIut16izpzumU5Djl+ucC6xPuC/MS9RXw8u1G6hHmIOMb4jjjo+Gc51fp/evR7wTypvNf8ufy/++w667n1+VN4UfjiuWt6BXt+euH6lzulewY69voYeQ05/jiQ+S74dPaidvP4P/mxuuk67XsKe2Z7Cvroenz6DXhLeWa5KTkTuNv4MPpIu3z9Kj31vbc+d726fjt+1P7rfXr9DL0r/QP+678DQD8/38D3QWcBnADlPpu+FT53/sZ/jwAj/4MABsC8AYVDpYM0Q6TEXAPLxEMDy4OHxDSEH0YMBhYGpIZ5BovILQi4ydSKYUrHSoDKiYlCiYoI4Yi9SdXK3MqLitUL+suzzCPM88tYSySJbIjfyfBHyUdURmlGjAdBxpaGMcVYhRaFGoUxRWNDygKHQS1AdgCOwUoBpEEkQZyBpkHBgPdBcICVALuAF77ZfpQ9TL3O/0G/Dz82gAp+4b66vX58ybzCfJf8e/vXe3b5fzkjOZW6mjqQOuI6N3qtuec4kvkA+Lp4jLf6OF85k/hONvg5B/hueCK6F3ejeAe3d7X69wb1z3Zg9123CDl7eZa5yno9um165/rv+/q5Xznn+VV6+XzwOsG8Cv6SvoT8ij3ifBb8t73xPeW/IH29vX1AMP9KQTpA3UE1ghbBUkJEw1XB1MDowWEBtcJbgcdCSwOcAopByAO0QWMEUkMvAkUDt8KUhLUDxYTBhCJDZMX3BjnGuscPRFSErUQSxIoGCcVZxOTFgwbpBwpHVYbuxRNF3cZSxj4EWINpgdZBWMRVBCwExcOqRRzFC8XXBCjD/gG3f0ICfUBIwLqBV0AfAFgBSUMOAgdA3wD8AAZA838Nwbd/yIE9ApFAUsB//80BiYCzAQuCl78SwXFBj0ANAEuAasD8v/yAQABmQTZ/9cA+wEG+On/gwBg/kn2/P0PAkr7ngV9/274bvbr9hvzAfsw95L3CfPZ9un47fN+9Xb5y/MZ84jz8Pjm7AP0q/mN78f1Evo+9pr3wfYv9ETz/+tF9P7wxfej8QH7I/qE8Xb9kfb79BfyfgHr8ED1iABK7hn7QP8k/nz9Iv1B+tz6qvlF+BX+2fn49Rv2nABc+Mv2AAOO/jABGv/YBMj4H/8dBXv8fQfI/G78NwJf+VD+sQw2AA0AbwVz+PsKOQKyAHsAcAfbA8X+1gZE/SgAl/k4AJUSWgVo/94ORwE4/ogC5gNuAFb+L/58BBkGr/6FCYYDeQn4BgEIkQc4/XoChfxSAswH2vjY/hQHXwBiA539JwQ5Af4JowHJ+t8Il/pSAEMGPPuyAWD94f4yABAFs/2o/VD/ggTUBGn/m/j1AQ336fX4An3+BvelAVn5Swed+5j8awdh+bL6egE6/lH+8fWP/Wb/7wCO+T0Iaf9g+mUEUf5AAYf7iQFm/1/9cgCl/Fr+/wCIBHD+UP2tAZ0BZf3YAAP8ngPO/Ef6JwQr/0D95gEp/WD+i/wG+tz7+P7uBS8ADPygCVT5RgS4CCD0ogasAmX6ywQP+l8Adv3AAb8FNv4xC2n/UwSj/v8Jtfiu+0EHTep9AZ8EIvZFB/UEzPmODd8BSf1PBY79kPktCTz3vv3dAxX3xwVv9sIJ2/y/+WUIngJXAUIBRACwAff9QvZ8/qQHpfYuAjgBnvP5A4QG9v2aBCkBoQKUAHP8ygGs/wEE1fBuB18E3fNoCNL+bPn4ASL5MgJZAM72+gdF+h/8QRAI+mEJ2A1L95cJEQI39gkL7P+3/VsIpfzbAUj+/f4bBvAB+QLPBST/Jf68CdzwUgf+Bo7sKBmm7goEAwfjAsT6qgTk+1T7QAw56/z6xgUI8qYLvgMO+bD+TgIkBG75xgdmBCnxsP9P+Q38eQNC/jz7XQP3B0DtjRPd8vv2Sgyg7DMDQ/ggDsjxTPopAnH5DQbw98cAmwWZ9OwBb/6nANz/gPtb/eYBnvKDCUEEnPYw+6QEcveB/OcDPQSiAhnzJwW8+ikAGf6Y/+cGLgKs+tUGfAUv9+kCxAZo/L37zf9mA+j85v6fCKn1ewMyAI37UwMYBhX3AAWn+hT38QuFAHD2HAdz/9nyVhSo8pL5wxA097MFOQQM7MMHZ/hfAJH7YApu+vn2cAmG+QMJNQAb/xkHZgF1Bqb3vP0zCEEHzPNkE80AIP0iFt7x6QnrBAX4FghCDLrvWQP+BQf4xQPX/xQIMQPTBpH7Jg0z/v/2JAyi9TkEfP3R+Yn90who+t4F/ARa9akH/fp0Cqb1hgKeCKH11A3Q/Bv6Cggj/C32IwuDAnfuxw2mA8QDDwYEALQDwPzhCUn35gSo/l35MAqWAToFwwan9VYIofu6/MkMS/zHA/IDZvq+AlAA8f4Y/AX/wAZ5AKX6AQg2/Jn4yxCI97IJSvnnAPD1/QJGCYzrrBLL+l7z6gL/A6713gbdAvr5dgo69qQCov7UBf3yAQSu/7r5ZwA2ACMJsPh8B8oCp/rw/zsGW/TWBcUF0+7vDQ3+dfvJCSjxngksAH0BVfxyBf/8zvzXA4j99v8gASwBjPqT/KkGWf8lAdAB//11//n9QQMG9oUMEPlx/xQHrv/5+78MevsD/+wL0PP9AlkG//j3/yEDcPiiB2L1UQYPBHT3Zw0p+wcBiBIn83D+sg3w81QE9QL2/kQBnvp0AV8ACv3lANz7TwM5BGL3jQGABan+cPpPBHz32v4YAvz9gvl2CQ8IsfS3ApYCyffcAaQEUfhX+8wLWfRmBr38M/XIB1L/YQTiAJgABv6fAor6tgct8QIQc/IhBCwEzPj/CLHxagD1Ah/7bvwNBvv8ePp6Ar3/pfz7A0X6BP/a/Uz9DAZaBD/9YgrY+1UA8gBo98kGlvzbAl39vQEn+78FWwHK/YwCOfhnAvT6/gBz+2YHRfgJ/oP/EwLm+jwEbQLw9igKqvt0/kkC8QDr9c0DrAOU9/4MEvu+/zQD+gJH//P8WAe0+Sv5sQdH+6n+mgTN+8v9VQOcAT4A1v4oBhUA/QLuANn8QQPx9VkFRPZFCrf4VALfCQbzlAn9+j8DDQDNAX0Acfc1Cd/1bwHZB//2IwCxDbb38wdv/rH/bgFAANb/DfyjBt36gwKZ/cgF4vZ8AxL/S/vCB0H8/P3BAxv+cP4sAtkA0/w//nEDmfI6BrABgvd9Cdr0pv2CBT/7vP4gB1YAOvy5AfH/6PaSBO/95gOzAJL8twELA4z6PQTeAmEBi/m2/zQAdwFW/Q4HUwMg93AMAPtLCAT5RARb/8IAWvR3ChcAEPNKEUL2uPrdB5P+KfnAB3T+KP5uCV72jQSW/AIAWPiXBbL5+wFw/TEArQMP+9wGxPvYBGD9oQXu+sICbQNV/Qr+kQd58mMLwAIa9jgG3gXT9OgPFfz19swP6fWrAOQDffcCALIIYvz6BzYC1/2r/ScAd/j8C2vzcQjuAiP4twGKBU31fguQ+9wBQgFV9UAJAv/e++IGJwFK+dEJuADs84INFOy0EKD5rf4BBVD7VQij9SkNwfnwAIAGgvKTBrsFLfXOCc8DHfLOC4/3PALkBGT/tfdeCCz72frFCir0Cgqg+8r/UgG+/CsCmPtqAacIpfW3CY/4yQAs/4b8MANN+G8LKvd5BjkCKP9JA7b5KwkE/AcCXQGh+WMHC/7x98gLQ/pZBaL/pfsHBNT4gwDfBRz31wqn9qT/lQay79wS4fZ+AnYDvvMBAvIGqPT5BxYC7fiJBCb9o/+9Asr42/8WBK369wHC+KYDTf68A9P9fQEZ/bz6NQ199b4GAQBF+64KnfNRA9L/TADiAm38WwfYBHntsgxX9xECzAKU+O4Iy/7o+OEDxPnaBOj/eP4SAUD9RP6a/X8CKwCP/Hv37Qql9bAF6v4K/9P/+/4m/xwCUAKX9nkF9AEL9D0Pg/WLAigAZvuN/d8D4vwEA8EDfft4Biv6ZQJU/8z+Bv6L/r4Euff+ADwDkvshC9n2QwQ3/igAFwKU+hYE9APW/Yv+LwpP9DgKKQIS9mMOsfMyAhX/0gBV/hX/egFA+nQKzvhgB+j+OQLX/hH/JP8W/Yr/1PvaA2P+FgLwADT5xQcW+xIDggX1+OkGDfh5/FYC+P29BMn7Gwcx/G/6hwoB97ABiAle9bQFOgQi8YgTQPFC/HUQ7uxiD5j3mQEtBuf3TQjIAS78DgI3+lQEdAII/FQApgFH/QICcgHs+qMI+/WVBXL/CANGAYz/WQFY+WsEXvfiDNQBQvThC/zzowfC/GcAbQit8/cKZ/8f+LQKsfP9DHn4lAFfBIX4dggc9OoQZPr4900P8vTHBosCpfZdA6r+Fv2VApsEVvnpC8D40QLE/I//LQrj9dsGRQH0/xb8jgT7+dMH+f5y/YIHuPpL/Sf8cAGCBdT7rgl7/EP/V/4V+oEMDfX5/zMBLP1hAZ4BDQIFBdr6dgI8/KD6HQlX9GMKnvrKAOcC2ABZ+BgCewJd+7oIAfXYA7UH8+8+CtD7h/1rB5/2Fgep/EIBpP00/+4I8fegB8L5OwU+AUfp3hEd9gUGufOnB6wCfvR4C4f6oARJ+GT+jgtV92oGy/s8A9L8uPzUBWr44f9VBbH3EwVQAaz+SP/8/CH/bwPxAVf7rAki+WL+YAWQ/6L/2vzvBTT2f/5qAVP/YQI6ANv9MwTa/YcBRP35Bgv8c/7GC6/y3ggJAUT4fwfr/cP9TAeI+wb/pf7hAnH7DQO0/3T/BQQX/rsAYfz8BfH5SwRt/3j8QASJ/NkDe/oXBwX6pAQFAsX9gfsGAfwEw//Y/Yf+TvxeBKP+Kgf++wD2twq3+34EhvzLBmf8cQHfAz/8JgRnAXz1DQ2Q9TgKYvvw+sIMIfD+CY781PsbCi381APmAcb+ePmbA3AFvvpbAh4L5/EvDHT3GQpR/Tj7qQXK/tT/JwNu/GEC3/4FCGP4qAPd/GEEBPnPBGcEePikArsE/fxa+o4B1wRk+hwDAQJ4AeL9Nv7797YFS/bMDNf29AcjANr8lQin9R8Htfpq+VsCZPoKAgX88AmCA9H1fQci+ZkJ1/XN/6MIy/fCAi//GPTkCWP2CAhN/ywAIgGq8YQTre+eCkkG4vbmCPrz9wvW95/+kwpC/XEKFf0MAzv8s/yEBKj03gNs/iT7IwbX9hoElQFk+ygBGfvB/mkBDfefBg8Cwv1CAF0AcgCH+gIBZP61/WcA+/X1AbADtQAY/w8G8/6V/KoMkPSKCeD40/tMCR/zbgnJBR3/i/vNA0P5zAA6+wYCiwNB/Dr/NwB1AeUDYP+i/qsJffqQ+EsHQ/YYAMz92gVV+I0GjvzIBm74BAQo/4T9kf3aAlAFHP1vA6wAp/pyAw4EwvJ3BFr///zgB/z/tAOc+hcHffXWB9f3RwPA/w/6awmp/MH9XgOK+rr9EQnJ9SAMrPnxAhD57AgN/FYBQwsW8s4C1AQB/McC3wHa+y4IufhECMb+0PIFArQH1fcXC9QF0/wO/qMA0PtMBW33mAq2+pT/4gPjAUn6jQYv/8P+3gMY9qsKWPnw/d8GqPrmBGIGrv68/pgCgfGTEbX50/yhB+/9RQPn9AwP//UMA4YDH/SbBor7FwHD/+wLt/HDA/IFAfdy/9ED5fy//6H9yP9kA9/y7g3O9tACP/3S/07+Sf1WAIcH1PnCCNT4XwCcB0fu3AoV/jL+DQF4+UcJ5fqi/5UErf8gAAgAzv6E/rYG4vmj/zEK9f9p+FEGl/f4/v0AoAG4AZL7kgN599MJM/6w9ggPjfMLB9f9p/rHA+L/O/oO/joKCfYF/o7/oAKxAdv+//t/BfL5nPx9AZ8FsQM/AzD2nv7T9uEDZwKWCFb+JgFLAWv4kgE89NgNtPz9AVcIPfZjA+7zjAFEB4UFcv5a//cFsvMYAWsFjPi5DRwBov25/PwCBvnSCVIAN/vgAV/5Jwe176ALQP7yAcD8mgM7+UwEa//f8dgSyv01+a4JAfqe92v/p/k0AUkMLfrpA34BWPo9A+j7lANO+okCwQiFAUUBM/+m92MDTAzK99MGBgQO8kcF6voN95EIUP/j/zMEGgU09GUL+wFE+IUPy/hDChYHg/2W/DH6g/ZyAesShPwxCv/9Nfdy+lz4egSyAKb/v/0x++wAdfov9nMJ/f3t/K0J5QKm+wgA4vtN/5cGLggmCUMA3v3K8RUBVRHL9RIGzAzl+HcLCRCg+NwGvPKL+dcVGfpt/zMCeP1y+Rj/9gPzB1f/tPOvAW37gALz/CEAvf8l/LsE2f5P8Q3zZPcp/kkA8QJSBzr7gfdE6wsCBASu+M0Imf96CX78RPer+z0HSfppAoYJav4F+Q7+0gQxC2n6xARwADD+Z/z19IMVL/33+ScULQQgA1v8pPQf+lj/FASlDkQITfvmAs7/2fAhACkGEAGo+xz9eg/O+dP6XQbEAk0FafM3ANgBIPjH9IMEbAdwAfYGTQaD8NX23f4P+9X71Pc7Bx8JLAEg9mv8KAZE9en4VQpo+C4ArgPs/kYMSAOb+Rb6oQev9iEB5wE/98IE4QEVCOcGIwHk/tXxSPjgAbL+gwokBMX4dQp+/gf7QgIMAZj6MP11AzP22QPNAwL9qAbZ/Q35Fgl0/RzzMgHl/GoEhgkTA6YBtARl89f0PAMs/5oIH/+E/xwIwf5K92H8jv+k/bYCoP+q+9YGdQJW/2sFSfyOB+n6RPga92z9AQ9DBKwEowmS/vz41PqU+Gv9Kg0qBcIGlw6a/jnzmvlG/rwBng6uAPj92gq/+pf+Hv6f/xQGngq6/T/9mQI6+xD7PgR0DF0HVPsu7+z66gGhBXYKBgfoAoL6hwLK+gX6JP3J85QBNQqYDJIFCPZf7mf7VALC+3r/vASH/ScAzQRsA3z5K/nP9kD4awcrAE79WwQf/X0EHwXgACT0svTt+Pf/ew5PAsX9OgPw+Lr7EgUCCFT8vfrV92YGpAj0+RcIk/+h9az/0QVUAUQDXAFU/zwC4v4x/DYHQPqL+PoFswmSBmcBHQHt/r0AVQGgANf/+f89/asA4Ac+/4YAogI0+3X+fAITAs/+yP+bBEIFdf91+PT3yQTIAE0CIw/yA/74+PR2+UD+7wagCDoD9wKv+VD6jvk1+GsBlQ4uBKv5uvVH88j1mgPOEKYPdATt7ULnB/Ee95AFmAreB48A/Php8xDzxPRu+iwIUAcwAZf1wfG09tcCWge9DwMJ0/Fd71L3MQNGDZASUBCHBsj6OvkeAcAHmQiLESQXnRIqCesE/ACwBbMMZBRbFtsM3QuVCGEJ/g4VFLoSxgvuA+MBCgmpDGwRdxB+EBgAlgGr/mD+Qf/rAqf/gvtg/077nvo49NTuuvCH8CPrWvA+80zpjucb5NLlv9/I3kPgut9p3zDf59962YLVGtcD3V3YWtdf2ULTZdOs2NHdPeBe3/vaF+Lj51foJvBh6tLqs++19+77DP7dBVACXAS+DowUzxTUEJgW3xxPIRIkIyvPK+colSxrNHE4DjNbMQg4gjfEPB1DdENPOuE2NTcpNu457zqmOO42UTDvM2oyMii7JPEkciC9H50eyRlnGbsKVQ54Ec4IMgOM+7H1Z/dI+1X3/vbu8AXqJ+Va4ezhkOOG6APeldzk3czbHNvs1R/V1NK61s/VQ9aa1RbUCNGR0A7RlMmTzhDQMcyqz3LPqdBv0K/Ir8pbzh/I3cobzODSFtcx0kbSI9Mj12nd4Ohm8474tvj26dvjn+2o9PD/+QmRE4YYuw0TCbcRwhjGFrQgZSTDKHYoOSsmM9U06jPuNX455DQ6MXI1QzKiO3hBCkkPQzg2ZzFUJ+Mn3SvFM8E5OzOQLi8nyhq3Fp0Y0Rp1Ht8aThRADqMGTQZNCfIJhweOASv6jfJR9EP5Dvys+/P52vSj7Ofo8+WX67/yD/Z59OzubemK5TbmP+3q8a7vsuze5T7oG+jM623vh+8e6lziwOJT4QPjJ+eY6YTmUeDX2iDaZNsR3XjcQNrz1+nTr9U419XZb9/03FzbUNqA2KHcyOng9YD0Z+9T53DiEOeS7Gn92wxmCQcG9gPrAekAsQmtEVkb3R2xHWAdVh6UIugmjCz+KSMtyS9eJVYq9TDzOwk8BTaXMkAsICWqJZ8tUjO3NLIwkClaIfAa9Bj8HXYeSxy1HLoUYg3IC+kJhwj3CsAJ/AGO+374r/fz/AP+8/z9+xr0TO1F6O7pCu4c9Fz2JfQP7w/ol+X75DXq2O+h7m/ts+xb6mnoFunz60nq4efr6AXnYegS6UrqR+qk5yDl3eGR4ePhTeBh3rHhOuA04Ung89313kjhcd8t2tjd5dvG2fXfE+wp+ij6jPK35AHdFuZv6gL2fgqgD4AIvwCl/1gAegCXBmIUZBy1HYYZLR0EJQ8g8h+fKfMnjSDdIT0sZDOlPFw9ojbcJ0sg2yMkJ0Q0xDsyOU4ziid2Ht4eRh0IHbYkdicFH6EXkxbfEZMPCw/YC0oH1QLg/zgC/gSoBtAEDvzO8Ijq4+oM8F746Pl++EPyrOki5F3jKeQQ56Duw/G07u/p/uQY5BPlPuU16GTpD+dK5LbnG+0576LqZOLz3zncod8C6GXtN+105BTe9t173cDckOAl5GrkEOEk3fDZTdsU3g7gGejx6JHnRuxH9O72EeyN5U3moO119ssAnxF+EOr/FPaR+5wETgvTFW0cxR6YFmsUmBvWHzMjryPQJWEpTCmxKOkoITB+NIw4Ii88KKIoGSUrKxA2+DiVM18sFiKiIQIgGCA/JlEoKCLDGl0bPxiGEDAO7g7DDT8MmQo3BmwClgVaAv7+e/o89dLy0/Kr86Dw2Pfj9T/smug05mXkb+VL6YXr0uvm6lDm2uHi4NbgQ+Os6anpoufY5T/naugP4VTllOjy5sHnk+XK5VTnn+ZF5mzosuhF40XhDeZt6PbjQeLa4x7iQeBs4ErgjeEJ5BLhs+BB4hniveeh+K7+b/EX5+bja+aK7Or5Rg2NErkGQPk7+3ACOgRBDX0YSB5AG14XnxrPISskxyFcI8MmKit7LB8shjQmOXk2fS58LL8say1rMu03gzwXNrstAyrTKcwmgyZ9K/Ys+CW+H4EhwR82GM0TlRFuEBsQpg1PDasMSgkHAjP7Q/lb+BL6wPm69TD1V/N/7zjoROWD6lnoruWP5Y/nsebB5tjicd7H4MzdLN5K4ybmeuUN5OjkRuJC4A3fxODC5Fnkz+fY5+Lma+e64yvli+aG5Y3mU+m/6XDnIuu76EznHOfw4tjjlOmd6rPoB+uo62/rIef249zfSuOG8Uj6Jvx4+pj0qesu627xKfhwCWwO1gEBBHILUwTKA4APUBSqFMUXjxtnHTMhZiCUH6cl6SbaIjYiMipdMvMypjfQMCAl8yc3KWcrXjaPOhYvZSrdK4oovCXcJoMmaScjJWcfVx+wHS0ZQBI8Ee4U4xHlDXILqAbXA5UETQJD/Kr6hfvQ9crzh/Pl8A7wcOuf6NLouecd51nkKebQ5C3ij+Be4EThD9+T4pziQuGk4Nje3uA34pHj4+OI5J3j8N9q4urkDuhB6SXpjui15iflFuZN6ezqyumH6uzr2u547RboOuh16XPqD+wZ7RTvIPA67pLuT+1z6zrrufa3A6oBA/qG8x/yg/M59zQDrg+qD/MErQPVB/gFzwmqDngW6hzaFwgV1BuZHYobzhtnHTImqCbeIWMlxigXLJ4pvya1Jdgl1ybtKLctaC5wKmslqCIkIQUhCyaWJ20kUCCjHMgZmxU4FjsWIxQ6FgUTUgz/CTgFLQYAB40DAgOt/5b9SvhE9G/2Pvew9EzwcO/n62fo1enh6bjpmul45YPiR+L24cTgs+L25Mrk9+JA4Wzh5d+n4ALjsOOZ5oLmGOXs5Lvk3OW85hXqAusA6+brF+ws6onsFvCb78LvIvC/7j3vGPH289n2kfaQ8jfxMvNl8/j1gvdl+K330vVi9WT1gvXk+cX/2QH7AAz9cvuk/RH+qf9WBmsKUge2Bu8I2wlcCvQKaw5SEe0Q7xDvExoYcBc5Fw8YMhlnGGYY3RuKHfUfySGRIMYb5xtmHIwcmR5ZIYMicR9dG00aDxr9GO8YMRqnG0QZERbLE/0S3hDVDfcOhw82DlsNzApzB6UF/wRuA58EiwSDA5AAffy4+uX5QfrF+ab5Mfhc9jD0IPL+8UPy0/G48HPw+u7w7VXtqeuE7DDtl+w87G3rt+uL6unq8Otq64HrEOsJ7H7s1uy762vrxuvR6z/upu/t71nuaO0Y7THtve+W8fLyM/L68NXwFfE28tHyHPT69Bn19fUa9nv2Lfe190j4Xvmt+QL6yPpW+1H8W/3a/UD9W/1//Z79agC7AgMDZAMAA2ECtQJVBJsFOwc8Cf0JzAm8Cc4JsgoEDE4NVQ8lEI8QzhD9EG0RBRJNEoES8xNiFOgU9RV2FfoUURVMFUsUVhWGFb0UVRQaFcIV7hShFDwTiRL2EdIQaxFKEukRlRBTDwwOpQw3DBQMnQsTDGALfQm1B50GfAXeBAwFXgRzBBUDiAH4/x/+HP0Z/N777ft5+y761fhV92b1e/TB817zXPMY8ybykvDI71fuUu0V7TvtXe3k7LTs9OvF6s/peOn56XPqKesy66rqvOrb6QXqTevu60LsW+xL7Ajsu+zo7ajut+8I8DXwk/CB8M3x0fI+81H0UvWe9U329vZQ98H3TPhb+bX6APx//Jj8xPwn/W39W/6A/87/lwC5AbACzQPwA/QDcwRcBTkHUQjiCCcKoAp8CuYKeQyGDYEOag8mEAURDhF1EYESSBO6E2sU5RQfFUYVIRWoFTMWVRaHFoMWBRZ8FXYVeBVmFV8VlRW7FP0TlBNFE8kSnBIyEngRuBDPDxIPWg7ODeEMZQyJC6gK8Qn5CFYIggeBBlwFswTvAyoDZQJiAXkAuP/d/u79MP1m/DT7PPqb+TD5fviC99P2qPWy9E/0l/P28ufyCvJW8cbwR/C47wHvjO5J7iru8O2q7X/tPO2d7FDsEewq7IDsluyE7IDsZ+yA7HvsgOzk7GTt4O0S7qbu6e4Q70/vte9i8Afxd/Es8r3yKPOv8zT0sPR49TL2zPa992H4Dfmg+Sn6r/pZ+xr8qfxL/eD9Nv6t/mT/DgCYAOUAdQHSARkCmAIlA3kDzgN1BAoFdQXzBVgG+AbyB9AIfwn7CY8KEAtvCy0MwwzlDewOUQ/PD1sQ1BAVEZwRVRIAE10ToRPME9ITzhPKEw4UVBRrFFQUIBTUE3ETGBPJEqgSfhIgEqIRIhF9EO0PKw+UDhUOjA0mDWwM2Qs0CxIK/AhMCM4HbAcGB1kGdwV8BHMDjAL0AXUB2AA/AJD/v/79/Rf9YfzK+xL7dPr2+WX53vhD+IH3wfYO9pX1L/XS9Hr0HvTE8z7zs/Jo8gPyrvGB8VrxJfHs8L/wk/B38HzwafBi8DLwCfAH8P/vLPBi8KDw0fDi8BTxH/EZ8TLxhPHM8R/ylfLw8kfzifO48/zzP/St9DD1ovUl9o/25PYt94D32/db+Nz4Zvn9+VX6vfoG+2D73PtJ/ND8Zf3N/SL+h/7R/iz/if/m/zoAlgDwAEsBoQHlATwCiQLCAhcDcAO1A/8DKwRsBJUEtwQeBasFIAavBj4HpAcECFkItghACd4JhgoeC5sLCgxZDL0MNQ2gDRYOmg73DjsPcA+SD7YPxw/xDxwQJxA8EDoQGxAHEOkPqg9+D3MPXQ81D/0OrQ4+DtgNaw3zDKkMQwzQC2wL7ApjCtoJQgmjCA4IjQfjBksGrwX/BFkEoQMOA2YCrQEJAWsA1P8l/2D+tv0A/TD8tfsh+5b6EPqA+fX4Ufik9w33jvYb9sj1evUn9az0PfTE82XzEvPR8p/ye/I98g/y0/Gb8WLxQvE48SrxSPFg8VjxOfEv8TTxQPFq8cjxFvJC8mnyi/K78uXyMPOd8wn0ePTg9C71gvXO9QX2aPbw9mP3/Pd7+Lr4G/le+aj5Ffp2+uv6ZPvb+0L8zPwp/Vf9lv3f/Tv+q/4h/4X/z/8HAFEAiQDRABIBTAGiAfQBOQJsAqsC0gISA1gDlQPeAw8EVwSfBPIEUQWaBSIGwAZwBwwIagjeCGcJ4glzCvoKnwszDLIMLw2zDUUOrQ4TD3QPvg/0D0cQiBCjEK4QphCiEKUQsBCrEK4QihBOECYQ6Q+fD2APHw+6DnAOEA6xDUYNuww6DKgLHQucCh4KkAnpCDAIZgesBvEFPQWCBN4DIwNQApEBtgDa/xr/af67/Rj9cPyu+/n6SfqY+fr4cfjl93f3Efen9kH2w/VN9fT0o/R19EL0AfTd853zYPNM8y3zDvMQ8/7yAvP08gnz9vLw8grzDfMk8z/zX/OO86XzuvPj8/7zKPRb9Jn0wfTu9DX1dPWu9ef1HvZY9pD2zvYj92X3uvf+9z34h/jP+Bf5Wfmp+QT6RfqL+t/6Mft1+7L7/PtJ/Jn88vxG/ZP94f0l/mX+rv7n/iz/ef+7/wcAPABnAJkA2AAaAVABkAG/Ae4BJAJkApoCxQL4AiYDYAOpA/cDTgSlBDUF1gVMBqwGHgehBxUIgQgHCYMJ/Ql1CvIKbQvfC0wMpgz9DEINhA3ODQsOMQ5ADkgOWA5jDmcOcg5uDk4OLQ4QDtsNqQ17DUMNEA2+DHEMLQzQC3ELDAuiCi0KxwlhCe0IdwjwB1YHwgY5Bq4FJQWiBBgEfgPmAjkCiwHeAE4A1f89/6L+FP6D/eX8WPzU+1z76/p8+hj6qPlC+dP4f/gm+Of3wPeH9033Fffo9q/2fvZj9kT2MPYk9gf2A/bq9er12PXG9cP1svW/9b/1yPXg9d314PXj9fL1+fX89Rn2LfZH9ln2cPab9rv25vYQ9zP3WPeD97X37PcW+Dv4bPid+Nr4FflH+YT5svnl+R76TvqF+sr6BPs4+3j7tPvw+zH8a/yu/Pj8Of19/cL9Af5K/or+x/4L/1b/mP/O//v/KwBZAIMAuwAAAS4BXAGSAcEB9AEeAkUCegKuAusCJQNYA5ID0QMeBHsE3ARABaAFAwZwBtMGOwevBw0IcAjaCDcJmQnyCUYKnQrlCiILYwuhC9UL+wsbDDcMNww3DEIMPAwxDB0MCQztC8ILpguFC2ILMgv6CrwKbwodCsoJbAkKCawIUAjmB3cHCgedBiYGowUcBaAEKASYAxgDjQLxAV8B0ABMANP/VP/L/kL+w/09/bb8PvzC+1r78/qU+jf62fl8+Sv53fiY+GH4Lvj99873ovd491b3Lvca9xb3D/cL9wP38vYA9wn3Gfct90z3avd595b3uffT9/X3I/hC+Gb4lPi++Ov4IPk++X35r/nL+QX6KPpU+nv6o/rJ+ur6IftF+377qPvI+9b77fsP/Df8aPyd/ML84/wI/Sv9Qv1S/WH9hv2v/dL9AP4q/kD+Uv5m/ob+o/7C/u3+Cv8p/0f/W/94/5r/vf/n/wwAKQBNAGMAfgCcALMA0QDvAAUBHQE5AVMBagGHAaUBwQHaAekB/wEWAiQCQgJoApECvQLmAgcDJwNZA40DwQMABDQEaASgBNIECgU9BWcFowXhBR4GZwanBuwGVAezB/gHLQhjCKMI1ggLCUcJcQmgCbwJ0QnxCQIKCAoRChAK9wncCc4JtAmMCVQJFAnNCHwIMAjvB5kHMAfQBmcG/gWNBQ8FmwQoBKoDOgPKAkwCzgFRAdcAXgDn/23/9/6H/hf+p/0z/cP8Wvzt+4/7NPvP+nr6K/rW+Xn5L/ny+K74dPhF+BD42/ex94/3ePdm90/3VvdS90v3Uvdl93L3g/eg97z34fcJ+Db4aPiY+MH4+fgq+Wb5s/nq+S36c/qr+vD6L/t3+7379fs0/HX8r/zp/CH9Wv2N/bn96f0a/jz+aP6K/qr+yf7h/vr+E/8k/zD/Sf9d/2T/bP9+/4n/jP+T/5n/pv+r/6z/s/+0/63/sf+3/7j/wP++/8L/yf/G/8//zf/J/83/1v/X/+H/5f/r/+//8v/7//n/AAAHABMAHAAmADUAPgBGAEwAUgBdAG8AggCVAKIArwC4AMcA2QDqAP8AFAEsATsBWAFyAYwBrAHHAeYBBAIqAlICgQKvAtsCDwM9A3IDtQP1AzgEhATJBAwFTAWSBdUFGQZWBo4G0QYDBzEHYweDB6kH0QflB/0HCwgZCB0IEggPCPUH3gfDB50HdQdJBxgH3gapBmUGKAbnBaMFUQUCBaUETATwA5cDRQPfAokCIgLJAW0BDQG7AFkA+/+m/03/9f6W/kn+7v2f/VP9//y//HH8Kfzm+6v7cvs2+wb7z/qh+nP6UPom+gz66PnP+a/5kPmB+Wv5ZflV+VD5TvlH+VX5Ufld+Wb5dPl/+Yz5r/m6+c357fkC+iX6Pvpl+pD6sfrh+v/6KPtJ+3D7k/uy++H7D/wz/GT8jPyy/OX8Df0v/VX9kv22/fP9Ef48/l7+dP6d/r/+7v4c/0D/Vf9y/57/pf/O/+r/9v8XACcAPgA4AFcAUwBxAIUAkQCsALcAxADBANMA1gAAAfwA8gALAfoA6QDzANAA2wDDAMYA7wDYAAUB8AASAQcBLwEkATYBYgFFAWgBZwF4AW8BrwGwAdkB8gEDAi0CWAJ6AqgCzQJIA2sDmwPMA+MD7gPeAxUENwRcBIkE0QQnBWkFdQUwBiAGrQbZBhUH5QdcBwUIDQhfCGQIuAjuCOkIugi2CI8IdQgkCO4HtAcSB9oGOAYABREFhwRTA2ADpgKgAWMBiQDO//n/+/64/gf/qf22/VD91Pxv/IL7bvvj+l36o/pn+e35KvpC+3D87vzj/dr+9v5//zT/YP5F/SP9bPtT+n/6y/hX+SX5p/kp+vn5VvvG+3n7mPwl+/X5oPuA+Cb5rvgx+N355PnY+jj7Mv1K/E383fuY+u77L/vv/Sv8pf6SAJ3/rAAs/r7/0f8FAG39Rv7g+s77sPsq9Jb5hfAR9vnvV/Ga8jPy5vUS9XX6A/eNAdMCqgh8FpEVdBrlF6cFRBLFAID4SvVT7SPo6eqX6sfvOvwt9/oNXwscEMkW+BLeDh8QBwQ+/YsFuvGs8jn7oeAU9T/zK+fY/2H39v1FCvEIdw7DDMgHLwpGBUEGWfof/C75eu/BAqDvLPvyAPP3hAzjCFsF5hefC0AWKhmkDb0UqhF/BnkS0P5QAAYGJvj9CK8BCQVfChkT0A60GHQYqhGaHWwKRhPfDEkEfATj/zr4sP5w+xD7PQkZAC0IVwmfCJIRmAcDCzYISf8cAav6lPZH8kDzfe7C81bwsPmU+UP73v9S+MAAzPoLAmr49fg/9M/xKvXp99vqRexN9obx9QCG+Of3zAPZ+QsGff3g+r0CvPlr+pz6f/Wt7HH5FPVM/Zr8i/4bAcwKFw9vBRoWowhVE2QRpwJY/7jzD+vz7pXo5uIu9vf1hgGtAlwIShCID8kWjQuLCgYEIwFsBGruF//58KHwowfs74kHowSLC5UR+wvdCT4J1P3+9P/5gO8q5xbrKOqc70z9JfjuAIoFYAWZEWMGk/42CSXy/PHk7MjgLOZg6Mzl2+Yu/I/y6f4YBFoEohcgC2MKXA6k+BL/Z/Ij8hLiien62uTYauNa2ALjntrl6IDeZeT5623pFQUjGKIitiqKJGY5eS3wKuQgfxXIDHP/kv687oP3mPTv+5YLwxhDHTE9ODi9SBBMaj0DUMk5GTkDNY8dlxDkDqkF0f/JAeH7J/5CCLMKJBASFnoNWBkrFc0bShmaCk8J9QmtAIUD4feq8bTvtOOM6vjlR+WU5QnkbeSY+d39MQG4AzIFUAeNAl4I1gD0+0D1lOdB5y3fHt0B2lfTWtyJ1+jkzeTS8F3yIvw6Bj0JKA9XBUcRGATgBrn6YfLp6GHf1uCS2rzY5d4Z313k9/GS9SAHSg7rFzQe4CTXIKocwxtGEXAEZvpR7/TjGdyg1QfP3M9n1fPQKOQN7/z8A/4CEEAP0wGkEqIArAAX+h/rf+cT1zfXHc0KxLzH1NE21lnawPZJ75r78ghWBakLKQhDCo8AhPzk8mvsaOQT2Wzk5tv05NztM+0C+L0BvgUcCEwQgA46CeUKDQeYB/QO0wg3EYkPGRnKImkqBy6iLoE4iTXCO909fDcmMLQyOjAqLcQ2DzhDN/JENklnTb9T71RaUUJMZE7QSYBEFj4ZM/UtVySBJcIctROeEY4Q/w1aEN4UTBF9D1QLKgp9C+IDcfvI8TznlOEx2y3Rc8nPxOjE3cTlyZ7LMs9m1g3XQ95D5D/ga+R/4fDcwd9V3xXZuNlm1uHQEtia3hTj0+ao7NjuWPM6AGAC4gVyBBsB4wmRAZQBeABo+/f2uPH288bzePvL+OD6WwCi/aIDCQVd/477rPhw8/Dxre9k5pveC+HU1yXaCNti2uTX9deX3BXXvNfs0o7QKdEj0ATSnNFzz/fJgsnqy2rNQtQ91qXWstr93uneS+Qs5ZLhAd/N5jfjStwJ40rlndyP4Zbtf+vH8R//CgMVBUsKjQUtDa8ZdRsUIHErVCpnMIkxKjSWNg43ND6WQepJvE0mT4pRVlVOTd9RtFs0XB5jP2esZyxjCmPDXTtU2VXaVAxRbk8STW9EOTr8Mj0vBCwYKgQkbSDwGVgTSQyqBE8AHPcE823vhu5C7Fnga9z41T3VMM8Rz7vQd84TzqbPB9NK0WzUcdUC19fdLN++5Vzn4OZf6Cblhumi7VTzN/Nm+ecCRQDEAmMJJA26DUMSSxW0FpQbEBxxHPkZYxd5FFMSUhOBEyEO8Qm1Bu8BFfzk+Pr2xvSz8f3u8uwx6TznEeLh2p3ZOdxf1RzUXtLSygPHj8Gew1/EtMKyxBfFxsOkw1XFUMXex5/M/s6i0TLZLNm01ODR7s+5zW/PO9OY02vVYdSs1C7WRdYO3FncUdvW4xHkd+Ru6sHvPPFc/4ARyRUHG4glACp/LwYwBjozPlFBhUWVQixJjUnkRStFXU6PSD1PxFzMXs5kjGOgZGxkIGOsYG5iF2CLVxNRrEVePKkx3SRDHN0WLA9LCqwHJQUpAAv6tfSN8rH0TfE28Ejvm+ga4NvYDNab0I7M0sr+zb7O59GC1CTVjdtu3ALjhu20+bz+WgJVCmAK8wmZDXYQRhH4EuUTIhXDGGwaehU3FI8YWhvnHFMhbibmIuof9CBtHp4ZzxY8E5wRPgxnBjP+CPaU8GXnCeKW39vg6dvN2JrXeNM51JPUFdbJ2OXas9gK15bXi9ZF0QbRNdF7znTNnM+G0PHNrc3qz/7VtNau20zix+Ph5Rvn8egV6avo++ep45jlZuER2snX9NYC0YTP59N1053UEdmE3GzX49rz4H7hh+3xAVEHhw0SGMUe/R87KBE0UDjIOU08vz5CP5dDz0BAPtY/ckP6RItQ4Vs/Wrlbo1l/WlRXZlnAW2lVUVBoSsw9ri48JaQXgQsCAnf9DvqM8p3sE+aO4Pzc8txS4Wnn1ej25MPlD+JX3ujdNd3k287attsh3Wjf7uDq4MLjlOkL8ib+xwjfFvwZVB0MJL4mgC47MHsz0jPRL5kpOSf0IzIcXxeNElgQOA7ODTcKQwf0A2YAm/tl/pX+qPle9dzvC+mW3k/bsNXJ0NnLEcmDxlPE4MRXwxDESskjzbrPD9ii3sbfPuFY5mTp3eqH7C7vp+/465rpuuYD5yvokeXa6Pfu4e9C7M7t4PBc6R3pCe0y7e7m3+S74wbdm9c/1/HVis8Vzr3LSs4z0YTVLtrW5+H14v4dDRcYkhsXJfwtLjS5ODxEykWkPKJAq0UCQvU64EUsRwhC70djU9hW9VOTWNtY9VSZVPVXcVGeS/dGtDZ3Kq0gRhEZBnT7CfEO6VjlWuKZ2qvXjNWv0hHVw9zz53bmZedW537e2d7B4mrmYuYp6cTnauZo617t9O+R9JD/SQhYExojdCxSK54teTIRNLE6wkCgPuM7kTHbJqIdFxc+FccKPgadBKMAzvhE9RXzf+zM6Snq2u3c7Rnq9+MO3FjVPtFIzFnNEM33x6/EEMRixHPDJcdtzI3UENqM4Kfn4eqR7XDuXPFA+E389vr8+036rPOM7aPvBfKs7+fuGvK87i/qrOzi63fozOfL6i3jg+FX4eXaXNLt0anQRc7Ez+nPcdF5ztrLwcmM1driGe6w/m8RehIBFpklCy+dOAlHqU+XTLpOelGNTbhKfU75R71CWEcyT9JOflA/UdZG1EgoRQZMxU4MSrhENDMvLG0hHRLUBIz6yu7W3/fcvtjK0DjINMDovy7F1MuY1+7c1N/Y4djeceTP6zDy1vHS9GL2Cfjj+Nb6Iv+k/NEAggoNGO8k0S0wMNwxzzHbN0A8EUT7SOY/PTO8KtshexeqDn0GbQAB9W/tXevx5drfZNmm1JfW8dlb3eHdDt141+zQH85m0F/Tv9FL0GnNsMuqyzPMKNAP1pvcjOHH6HHyDPeN+Rb9IAPyCdoLjA7UCy4H5P9o+Un4+vUq9VPw7+oh6MLhz9172rzckNuq1lPXHNal1EvTXdH7zrLKFcqYyvDHb9G101XSu90k8P4A8gpVFR8mQCvNL+I+T1GLVFFUV1pNVy5WIVL2VQ9Rskf2S2hPuUllTIxQb0JaQrQ/z0MCQTg7zzwoLLwamROnCIj4tO845c7ZUdFIyU/IhcFlvCO/F8DTyOjU29p144nllObQ64jujPf7/YAC7wPOBDkFxwjQCPsL1xaTGxUjCCpUM/M14zmyOIg/5kE1P4pB4je7MNwj4hRiDPYAOvj88b3li93/2CfRM84szb7OVdCW0U7UYde91oLV39U71KnV3dMJ1cXWR9YC1kPY19h83NXi6enY8e359QH9BTcKCg0RE2AThxX+FbcRyAxZBZ7/gfqk9LfxL+0k5xjhqt653BTWONo92Q/V/c/50IPPl8kWypvMA8liyNTPdM0M0FLRd8+30yfhlfT4CLUVzCTjJ2sy9kGzSj9cYGkfZqhcJ2T9XLZR+E01TOVD0zqbPZVASzgKNT82YCYYK+Eujiu9KRAlyxiUCT/8jfP+5S/bn9TkyGvBDMCFuom1rLpmvOjDitIp3lvrnvMi+rD+mgEXDcwSHBdxHTEgRhnOGHYbnhmSHqwjai2lMTo2PTiHOA02zTagNUYz5TOAKGEdYRPaAjn0gOjq4AvbdtNe0MXMtsV9w57EhsYZyrXQCdbs2fXZQtnu2vjZD93d4ALkNOdg56nnVukB6yDwr/dw/zEHIQ6YEXIUChZMFgAYxhhpFs4TfwtNAdf40vD96lDjLOEg3uXYetE+0OHNh8eByiLL5svBzIfNy82Lz5bOHcyfzKHPaNJz0vTeVeQE5Qfypwg2GkonSTgvR9pJYVMuXnRodW4bbt5o9GFyYI9UVU36RgVBbTbXNg43bi4dLc8oeR8EGJMccxrQEAoNPQeD9L7lKeDz1KPJTMU8xoK+t7uGvynC28Mky7jZaOWH8Sj9kQlODboPYhaDGKEepSNeKG4peiaAJeQjyyMUKYwv9zA+N943jTT2MlMwiSqDJXQhthqPEDcAuvTF59/ZvdILzdLNmsmKxnvEKsbexNnF8NDP1lncAeCj5Fbm2OX95X/oaejQ7VDyRvOC9vH5u/rZ+wsEhwurERcXcR0HHuUbIxh0Fb0RkA75CBoCsvqw74jkXN4F3NTUedK61MfQLsyCzoHOX8wpzIzPDs8x0BzPXc62zOvMIs8R0Vzbdt6M4gbmyuhD6E30fA1sG4krPUSHRNJHHFJrXltnZWblcKJqvljoU8hOgz16OGst/iRdJf8kJiNCHDAZ0w/3DIYIcA4yC50DwPwK7p3kdt6s1L/Mts7pyeXIRc/E0THWUtla4AHto/nXCUAVXBnnH94ixh1ZJ0UtfS5ILvcqkim4JZMkrCFdJokniirsKhYswCz1IHMZxBeXDhgIegHa+FjuTt4s1MXMcse1x0vJt8vqyuDMfs5j033Wx9vP5WvoBO7u8E7x+O/27nrwdvMR91H8tP/RAAYBLwRyBhwKfg+EE1gXAxbMEhoPTgoeASL7gvkT9VbsVuQa34/Xjc5VzyTPX9DW0FLOAc2ny9fOQctw0fLR/86KzyDVUNLE1Ljc3dxy3vbeT/AW7z30VwG7CDodcDSTQN9LsVFbWupUalgPZ+Rm9FxtUUJL+0BuOswsdCq0JpUiFBmPHKgk5Bf7ELwOHQ47ASABzwF+9lDuXeY/3fvTYdEL0MzNk9NN25Xf6eYV7gzwtPdRAt0NexgDItUl4B8oHXQbtRxoHsslWSVEITIksR9MHa8e3yIAJScklieKKGYcARXHCsj8YveE9WHvXeb83jTactBaylXPjtQX1YXZXd6o4hXkWeIC573quO4s8dLzK/d++Xr0l/LC9AX67/5JAFoI7A1vDOoKPQqjDoYQxQ1LDjsOrgt9/7T1lPIN7nXm3eOO5SHdydam00TPM9BFzw7RbNHj0QbXiNG40WXQqc8KzTzSadGs1ODZVdXs3DrfI+vb7Yjwgvpk8zT8ihMAIdY2EEHOTK5L70kHVRtceWEiXzpaP0poQ544aCxHKv4k/x3JI50iDSGRJN4V+BPuCWgLEQpJA7wDnvhd69LfjNpI2ETWHtum3tnmb+zq7eL1rftu/40KKxPnHoEhbR27HZcVRxTNFugW1BxIIAkeWhz1GhgeJBwqHMkhjiFIIDcb+BIIB5H5FfCF6G7kJuUz4NvbGdhf0grTC9fn2tnkR+Zh6iXrguct6/vlh+jQ6wftTfFu8x72f/gJ+PX5Tf5aA9kJ3g8/EAgPFwpOBGADUAD7AN7/LPzV96Xxl+4i7LzoLOZq4wTg09kq1qzQds9qz5rOucySyb/JiMV/xRHJm85m0HjX/NfI3MXbnd9l5GfhW/Gm7rH3hv3KAIAPmRvFNVdEQUiLWDhWi1MOV/tYY15EVmlROklvOXQyri6HJfAsxircKQ4qaiYxJWcYMRjtDSwH7f2++PPylOuM5pHdbtn81gzYZt1R58/wovY8/DwChwLHA+YILA0iECAUDBhNFmIRNRK4DdMOHxeEHjQmwylpK0cnSR8cHdYY9RQKFlcPOQdF/Y3xluk34wrhUOG/42Dn9OYx6lnn6+Kv4O/gCuBu39rmyObS4rrkK+IC30Xkh+8L+9cAgAl1CsoFawTtA6cFxQkSDNsLlghNBOr+kvgV+tr5Hv3X/WP9kvnw8erpDuS64EzbUtnV1SXOR8c0xRjG8sTDyfDTWdJj06TWVdeT1GvYd9nc26LcYt8c5QLipuwr7cvv6/a29Kz94QoUGDEuAz9CTkdTdlUoV4dT+FSVUoZVHU0yRlk+ki4SK48nVyFrLvcxRjMOOpotfCpAGFANqgWu+nz4pvX68F7nAuUD3oHdaeKw6ATzC/vWAMwGQgTpAToB5fvEAM8BSwSJDCIMBg5CEhoUjBe4HvwiRiVAJAcjryDeFwoV3g/mBswDBv/Y91b2XPJC8cDvke518DTtCema6EDkFOGk3vve6N242jfcGdxE25fdOuT55ebq2vA482v1i/ds+O33F/mX/EX8Tf0kAdUB3gFmAwED6AJVAgUCNAHw/D37cPd387zu7etz6DvjFOAt3OPYPNZw1A7UztNF1YjVUNTn0xnSJNMz0k/U1dVd1U3X0tjK2JfcN96p3xrlbOO56SHqHO3J9bL/nxSOJrM1AUdmSmBO3EqWQ9s/jTpgPSQ8YT9WQTdC7ECLQ01CBUm+SqpMAVBiRY0+4yvAINcTMQsjB7cDGwMj/uz77fiA+qf76ABPBooH9QaAAlf5i/E967bpxewM8Vj3HvwX/iIBHQNlCCQNfhCcEp8S+g4mDNUJXwaQB/IFQgUyBn4F1gSLBYADEQMPAbr8HPoU9mrz1vER7bnqoOZ44TbgEOAJ4C/i2OQ75XLkLuM74wLjpeNC57LnF+mp5x/o5+sM70z4G//2ARIAGvjm8RHtSezI8yP61f79A0UBq/yW/AX4E/XV8Yrr2ue/5+3snfQv9o74QPb67ZbtKu978Nj3Zf/VACsDNQFP/Tv8Kfjy9w/3i/u0/gACRAWhBYwGXASgA8UBnP9GAQQCOgSCCTEMsxH4FDYYBxngGHEXcRWPEwwTmBL4EiAVlBUgGL0YcBrWGXMaSxngF7kYBRlqGBYY9xeWFhsWtxY9FrQUOxM8EMYNgQ3uDVAPYxCkD+UNSwsSChIH5QU6BhMHowfaBsUGgAQxAyMBfACV/z7+hfyE+gT5MPdq9pr3Wfe097P3z/R98szvYu5r69rsi+8n8h/0GfYU9Q/x0O0l6+nqQeyx7izy+vQl9cbzMfIx8VTv/+8E73Twd/LN8hbzjvML9HHzWPQp9Ur31/fl+Br6Tfpl+o35xvbH9PbyIfMY9JP2F/ql/OX+d/8//xj+QvzE+rb6TPoX+1b8Y/5A/z8CWgPUAjACnwJdA/8BygIzAgkByfya++f5vfh5+Z36Wf3N/x4CmAFOAQcAB/5D/fj9Bf47/mP+UP40/u//OwIdBcYIqAs4DvIObw46DecLIwvPCh8Mnw1yEAsTexTdFkgXmRfqFqQVHRQAEtQQ/A4zDn8NXAyFC30MJAySDe4MBg2GDBUJcQl1B/EGXQZ4BgcFBwSsA+UAGAA0/9D+g/14/W/+j/04/9D/e/+y/c/86/wn/lz7OfuG/8L2W/ZN+vXya/naADACAgB7Alr8HPEq7lboIuVI5Mns4/Rn/bYD7QWAALj3F/U+70Tw9vb1/OoBgARGACb6ufUx7rjqpO0B8Fz2tPmJ+qn1c/Qu+EHzLPhi+Dbxtur76Nzkg+MX5IbhTN7p3rfjVeT56xrwI/CR8rXtFOjE5Nnd9d+t4iHnHu4J+HQDHw6mGxsgfSTPJG8gEB1YF14UZxRIF7kcLSEJKYAvljdvPl9DjUQ/QSk6NjAzJmkbKxYMEp8RURKkFFsXshpDHLsbUBjuEJYJe/739rXtG+jt4jLh7eHK5KXrvfKY+sT95v6U/Av49vKE7qvsF+xu7SrxwfUM/agE2g20Ffga3RxFGygXnQ8LCsMD/gAJAokDkwcjDJ8PIBLxEtMRphCYCowFz/8J9/fwxuzD6ZfqTe358Pb0kPiI+Df4sfOg7B3o0+Ib4wDj0uJ/55HpYOth77Dx8vJS9BD25fR+9FLyEu/d7ebrqO248Kj0TfeP9zj1mu1x6Hjhit+x4IffdePa4xvgYuFZ3e/aX9te11PX1tPM0ATPLs4azw7Q/dfu14bcTOIV3pTnjejW8OEK5hjXMnk/8zc8OiYlNSAhH6scFC/3N3RHc1QJVlRcVF2EWAliIVmFVA9OrjWTLrwdgRksIB4mNC1HNS4yHSakHsMKTQLB+drvqvGA7GHou+j65Ermtevu74P4nf0jATH/8Pt48zTuNOuK7HX0Pvs6BPkKDRBHFNUY4RovHykh6yBRHpIWxRD0CmsItQnNCw8OnxBsD/YMHAdxAQb9HPjP8BvvL+q74i3gXt6837XiHOfo7NruHu7a7DvpkOaO41/md+ZT6K3pLeuG7mbxbfZb+2L/8gFJBIQBrf2K+y32iPPn8qvwlfDS77XvwO+h8Ibvwu+J7mvqRug14mreO9pq1WjTN9JCz63PE9Hi0azWRtjn29bdddq92LnUJ9PfzmvVcdgf3X7q/eqG9Kf17fIFAEgF7xZgMTA6cEeHRa86SDGbIish4SPcLmw6V0cxUvtQx1JtVOJKS0peP+suISb5DWEHVwK/As0MIxtYIHMk0yLbDuwHPPQQ6Snn7d4E4bPkVeS27HP1e/mLBiAJKwqPCjACL/xY+BnxRfMf+Hz7bwajDwEZoCFWJ/UogSqgJGsbSBOaBa/8cviw9h38cQP/CaERTBLGDecHGf489NLrmOJc3kfaBtub3VDjX+uf8gL53fwL/GL34PFJ6wLo6eV95lLpLe8j9Vf7egDJA2gFNQdiBCgC/vs19kf0EvJ98iv1Qveq9535/PUf9OjvQOvR6OPlL+JB3wPdL9ml2k/bFN2U38PgcN9O3pnao9gX2CfYqdqc3JjelNw83GbdmNrz4BzgueJy6Sbk3u1T8Hv1pAkpGiYz20JzQ4g/TDDOH+AWiBMNG5oqBz7nTwZb3F6aXa9RjkrYPAc08CeEHN8WQguWDwUQhSIPKTkwnDNaJTcYWQFc8Sni4d1x4XDo0fNE+lYA+gPqAQsDmQKp/eH81vkj9Ozxx/B38jv57QKbDboWDhz5GyoZTRK3CdgHmwQbA0UHSAZdCNUKXgz+DDcNhgr+BDf+2PIZ6zHlYOFQ5Inp7e2L9HD2X/Vp9V/w3+1J6sLn0Oiq50zoAe/m83z5JwCYAXgCcv01+f32rfON9RX6/fwxArMDRwMqAdX8V/lb9tTx/e5s7QnraOo76/XpP+l66l7nMOc75IbgaN8Y3Incst+m4BjiEuXD4hHk+OFm3j/ejd2z4KvmnutB8RX1DPR68MLtRuXm5knmNugp9L30N/60/MD4aPlH9WwCqxfCLL1BakfcQ0Yy8x/ZESMOSR5HKkFEfFI6UbxSgkbPOxg9QjF/L7ApeBd2FvYKvAtOFNYcQCUHK5gklRNUAwXsHuRG4abkhu/x9gH8AP4m/0f9jPxp+k34//Z08VLubOx77ZT2SQAQC7IS8hXLFEQNjAUT/ab6kP1sAKQGvAoVDHEMFAynB00FUAFw+nz1hOwA5WzjtuOK6BvxZPWt+Yz4i/Jl6zDkTt7R37TirOZ27fvuNvP09j36v/1nABX/ofvl9tnuae5w7wD0T/4mBL4I1QpQAyT9pvT37Y3tvO3Z8Jrz1fJS8VPuOe6C7v/vee/L6x/ouuGt36rdV+F+6H7uEfQL9T/xCOyp54/jV+VV6IfsMPFQ87Ty6fPK8X7yR/Uh9Iz3TPMg7wru/uey6+TspvFo9Sr0ZPbk8NX1/frTCxwumkAwU1FQhjbaJBMISf7uDGocuT8EXYlnHXD7YexJez26KEkl0SPLIFwighxwIPEeWC0bMCcw0y3nGEMI/PBq4fPaQuGj6Zf7qgdMB+oITf0N9EHse+Kl5JHocevp84T3o/u4APMCSwjzDXsMAwkuAij5Cffs9YX8UgjYEJwaFhnPE3IJlvgN8e3pfecx7VjwHPQJ9ePvve446+vnR+dJ54TnMOY94Evdhd5s4TDpiPE/+Jv89vhx9KLxSO077zbyDPlMALAAXQMrBBACtQKL/n/93/xS+rz5VPjs+ND4b/gV9on2fPNq8cLuiuuK6h/nSeVv5v/oU+y17mDw7e6P6ivouuTd5Jvowuvz8sL3ifWJ96z1LvOF903zGfX99P/wyPK38gfzpvuS/TQAugLR+5X5F/Oe6X7u3epk8Qn8SPtiBe8AgwFw+kfupuye7XYG8ihURqhfHFjrQ6UonQkvBbkHICYfSLBaoG3qZqpT0USRKWQi1B+YG4AlUSHaKYol0ibnKG0eEx+bDzkEQfmg7KjoJ+tk74r9cQPSBIADaPgQ7+TmnuIf6MPw5vbT//MBbQLQAAH/I/0q/JX83fvZ/pgAJAYQDCoQMxLcDiAMFQIt+2P1hPDJ9aj32P24/4j77PWN7ePkTOJ54c/ke+jx6EPr++p66nfqGOtX6ovsOetb7enw8PHx+CH7egCaAW4BRgDW/Qb9FP3m/sUARAPeBUcHVwYWA70AU/xR+ZD2sPTB9hj1LPby9C31G/Se8ODtIeoB6dfnh+WQ5X7nJen+65nsG+5y7ozs0+rY60HvOPO09Eb2ivVk9HX1uPZL/IkAlwGKAXj7r/bF9Sr07fcWAKgAWgR0Bfr8H/r3+PLx9vXG+7f4BQBI/l30wPaI7hvwYfO/8ED0vvPd+nH6HAS4EPslM0h0VJ5O+Ty+GDsAzPlAC0oxJllOa7ZwuGpqVlA84CMMHVkVKh+cJeEu8UBINz41gCnCHlwUiQHG+4H24/hH+5v7mv5k/9T6z/tE9mfvrO7+5PfkVurB7RT5pAIMBMwHOAG590r1RPAe8lX3svukBAULlA16D5INqggWAp77tfdl9Xj4qvh5/LX+//2E/Dv2kvDC5zbiAuCr4m/pJu988Unxr+yw5cfifeJE6G/vmvJs9an3JfZG+EP7NPz///39tP9KAg4DYgajB5wHCQdjBXoF8AJXBRgDCwAOAJD84/q/9xr2VvFn8bzs4+7R7bvtXe456FPoGeQM5cnisONl5pnn8+og7fbrJ+uB60jp4exg8Nfxyva19Vf22fmI97X4cfwV+039nv0/+4P9lPqA+4D+6P7j/vr71fhX9Yr0cPJ/9E32tvgG+av3jvps9zD4VviQ8vH1Hfg090z7yf9s/Q4AOfs8+hQBV/6iC0gMOw67CmgADBfzMv5RlWv2X0JO5CnMAOwETBd6NVZfSmwFcdBoLD+DI3oQjAZlDh0bUyuJMjU1qCfPHWgQZf7R+N/vBfC682z20flE/vn6vviZ85TtVujU5eTnE+h+8F31LPtsAcL+R/tH9v3twe4/8Gv0Uf7GA2cJ1wmiB+ABifsO92P07vda+2j/4P9s/qP7XfeB9Ubx2O4m7KvmiOfC5yrsZPPi8WTx8+xP58nlfuT354LuZfUV+Cn7evor+nn45veG+o/6fv4V/4sCPwKAAmMDVgSZA64Bgf97+g/7ZvrV+pv89/iN9xL2uPPJ86jvMu9x7UnsBuzw7dLsg+y565TqlOwQ6gPsPep+69bro+xm7gLwtfFQ8vP0qPPe9S/0gvT19d70Mvpn+kb9yf8d/hn9mvlX98X1Q/fD92L8jvzZ+0f8wvdS+h/5SfcH9lP3Kvlh+3MAJgLq/zL8afYD9nf81/2YA1IGIABCAYX42/Q6+yj2YfwnBvQHUA2oHk0vnEfMUo47+iVkDfD0RQaSJtxMbW4GcuteGkzcKUMSmxp8Fx0oCTz/OrNKwkEiMCEmDBhUChUEJAZLAsUJCQ9TFiEb4xafAa3xCd/W1Off6Ot5/goJxwX9/iL0EOZt4jzdyt+75rvtWfpJAZYAWf3x9v/rbudP5nrqPvKT+ZkAVgNYBAgAmvk/80nreefP51bvI/nM/08DJwE2+W/vqenb5UTmvuv98Wn3+fzg/OP7XPTX7WHsi+nf7sryvffl/eX/uP1O+w75bPX58ivyevV09yb9DgOABfwCAP3T9O/tDe4u8QD4ffpA/VP7/far9Mfv/u+j7nbuD+197u3xfPQg91L33fbJ8oHuZ+7Z7430bffk/Ef/B/5s/db4TPic+Nr6X/3tANr+PQJU/5j9Qf/S+Ub6kfl++9j6cv5G/LP79Pr89un2API09LTzXfS69VD3k/eP91b4h/Ul9djx5fRZ9Tj7j/71ABQAgfuX+1r49fr5AakEvArOEEYJhQnKB5sChgX6CRwKAhJ4DL4KMQ8mCdAI1AbqA0QBYQc4BJsJsQqbBdkWYSsDOSA+4SuqFd3/hvpuEm4woUvOV6RNSD2eKwEW6RnfJFcpCji5QLo/7Du6MzojOR67GwkWiB0kIIkdshyXHTEV+BIVB0X7PvbE8eH44ALJCLMJOgHR8oToVeFS47LmpOx48pb08fND8NHrXOUe4pvgyeEQ6OPtR/Kv9CjyqO1d6RTn7OaD5hfqUezG79bxoPEI81Hut+r7573m9+h47DTx5PQm9K/wZe3L6YHpgevz79bzFPb69h/2NfUk9D/0ePS49eL21PcZ/H39sf1q/eL7dPoO+QT5Svjv+R77t/zG/Pb8EfmW9lb02/SL96b4RfuQ+H34OPVg9on12vb9+eb5qfnO+YT7HfrJ+4j8p/3+/AP+D/7B/icBYwHCAQsAFAHKADMChQKKA4sBAQI5AvEBugEJASgBYv4YAJD/3f/3/er+4/xG/An8q/oG/U/6ZPzG+2D6P/oK+Qr6QfaM+PP3cPg2+gn8Ov7C/Az+N/vd+wH7IvwY/1H/rQNeAkUD5gBuA6UC3QEiBosCSgbuARAG4QTmCFIJNwhjCN4CHgjvBXAJ5wvyCycIdwopC5sLaQ0gDFgMmgh9CRMMhgxQEOoRBRAtCT4EAAA7/tEIeBEqHO4dER2MHNwaoR6TGlYUXxcoFT8fDSmlMyo5BjChJccdKxsYHjIqsi+JNVMyTyk3JzQhdR5CHoogLB/fHs8dMRgLGbgU6xKJDrsLPgSMAZL/G/1BAQkCWgDc/Mb1vOvS6FrnVOpq7kjvUO0C6X3jo95Y3Tzet+By4p/ixODq33De/93Q3bvd4t2y3r3eBN2Q3hTgY+CI4RDiA+Hr37rfxeDA4tHmg+hS6CTo9uWQ5gXo+ugF7Eztle+n8MPw9fAV8WXyKPNu9Wf28/bn98z5TvzN/If9evys+w38zPyD/5EBKgNSArIAdP9c/4T/CQAsAMcAQwLwASgB1f88/4n+Jv8tALsB/gAI/nL98fyd/5kBVAIIAa/+v/5iAKUCYgR6Bd4DJQKAAMIC7QTZBcMGcAarBB0EOwSSBbIHTweTCLoGTAULBQkEpwSMBU8GJgaLBkME2QLoATkBqQGMA28D0QLm/+f+Xv7V/Dz+LP+h/yf8HP2u+qD6pPqP+pH8aPlU+cb26/c6+LD5Xvun+CD5iPes9z/4uvre+737Y/t9+hP6xvmS+hb8EP+bAJcALAC1AA0B/gHoAHcDKAOeAygGHgd1CC4JgAgJB74HhAeQCDsImAj1CT4KhQpiCtEKugmCCKYJVQpMCm4KxgmyCPQJFgq+CS8KXAnVCMkIVQjECGEIjgfmBlwG6gNYA6ID0AT/B8gJHAtuCagI7wjJCYsLgQwtDsQQwg7TENMRaBM9FkgXQxnQGP0X/hfjGHwZXRyhHhcfGyCsHs4dWB1wHTod4RumGrYY4xgIF2IV/BN9Ee0OXQ2FC74KsAjABoAEswG3/2v8bPuD+H/2LvQM8pjvT+1c7fvqL+p76L/mJOUi4+fhmOEK4Fffi94v3iDdwNvs297aANtl2pXa6dpm2gvbdNv+2wPdS91G3oTest9E4Q3i6uPY5IPmGOdL58zoG+pJ6w7tx+5U8IfxIPOP9Kn1IPcp+G35Yfr6+yj9uv3z/rb/bgH2ApwDuQTNBHAFcQXJBesGBAcdB/0GQwcnBlgGewYABlgFbQXEBdEF0gV1BYAFWASqBOgD1APTAoECBwMhAtUCXwNZA40DLgNXA+MC8wI/A/QC9AIhA3IDTgP9A0QF3gSqA44EZgQXBdwFygWQBcgEIQYUBiQH5Qc6B1gI5QaiBjUGQgYtB+gFUgZUBIUD/wGRASQCIQLnAbwAQwBW/v78WfzU+9f6yfna+I73+PW79eb1r/U19dX04vM284DyffJN8mDyqPIj8lvyDfLI8XzxcfPl8wL1OPZf9g72gPXP9pT3Mflz+Wn5L/qz+pz86P2N/hwAigCVAWsAVgGBAr0BKwRHBPEF+Qb1BpcHFgg0CWgJTwnECm4K5gqzCz0KAwtJCioK+ApdC6MMbgzHDC0MvQukDPELqwzeDIsMtwz5CkcLfQqmCSsLNwvhC8kK3Qm3COoHawjeCBIJcAkQCIsH+AaGBR4GigVCBscHmQjOCDMIbQh4CakJKgzrDOAO0A9bELMRVxLGEw0VehcWGY8aahu7G/Mb1xsaHZce6B8lIKMfaR/gHMocyxxNHMUboxo7Gi0YMxaXFKkSCBIdENcOQw2BCREH/gMqArv/M/2h+xX53faN8+DwAO807abrLuqg56/lMePH4NHe89zv28baldky2P3WUdbU1DnUSNQX1HLU6dOt03XTxdMK1LjU/9W+1iPY5Ni/2eHaWtwD3m3fJeG54tnjc+X35ozobuqN7CPvsPCz8gv0/fTr9jH4KvpZ/PD9CgCjAQ8DxgMtBRMH3wfhCeEK1AqeCxwMBg0IDswOmw+jDyMQrw+7D/kPqA+WEM8QjhAsEH4P5g6fDq8OgA6QDugNQQ3KDLwLeQsaC0ILsgqNCqwK7gjpCFIINQgDCBEIjQgGCBQHtAXHBUgGJwiACS4Jfgl7CHgISwgGCf4JegmgCnAJEAnhB3IGpQZpB8IHGgerBncE8gIzAVsBtAEeAAP/aP09/Cj6+vhe+HX3Dvfr9U31CfTB8mDxpfEl8dDwmPC17njupu257U/tCu527tjube9w7hHugu5V7wHwuPHd8ozykfOa9Ej19PWl9gv5IPvO/CH93/zy/WP+lQCdAXoDdARIBdsGvAe5CMUJbgtxDGcOdg5BDukNFg7MDtUPnRKzEYUSJBJJEaQRQxELEmkRMxIfEnsRPRFqD/MOCg+zDyIRvhBeEOgOsA0GDSAM5wtVCwcL6goeCS8JGAj7BggHDgYeB4cGfwazBpUG0Qi0CMIIGgpcCawLUgu5C88M+wwlD8APJxGeEoETyxSEFTkWWhd1F7EXoRg9GfIaFxvsG04cZxrBGnsZthrDGokZyhgIFwoXoBVMFOYTshJFEm8QRg7ADOIJdAcrBdkDPwI4AGz9M/s/+f72XPVn87rySPBT7uvrpen25+blUOSu4uzhWeB73j7dOdw/237altmY2UHZcNh8113WT9Y81rfWKNdi19/X6dd+2DbZyNnQ2tDbVt1k3iLfpN+V4CfitOOS5XDnJeld6m7rnuxq7lTwPfIm9Jn1MPcr+GH5zfpK/Ab+iv8sAX8CiwNSBCgFYgZxB3gI8gixCaUK0AofC6QLSwyXDPQMiA3BDfIN4A2YDdENsg0ZDW4NYw2VDZgNcQ1aDfAMuww/DN8L9wuNC24Lvwr4CmcKeAnLCUUJFgkkCe4ISwnhCJ8IcgcEBzQIBAlGCr4KcgpVCbUIwAiJCp8KfwpDCloJWAggByIHowfwBxoHRwaUBXQD4ABTAIn/Vv+2/rv9jvz5+ar3lPeN9l71h/WO87PyCfFs70Hune1I7kDugO5C7ZzrT+pl6QnqQutm7Dzsi+uY65nrHOvf64PuA/DN8KnxQvGP8VzydvTD9Sr49vhA+Uv7tvth/Qn+Ov+3Aa4C+wTIBDUFlwaGBrYIuwv7CxENEQ4uDfYNZA6HD4oQqhF0EhQSfBKjEDERiRBeEGoSoBHyEnkS6xACEXMPnw4fD7sP0hBqEBIQjw5ZDXcN6gwhDQQNYQw3DJYKmQpqCU0IOAgOCKAIlAfkB58GwgbjCGcJXQpvCicKNgvxCdwKRAtRDOUNDA7qD4EQXREIEqATVhSBFFYVDhbqFt8V+RbyF20Y5BiDGJoYqBbZFiUXkxU1FVMUuBMRExwR0BA1Dy4OmQ1xDFsLoAg+BqEEcQOnAW4Awf5C/Ib6s/hs96f1+/Nd8hXxke/d7Mbqg+hb5n/lxeQC4y7h3t/w3S/dbtx822zbv9rR2cTYmdcF17/WaNch2HfYFdhe2DfZgtkt2inbjtyL3czdDd4l3zTgo+Hv47zlvebv51XpcerX61jtCe8y8enyV/QK9iz3Qfj7+R78o/1K/xMBAwKtAjsDWATsBTQHOAj0CBQJogkjCqEKbQvxC94LSAx6DCYMZAxlDF4MYgxeDFsMTwzOC6wLZwtcC94K/ArgCk0KNQp5Cb0JngkyCR4KoAmECJ0HygfQB5kHEQkaCfMIXAfLB9EI0whTCzgMLQtwCq4KEAzXDOQNIA66DToMXwkUCK4HNgljCc0JcQlDBn0DNgO3Ar0BHgIgAPL9WftY+hn5U/gM+I/3Kfct9Q7zsvBd74zuPe667ans5Oqd6CvnluZN5vrn0OhO6AHoWOYi5Yrl1+ZH6HzprOmZ6gPrKuzb7S7vKfEi83T0SPUq9mj2wPeM+Sf75v1E/87/2ACoARoDlQRoB3YJuwqQC9UKuAwNDfwNVhDFEHgRiBIXE/MTIhSFFAsUIhVPFhYXdRe2FaYVpRNIE/8U5hS9Fj0W4xN4EooRRRH2EQoThBLTEvMQQg5gDTkMwwwoDgIPuQ8xD30NyAxPDCMLSAveC1oMswxlDI4JDgjYBb0ElQdeCKQI8QesBX4FZQY5CGoJmAjpCD0HswbhBYQG1gcLCFUHQQjKCQMJEApJCp4JlwkrCWoJ9gqrC3gLagtWDKELSgt9Cz0M7Q0ZDYYMdw3SC88LvgyXDJYMiw2PDXcMtAvfCEYIxggJCNcHiQbLA8IBGQD//tL+iv2z/FP7kPnv9hz1svOq8njxYe/g7RXsl+m657nnqObU5UblI+Rw4/HhQOAM4BjgWN8R34DeEd1I3MTcsd1v3sbegt9p4JbgYeDw4Hfh8uFf46/k8OX15ubnEuli6rfrcu0v77DwyPFs8jbzovR49tX3gPkg+8771fwg/j7/gACGAVkCUgNDBJEEQwVoBtkGiAckCNQIJAn5CFgKtAodCp0K8QqOCmMKRArHCckJ0gkGChsKeglqCfIIkAj/B7UHeAdzB+cGcQb6Bm4GXgU8BbEEcQQWBYcGRQdIBu4EXAXfBaIH6Au/C50K2AjrB1gIDwt+DsEQbhLoEBUO0gseDDYOxQ4rDiANYQpkB3oFmgU4BuEHKAdqBTkDtv9a/Xf8MP1P/Tz86fjO9rT0fvOr85Tz8fNs8pTwJe7S64Lq4ulo6qLqz+l76Jvn/uYE54XnJ+jI6f/pvuk56pjpcuop7D3uEPAw8S7xCfJN8xn18vd4+aL7lvz+/Mv94f6cAB0DqgTsBaYHKAhxCfAK+AuaDaoOPRDIEaMS0RJ/EoYTnhMrFcEVxBUEFnQWORciFy4XGxfuFdoV8xavFskWpBWfE5YSERLTEjkTwRNeE14SlRCxD1sPXA+OD9YOEQ6qDIsMTwwKDDEMDQsMCoYJiglsCkULEgucCocJOwg+B/0GbwgRCbMJvgcyBsIENQMVBAgFhAUBBZUCPgOOBLMEfgY1Bu0FnAUsBVkD/gOkAyQDDQMTArwCAAOcAmsCtgG1AKYAgwAxAJP/AACy/w//2f6M/kr+ef5I/2H/x/58/lX+i/5C/oP+VP8PAMv/uf9c/2z/9v/f/34BlgFOAWUB8QBMAMj/6P9q/5j/Nv/H/uX9Af1c/CT8zPvq+uH5ePjR92r2vPUc9Wj0X/Tt8mbxifC479zuhO6d7UbsM+tz6gjqmunz6D7osef+5mLnSegS6PPnOeel5rHnU+hw6aDqnuoe6m7qOOun7HbuV+/T76Xvvu/C8PnxKvOp9Fr1l/Uc9qj2n/cE+Wj6GPu/+yr8q/yJ/UT+Uf80AJUAnAGeAsgChwPjA18EWwUzBZ8F4wXrBRAGRQbfBi8HQgcUB30H5AbGBl4HZwdOBz0HYQdbB6AGzgbfBuYGnAegCGAIAweVBvcGUwceCUkLFQthCToH0wdmCBgLyg22DvUPLA6oC7YKbwyVDtUOPw3HCjYI3wXiBLwF2QUjBr8ElwGi/wP9j/ss+977w/st+v/2s/RT88Lyc/Mx8y7y7u/t7XzsBez26+LrNetx6p7pmOho6Hfoiuga6e3pRevU633rdeuM6+Lsze4x8ZXyK/OD8zz0d/XJ96b56fp5/Hb9Ov6V/9QA6AEnBIoFuAYeCLsIvwk2CzQM6A3DDvoPAxGfEVoSCBIDE3YTIxQmFNgUIBVhFR8X3BcGFkYU1BGdEAIT9hVaFncVTRIuDYMMAg64EB0TQBKZDqgK6wg+CkINRw9yD4EMrAkZCH8HYwmACxELlgncB7sG7wX8BqQIhAjwBpsFbgWFBCUGLAfhBzUGNwTLA6UCFwNbBLQECAQCAy8F4QWVBewG/AScBTwFuwQVBNoEIAQBAk8CRgKuAjsCEgJDAqIAwf+CAE3/s/5S/kr+m/0z/X789/tW/HP8R/34/Lz8Mfzn+mT6/foO/Gn8Dv0k/cz7ffsZ/IP9PP6S/nL+1P0z/oH+lv8PAI0AaQDHAEcBKgJJAlgCjQLRAVkBYAHdAVAB8QBMAI//hP69/dv9pf2K/Gb7lfpP+Uz42vfn98L2SvUf9DP0m/My8+HyBfIs8V7wYPAx8LjvOu4X7i3uc+6x7jzuoO3O7HXsje2f7oHunu1H7f7sOO0A7sHuoe+J77Hvo++/77rwkvGe8tDzFvQM9Fb0LvUB9i33h/gL+V/59vkL+wH8v/yI/SD+eP7F/m//bADNAGcBxAE8AsUC+wLrA/kDQgRXBF8EyASmBIQFtgVkBX0FBwXbBQkGRAZBBqcF2QVUBjkHywY6B+MG0wW3BU0GNgcSBzAImgnmCp0KqQkUCk0LwwxhDSoNhAyqC1AKyAlyCoQKkQrbCe4HFwZoA8cC3ALTAo8C8QDP/nf95PzG/Jb8mfuM+vf4yfci96n2VvZ49qz1U/SL80fyMfKF8gjy2/FH8R7xWvFV8WPxUPHK8XrytfNU9O/0hPXS9bH2zfc4+Sj6EPuX+4v8KP2s/eL+y/9EAB0BPwJcAsAC7gOtBHMFIQboBn4HwQeCCLEIrQkWCqwKcAvEC1AMxgx0DQ4OiQ1KDVoM8wuTDP8NWA7QDVANPgxiDC8Mngw9DdcMxgvsChsLDwxQDC4MrgtdCrYKwwo8C0YMTgxjC9MKXAo0CnIKjwp6CxILKApjCWsIbwetB4EItAgQCDkHPQeTCJ4IRgn4CMIHkwjfB+gH4wd7CJ4HswYUB8YHQQj8B9sHDgeQBsoG4QZ0B90GwwXpBc4ExAR+BFsEKwTLA+4D4gN9AnUBeAElAc0AeAC9ACAASv4E/Sv+2f1r/c392vwW/Ab7efoK+/L65vrS+s75gfmR+fz5ofnT+ff5Rfp3+s36Yfs1+//68/re+yX9e/7F/sb9lv39/ZD+Y/94/1P/PP70/Tn+If40/hL+IP5a/fD82Pzw/K78Ovz++8D7Wfvn+kb65/l++br49PjL+Jv4vPfK9oH27PUU9pL2pPVJ9Jfz+/LQ8gjzzvLZ8ony3vHp8c/xFvJm8n/ynPLo8inzO/N289nzaPQu9QD2hfa59gX3ffcR+BH54PmD+qf6m/q5+lr7zvt1/EL9K/05/X794P1k/if/IP9L/1r/J/+f/+3/AQBGAAUAWADTAJYAegAxAE4AagA9ADcAHQDF/+z/wf/x/y4A+/8OAFgA2QCfABEB2AE5AqICPQODA/IDVQUdBswFzgWBBX8GiQfqCAILjAoHCmcKZwvtC5cM2ww4DNYKZArXCQYJJgnUCDQIuwecBh8FZgRtA7ACcAFwAH//NP7q/Mn7zfrw+Wz5I/jQ9nD1pPT681vzFPOX8pPxB/Ga8EjwHfDF72PvVu9D7zrvl+/Y7ynwdvAC8YvxKvK88kbzuvNK9CH1P/Yj9yT4Jvnc+Vf78vsa/WX+gv6e//oAAAL1ApEDqQOaA7oEmgVFB+gHpQdSCIIHRwi7CHsJmgowCtUJ2QnPCtsKUQuiC4sLOQyFDFsNSA3IDIANew2gDaoNmw5kDqENYw2xDJEMuAxKDmYPPw8xD+gNYgznDCQNCQ6cDbYMuAsWCx8MWgy1DHcMyQwnDEQL3gr3CT4KiAkhCYQJ3Ai7CPsHYgi1CJIIUgk4CLcHVQa0BZUFswQBBYUEwwMiA08DOQRyBFgEEwO4ArwCpgFBApYBAwFeAI//bv+6/kf+i/37/fz9Yf7p/Xn8pvsZ+x37K/sO+4n6a/l1+D74ivhy+VT56/gF+ED3vPbg9h/4kPhX+FH3gfYr9sT2Jvj6+Lz4I/gt+FT4bfgk+bn5Cfo7+ij6hvoM+w77JvuU+wj8OfyB/Cf9C/33/D79rP3t/Xr+gP5U/iv+h/23/d/99/0o/vr9tP2x/Vr9kP3E/Xz9Jf3W/HT8Ivz++wH8OPwe/Mf7n/ts+yf7YvtF+1X7QfsA+yH74vr4+h/70voR+0X7DftL+zL7WPtW+yX7j/u0+637A/zj++r7ZvyP/Ov8E/3B/EL9Xv0s/bX9hP1o/Z79h/3o/WD+8v0H/uf9z/21/sD+qf7Y/hf/Hf9j/8//YACoAEkAwQBdAdoB2AIqAyoDNQNrA0wEDAW1BQsGWAabBk0H2gfcB8UIWQn6CHgJjglSCb0J1gldCnoKyQlTCQMJ1whqCLAH3QY6BoEFvQQRBBoDcwL6AfUA+P8I/0z+bf3K/CT8Mvtm+p759Ph5+MH3B/dy9rf1hvUT9Tr08vOI80HzDfPW8sPywvLb8uryT/On8wj0ofTz9ID18/WI9mr3AvjP+GL5vflx+gr7tvuI/NP8/PyK/Tz+1/6o/w4AVgDvAIsBTgK1Av4CWwNDA/QD8wQDBUIFNwVXBc0FzAZeB20HcgdxB4IHHQfcB2IIsQjfCEQIwQgeCVcJQgptClMKkAkKCfoIYAlTCtkKFguaCpwJeQnfCUkKwArcCvoK0gqpCkUK9QkRCswJiwmyCdMJwglWCc8IrwjHCKcIygiiCLUHFAdqBmMGrAaJBvYFLAWuBB4EPQQZBBwEsQMMAwEDjwIkAvkB/wCdAPEAugBNAOX/J/8n/yr/8P5K/7X+xv3j/Or8Lv2h/Tv9hPzB+7X6YfrQ+pb70ftl+xL7zvp5+n36lvo6+vD5d/nH+DD5Y/m6+ef5rfm7+dL5BPo1+pH6evon+sr5n/lN+gX7Zvub+3T7nvsX/Hn8D/0y/fr8EP1Y/a79Pv5M/jT+eP6j/sj+3v7m/hP/Zf9E/yj/E/+r/qn+zP67/tP+tv5Z/vn9pP2g/e798v3H/Z39UP0y/dr8vfwD/Wb8Ifw3/NL7zfvP+4L7pvut+2L7XfsV+/H6Ufsr+/j6rfpJ+nv64/oP+z/7avtJ+4T7i/vC+yr8JPxQ/Fz8cPzu/C/9cP2B/fX9Uf5y/qf+zf5q/43/5P+hAKoAHAFFAY4BkgL4AkUDTQNMA0sDfwP4A2kEjwRlBJEEYwRBBKAEXgQZBDIE+gPbA+YD1AOYA3UDdgOAA78DjQNGAxMDnQKyAoACgQJrAhYC7AGWAZwBfwFIAeMAjgB3ABsA/f+W/3D/Uv8c/xn/9v7Z/pv+qP59/mL+OP7L/W79Pf0n/dn8sfx6/En8F/zc+8775fvP+4T7WvtI++X65foh+z77dftG+2T7l/vq+1j8oPyf/Kf8z/wA/Rn9D/1M/Yf9qf3D/f79G/4U/iH+dP4G/2n/bf+Y/3j/f/+8/yMAqQDkAO4AygCQAJMAEgFCAcIBDgLBAbMBxgHBAVYC4QL4AtcC8QIfA2IDkQPpA24EQwQuBCMEYQS4BBoFdAWOBUEF8gQZBYgF+gU2BhIG4wWcBa4FGQaaBtMGtgaXBl8GdAZoBqkGnwZSBmkGegaDBkgGHAYMBmAGvQZDB00HfAayBX0FwAVABqgGsAYxBkAFrwTCBDMFlwW9BVEF3wRuBAME6QOrA48DlQOEAyADfgL2AbMBogHKAdYBlwERAXAA/f+2/5P/Z/9L/zH/xf5i/vr9rf2m/Xv9e/1W/fD8cfwo/CL85vui+2n7bPte+x77/frT+sn68PoW+wv7tPp7+lj6Wfpv+mf6mfqI+mv6mvqW+o763foi+0/7OvsR+/X6BPsM+zj7rfua+6H7vPu9+/j7Ivxa/Kz8wPzD/LT8mfzi/B79Yf2s/bL90P0M/lT+WP5l/mL+ZP6u/rj+2/7p/rj+xf4E/0r/a/9f/1H/Q/9w/5n/w//Q/4H/pf+w/63/xP/S//r/+v/h/9D/tP+r/+T/+P/o/wYA+P8YAD4AVwCUAI0AmgCoAMgA4AAJATUBIAEFAQABIAFVAX4BgAGKAYMBggGOAZcBiwF3AVEBRwE2ARMBFwHqANEA5ADWALwAgQAtAPH/0P/i//L/w/9U/+v+qv6U/rj+xf68/mn++/3N/an9s/3T/cL9vf2L/VT9Mf0Y/Rf9N/1c/Vj9Qf0K/e/84Pzk/Af9M/1F/SP99fz1/Az9Rf19/av9yv3k/Qj+Cv4f/i7+Wv6N/rb+vf7D/uL+5P4X/2T/kP+4/9D/3f8IABQAHQAqAFEAdwB+AJgArACwAMMA9wAbAT4BPQE4AToBQQFSAXEBdQFoAYUBoQGgAZABhgGnAcMB5AENAiMCCALaAeoB9gEEAiUCOQIlAgIC/QEDAiMCaQKUArQCwQKxAp0CpwKmAq0C3AL7AvgCBAMPAxoDHwMCAzMDYQN6A68DswO4A3YDVwMpAywDegOiA9wDswNeAwMDCwNdA5oDvwOLAzcD5wK3ArICqQLKAsoCoQJFAtwBvwGyAdQBHgIUAuABeQEQAfoAAgE3AUIBJQHfAJEAVgBUAG0AmQCqAIAANgDi/4j/Z/9z/4j/p/+H/1T/F//z/vP+DP8+/zD/Bv/B/mv+X/5R/n7+h/50/mz+Sv5d/kn+R/5T/lD+V/4//iv+9/3p/fP9DP4s/if+FP79/Qn+Ev4T/iL+HP4M/gz+D/4M/hn+Jf4t/iP+H/4n/jf+Uv5q/m3+Xf49/i/+RP5s/pj+mv6W/pH+fv6U/rv+3P4B/xH/JP8d/wf/Dv8u/1D/aP+R/5v/g/9w/3//ov/I/+D/7v/x/93/0P/U/9n/9f8fADcAMAAFAPH/3P/s//7/DgANAP3/3v/A/6v/qP+n/6r/q/+g/4T/fv+J/3//if96/3v/eP9t/2r/Yf9X/1r/Yf9t/3H/bv9x/3P/bf9p/3T/hP+H/37/f/+M/5n/i/+d/6f/qf+t/7r/vf+q/6f/kv+i/7H/yv/a/8b/r/+i/63/uP++/83/2f/C/6b/mP+P/43/hP+S/67/rP+U/4T/hP98/33/i/+P/5T/lv+b/47/h/+C/5L/qP+7/8n/zv/D/7T/v//U/93/7v/4//D/4//m/wIADwAkADoARQBFAD0AQQA+AE0AVQBXAGIAbABnAGYAewCTAKQAsQC1ALAAnACNAJ4AtQC8AMgAzAC7ALYA0ADwAAMBFQEZARUBAwH3AAwBHQE3AT4BLgEtASkBKgFAAU8BXAFZAUABPAE6ATgBRQFFAT0BQwFJAUEBQgFEATwBQwE5ASsBHwEEAfMA/gAOARMBDQHzANUAxgDBAMYAzgC9ALcApAB9AHIAeACJAJMAgwB0AFoAQQA9ADUAMgAwAB8AFwAOAAAA9//7/wwACAD///P/6f/k/+P/5//r/+j/3f/S/8T/w//F/83/1f/R/8j/u/+w/6b/o/+j/6j/qP+c/5f/nv+e/5z/k/+I/4T/hv+U/5H/jP+E/3X/bP9v/3v/g/9+/3f/eP92/3H/b/9q/23/Z/9p/3j/dP9y/3X/df95/4T/jP+Q/47/hv+F/47/l/+X/5j/lv+O/4n/if+K/47/l/+o/7P/sP+s/6v/s/++/8j/zP/O/8X/vf/G/83/0//b/+H/3v/a/+L/5v/p//T/7v/n/+H/3//i/+z/8P/x/+7/6v/o/+n/6f/s/+b/3f/b/+H/6P/j/9n/0v/I/8T/yP/Q/9P/zv/K/8L/u/+//8n/z//B/7z/uf+i/5P/kv+g/63/sv+y/67/pv+f/7D/uf+6/8r/wP+z/7H/ov+s/7j/wv/L/83/4P/W/97/1//R/93/4P/4//X/7f/k/+3/+P8FABcAHQAUAA8AEgAXACQANgA8AD4AOAAnACUAIwAsAEgAVwBfAFgARwBDAE0AZABvAHkAfABvAGUAYgBqAHgAjACVAJoAmACLAIUAhgCHAI4AkwCMAIMAfACAAH0AjQCTAJUAlACEAIQAfAB/AHgAdABzAGwAagBlAGcAawBoAGsAbgBlAFwAXABWAFUAWABPAEcAPwA9AEUARQBEAEMAOgAzACkAKQAxADUANQApACAAGQAYABsAJgAqAB8AFAAHAP//AwAKAAsACAAFAPn/8P/v/+//+f/9//3/+v/x/+j/5f/m/+z/9v/1/+7/5P/f/9n/2//f/+L/5f/h/9f/zf/J/9D/2v/d/97/1//K/73/vP+7/8H/yf/H/8L/u/+x/6//sP+u/7L/sv+t/6f/p/+h/6T/pv+l/6f/qf+l/5//nf+d/6L/qP+q/6j/pf+f/5//oP+o/7P/uv+5/7L/rv+y/7L/t//H/8n/xv/G/8f/xv/M/9D/0f/T/9f/1//Y/97/4v/h/+L/5P/l/+r/7v/0//L/8f/u/+n/5f/u//X/8v/z//X/7v/k/+X/6v/z//b/+f/2/+7/6P/l/+X/6f/t//H/8//x/+r/6P/p/+3/8f/x/+z/6P/p/+b/6v/z//j/9v/6//r/9v/4//n/+//4//r/+f/6/wAAAgAGAAcABwALAA0ADwANAA0ADwATABcAGQAcABwAGwAeACIAJAAqAC0ALQAvACsAKgAoACkALAAxADAALAAqACsAKwAoACwAMwAvADQANgAyADQANAA0ADQANAAyADQANQAzADAALwArACoALgAxADMALgAvACwAKgApACsALgAxADAAKgAoACoALAAvADQAMgAtACgAKAAlACMAJAAmACgAKAAnACYAJQAlACMAJAAnACUAJgAiACAAIgAgAB0AHAAcABwAGwAbABkAFwAZABYAEgAQABMAEwAUABQAEQAPAAwACwAKAAcAAgADAAIAAgABAAAA/f/9///////8//z/+f/2//f/+P/1//T/8//v/+7/7P/u/+//8//y//D/7f/r/+r/6P/o/+j/5//m/+f/5v/o/+j/6P/p/+n/6f/o/+X/5P/k/+L/4//l/+j/5//n/+f/5//l/+T/5//m/+T/4v/h/+H/4f/i/+P/5f/n/+b/5v/j/+P/4//h/+H/4f/j/+P/5P/k/+H/4v/l/+P/4v/j/+b/5v/q/+j/6P/o/+j/6f/q/+v/6//t/+7/8P/v//D/7//v//H/8//z//P/8v/x//D/8//z//H/8f/x//D/8P/1//X/9f/0//L/8//0//H/8f/w//P/8//x//P/9f/3//T/9P/y//L/9P/2//b/9v/3//f/9f/2//j/+P/5//j/+f/5//r/+P/5//n/+P/6//z//P/8//z//f/+//7////+/wAA//8AAAAAAgAEAAEAAQADAAIABAAFAAUABwAHAAsACgAKAAoACgAKAAsACgAJAAoACgAKAAsADAAMABAAEAAPABAADwAPABAADwAPABEAEQAPABEAFAARABAAEwAUABMAFAATABEAEAARABIAEQASABIAEwAUABYAFAAUABQAFAAUABQAFAASABMAEgARABEAEQAQABEAEQAQAA4ADwANAA4ADQAOAA4ADQANAAsACgAKAAsACgAJAAgACQAHAAcABwAHAAYABgAGAAUABQAGAAUABAAFAAQAAwACAAMAAQACAAEAAAAAAAAAAAAAAP7//v////7//f/9//7//f/9//r/+//7//z//P/7//r/+f/5//j/+P/4//n/9v/3//f/9//3//f/9f/0//b/9v/1//T/9P/0//X/9P/1//P/8//0//X/9f/z//P/8v/x//T/8//z//T/8//y//H/8v/x//T/8//y//P/8//0//P/8v/z//T/8//z//T/9f/2//X/9f/2//b/9v/1//T/9P/2//b/9f/2//b/9f/2//f/9v/3//b/9//3//f/9//3//f/+P/5//f/+P/5//r/+f/6//n/+f/5//n/+P/4//n/+//7//z//P/7//v/+v/8//3//v/9//3//P/8//z//f/+//3//v/9//7//f/+////AAAAAP////8AAAAA/v/+/wAA/v8AAAAAAAABAAAAAAD//wAAAAABAAIAAQAAAAAAAAAAAAEAAQAAAAAAAAABAAEAAAABAAIABAADAAIAAgAEAAQABAAEAAUABAACAAUABAAGAAYABQAFAAQABQAFAAYABQAFAAcACAAHAAYABQAGAAYABwAHAAcABwAHAAcABwAGAAcABwAFAAYABQAFAAUABgAHAAUABAAEAAUABgAFAAQABQAEAAUABAAFAAUABQADAAMAAwADAAIAAgACAAQABAAEAAMAAwAEAAMABAAEAAUAAwAEAAQABAADAAMABQACAAQAAwACAAMAAQABAAEAAAAAAAAAAQAAAAAAAAAAAAAAAAABAAAAAAAAAAEAAAABAAAAAAAAAAAAAAD//wAAAAAAAAAAAAD+/wAAAAD//wAAAAAAAP////////7////+//7//v/9//3/+//9//z//f/8//z//f/8//3//f/9//3//f/9//3//P/8//z//P/7//z/+//8//3/+//7//z/+//7//v//f/9//v/+//7//z//P/8//3//P/8//z//P/8//z/+//8//v/+//7//z/+//7//z//f/8//v//P/8//z/+//8//3//P/7//z/+//8//v//f/8//v//P/9//3//P/9//7//v///////v/9//z//v/+/wAAAAAAAP7///8AAP///////////v///wAAAAAAAAAAAAD+/wAA//8AAAAAAAD//wAAAAAAAAAAAAAAAAAAAAAAAAAAAAAAAAAA//8AAAAA//8BAAAAAAAAAAEAAQABAAAAAQABAAAAAAD//wEAAQACAAEAAQABAAIAAAAAAAEAAQABAAAAAAAAAAAAAQABAAEAAQABAAIAAAABAAEAAQADAAEAAQABAAEAAQABAAEAAgAAAAEAAAABAAAAAAAAAAAAAQABAAEAAQABAAAAAQABAAAAAAABAAAAAQAAAAEAAAD//wAAAAAAAAAAAAAAAAAAAAAAAAAAAAD//wAA//8AAAEAAAD+//7/AAD/////AAAAAP//AAAAAAAAAAAAAAAA/v//////AAD//wAAAAAAAAAAAAD//////v8AAAAAAAD+//7//v8AAP////8AAP/////9///////+///////////////+//7//v////7//f/+/wAAAAD///7////+/////v/+//7//v/9//7///////7////////////9//7////+//7//v/+//7////+///////////////+//7//v////7//v/9//7//v8AAP///v8AAP7//v///wAAAAAAAP///v/+//7////+/////v////3////////////+//7///////7//f////3/////////AAD+//7//v/+//7//v8AAP///f///////v///////f/9//3//v////z//f/9/wAAAAD///7///////////8AAAAA/f/////////////////+//7///8AAP///////wAAAAD//////////wAA//8AAAAAAAAAAAAA//8AAAAA//8AAAAAAAD//wAAAQAAAP////8AAAAAAAD//wAAAAAAAAAAAAAAAAAAAAD//wAAAAD//wAA//8AAAEAAQAAAAAAAAAAAAEAAAABAAAAAAABAAAAAAAAAAEAAAABAAAAAAABAAAAAAAAAAAAAAAAAAEAAAAAAAAAAAAAAAAAAgABAAAAAAABAAAAAQABAAAAAAAAAAAAAAAAAAAAAAAAAAAA//8AAAAAAAAAAAAAAAAAAAAAAAAAAAAAAAAAAAAAAAAAAP7///8AAAAAAAAAAAAAAAAAAAAAAAAAAAAAAAAAAP//AAAAAAAA//8AAP//AAAAAAAAAAAAAAAAAAAAAAAAAAAAAP//AAAAAAAAAAAAAAAA//8AAAAA//8AAAAA/////wAA//8AAP//AAAAAAAAAAD/////////////AAAAAAAAAAAAAP//AAD//wAAAAD/////AAAAAP//AAAAAAAAAQABAAAAAAD+/wAAAAAAAAAAAAAAAAAAAAAAAAAAAAAAAP7///8AAAAAAAAAAAAA/v8AAAAAAAAAAAAA//8AAAAAAQAAAAAAAAAAAAAAAAAAAAAAAAAAAP//AAAAAP//AAAAAAAAAAAAAAEAAAAAAAAAAAAAAAAA/v8AAAAAAAAAAAAAAAABAP////8AAAAAAAAAAAAAAAAAAAAAAAAAAAAAAAAAAAAAAAAAAAAAAgAAAAAAAAAAAAAAAAAAAAAAAAAAAP//AAAAAAAA//8AAAAAAAAAAAAAAAAAAAAAAAAAAAAAAAAAAAAAAAAAAAAA//8AAAAAAAAAAAAAAAAAAAAAAAAAAAAA//8AAP//AAABAAAA/v///wAA/////wAAAAD//wAAAAAAAAAAAAAAAAAAAAD//wAA//8AAAAAAAAAAAAAAAAAAP7/AAABAAAAAAAAAP//AAAAAAAAAAAAAAAA//8AAAAAAAAAAAAAAAAAAAAAAAAAAP//AAAAAAAAAAABAAEAAQAAAAAAAAABAAAAAAAAAAAAAAAAAAAAAAD//wAAAAAAAAAA//8AAAAAAAAAAAAAAAAAAAAA//8AAAAAAAAAAAAAAAAAAAAAAAAAAP////8AAAAAAAAAAAAAAQAAAAAAAAAAAAAAAQAAAAAA//8AAAAA//8AAAAAAAD//wAAAAAAAAAAAAD//wAAAAAAAP//AAAAAAAAAAAAAAAAAAAAAAAAAAAAAAAAAAAAAP//////////AAAAAAAA//8AAAAAAAD///////8AAAAAAAD//wAAAAAAAAAAAAAAAP//AAAAAAAAAAAAAAAA//8AAAAAAAAAAAAAAAAAAAAAAAAAAAAAAAAAAAAAAAAAAAAAAAAAAAAAAAAAAAAAAAAAAAAAAAAAAAAAAAAAAAAAAAAAAAAA//8AAAAAAAAAAAAAAAAAAAAAAAAAAAEAAAAAAAAAAAAAAAAAAAAAAAAAAAAAAAAAAAAAAAAAAAAAAAAAAAAAAAAAAQAAAAAAAAAAAAAAAAD//wAA//8AAAAAAAAAAP//AAAAAAAAAAAAAP//AAAAAAAAAAAAAAAA//8AAAAAAAAAAAAAAAABAAAAAQAAAP//AAAAAAAAAAAAAAAA//8AAAAAAAAAAAAAAAAAAP//AAAAAAAAAAAAAAAAAAAAAAAAAAAAAAAAAAD//wAAAAAAAAAAAAAAAAAAAAAAAAAA//8AAAAAAAAAAAAAAAAAAAAAAAAAAAAAAAAAAP//AAD///7//////wAA//8AAAAAAAD//wAAAAAAAAAA//8AAAAAAAAAAAAA//8AAAAAAAAAAAAAAAAAAP////8AAAAA/////wAAAAAAAAAAAAAAAAAAAAAAAAAAAAAAAAAA/////wAAAAAAAAAAAAAAAAAAAAAAAAAA//8AAAAA//////////8AAAAA/////wAAAAAAAP///////wAAAAAAAP//AAAAAAAAAAAAAAAA//8AAAAAAAAAAAAAAAD/////AAAAAAAAAAAAAAAAAAAAAAAAAAAAAAAAAAAAAAAAAAAAAAAAAAAAAAAAAAAAAAAAAAAAAAAAAAAAAP//AAAAAAAAAAAAAAAAAAAAAAAAAAAAAAAAAAAAAAAAAAAAAAAAAAAAAAAAAAAAAAAAAAAAAAAAAAAAAAAAAAAAAAAAAAD//wAAAAAAAAAAAAAAAAAA//8AAAAAAAAAAAAAAAAAAAAAAAAAAAAAAAAAAP//AAAAAAAAAAAAAAAAAAAAAAAAAAAAAAAAAAAAAAAAAAAAAAAAAAAAAAAAAAAAAAAAAAAAAAAAAAAAAAAAAAAAAAAAAAAAAAAAAAAAAAAAAAAAAAAAAAAAAAAAAAAAAAAAAAAAAAAAAAAAAAAAAAAAAAAAAAAAAAAAAAAAAAAAAAAAAAAAAAAAAAAAAAAAAAAAAAAAAAAAAAAAAAAAAAAAAAAAAAAAAAAAAAAAAAAAAAAAAAAAAAAAAAAAAAAAAAAAAAAAAAAAAAAAAAAAAAAAAAAAAQAAAAAAAAAAAAAAAAAAAAAAAAAAAAAAAAAAAAAAAAAAAAAAAAAAAAAAAAAAAAAA//8AAAAAAAAAAAAAAAAAAAAAAAAAAAAA//8AAAAAAAAAAAAAAAAAAAAAAAAAAAAAAAAAAAAAAAAAAAAAAQAAAAAAAAAAAAAAAAAAAAAAAAAAAAAA//8AAAAAAAAAAAAAAAAAAAAAAAAAAAAAAAAAAAAAAAAAAAAAAAAAAAAAAAAAAAAAAAAAAAAAAAAAAAAAAAAAAAAAAAAAAAAAAAAAAAAAAAAAAAAAAAAAAAAAAAAAAAAAAAAAAAAAAAAAAAAAAAAAAAAAAAAAAAAAAAAAAAAAAAAAAAAAAAAAAAAAAAAAAAAAAAAAAAAAAAAAAAAAAAAAAAAAAAAAAAAAAQAAAAAAAAAAAAAAAAAAAAAAAAAAAAAAAAAAAAAAAAAAAAAAAAAAAAAAAAAAAAAAAAAAAAAAAAAAAAAAAQAAAAAAAAAAAAAAAAAAAAAAAAAAAAAAAAAAAAAAAAAAAAAAAAAAAAAAAAAAAAAAAAAAAAAAAAAAAAAAAAAAAAAAAAAAAAAAAAAAAAAAAAAAAAAAAAAAAAAAAAAAAAAAAAAAAAAAAAAAAAAAAAAAAAAAAAAAAAAAAAAAAAAAAAAAAAAAAAAAAAAAAAAAAAAAAAAAAAAAAAAAAAAAAAAAAAAAAAAAAAAAAAAAAAAAAAAAAAAAAAAAAAAAAAAAAAAAAAAAAAAAAAAAAAAAAAAAAAAAAAAAAAAAAAAAAAAAAAAAAAAAAAAAAAAAAAAAAAAAAAAAAAAAAAAAAAAAAAAAAAAAAAAAAAAAAAAAAAAAAAAAAAAAAAAAAAAAAAAAAAAA//8AAAAAAAAAAAAAAAAAAAAAAAAAAAAAAAAAAAAAAAAAAAAAAAAAAAAAAAAAAAAAAAAAAAAAAAAAAAAAAAAAAAAAAAAAAAAAAAAAAAAAAAAAAAAAAAAAAAAAAAAAAAAAAAAAAAAAAAAAAAAAAAAAAAAAAAAAAAAAAAAAAAAAAAAAAAAAAAAAAAAAAAAAAAAAAAAAAAAAAAAAAAAAAAAAAAAAAAAAAAAAAAAAAAAAAAAAAAAAAAAAAAAAAAAAAAAAAAAAAAAAAAAAAAAAAAAAAAAAAAAAAAAAAAAAAAAAAAAAAAAAAAAAAAAAAAAAAAAAAAAAAAAAAAAAAAAAAAAAAAAAAAAAAAAAAAAAAAAAAAAAAAAAAAAAAAAAAAAAAAAAAAAAAAAAAAAAAAAAAAAAAAAAAAAAAAAAAAAAAAAAAAAAAAAAAAAAAAAAAAAAAAAAAAAAAAAAAAAAAAAAAAAAAAAAAAAAAAAAAAAAAAAAAAAAAAAAAAAAAAAAAAAAAAAAAAAAAAAAAAAAAAAAAAAAAAAAAAAAAAAAAAAAAAAAAAAAAAAAAAAAAAAAAAAAAAAAAAAAAAAAAAAAAAAAAAAAAAAAAAAAAAAAAAAAAAAAAAAAAAAAAAAAAAAAAAAAAAAAAAAAAAAAAAAAAAAAAAAAAAAAAAAAAAAAAAAAAAAAAAAAAAAAAAAAAAAAAAAAAAAAAAAAAAAAAAAAAAAAAAAAAAAAAAAAAAAAAAAAAAAAAAAAAAAAAAAAAAAAAAAAAAAAAAAAAAAAAAAAAAAAAAAAAAAAAAAAAAAAAAAAAAAAAAAAAAAAAAAAAAAAAAAAAAAAAAAAAAAAAAAAAAAAAAAAAAAAAAAAAAAAAAAAAAAAAAAAAAAAAAAAAAAAAAAAAAAAAAAAAAAAAAAAAAAAAAAAAAAAAAAAAAAAAAAAAAAAAAAAAAAAAAAAAAAAAAAAAAAAAAAAAAAAAAAAAAAAAAAAAAEAAAD//wAAAAAAAAAAAAAAAAAAAAAAAAAAAAAAAAAAAAAAAAAAAAAAAAAAAAAAAAAAAAAAAAAAAAAAAAAAAAAAAAAAAAAAAAAAAAAAAAAAAAAAAAAAAAAAAAAAAAAAAAAAAAAAAAAAAAAAAAAAAAAAAAAAAAAAAAAAAAAAAAAAAAAAAAAAAAAAAAAAAAAAAAAAAAAAAAAAAAAAAAAAAAAAAAAAAAAAAAAAAAAAAAAAAAAAAAAAAAAAAAAAAAAAAAAAAAAAAAAAAAAAAAAAAAAAAAAAAAAAAAAAAAAAAAAAAAAAAAAAAAAAAAAAAAAAAAAAAAAAAAAAAAAAAAAAAAAAAAAAAAAAAAAAAAAAAAAAAAAAAAAAAAAAAAAAAAAAAP//AAAAAAAAAAAAAAAAAAAAAAAAAAAAAAAAAAAAAAAAAAAAAAAAAAAAAAAAAAAAAAAAAAAAAAAAAAAAAAAAAAAAAAAAAAAAAAAAAAAAAAAAAAAAAAAAAAAAAAAAAAAAAAAAAAAAAAAAAAAAAAAAAAAAAAAAAAAAAAAAAAAAAAAAAAAAAAAAAAAAAAAAAAAAAAAAAAAAAAAAAAAAAAAAAAAAAAAAAAAAAAAAAAAAAAAAAAAAAAAAAAAAAAAAAAAAAAAAAAAAAAAAAAAAAAAAAAAAAAAAAAAAAAAAAAAAAAAAAAAAAAAAAAAAAAAAAAAAAAAAAAAAAAAAAAAAAAAAAAAAAAAAAAAAAAAAAAAAAAAAAAAAAAAAAAAAAAAAAAAAAAAAAAAAAAAAAAAAAAAAAAAAAAAAAAAAAAAAAAAAAAAAAAAAAAAAAAAAAAAAAAAAAAAAAAAAAAAAAAAAAAAAAAAAAAAAAAAAAAAAAAAAAAAAAAAAAAAAAAABAAAAAAAAAAAAAAAAAAAAAAAAAAAAAAAAAAAAAAAAAAAAAAAAAAAAAAAAAAAAAAAAAAAAAAAAAAAAAAAAAAAAAAAAAAAAAAAAAAAAAAAAAP//AAAAAAAAAAAAAAAAAAAAAAAAAAAAAAAAAAAAAAAAAAAAAAAAAAAAAAAAAAAAAAAAAAAAAAAAAAAAAAAAAAD//wAAAAAAAAAAAAAAAAAAAAAAAAAAAAAAAAAAAAAAAAAAAAAAAAAAAAAAAAAAAAAAAAAAAAAAAAAAAAAAAAAAAAAAAAAAAAAAAAAAAAAAAAAAAAAAAAAAAAAAAAAAAAAAAAAAAAAAAAAAAAAAAAAAAAAAAAAAAAAAAAAAAAAAAAAAAAAAAAAAAAAAAAAAAAAAAAAAAAAAAAAAAAAAAAAAAAAAAAAAAAAAAAAAAAAAAAAAAAAAAAAAAAAAAAAAAAAAAAAAAAAAAAAAAAAAAAAAAAAAAAAAAAABAAAA//8AAAAAAAAAAAAAAAAAAAAAAAAAAAAAAAAAAAAAAAAAAAAAAAAAAAAAAAAAAAAAAAAAAAAAAAAAAAAAAAAAAAAAAAAAAAAAAAAAAAAAAAAAAAAAAAAAAAAAAAAAAAAAAAAAAAAAAAAAAAAAAAAAAAAAAAAAAAAAAAAAAAAAAAAAAAAAAAAAAAAAAAAAAAAAAAAAAAAAAAAAAAAAAAAAAAAAAAAAAAAAAAAAAAAAAAAAAAAAAAAAAAAAAAAAAAAAAAAAAAAAAAAAAAAAAAAAAAAAAAAAAAAAAAAAAAAAAAAAAAAAAAAAAAAAAAAAAAAAAAAAAAAAAAAAAAAAAAAAAAAAAAAAAAAAAAAAAAAAAAAAAAAAAAAAAAAAAAD//wAAAAAAAAAAAAAAAAAAAAAAAAAAAAAAAAAAAAAAAAAAAAAAAAAAAAAAAAAAAAAAAAAAAAAAAAAAAAAAAAAAAAAAAAAAAAAAAAAAAAAAAAAAAAAAAAAAAAAAAAAAAAAAAAAAAAAAAAAAAAAAAAAAAAAAAAAAAAAAAAAAAAAAAAAAAAAAAAAAAAAAAAAAAAAAAAAAAAAAAAAAAAAAAAAAAAAAAAAAAAAAAAAAAAAAAAAAAAAAAAAAAAAAAAAAAAAAAAAAAAAAAAAAAAAAAAAAAAAAAAAAAAAAAAAAAAAAAAAAAAAAAAAAAAAAAAAAAAAAAAAAAAAAAAAAAAAAAAAAAAAAAAAAAAAAAAAAAAAAAAAAAAAAAAAAAAAAAAAAAAAAAAAAAAAAAAAAAAAAAAAAAAAAAAAAAAAAAAAAAAAAAAAAAAAAAAAAAAAAAAAAAAAAAAAAAAAAAAAAAAAAAAAAAAAAAAAAAAAAAAAAAAAAAAAAAAAAAAAAAQAAAAAAAAAAAAAAAAAAAAAAAAAAAAAAAAAAAAAAAAAAAAAAAAAAAAAAAAAAAAAAAAAAAAAAAAAAAAAAAAAAAAAAAAAAAAAA//8AAAAAAAD//wAAAAAAAAAAAAAAAAAAAAAAAAAAAAAAAAAAAAAAAAAAAAAAAAAAAAAAAAAAAAAAAAAAAAAAAAAAAAAAAAAA//8AAAAAAAAAAAAAAAAAAAAAAAAAAAAAAAAAAAAAAAAAAAAAAAAAAAAAAAAAAAAAAAAAAAAAAAAAAAAAAAAAAAAAAAAAAAAAAAAAAAAAAAAAAAAAAAAAAAAAAAAAAAAAAAAAAAAAAAAAAAAAAAAAAAAAAAAAAAAAAAAAAAAAAAAAAAAAAAAAAAAAAAAAAAAAAAAAAAAAAAAAAAAAAAAAAAAAAAAAAAAAAAAAAAAAAAAAAAAAAAAAAAAAAAAAAAAAAAAAAAAAAAAAAAAAAAAAAAAAAAAAAAAAAQAAAAAAAAAAAAAAAAAAAAAAAAAAAAAAAAAAAAAAAAAAAAAAAAAAAAAAAAAAAAAAAAAAAAAAAAAAAAAAAAAAAAAAAAAAAAAAAAAAAAAAAAAAAAAAAAAAAAAAAAAAAAAAAAAAAAAAAAAAAAAAAAAAAAAAAAAAAAAAAAAAAAAAAAAAAAAAAAAAAAAAAAAAAAAAAAAAAAAAAAAAAAAAAAAAAAAAAAAAAAAAAAAAAAAAAAAAAAAAAAAAAAAAAAAAAAAAAAAAAAAAAAAAAAAAAAAAAAAAAAAAAAAAAAAAAAAAAAAAAAAAAAAAAAAAAAAAAAAAAAAAAAAAAAAAAAAAAAAAAAAAAAAAAAAAAAAAAAAAAAAAAAAAAAAAAAAAAAAAAAAAAAAAAAAAAAAAAAAAAAAAAAAAAAAAAAAAAAAAAAAAAAAAAAAAAAAAAAAAAAAAAAAAAAAAAAAAAAAAAAAAAAAAAAAAAAAAAAAAAAAAAAAAAAAAAAAAAAAAAAAAAAAAAAAAAAAAAAAAAAAAAAAAAAAAAAAAAAAAAAAAAAAAAAAAAAAAAAAAAAAAAAAAAAAAAAAAAAAAAAAAAAAAAAAAAAAAAAAAAAAAAAAAAAAAAAAAAAAAAAAAAAAAAAAAAAAAAAAAAAAAAAAAAAAAAAAAAAAAAAAAAAAAAAAAAAAAAAAAAAAAAAAAAAAAAAAAAAAAAAAAAAAAAAAAAAAAAAAAAAAAAAAAAAAAAAAAAAAAAAAAAAAAAAAAAAAAAAAAAAAAAAAAAAAAAAAAAAAAAAAAAAAAAAAAAAAAAAAAAAAAAAAAAAAAAAAAAAAAAAAAAAAAAAAAAAAAAAAAAAAAAAAAAAAAAAAAAAAAAAAAAAAAAAAAAAAAAAAAAAAAAAAAAAAAAAAAAAAAAAAAAAAAAAAAAAAAAAAAAAAAAAAAAAAAAAAAAAAAAAAAAAAAAAAAAAAAAAAAAAAAAAAAAAAAAAAAAAAAAAAAAAAAAAAAAAAAAAAAAAAAAAAAAAAAAAAAAAAAAAAAAAAAAAAAAAAAAAAAAAAAAAAAAAAAAAAAAAAAAAAAAAAAAAAAAAAAAP//AAAAAAAAAAAAAAAAAAAAAAAAAAAAAAAAAAAAAAAAAQAAAAAAAAAAAAAAAAAAAAAAAAAAAAAAAAAAAAAAAAAAAAAAAAAAAAAAAAAAAAAA//8AAAAAAAABAAAAAAAAAAAAAAAAAAAAAAAAAAAAAAAAAAAAAAAAAAAAAAAAAAAAAAAAAAAAAAD//wAAAAAAAAAAAAAAAAAAAAAAAAAAAAAAAAAAAAAAAAAAAAAAAAAAAAAAAAAAAAAAAAAAAAAAAAAAAAAAAAAAAAAAAAAAAAAAAAAAAAAAAAAAAAAAAAAAAAAAAAAAAAAAAAAAAAAAAAAAAAAAAAAAAAAAAAAAAAAAAAAAAAAAAAAAAAAAAAAAAAAAAAAAAAAAAAAAAAAAAP//AAAAAAAAAAAAAAAAAAAAAAAAAAAAAAAAAAAAAAAAAAAAAAAAAAAAAAAAAAAAAAAAAAAAAAAAAAAAAAAAAAAAAAAAAAAAAAAAAAAAAAAAAAAAAAAAAAAAAAAAAAAAAAAAAAAAAAAAAAAAAAAAAAAAAAAAAAAAAAAAAAAAAAAAAAAAAAAAAAAAAAAAAAAAAAAAAAAAAAAAAQAAAAAAAAAAAAAAAAAAAAAAAAAAAAAAAAAAAAAAAAAAAAAAAAAAAAAAAAAAAAAAAAAAAAAAAAAAAAAAAAAAAAAAAAAAAAAAAAAAAAAAAAAAAAAAAAAAAAAAAAAAAAAAAAAAAAAAAAABAAAAAAAAAAAAAAAAAAAAAAAAAAAAAAAAAAAAAQAAAAAAAAAAAAAAAAAAAAAAAAAAAAAAAAAAAAAAAAAAAAAAAAAAAAAAAAAAAAAAAAAAAAAAAAAAAAAAAAAAAAAAAAAAAAAAAAAAAAAAAAAAAAAAAAAAAAAAAAAAAAAAAAAAAAAAAAAAAAAAAAAAAAAAAAAAAAAAAAAAAAAAAAAAAAAAAAAAAAAAAAAAAAAAAAAAAAAAAAAAAAAAAAAAAAAAAAAAAAAAAAAAAAAAAAAAAAAAAAAAAAAAAAAAAAAAAAAAAAAAAAAAAAAAAAAAAAAAAAAAAAAAAAAAAAAAAAAAAAAAAAAAAAAAAAAAAAAAAAAAAAAAAAAAAAAAAAAAAAAAAAAAAAAAAAAAAAAAAAAAAAAAAAAAAAAAAAAAAAAAAAAAAAAAAAAAAAAAAAAAAAAAAAAAAAAAAAAAAAAAAAAAAAAAAAAAAAAAAAAAAAAAAAAAAAAAAAAAAAAAAAAAAAAAAAAAAAAAAAAAAAAAAAAAAAAAAAAAAAAAAAAAAAAAAAAAAAAAAAAAAAAAAAAAAAAAAAAAAAAAAAAAAAAAAAAAAAAAAAAAAAAAAAAAAAAAAAAAAAAAAAAAAAAAAAAAAAAAAAAAAAAAAAAAAAAAAAAAAAAAAAAAAAAAAAAAAAAAAAAAAAAAAAAAAAAAAAAAAAAAAAAAAAAAAAAAAAAAAAAAAAAAAAAAAAAAAAAAAAAAAAAAAAAAAAAAAAAAAAAAAAAAAAAAAAAAAAAAAAAAAAAAAAAAAAAAAAAAAAAAAAAAAAAAAAAAAAAAAAAAAAAAAAAAAAAAAAAAAAAAAAAAAAAAAAAAAAAAAAAAAAAAAAAAAAAAAAAAAAAAAAAAAAAAAAAAAAAAAAAAAAAAAAAAAAAAAAAAAAAAAAAAAAAAAAAAAAAAAAAAAAAAAAAAAAAAAAAAAAAAAAAAAAAAAAAAAAAAAAAAAAAAAAAAAAAAAAAAAAAAAAAAAAAAAAAAAAAAAAAAAAAAAAAAAAAAAAAAAAAAAAAAAAAAAAAAAAAAAAAAAAAAAAAAAAAAAAAAAAAAAAAAAAAAAAAAAAAAAAAAAAAAAAAAAAAAAAAAAAAAAAAAAAAAAAAAAAAAAAAAAAAAAAAAAAAAAAAAAAAAAAAAAAAAAAAAAAAAAAAAAAAAAAAAAAAAAAAAAAAAAAAAAAAAAAAAAAAAAAAAAAAAAAAAAAAAAAAAAAAAAAAAAAAAAAAAAAAAAAAAAAAAAAAAAAAAAAAAAAAAAAAAAAAAAAAAAAAAAAAAAAAAAAAAAAAAAAAAAAAAAAAAAAAAAAAAAAAAAAAAAAAAAAAAAAAAAAAAAAAAAAAAAAAAAAAAAAAAAAAAAAAAAAAAAAAAAAAAAAAAAAAAAAAAAAAAAAAAAAAAAAAAAAAAAAAAAAAAAAAAAAAAAAAAAAAAAAAAAAAAAAAAAAAAAAAAAAAAAAAAAAAAAAAAAAAAAAAAAAAAAAAAAAAAAAAAAAAAAAAAAAAAAAAAAAAAAAAAAAAAAAAAAAAAAAAAAAAAAAAAAAAAAAAAAAAAAAAAAAAAAAAAAAAAAAAAAAAAAAAAAAAAAAAAAAAAAAAAAAAAAAAAAAAAAAAAAAAAAAAAAAAAAAAAAAAAAAAAAAAAAAAAAAAAAAAAAAAAAAAAAAAAAAAAAAAAAAAAAAAAAAAAAAAAAAAAAAAAAAAAAAAAAAAAAAAAAAAAAAAAAAAAAAAAAAAAAAAAAAAAAAAAAAAAAAAAAAAAAAAAAAAAAAAAAAAAAAAAAAAAAAAAAAAAAAAAAAAAAAAAAAAAAAAAAAAAAAAAAAAAAAAAAAAAAAAAAAAAAAAAAAAAAAAAAAAAAAAAAAAAAAAAAAAAAAAAAAAAAAAAAAAAAAAAAAAAAAAAAAAAAAAAAAAAAAAAAAAAAAAAAAAAAAAAAAAAAAAAAAAAAAAAAAAAAAAAAAAAAAAAAAAAAAAAAAAAAAAAAAAAAAAAAAAAAAAAAAAAAAAAAAAAAAAAAAAAAAAAAAAAAAAAAAAAAAAAAAAAAAAAAAAAAAAAAAAAAAAAAAAAAAAAAAAAAAAAAAAAAAAAAAAAAAAAAAAAAAAAAAAAAAAAAAAAAAAAAAAAAAAAAAAAAAAAAAAAAAAAAAAAAAAAAAAAAAAAAAAAAAAAAAAAAAAAAAAAAAAAAAAAAAAAAAAAAAAAAAAAAAAAAAAAAAAAAAAAAAAAAAAAAAAAAAAAAAAAAAAAAAAAAAAAAAAAAAAAAAAAAAAAAAAAAAAAAAAAAAAAAAAAAAAAAAAAAAAAAAAAAAAAAAAAAAAAAAAAAAAAAAAAAAAAAAAAAAAAAAAAAAAAAAAAAAAAAAAAAAAAAAAAAAAAAAAAAAAAAAAAAAAAAAAAAAAAAAAAAAAAAAAAAAAAAAAAAAAAAAAAAAAAAAAAAAAAAAAAAAAAAAAAAAAAAAAAAAAAAAAAAAAAAAAAAAAAAAAAAAAAAAAAAAAAAAAAAAAAAAAAAAAAAAAAAAAAAAAAAAAAAAAAAAAAAAAAAAAAAAAAAAAAAAAAAAAAAAAAAAAAAAAAAAAAAAAAAAAAAAAAAAAAAAAAAAAAAAAAAAAAAAAAAAAAAAAAAAAAAAAAAAAAAAAAAAAAAAAAAAAAAAAAAAAAAAAAAAAAAAAAAAAAAAAAAAAAAAAAAAAAAAAAAAAAAAAAAAAAAAAAAAAAAAAAAAAAAAAAAAAAAAAAAAAAAAAAAAAAAAAAAAAAAAAAAAAAAAAAAAAAAAAAAAAAAAAAAAAAAAAAAAAAAAAAAAAAAAAAAAAAAAAAAAAAAAAAAAAAAAAAAAAAAAAAAAAAAAAAAAAAAAAAAAAAAAAAAAAAAAAAAAAAAAAAAAAAAAAAAAAAAAAAAAAAAAAAAAAAAAAAAAAAAAAAAAAAAAAAAAAAAAAAAAAAAAAAAAAAAAAAAAAAAAAAAAAAAAAAAAAAAAAAAAAAAAAAAAAAAAAAAAAAAAAAAAAAAAAAAAAAAAAAAAAAAAAAAAAAAAAAAAAAAAAAAAAAAAAAAAAAAAAAAAAAAAAAAAAAAAAAAAAAAAAAAAAAAAAAAAAAAAAAAAAAAAAAAAAAAAAAAAAAAAAAAAAAAAAAAAAAAAAAAAAAAAAAAAAAAAAAAAAAAAAAAAAAAAAAAAAAAAAAAAAAAAAAAAAAAAAAAAAAAAAAAAAAAAAAAAAAAAAAAAAAAAAAAAAAAAAAAAAAAAAAAAAAAAAAAAAAAAAAAAAAAAAAAAAAAAAAAAAAAAAAAAAAAAAAAAAAAAAAAAAAAAAAAAAAAAAAAAAAAAAAAAAAAAAAAAAAAAAAAAAAAAAAAAAAAAAAAAAAAAAAAAAAAAAAAAAAAAAAAAAAAAAAAAAAAAAAAAAAAAAAAAAAAAAAAAAAAAAAAAAAAAAAAAAAAAAAAAAAAAAAAAAAAAAAAAAAAAAAAAAAAAAAAAAAAAAAAAAAAAAAAAAAAAAAAAAAAAAAAAAAAAAAAAAAAAAAAAAAAAAAAAAAAAAAAAAAAAAAAAAAAAAAAAAAAAAAAAAAAAAAAAAAAAAAAAAAAAAAAAAAAAAAAAAAAAAAAAAAAAAAAAAAAAAAAAAAAAAAAAAAAAAAAAAAAAAAAAAAAAAAAAAAAAAAAAAAAAAAAAAAAAAAAAAAAAAAAAAAAAAAAAAAAAAAAAAAAAAAAAAAAAAAAAAAAAAAAAAAAAAAAAAAAAAAAAAAAAAAAAAAAAAAAAAAAAAAAAAAAAAAAAAAAAAAAAAAAAAAAAAAAAAAAAAAAAAAAAAAAAAAAAAAAAAAAAAAAAAAAAAAAAAAAAAAAAAAAAAAAAAAAAAAAAAAAAAAAAAAAAAAAAAAAAAAAAAAAAAAAAAAAAAAAAAAAAAAAAAAAAAAAAAAAAAAAAAAAAAAAAAAAAAAAAAAAAAAAAAAAAAAAAAAAAAAAAAAAAAAAAAAAAAAAAAAAAAAAAAAAAAAAAAAAAAAAAAAAAAAAAAAAAAAAAAAAAAAAAAAAAAAAAAAAAAAAAAAAAAAAAAAAAAAAAAAAAAAAAAAAAAAAAAAAAAAAAAAAAAAAAAAAAAAAAAAAAAAAAAAAAAAAAAAAAAAAAAAAAAAAAAAAAAAAAAAAAAAAAAAAAAAAAAAAAAAAAAAAAAAAAAAAAAAAAAAAAAAAAAAAAAAAAAAAAAAAAAAAAAAAAAAAAAAAAAAAAAAAAAAAAAAAAAAAAAAAAAAAAAAAAAAAAAAAAAAAAAAAAAAAAAAAAAAAAAAAAAAAAAAAAAAAAAAAAAAAAAAAAAAAAAAAAAAAAAAAAAAAAAAAAAAAAAAAAAAAAAAAAAAAAAAAAAAAAAAAAAAAAAAAAAAAAAAAAAAAAAAAAAAAAAAAAAAAAAAAAAAAAAAAAAAAAAAAAAAAAAAAAAAAAAAAAAAAAAAAAAAAAAAAAAAAAAAAAAAAAAAAAAAAAAAAAAAAAAAAAAAAAAAAAAAAAAAAAAAAAAAAAAAAAAAAAAAAAAAAAAAAAAAAAAAAAAAAAAAAAAAAAAAAAAAAAAAAAAAAAAAAAAAAAAAAAAAAAAAAAAAAAAAAAAAAAAAAAAAAAAAAAAAAAAAAAAAAAAAAAAAAAAAAAAAAAAAAAAAAAAAAAAAAAAAAAAAAAAAAAAAAAAAAAAAAAAAAAAAAAAAAAAAAAAAAAAAAAAAAAAAAAAAAAAAAAAAAAAAAAAAAAAAAAAAAAAAAAAAAAAAAAAAAAAAAAAAAAAAAAAAAAAAAAAAAAAAAAAAAAAAAAAAAAAAAAAAAAAAAAAAAAAAAAAAAAAAAAAAAAAAAAAAAAAAAAAAAAAAAAAAAAAAAAAAAAAAAAAAAAAAAAAAAAAAAAAAAAAAAAAAAAAAAAAAAAAAAAAAAAAAAAAAAAAAAAAAAAAAAAAAAAAAAAAAAAAAAAAAAAAAAAAAAAAAAAAAAAAAAAAAAAAAAAAAAAAAAAAAAAAAAAAAAAAAAAAAAAAAAAAAAAAAAAAAAAAAAAAAAAAAAAAAAAAAAAAAAAAAAAAAAAAAAAAAAAAAAAAAAAAAAAAAAAAAAAAAAAAAAAAAAAAAAAAAAAAAAAAAAAAAAAAAAAAAAAAAAAAAAAAAAAAAAAAAAAAAAAAAAAAAAAAAAAAAAAAAAAAAAAAAAAAAAAAAAAAAAAAAAAAAAAAAAAAAAAAAAAAAAAAAAAAAAAAAAAAAAAAAAAAAAAAAAAAAAAAAAAAAAAAAAAAAAAAAAAAAAAAAAAAAAAAAAAAAAAAAAAAAAAAAAAAAAAAAAAAAAAAAAAAAAAAAAAAAAAAAAAAAAAAAAAAAAAAAAAAAAAAAAAAAAAAAAAAAAAAAAAAAAAAAAAAAAAAAAAAAAAAAAAAAAAAAAAAAAAAAAAAAAAAAAAAAAAAAAAAAAAAAAAAAAAAAAAAAAAAAAAAAAAAAAAAAAAAAAAAAAAAAAAAAAAAAAAAAAAAAAAAAAAAAAAAAAAAAAAAAAAAAAAAAAAAAAAAAAAAAAAAAAAAAAAAAAAAAAAAAAAAAAAAAAAAAAAAAAAAAAAAAAAAAAAAAAAAAAAAAAAAAAAAAAAAAAAAAAAAAAAAAAAAAAAAAAAAAAAAAAAAAAAAAAAAAAAAAAAAAAAAAAAAAAAAAAAAAAAAAAAAAAAAAAAAAAAAAAAAAAAAAAAAAAAAAAAAAAAAAAAAAAAAAAAAAAAAAAAAAAAAAAAAAAAAAAAAAAAAAAAAAAAAAAAAAAAAAAAAAAAAAAAAAAAAAAAAAAAAAAAAAAAAAAAAAAAAAAAAAAAAAAAAAAAAAAAAAAAAAAAAAAAAAAAAAAAAAAAAAAAAAAAAAAAAAAAAAAAAAAAAAAAAAAAAAAAAAAAAAAAAAAAAAAAAAAAAAAAAAAAAAAAAAAAAAAAAAAAAAAAAAAAAAAAAAAAAAAAAAAAAAAAAAAAAAAAAAAAAAAAAAAAAAAAAAAAAAAAAAAAAAAAAAAAAAAAAAAAAAAAAAAAAAAAAAAAAAAAAAAAAAAAAAAAAAAAAAAAAAAAAAAAAAAAAAAAAAAAAAAAAAAAAAAAAAAAAAAAAAAAAAAAAAAAAAAAAAAAAAAAAAAAAAAAAAAAAAAAAAAAAAAAAAAAAAAAAAAAAAAAAAAAAAAAAAAAAAAAAAAAAAAAAAAAAAAAAAAAAAAAAAAAAAAAAAAAAAAAAAAAAAAAAAAAAAAAAAAAAAAAAAAAAAAAAAAAAAAAAAAAAAAAAAAAAAAAAAAAAAAAAAAAAAAAAAAAAAAAAAAAAAAAAAAAAAAAAAAAAAAAAAAAAAAAAAAAAAAAAAAAAAAAAAAAAAAAAAAAAAAAAAAAAAAAAAAAAAAAAAAAAAAAAAAAAAAAAAAAAAAAAAAAAAAAAAAAAAAAAAAAAAAAAAAAAAAAAAAAAAAAAAAAAAAAAAAAAAAAAAAAAAAAAAAAAAAAAAAAAAAAAAAAAAAAAAAAAAAAAAAAAAAAAAAAAAAAAAAAAAAAAAAAAAAAAAAAAAAAAAAAAAAAAAAAAAAAAAAAAAAAAAAAAAAAAAAAAAAAAAAAAAAAAAAAAAAAAAAAAAAAAAAAAAAAAAAAAAAAAAAAAAAAAAAAAAAAAAAAAAAAAAAAAAAAAAAAAAAAAAAAAAAAAAAAAAAAAAAAAAAAAAAAAAAAAAAAAAAAAAAAAAAAAAAAAAAAAAAAAAAAAAAAAAAAAAAAAAAAAAAAAAAAAAAAAAAAAAAAAAAAAAAAAAAAAAAAAAAAAAAAAAAAAAAAAAAAAAAAAAAAAAAAAAAAAAAAAAAAAAAAAAAAAAAAAAAAAAAAAAAAAAAAAAAAAAAAAAAAAAAAAAAAAAAAAAAAAAAAAAAAAAAAAAAAAAAAAAAAAAAAAAAAAAAAAAAAAAAAAAAAAAAAAAAAAAAAAAAAAAAAAAAAAAAAAAAAAAAAAAAAAAAAAAAAAAAAAAAAAAAAAAAAAAAAAAAAAAAAAAAAAAAAAAAAAAAAAAAAAAAAAAAAAAAAAAAAAAAAAAAAAAAAAAAAAAAAAAAAAAAAAAAAAAAAAAAAAAAAAAAAAAAAAAAAAAAAAAAAAAAAAAAAAAAAAAAAAAAAAAAAAAAAAAAAAAAAAAAAAAAAAAAAAAAAAAAAAAAAAAAAAAAAAAAAAAAAAAAAAAAAAAAAAAAAAAAAAAAAAAAAAAAAAAAAAAAAAAAAAAAAAAAAAAAAAAAAAAAAAAAAAAAAAAAAAAAAAAAAAAAAAAAAAAAAAAAAAAAAAAAAAAAAAAAAAAAAAAAAAAAAAAAAAAAAAAAAAAAAAAAAAAAAAAAAAAAAAAAAAAAAAAAAAAAAAAAAAAAAAAAAAAAAAAAAAAAAAAAAAAAAAAAAAAAAAAAAAAAAAAAAAAAAAAAAAAAAAAAAAAAAAAAAAAAAAAAAAAAAAAAAAAAAAAAAAAAAAAAAAAAAAAAAAAAAAAAAAAAAAAAAAAAAAAAAAAAAAAAAAAAAAAAAAAAAAAAAAAAAAAAAAAAAAAAAAAAAAAAAAAAAAAAAAAAAAAAAAAAAAAAAAAAAAAAAAAAAAAAAAAAAAAAAAAAAAAAAAAAAAAAAAAAAAAAAAAAAAAAAAAAAAAAAAAAAAAAAAAAAAAAAAAAAAAAAAAAAAAAAAAAAAAAAAAAAAAAAAAAAAAAAAAAAAAAAAAAAAAAAAAAAAAAAAAAAAAAAAAAAAAAAAAAAAAAAAAAAAAAAAAAAAAAAAAAAAAAAAAAAAAAAAAAAAAAAAAAAAAAAAAAAAAAAAAAAAAAAAAAAAAAAAAAAAAAAAAAAAAAAAAAAAAAAAAAAAAAAAAAAAAAAAAAAAAAAAAAAAAAAAAAAAAAAAAAAAAAAAAAAAAAAAAAAAAAAAAAAAAAAAAAAAAAAAAAAAAAAAAAAAAAAAAAAAAAAAAAAAAAAAAAAAAAAAAAAAAAAAAAAAAAAAAAAAAAAAAAAAAAAAAAAAAAAAAAAAAAAAAAAAAAAAAAAAAAAAAAAAAAAAAAAAAAAAAAAAAAAAAAAAAAAAAAAAAAAAAAAAAAAAAAAAAAAAAAAAAAAAAAAAAAAAAAAAAAAAAAAAAAAAAAAAAAAAAAAAAAAAAAAAAAAAAAAAAAAAAAAAAAAAAAAAAAAAAAAAAAAAAAAAAAAAAAAAAAAAAAAAAAAAAAAAAAAAAAAAAAAAAAAAAAAAAAAAAAAAAAAAAAAAAAAAAAAAAAAAAAAAAAAAAAAAAAAAAAAAAAAAAAAAAAAAAAAAAAAAAAAAAAAAAAAAAAAAAAAAAAAAAAAAAAAAAAAAAAAAAAAAAAAAAAAAAAAAAAAAAAAAAAAAAAAAAAAAAAAAAAAAAAAAAAAAAAAAAAAAAAAAAAAAAAAAAAAAAAAAAAAAAAAAAAAAAAAAAAAAAAAAAAAAAAAAAAAAAAAAAAAAAAAAAAAAAAAAAAAAAAAAAAAAAAAAAAAAAAAAAAAAAAAAAAAAAAAAAAAAAAAAAAAAAAAAAAAAAAAAAAAAAAAAAAAAAAAAAAAAAAAAAAAAAAAAAAAAAAAAAAAAAAAAAAAAAAAAAAAAAAAAAAAAAAAAAAAAAAAAAAAAAAAAAAAAAAAAAAAAAAAAAAAAAAAAAAAAAAAAAAAAAAAAAAAAAAAAAAAAAAAAAAAAAAAAAAAAAAAAAAAAAAAAAAAAAAAAAAAAAAAAAAAAAAAAAAAAAAAAAAAAAAAAAAAAAAAAAAAAAAAAAAAAAAAAAAAAAAAAAAAAAAAAAAAAAAAAAAAAAAAAAAAAAAAAAAAAAAAAAAAAAAAAAAAAAAAAAAAAAAAAAAAAAAAAAAAAAAAAAAAAAAAAAAAAAAAAAAAAAAAAAAAAAAAAAAAAAAAAAAAAAAAAAAAAAAAAAAAAAAAAAAAAAAAAAAAAAAAAAAAAAAAAAAAAAAAAAAAAAAAAAAAAAAAAAAAAAAAAAAAAAAAAAAAAAAAAAAAAAAAAAAAAAAAAAAAAAAAAAAAAAAAAAAAAAAAAAAAAAAAAAAAAAAAAAAAAAAAAAAAAAAAAAAAAAAAAAAAAAAAAAAAAAAAAAAAAAAAAAAAAAAAAAAAAAAAAAAAAAAAAAAAAAAAAAAAAAAAAAAAAAAAAAAAAAAAAAAAAAAAAAAAAAAAAAAAAAAAAAAAAAAAAAAAAAAAAAAAAAAAAAAAAAAAAAAAAAAAAAAAAAAAAAAAAAAAAAAAAAAAAAAAAAAAAAAAAAAAAAAAAAAAAAAAAAAAAAAAAAAAAAAAAAAAAAAAAAAAAAAAAAAAAAAAAAAAAAAAAAAAAAAAAAAAAAAAAAAAAAAAAAAAAAAAAAAAAAAAAAAAAAAAAAAAAAAAAAAAAAAAAAAAAAAAAAAAAAAAAAAAAAAAAAAAAAAAAAAAAAAAAAAAAAAAAAAAAAAAAAAAAAAAAAAAAAAAAAAAAAAAAAAAAAAAAAAAAAAAAAAAAAAAAAAAAAAAAAAAAAAAAAAAAAAAAAAAAAAAAAAAAAAAAAAAAAAAAAAAAAAAAAAAAAAAAAAAAAAAAAAAAAAAAAAAAAAAAAAAAAAAAAAAAAAAAAAAAAAAAAAAAAAAAAAAAAAAAAAAAAAAAAAAAAAAAAAAAAAAAAAAAAAAAAAAAAAAAAAAAAAAAAAAAAAAAAAAAAAAAAAAAAAAAAAAAAAAAAAAAAAAAAAAAAAAAAAAAAAAAAAAAAAAAAAAAAAAAAAAAAAAAAAAAAAAAAAAAAAAAAAAAAAAAAAAAAAAAAAAAAAAAAAAAAAAAAAAAAAAAAAAAAAAAAAAAAAAAAAAAAAAAAAAAAAAAAAAAAAAAAAAAAAAAAAAAAAAAAAAAAAAAAAAAAAAAAAAAAAAAAAAAAAAAAAAAAAAAAAAAAAAAAAAAAAAAAAAAAAAAAAAAAAAAAAAAAAAAAAAAAAAAAAAAAAAAAAAAAAAAAAAAAAAAAAAAAAAAAAAAAAAAAAAAAAAAAAAAAAAAAAAAAAAAAAAAAAAAAAAAAAAAAAAAAAAAAAAAAAAAAAAAAAAAAAAAAAAAAAAAAAAAAAAAAAAAAAAAAAAAAAAAAAAAAAAAAAAAAAAAAAAAAAAAAAAAAAAAAAAAAAAAAAAAAAAAAAAAAAAAAAAAAAAAAAAAAAAAAAAAAAAAAAAAAAAAAAAAAAAAAAAAAAAAAAAAAAAAAAAAAAAAAAAAAAAAAAAAAAAAAAAAAAAAAAAAAAAAAAAAAAAAAAAAAAAAAAAAAAAAAAAAAAAAAAAAAAAAAAAAAAAAAAAAAAAAAAAAAAAAAAAAAAAAAAAAAAAAAAAAAAAAAAAAAAAAAAAAAAAAAAAAAAAAAAAAAAAAAAAAAAAAAAAAAAAAAAAAAAAAAAAAAAAAAAAAAAAAAAAAAAAAAAAAAAAAAAAAAAAAAAAAAAAAAAAAAAAAAAAAAAAAAAAAAAAAAAAAAAAAAAAAAAAAAAAAAAAAAAAAAAAAAAAAAAAAAAAAAAAAAAAAAAAAAAAAAAAAAAAAAAAAAAAAAAAAAAAAAAAAAAAAAAAAAAAAAAAAAAAAAAAAAAAAAAAAAAAAAAAAAAAAAAAAAAAAAAAAAAAAAAAAAAAAAAAAAAAAAAAAAAAAAAAAAAAAAAAAAAAAAAAAAAAAAAAAAAAAAAAAAAAAAAAAAAAAAAAAAAAAAAAAAAAAAAAAAAAAAAAAAAAAAAAAAAAAAAAAAAAAAAAAAAAAAAAAAAAAAAAAAAAAAAAAAAAAAAAAAAAAAAAAAAAAAAAAAAAAAAAAAAAAAAAAAAAAAAAAAAAAAAAAAAAAAAAAAAAAAAAAAAAAAAAAAAAAAAAAAAAAAAAAAAAAAAAAAAAAAAAAAAAAAAAAAAAAAAAAAAAAAAAAAAAAAAAAAAAAAAAAAAAAAAAAAAAAAAAAAAAAAAAAAAAAAAAAAAAAAAAAAAAAAAAAAAAAAAAAAAAAAAAAAAAAAAAAAAAAAAAAAAAAAAAAAAAAAAAAAAAAAAAAAAAAAAAAAAAAAAAAAAAAAAAAAAAAAAAAAAAAAAAAAAAAAAAAAAAAAAAAAAAAAAAAAAAAAAAAAAAAAAAAAAAAAAAAAAAAAAAAAAAAAAAAAAAAAAAAAAAAAAAAAAAAAAAAAAAAAAAAAAAAAAAAAAAAAAAAAAAAAAAAAAAAAAAAAAAAAAAAAAAAAAAAAAAAAAAAAAAAAAAAAAAAAAAAAAAAAAAAAAAAAAAAAAAAAAAAAAAAAAAAAAAAAAAAAAAAAAAAAAAAAAAAAAAAAAAAAAAAAAAAAAAAAAAAAAAAAAAAAAAAAAAAAAAAAAAAAAAAAAAAAAAAAAAAAAAAAAAAAAAAAAAAAAAAAAAAAAAAAAAAAAAAAAAAAAAAAAAAAAAAAAAAAAAAAAAAAAAAAAAAAAAAAAAAAAAAAAAAAAAAAAAAAAAAAAAAAAAAAAAAAAAAAAAAAAAAAAAAAAAAAAAAAAAAAAAAAAAAAAAAAAAAAAAAAAAAAAAAAAAAAAAAAAAAAAAAAAAAAAAAAAAAAAAAAAAAAAAAAAAAAAAAAAAAAAAAAAAAAAAAAAAAAAAAAAAAAAAAAAAAAAAAAAAAAAAAAAAAAAAAAAAAAAAAAAAAAAAAAAAAAAAAAAAAAAAAAAAAAAAAAAAAAAAAAAAAAAAAAAAAAAAAAAAAAAAAAAAAAAAAAAAAAAAAAAAAAAAAAAAAAAAAAAAAAAAAAAAAAAAAAAAAAAAAAAAAAAAAAAAAAAAAAAAAAAAAAAAAAAAAAAAAAAAAAAAAAAAAAAAAAAAAAAAAAAAAAAAAAAAAAAAAAAAAAAAAAAAAAAAAAAAAAAAAAAAAAAAAAAAAAAAAAAAAAAAAAAAAAAAAAAAAAAAAAAAAAAAAAAAAAAAAAAAAAAAAAAAAAAAAAAAAAAAAAAAAAAAAAAAAAAAAAAAAAAAAAAAAAAAAAAAAAAAAAAAAAAAAAAAAAAAAAAAAAAAAAAAAAAAAAAAAAAAAAAAAAAAAAAAAAAAAAAAAAAAAAAAAAAAAAAAAAAAAAAAAAAAAAAAAAAAAAAAAAAAAAAAAAAAAAAAAAAAAAAAAAAAAAAAAAAAAAAAAAAAAAAAAAAAAAAAAAAAAAAAAAAAAAAAAAAAAAAAAAAAAAAAAAAAAAAAAAAAAAAAAAAAAAAAAAAAAAAAAAAAAAAAAAAAAAAAAAAAAAAAAAAAAAAAAAAAAAAAAAAAAAAAAAAAAAAAAAAAAAAAAAAAAAAAAAAAAAAAAAAAAAAAAAAAAAAAAAAAAAAAAAAAAAAAAAAAAAAAAAAAAAAAAAAAAAAAAAAAAAAAAAAAAAAAAAAAAAAAAAAAAAAAAAAAAAAAAAAAAAAAAAAAAAAAAAAAAAAAAAAAAAAAAAAAAAAAAAAAAAAAAAAAAAAAAAAAAAAAAAAAAAAAAAAAAAAAAAAAAAAAAAAAAAAAAAAAAAAAAAAAAAAAAAAAAAAAAAAAAAAAAAAAAAAAAAAAAAAAAAAAAAAAAAAAAAAAAAAAAAAAAAAAAAAAAAAAAAAAAAAAAAAAAAAAAAAAAAAAAAAAAAAAAAAAAAAAAAAAAAAAAAAAAAAAAAAAAAAAAAAAAAAAAAAAAAAAAAAAAAAAAAAAAAAAAAAAAAAAAAAAAAAAAAAAAAAAAAAAAAAAAAAAAAAAAAAAAAAAAAAAAAAAAAAAAAAAAAAAAAAAAAAAAAAAAAAAAAAAAAAAAAAAAAAAAAAAAAAAAAAAAAAAAAAAAAAAAAAAAAAAAAAAAAAAAAAAAAAAAAAAAAAAAAAAAAAAAAAAAAAAAAAAAAAAAAAAAAAAAAAAAAAAAAAAAAAAAAAAAAAAAAAAAAAAAAAAAAAAAAAAAAAAAAAAAAAAAAAAAAAAAAAAAAAAAAAAAAAAAAAAAAAAAAAAAAAAAAAAAAAAAAAAAAAAAAAAAAAAAAAAAAAAAAAAAAAAAAAAAAAAAAAAAAAAAAAAAAAAAAAAAAAAAAAAAAAAAAAAAAAAAAAAAAAAAAAAAAAAAAAAAAAAAAAAAAAAAAAAAAAAAAAAAAAAAAAAAAAAAAAAAAAAAAAAAAAAAAAAAAAAAAAAAAAAAAAAAAAAAAAAAAAAAAAAAAAAAAAAAAAAAAAAAAAAAAAAAAAAAAAAAAAAAAAAAAAAAAAAAAAAAAAAAAAAAAAAAAAAAAAAAAAAAAAAAAAAAAAAAAAAAAAAAAAAAAAAAAAAAAAAAAAAAAAAAAAAAAAAAAAAAAAAAAAAAAAAAAAAAAAAAAAAAAAAAAAAAAAAAAAAAAAAAAAAAAAAAAAAAAAAAAAAAAAAAAAAAAAAAAAAAAAAAAAAAAAAAAAAAAAAAAAAAAAAAAAAAAAAAAAAAAAAAAAAAAAAAAAAAAAAAAAAAAAAAAAAAAAAAAAAAAAAAAAAAAAAAAAAAAAAAAAAAAAAAAAAAAAAAAAAAAAAAAAAAAAAAAAAAAAAAAAAAAAAAAAAAAAAAAAAAAAAAAAAAAAAAAAAAAAAAAAAAAAAAAAAAAAAAAAAAAAAAAAAAAAAAAAAAAAAAAAAAAAAAAAAAAAAAAAAAAAAAAAAAAAAAAAAAAAAAAAAAAAAAAAAAAAAAAAAAAAAAAAAAAAAAAAAAAAAAAAAAAAAAAAAAAAAAAAAAAAAAAAAAAAAAAAAAAAAAAAAAAAAAAAAAAAAAAAAAAAAAAAAAAAAAAAAAAAAAAAAAAAAAAAAAAAAAAAAAAAAAAAAAAAAAAAAAAAAAAAAAAAAAAAAAAAAAAAAAAAAAAAAAAAAAAAAAAAAAAAAAAAAAAAAAAAAAAAAAAAAAAAAAAAAAAAAAAAAAAAAAAAAAAAAAAAAAAAAAAAAAAAAAAAAAAAAAAAAAAAAAAAAAAAAAAAAAAAAAAAAAAAAAAAAAAAAAAAAAAAAAAAAAAAAAAAAAAAAAAAAAAAAAAAAAAAAAAAAAAAAAAAAAAAAAAAAAAAAAAAAAAAAAAAAAAAAAAAAAAAAAAAAAAAAAAAAAAAAAAAAAAAAAAAAAAAAAAAAAAAAAAAAAAAAAAAAAAAAAAAAAAAAAAAAAAAAAAAAAAAAAAAAAAAAAAAAAAAAAAAAAAAAAAAAAAAAAAAAAAAAAAAAAAAAAAAAAAAAAAAAAAAAAAAAAAAAAAAAAAAAAAAAAAAAAAAAAAAAAAAAAAAAAAAAAAAAAAAAAAAAAAAAAAAAAAAAAAAAAAAAAAAAAAAAAAAAAAAAAAAAAAAAAAAAAAAAAAAAAAAAAAAAAAAAAAAAAAAAAAAAAAAAAAAAAAAAAAAAAAAAAAAAAAAAAAAAAAAAAAAAAAAAAAAAAAAAAAAAAAAAAAAAAAAAAAAAAAAAAAAAAAAAAAAAAAAAAAAAAAAAAAAAAAAAAAAAAAAAAAAAAAAAAAAAAAAAAAAAAAAAAAAAAAAAAAAAAAAAAAAAAAAAAAAAAAAAAAAAAAAAAAAAAAAAAAAAAAAAAAAAAAAAAAAAAAAAAAAAAAAAAAAAAAAAAAAAAAAAAAAAAAAAAAAAAAAAAAAAAAAAAAAAAAAAAAAAAAAAAAAAAAAAAAAAAAAAAAAAAAAAAAAAAAAAAAAAAAAAAAAAAAAAAAAAAAAAAAAAAAAAAAAAAAAAAAAAAAAAAAAAAAAAAAAAAAAAAAAAAAAAAAAAAAAAAAAAAAAAAAAAAAAAAAAAAAAAAAAAAAAAAAAAAAAAAAAAAAAAAAAAAAAAAAAAAAAAAAAAAAAAAAAAAAAAAAAAAAAAAAAAAAAAAAAAAAAAAAAAAAAAAAAAAAAAAAAAAAAAAAAAAAAAAAAAAAAAAAAAAAAAAAAAAAAAAAAAAAAAAAAAAAAAAAAAAAAAAAAAAAAAAAAAAAAAAAAAAAAAAAAAAAAAAAAAAAAAAAAAAAAAAAAAAAAAAAAAAAAAAAAAAAAAAAAAAAAAAAAAAAAAAAAAAAAAAAAAAAAAAAAAAAAAAAAAAAAAAAAAAAAAAAAAAAAAAAAAAAAAAAAAAAAAAAAAAAAAAAAAAAAAAAAAAAAAAAAAAAAAAAAAAAAAAAAAAAAAAAAAAAAAAAAAAAAAAAAAAAAAAAAAAAAAAAAAAAAAAAAAAAAAAAAAAAAAAAAAAAAAAAAAAAAAAAAAAAAAAAAAAAAAAAAAAAAAAAAAAAAAAAAAAAAAAAAAAAAAAAAAAAAAAAAAAAAAAAAAAAAAAAAAAAAAAAAAAAAAAAAAAAAAAAAAAAAAAAAAAAAAAAAAAAAAAAAAAAAAAAAAAAAAAAAAAAAAAAAAAAAAAAAAAAAAAAAAAAAAAAAAAAAAAAAAAAAAAAAAAAAAAAAAAAAAAAAAAAAAAAAAAAAAAAAAAAAAAAAAAAAAAAAAAAAAAAAAAAAAAAAAAAAAAAAAAAAAAAAAAAAAAAAAAAAAAAAAAAAAAAAAAAAAAAAAAAAAAAAAAAAAAAAAAAAAAAAAAAAAAAAAAAAAAAAAAAAAAAAAAAAAAAAAAAAAAAAAAAAAAAAAAAAAAAAAAAAAAAAAAAAAAAAAAAAAAAAAAAAAAAAAAAAAAAAAAAAAAAAAAAAAAAAAAAAAAAAAAAAAAAAAAAAAAAAAAAAAAAAAAAAAAAAAAAAAAAAAAAAAAAAAAAAAAAAAAAAAAAAAAAAAAAAAAAAAAAAAAAAAAAAAAAAAAAAAAAAAAAAAAAAAAAAAAAAAAAAAAAAAAAAAAAAAAAAAAAAAAAAAAAAAAAAAAAAAAAAAAAAAAAAAAAAAAAAAAAAAAAAAAAAAAAAAAAAAAAAAAAAAAAAAAAAAAAAAAAAAAAAAAAAAAAAAAAAAAAAAAAAAAAAAAAAAAAAAAAAAAAAAAAAAAAAAAAAAAAAAAAAAAAAAAAAAAAAAAAAAAAAAAAAAAAAAAAAAAAAAAAAAAAAAAAAAAAAAAAAAAAAAAAAAAAAAAAAAAAAAAAAAAAAAAAAAAAAAAAAAAAAAAAAAAAAAAAAAAAAAAAAAAAAAAAAAAAAAAAAAAAAAAAAAAAAAAAAAAAAAAAAAAAAAAAAAAAAAAAAAAAAAAAAAAAAAAAAAAAAAAAAAAAAAAAAAAAAAAAAAAAAAAAAAAAAAAAAAAAAAAAAAAAAAAAAAAAAAAAAAAAAAAAAAAAAAAAAAAAAAAAAAAAAAAAAAAAAAAAAAAAAAAAAAAAAAAAAAAAAAAAAAAAAAAAAAAAAAAAAAAAAAAAAAAAAAAAAAAAAAAAAAAAAAAAAAAAAAAAAAAAAAAAAAAAAAAAAAAAAAAAAAAAAAAAAAAAAAAAAAAAAAAAAAAAAAAAAAAAAAAAAAAAAAAAAAAAAAAAAAAAAAAAAAAAAAAAAAAAAAAAAAAAAAAAAAAAAAAAAAAAAAAAAAAAAAAAAAAAAAAAAAAAAAAAAAAAAAAAAAAAAAAAAAAAAAAAAAAAAAAAAAAAAAAAAAAAAAAAAAAAAAAAAAAAAAAAAAAAAAAAAAAAAAAAAAAAAAAAAAAAAAAAAAAAAAAAAAAAAAAAAAAAAAAAAAAAAAAAAAAAAAAAAAAAAAAAAAAAAAAAAAAAAAAAAAAAAAAAAAAAAAAAAAAAAAAAAAAAAAAAAAAAAAAAAAAAAAAAAAAAAAAAAAAAAAAAAAAAAAAAAAAAAAAAAAAAAAAAAAAAAAAAAAAAAAAAAAAAAAAAAAAAAAAAAAAAAAAAAAAAAAAAAAAAAAAAAAAAAAAAAAAAAAAAAAAAAAAAAAAAAAAAAAAAAAAAAAAAAAAAAAAAAAAAAAAAAAAAAAAAAAAAAAAAAAAAAAAAAAAAAAAAAAAAAAAAAAAAAAAAAAAAAAAAAAAAAAAAAAAAAAAAAAAAAAAAAAAAAAAAAAAAAAAAAAAAAAAAAAAAAAAAAAAAAAAAAAAAAAAAAAAAAAAAAAAAAAAAAAAAAAAAAAAAAAAAAAAAAAAAAAAAAAAAAAAAAAAAAAAAAAAAAAAAAAAAAAAAAAAAAAAAAAAAAAAAAAAAAAAAAAAAAAAAAAAAAAAAAAAAAAAAAAAAAAAAAAAAAAAAAAAAAAAAAAAAAAAAAAAAAAAAAAAAAAAAAAAAAAAAAAAAAAAAAAAAAAAAAAAAAAAAAAAAAAAAAAAAAAAAAAAAAAAAAAAAAAAAAAAAAAAAAAAAAAAAAAAAAAAAAAAAAAAAAAAAAAAAAAAAAAAAAAAAAAAAAAAAAAAAAAAAAAAAAAAAAAAAAAAAAAAAAAAAAAAAAAAAAAAAAAAAAAAAAAAAAAAAAAAAAAAAAAAAAAAAAAAAAAAAAAAAAAAAAAAAAAAAAAAAAAAAAAAAAAAAAAAAAAAAAAAAAAAAAAAAAAAAAAAAAAAAAAAAAAAAAAAAAAAAAAAAAAAAAAAAAAAAAAAAAAAAAAAAAAAAAAAAAAAAAAAAAAAAAAAAAAAAAAAAAAAAAAAAAAAAAAAAAAAAAAAAAAAAAAAAAAAAAAAAAAAAAAAAAAAAAAAAAAAAAAAAAAAAAAAAAAAAAAAAAAAAAAAAAAAAAAAAAAAAAAAAAAAAAAAAAAAAAAAAAAAAAAAAAAAAAAAAAAAAAAAAAAAAAAAAAAAAAAAAAAAAAAAAAAAAAAAAAAAAAAAAAAAAAAAAAAAAAAAAAAAAAAAAAAAAAAAAAAAAAAAAAAAAAAAAAAAAAAAAAAAAAAAAAAAAAAAAAAAAAAAAAAAAAAAAAAAAAAAAAAAAAAAAAAAAAAAAAAAAAAAAAAAAAAAAAAAAAAAAAAAAAAAAAAAAAAAAAAAAAAAAAAAAAAAAAAAAAAAAAAAAAAAAAAAAAAAAAAAAAAAAAAAAAAAAAAAAAAAAAAAAAAAAAAAAAAAAAAAAAAAAAAAAAAAAAAAAAAAAAAAAAAAAAAAAAAAAAAAAAAAAAAAAAAAAAAAAAAAAAAAAAAAAAAAAAAAAAAAAAAAAAAAAAAAAAAAAAAAAAAAAAAAAAAAAAAAAAAAAAAAAAAAAAAAAAAAAAAAAAAAAAAAAAAAAAAAAAAAAAAAAAAAAAAAAAAAAAAAAAAAAAAAAAAAAAAAAAAAAAAAAAAAAAAAAAAAAAAAAAAAAAAAAAAAAAAAAAAAAAAAAAAAAAAAAAAAAAAAAAAAAAAAAAAAAAAAAAAAAAAAAAAAAAAAAAAAAAAAAAAAAAAAAAAAAAAAAAAAAAAAAAAAAAAAAAAAAAAAAAAAAAAAAAAAAAAAAAAAAAAAAAAAAAAAAAAAAAAAAAAAAAAAAAAAAAAAAAAAAAAAAAAAAAAAAAAAAAAAAAAAAAAAAAAAAAAAAAAAAAAAAAAAAAAAAAAAAAAAAAAAAAAAAAAAAAAAAAAAAAAAAAAAAAAAAAAAAAAAAAAAAAAAAAAAAAAAAAAAAAAAAAAAAAAAAAAAAAAAAAAAAAAAAAAAAAAAAAAAAAAAAAAAAAAAAAAAAAAAAAAAAAAAAAAAAAAAAAAAAAAAAAAAAAAAAAAAAAAAAAAAAAAAAAAAAAAAAAAAAAAAAAAAAAAAAAAAAAAAAAAAAAAAAAAAAAAAAAAAAAAAAAAAAAAAAAAAAAAAAAAAAAAAAAAAAAAAAAAAAAAAAAAAAAAAAAAAAAAAAAAAAAAAAAAAAAAAAAAAAAAAAAAAAAAAAAAAAAAAAAAAAAAAAAAAAAAAAAAAAAAAAAAAAAAAAAAAAAAAAAAAAAAAAAAAAAAAAAAAAAAAAAAAAAAAAAAAAAAAAAAAAAAAAAAAAAAAAAAAAAAAAAAAAAAAAAAAAAAAAAAAAAAAAAAAAAAAAAAAAAAAAAAAAAAAAAAAAAAAAAAAAAAAAAAAAAAAAAAAAAAAAAAAAAAAAAAAAAAAAAAAAAAAAAAAAAAAAAAAAAAAAAAAAAAAAAAAAAAAAAAAAAAAAAAAAAAAAAAAAAAAAAAAAAAAAAAAAAAAAAAAAAAAAAAAAAAAAAAAAAAAAAAAAAAAAAAAAAAAAAAAAAAAAAAAAAAAAAAAAAAAAAAAAAAAAAAAAAAAAAAAAAAAAAAAAAAAAAAAAAAAAAAAAAAAAAAAAAAAAAAAAAAAAAAAAAAAAAAAAAAAAAAAAAAAAAAAAAAAAAAAAAAAAAAAAAAAAAAAAAAAAAAAAAAAAAAAAAAAAAAAAAAAAAAAAAAAAAAAAAAAAAAAAAAAAAAAAAAAAAAAAAAAAAAAAAAAAAAAAAAAAAAAAAAAAAAAAAAAAAAAAAAAAAAAAAAAAAAAAAAAAAAAAAAAAAAAAAAAAAAAAAAAAAAAAAAAAAAAAAAAAAAAAAAAAAAAAAAAAAAAAAAAAAAAAAAAAAAAAAAAAAAAAAAAAAAAAAAAAAAAAAAAAAAAAAAAAAAAAAAAAAAAAAAAAAAAAAAAAAAAAAAAAAAAAAAAAAAAAAAAAAAAAAAAAAAAAAAAAAAAAAAAAAAAAAAAAAAAAAAAAAAAAAAAAAAAAAAAAAAAAAAAAAAAAAAAAAAAAAAAAAAAAAAAAAAAAAAAAAAAAAAAAAAAAAAAAAAAAAAAAAAAAAAAAAAAAAAAAAAAAAAAAAAAAAAAAAAAAAAAAAAAAAAAAAAAAAAAAAAAAAAAAAAAAAAAAAAAAAAAAAAAAAAAAAAAAAAAAAAAAAAAAAAAAAAAAAAAAAAAAAAAAAAAAAAAAAAAAAAAAAAAAAAAAAAAAAAAAAAAAAAAAAAAAAAAAAAAAAAAAAAAAAAAAAAAAAAAAAAAAAAAAAAAAAAAAAAAAAAAAAAAAAAAAAAAAAAAAAAAAAAAAAAAAAAAAAAAAAAAAAAAAAAAAAAAAAAAAAAAAAAAAAAAAAAAAAAAAAAAAAAAAAAAAAAAAAAAAAAAAAAAAAAAAAAAAAAAAAAAAAAAAAAAAAAAAAAAAAAAAAAAAAAAAAAAAAAAAAAAAAAAAAAAAAAAAAAAAAAAAAAAAAAAAAAAAAAAAAAAAAAAAAAAAAAAAAAAAAAAAAAAAAAAAAAAAAAAAAAAAAAAAAAAAAAAAAAAAAAAAAAAAAAAAAAAAAAAAAAAAAAAAAAAAAAAAAAAAAAAAAAAAAAAAAAAAAAAAAAAAAAAAAAAAAAAAAAAAAAAAAAAAAAAAAAAAAAAAAAAAAAAAAAAAAAAAAAAAAAAAAAAAAAAAAAAAAAAAAAAAAAAAAAAAAAAAAAAAAAAAAAAAAAAAAAAAAAAAAAAAAAAAAAAAAAAAAAAAAAAAAAAAAAAAAAAAAAAAAAAAAAAAAAAAAAAAAAAAAAAAAAAAAAAAAAAAAAAAAAAAAAAAAAAAAAAAAAAAAAAAAAAAAAAAAAAAAAAAAAAAAAAAAAAAAAAAAAAAAAAAAAAAAAAAAAAAAAAAAAAAAAAAAAAAAAAAAAAAAAAAAAAAAAAAAAAAAAAAAAAAAAAAAAAAAAAAAAAAAAAAAAAAAAAAAAAAAAAAAAAAAAAAAAAAAAAAAAAAAAAAAAAAAAAAAAAAAAAAAAAAAAAAAAAAAAAAAAAAAAAAAAAAAAAAAAAAAAAAAAAAAAAAAAAAAAAAAAAAAAAAAAAAAAAAAAAAAAAAAAAAAAAAAAAAAAAAAAAAAAAAAAAAAAAAAAAAAAAAAAAAAAAAAAAAAAAAAAAAAAAAAAAAAAAAAAAAAAAAAAAAAAAAAAAAAAAAAAAAAAAAAAAAAAAAAAAAAAAAAAAAAAAAAAAAAAAAAAAAAAAAAAAAAAAAAAAAAAAAAAAAAAAAAAAAAAAAAAAAAAAAAAAAAAAAAAAAAAAAAAAAAAAAAAAAAAAAAAAAAAAAAAAAAAAAAAAAAAAAAAAAAAAAAAAAAAAAAAAAAAAAAAAAAAAAAAAAAAAAAAAAAAAAAAAAAAAAAAAAAAAAAAAAAAAAAAAAAAAAAAAAAAAAAAAAAAAAAAAAAAAAAAAAAAAAAAAAAAAAAAAAAAAAAAAAAAAAAAAAAAAAAAAAAAAAAAAAAAAAAAAAAAAAAAAAAAAAAAAAAAAAAAAAAAAAAAAAAAAAAAAAAAAAAAAAAAAAAAAAAAAAAAAAAAAAAAAAAAAAAAAAAAAAAAAAAAAAAAAAAAAAAAAAAAAAAAAAAAAAAAAAAAAAAAAAAAAAAAAAAAAAAAAAAAAAAAAAAAAAAAAAAAAAAAAAAAAAAAAAAAAAAAAAAAAAAAAAAAAAAAAAAAAAAAAAAAAAAAAAAAAAAAAAAAAAAAAAAAAAAAAAAAAAAAAAAAAAAAAAAAAAAAAAAAAAAAAAAAAAAAAAAAAAAAAAAAAAAAAAAAAAAAAAAAAAAAAAAAAAAAAAAAAAAAAAAAAAAAAAAAAAAAAAAAAAAAAAAAAAAAAAAAAAAAAAAAAAAAAAAAAAAAAAAAAAAAAAAAAAAAAAAAAAAAAAAAAAAAAAAAAAAAAAAAAAAAAAAAAAAAAAAAAAAAAAAAAAAAAAAAAAAAAAAAAAAAAAAAAAAAAAAAAAAAAAAAAAAAAAAAAAAAAAAAAAAAAAAAAAAAAAAAAAAAAAAAAAAAAAAAAAAAAAAAAAAAAAAAAAAAAAAAAAAAAAAAAAAAAAAAAAAAAAAAAAAAAAAAAAAAAAAAAAAAAAAAAAAAAAAAAAAAAAAAAAAAAAAAAAAAAAAAAAAAAAAAAAAAAAAAAAAAAAAAAAAAAAAAAAAAAAAAAAAAAAAAAAAAAAAAAAAAAAAAAAAAAAAAAAAAAAAAAAAAAAAAAAAAAAAAAAAAAAAAAAAAAAAAAAAAAAAAAAAAAAAAAAAAAAAAAAAAAAAAAAAAAAAAAAAAAAAAAAAAAAAAAAAAAAAAAAAAAAAAAAAAAAAAAAAAAAAAAAAAAAAAAAAAAAAAAAAAAAAAAAAAAAAAAAAAAAAAAAAAAAAAAAAAAAAAAAAAAAAAAAAAAAAAAAAAAAAAAAAAAAAAAAAAAAAAAAAAAAAAAAAAAAAAAAAAAAAAAAAAAAAAAAAAAAAAAAAAAAAAAAAAAAAAAAAAAAAAAAAAAAAAAAAAAAAAAAAAAAAAAAAAAAAAAAAAAAAAAAAAAAAAAAAAAAAAAAAAAAAAAAAAAAAAAAAAAAAAAAAAAAAAAAAAAAAAAAAAAAAAAAAAAAAAAAAAAAAAAAAAAAAAAAAAAAAAAAAAAAAAAAAAAAAAAAAAAAAAAAAAAAAAAAAAAAAAAAAAAAAAAAAAAAAAAAAAAAAAAAAAAAAAAAAAAAAAAAAAAAAAAAAAAAAAAAAAAAAAAAAAAAAAAAAAAAAAAAAAAAAAAAAAAAAAAAAAAAAAAAAAAAAAAAAAAAAAAAAAAAAAAAAAAAAAAAAAAAAAAAAAAAAAAAAAAAAAAAAAAAAAAAAAAAAAAAAAAAAAAAAAAAAAAAAAAAAAAAAAAAAAAAAAAAAAAAAAAAAAAAAAAAAAAAAAAAAAAAAAAAAAAAAAAAAAAAAAAAAAAAAAAAAAAAAAAAAAAAAAAAAAAAAAAAAAAAAAAAAAAAAAAAAAAAAAAAAAAAAAAAAAAAAAAAAAAAAAAAAAAAAAAAAAAAAAAAAAAAAAAAAAAAAAAAAAAAAAAAAAAAAAAAAAAAAAAAAAAAAAAAAAAAAAAAAAAAAAAAAAAAAAAAAAAAAAAAAAAAAAAAAAAAAAAAAAAAAAAAAAAAAAAAAAAAAAAAAAAAAAAAAAAAAAAAAAAAAAAAAAAAAAAAAAAAAAAAAAAAAAAAAAAAAAAAAAAAAAAAAAAAAAAAAAAAAAAAAAAAAAAAAAAAAAAAAAAAAAAAAAAAAAAAAAAAAAAAAAAAAAAAAAAAAAAAAAAAAAAAAAAAAAAAAAAAAAAAAAAAAAAAAAAAAAAAAAAAAAAAAAAAAAAAAAAAAAAAAAAAAAAAAAAAAAAAAAAAAAAAAAAAAAAAAAAAAAAAAAAAAAAAAAAAAAAAAAAAAAAAAAAAAAAAAAAAAAAAAAAAAAAAAAAAAAAAAAAAAAAAAAAAAAAAAAAAAAAAAAAAAAAAAAAAAAAAAAAAAAAAAAAAAAAAAAAAAAAAAAAAAAAAAAAAAAAAAAAAAAAAAAAAAAAAAAAAAAAAAAAAAAAAAAAAAAAAAAAAAAAAAAAAAAAAAAAAAAAAAAAAAAAAAAAAAAAAAAAAAAAAAAAAAAAAAAAAAAAAAAAAAAAAAAAAAAAAAAAAAAAAAAAAAAAAAAAAAAAAAAAAAAAAAAAAAAAAAAAAAAAAAAAAAAAAAAAAAAAAAAAAAAAAAAAAAAAAAAAAAAAAAAAAAAAAAAAAAAAAAAAAAAAAAAAAAAAAAAAAAAAAAAAAAAAAAAAAAAAAAAAAAAAAAAAAAAAAAAAAAAAAAAAAAAAAAAAAAAAAAAAAAAAAAAAAAAAAAAAAAAAAAAAAAAAAAAAAAAAAAAAAAAAAAAAAAAAAAAAAAAAAAAAAAAAAAAAAAAAAAAAAAAAAAAAAAAAAAAAAAAAAAAAAAAAAAAAAAAAAAAAAAAAAAAAAAAAAAAAAAAAAAAAAAAAAAAAAAAAAAAAAAAAAAAAAAAAAAAAAAAAAAAAAAAAAAAAAAAAAAAAAAAAAAAAAAAAAAAAAAAAAAAAAAAAAAAAAAAAAAAAAAAAAAAAAAAAAAAAAAAAAAAAAAAAAAAAAAAAAAAAAAAAAAAAAAAAAAAAAAAAAAAAAAAAAAAAAAAAAAAAAAAAAAAAAAAAAAAAAAAAAAAAAAAAAAAAAAAAAAAAAAAAAAAAAAAAAAAAAAAAAAAAAAAAAAAAAAAAAAAAAAAAAAAAAAAAAAAAAAAAAAAAAAAAAAAAAAAAAAAAAAAAAAAAAAAAAAAAAAAAAAAAAAAAAAAAAAAAAAAAAAAAAAAAAAAAAAAAAAAAAAAAAAAAAAAAAAAAAAAAAAAAAAAAAAAAAAAAAAAAAAAAAAAAAAAAAAAAAAAAAAAAAAAAAAAAAAAAAAAAAAAAAAAAAAAAAAAAAAAAAAAAAAAAAAAAAAAAAAAAAAAAAAAAAAAAAAAAAAAAAAAAAAAAAAAAAAAAAAAAAAAAAAAAAAAAAAAAAAAAAAAAAAAAAAAAAAAAAAAAAAAAAAAAAAAAAAAAAAAAAAAAAAAAAAAAAAAAAAAAAAAAAAAAAAAAAAAAAAAAAAAAAAAAAAAAAAAAAAAAAAAAAAAAAAAAAAAAAAAAAAAAAAAAAAAAAAAAAAAAAAAAAAAAAAAAAAAAAAAAAAAAAAAAAAAAAAAAAAAAAAAAAAAAAAAAAAAAAAAAAAAAAAAAAAAAAAAAAAAAAAAAAAAAAAAAAAAAAAAAAAAAAAAAAAAAAAAAAAAAAAAAAAAAAAAAAAAAAAAAAAAAAAAAAAAAAAAAAAAAAAAAAAAAAAAAAAAAAAAAAAAAAAAAAAAAAAAAAAAAAAAAAAAAAAAAAAAAAAAAAAAAAAAAAAAAAAAAAAAAAAAAAAAAAAAAAAAAAAAAAAAAAAAAAAAAAAAAAAAAAAAAAAAAAAAAAAAAAAAAAAAAAAAAAAAAAAAAAAAAAAAAAAAAAAAAAAAAAAAAAAAAAAAAAAAAAAAAAAAAAAAAAAAAAAAAAAAAAAAAAAAAAAAAAAAAAAAAAAAAAAAAAAAAAAAAAAAAAAAAAAAAAAAAAAAAAAAAAAAAAAAAAAAAAAAAAAAAAAAAAAAAAAAAAAAAAAAAAAAAAAAAAAAAAAAAAAAAAAAAAAAAAAAAAAAAAAAAAAAAAAAAAAAAAAAAAAAAAAAAAAAAAAAAAAAAAAAAAAAAAAAAAAAAAAAAAAAAAAAAAAAAAAAAAAAAAAAAAAAAAAAAAAAAAAAAAAAAAAAAAAAAAAAAAAAAAAAAAAAAAAAAAAAAAAAAAAAAAAAAAAAAAAAAAAAAAAAAAAAAAAAAAAAAAAAAAAAAAAAAAAAAAAAAAAAAAAAAAAAAAAAAAAAAAAAAAAAAAAAAAAAAAAAAAAAAAAAAAAAAAAAAAAAAAAAAAAAAAAAAAAAAAAAAAAAAAAAAAAAAAAAAAAAAAAAAAAAAAAAAAAAAAAAAAAAAAAAAAAAAAAAAAAAAAAAAAAAAAAAAAAAAAAAAAAAAAAAAAAAAAAAAAAAAAAAAAAAAAAAAAAAAAAAAAAAAAAAAAAAAAAAAAAAAAAAAAAAAAAAAAAAAAAAAAAAAAAAAAAAAAAAAAAAAAAAAAAAAAAAAAAAAAAAAAAAAAAAAAAAAAAAAAAAAAAAAAAAAAAAAAAAAAAAAAAAAAAAAAAAAAAAAAAAAAAAAAAAAAAAAAAAAAAAAAAAAAAAAAAAAAAAAAAAAAAAAAAAAAAAAAAAAAAAAAAAAAAAAAAAAAAAAAAAAAAAAAAAAAAAAAAAAAAAAAAAAAAAAAAAAAAAAAAAAAAAAAAAAAAAAAAAAAAAAAAAAAAAAAAAAAAAAAAAAAAAAAAAAAAAAAAAAAAAAAAAAAAAAAAAAAAAAAAAAAAAAAAAAAAAAAAAAAAAAAAAAAAAAAAAAAAAAAAAAAAAAAAAAAAAAAAAAAAAAAAAAAAAAAAAAAAAAAAAAAAAAAAAAAAAAAAAAAAAAAAAAAAAAAAAAAAAAAAAAAAAAAAAAAAAAAAAAAAAAAAAAAAAAAAAAAAAAAAAAAAAAAAAAAAAAAAAAAAAAAAAAAAAAAAAAAAAAAAAAAAAAAAAAAAAAAAAAAAAAAAAAAAAAAAAAAAAAAAAAAAAAAAAAAAAAAAAAAAAAAAAAAAAAAAAAAAAAAAAAAAAAAAAAAAAAAAAAAAAAAAAAAAAAAAAAAAAAAAAAAAAAAAAAAAAAAAAAAAAAAAAAAAAAAAAAAAAAAAAAAAAAAAAAAAAAAAAAAAAAAAAAAAAAAAAAAAAAAAAAAAAAAAAAAAAAAAAAAAAAAAAAAAAAAAAAAAAAAAAAAAAAAAAAAAAAAAAAAAAAAAAAAAAAAAAAAAAAAAAAAAAAAAAAAAAAAAAAAAAAAAAAAAAAAAAAAAAAAAAAAAAAAAAAAAAAAAAAAAAAAAAAAAAAAAAAAAAAAAAAAAAAAAAAAAAAAAAAAAAAAAAAAAAAAAAAAAAAAAAAAAAAAAAAAAAAAAAAAAAAAAAAAAAAAAAAAAAAAAAAAAAAAAAAAAAAAAAAAAAAAAAAAAAAAAAAAAAAAAAAAAAAAAAAAAAAAAAAAAAAAAAAAAAAAAAAAAAAAAAAAAAAAAAAAAAAAAAAAAAAAAAAAAAAAAAAAAAAAAAAAAAAAAAAAAAAAAAAAAAAAAAAAAAAAAAAAAAAAAAAAAAAAAAAAAAAAAAAAAAAAAAAAAAAAAAAAAAAAAAAAAAAAAAAAAAAAAAAAAAAAAAAAAAAAAAAAAAAAAAAAAAAAAAAAAAAAAAAAAAAAAAAAAAAAAAAAAAAAAAAAAAAAAAAAAAAAAAAAAAAAAAAAAAAAAAAAAAAAAAAAAAAAAAAAAAAAAAAAAAAAAAAAAAAAAAAAAAAAAAAAAAAAAAAAAAAAAAAAAAAAAAAAAAAAAAAAAAAAAAAAAAAAAAAAAAAAAAAAAAAAAAAAAAAAAAAAAAAAAAAAAAAAAAAAAAAAAAAAAAAAAAAAAAAAAAAAAAAAAAAAAAAAAAAAAAAAAAAAAAAAAAAAAAAAAAAAAAAAAAAAAAAAAAAAAAAAAAAAAAAAAAAAAAAAAAAAAAAAAAAAAAAAAAAAAAAAAAAAAAAAAAAAAAAAAAAAAAAAAAAAAAAAAAAAAAAAAAAAAAAAAAAAAAAAAAAAAAAAAAAAAAAAAAAAAAAAAAAAAAAAAAAAAAAAAAAAAAAAAAAAAAAAAAAAAAAAAAAAAAAAAAAAAAAAAAAAAAAAAAAAAAAAAAAAAAAAAAAAAAAAAAAAAAAAAAAAAAAAAAAAAAAAAAAAAAAAAAAAAAAAAAAAAAAAAAAAAAAAAAAAAAAAAAAAAAAAAAAAAAAAAAAAAAAAAAAAAAAAAAAAAAAAAAAAAAAAAAAAAAAAAAAAAAAAAAAAAAAAAAAAAAAAAAAAAAAAAAAAAAAAAAAAAAAAAAAAAAAAAAAAAAAAAAAAAAAAAAAAAAAAAAAAAAAAAAAAAAAAAAAAAAAAAAA=\" type=\"audio/flac\" />\n",
              "                    Your browser does not support the audio element.\n",
              "                </audio>\n",
              "              "
            ]
          },
          "metadata": {},
          "execution_count": 19
        }
      ]
    },
    {
      "cell_type": "code",
      "source": [
        "model_config = {\n",
        "  \"architecture\": \"AASIST\",\n",
        "  \"nb_samp\": 64600,\n",
        "  \"first_conv\": 128,\n",
        "  \"filts\": [70, [1, 32], [32, 32], [32, 64], [64, 64]],\n",
        "  \"gat_dims\": [64, 32],\n",
        "  \"pool_ratios\": [0.5, 0.7, 0.5, 0.5],\n",
        "  \"temperatures\": [2.0, 2.0, 100.0, 100.0]\n",
        "}\n",
        "\n",
        "model_path = \"/content/drive/MyDrive/dataspoofv2/IDASVspoofing_AASIST_ep10_bs32/weights/epoch_8_0.000.pth\"\n",
        "\n",
        "audio_name_ls = [\n",
        "    'output1.flac',\n",
        "    'ID_TT_ID_Ind404_M_00605_src-Ind338.flac',\n",
        "    'ID_TT_ID_Ind404_M_00657_src-Ind338.flac',\n",
        "    'ID_TT_ID_Ind404_M_00989_src-Ind342.flac',\n",
        "    'ID_TT_ID_Ind505_F_03197_src-Ind390.flac',\n",
        "]\n",
        "\n",
        "raw_scores = []\n",
        "print(\"AASIST\")\n",
        "for audio_name in audio_name_ls:\n",
        "\n",
        "  if audio_name != 'output1.flac':\n",
        "    audio_path = f\"/content/drive/MyDrive/dataspoofv2/IDASVspoofing_test_joined/flac/{audio_name}\"\n",
        "  else:\n",
        "    audio_path = 'output1.flac'\n",
        "\n",
        "  result = predict(model_config, model_path, audio_path)\n",
        "  raw_scores.append(result['raw_score'])\n",
        "\n",
        "  print(f\"File name: {result['file_name']}\")\n",
        "  print(f\"Prediction {result['file_name']}: {result['prediction']}\")\n",
        "  print(f\"Raw Score {result['file_name']}: {result['raw_score']:.4f}\")\n",
        "  print()\n",
        "\n",
        "print(f\"Average Raw Score: {np.mean(raw_scores):.4f}\")"
      ],
      "metadata": {
        "colab": {
          "base_uri": "https://localhost:8080/"
        },
        "id": "5KBkpIZLj2QG",
        "outputId": "a98f7536-5513-4d19-c9e5-b8dd92ba16b0"
      },
      "execution_count": 27,
      "outputs": [
        {
          "output_type": "stream",
          "name": "stdout",
          "text": [
            "AASIST\n",
            "no. model params:297866\n",
            "File name: output1.flac\n",
            "Prediction output1.flac: spoof\n",
            "Raw Score output1.flac: -5.1624\n",
            "\n",
            "no. model params:297866\n",
            "File name: ID_TT_ID_Ind404_M_00605_src-Ind338.flac\n",
            "Prediction ID_TT_ID_Ind404_M_00605_src-Ind338.flac: spoof\n",
            "Raw Score ID_TT_ID_Ind404_M_00605_src-Ind338.flac: -5.5062\n",
            "\n",
            "no. model params:297866\n",
            "File name: ID_TT_ID_Ind404_M_00657_src-Ind338.flac\n",
            "Prediction ID_TT_ID_Ind404_M_00657_src-Ind338.flac: spoof\n",
            "Raw Score ID_TT_ID_Ind404_M_00657_src-Ind338.flac: -5.0586\n",
            "\n",
            "no. model params:297866\n",
            "File name: ID_TT_ID_Ind404_M_00989_src-Ind342.flac\n",
            "Prediction ID_TT_ID_Ind404_M_00989_src-Ind342.flac: spoof\n",
            "Raw Score ID_TT_ID_Ind404_M_00989_src-Ind342.flac: -5.3167\n",
            "\n",
            "no. model params:297866\n",
            "File name: ID_TT_ID_Ind505_F_03197_src-Ind390.flac\n",
            "Prediction ID_TT_ID_Ind505_F_03197_src-Ind390.flac: spoof\n",
            "Raw Score ID_TT_ID_Ind505_F_03197_src-Ind390.flac: -5.0138\n",
            "\n",
            "Average Raw Score: -5.2115\n"
          ]
        }
      ]
    },
    {
      "cell_type": "code",
      "source": [
        "model_config_aasist_l = {\n",
        "    \"architecture\": \"AASIST\",\n",
        "    \"nb_samp\": 64600,\n",
        "    \"first_conv\": 128,\n",
        "    \"filts\": [70, [1, 32], [32, 32], [32, 24], [24, 24]],\n",
        "    \"gat_dims\": [24, 32],\n",
        "    \"pool_ratios\": [0.4, 0.5, 0.7, 0.5],\n",
        "    \"temperatures\": [2.0, 2.0, 100.0, 100.0]\n",
        "}\n",
        "\n",
        "model_path = \"/content/drive/MyDrive/dataspoofv2/IDASVspoofing_AASIST-L_ep10_bs32/weights/epoch_9_0.000.pth\"\n",
        "\n",
        "audio_name_ls = [\n",
        "    'output1.flac',\n",
        "    'ID_TT_ID_Ind404_M_00605_src-Ind338.flac',\n",
        "    'ID_TT_ID_Ind404_M_00657_src-Ind338.flac',\n",
        "    'ID_TT_ID_Ind404_M_00989_src-Ind342.flac',\n",
        "    'ID_TT_ID_Ind505_F_03197_src-Ind390.flac',\n",
        "]\n",
        "\n",
        "raw_scores = []\n",
        "print(\"AASIST-L\")\n",
        "for audio_name in audio_name_ls:\n",
        "\n",
        "  if audio_name != 'output1.flac':\n",
        "    audio_path = f\"/content/drive/MyDrive/dataspoofv2/IDASVspoofing_test_joined/flac/{audio_name}\"\n",
        "  else:\n",
        "    audio_path = 'output1.flac'\n",
        "\n",
        "  result = predict(model_config_aasist_l, model_path, audio_path)\n",
        "  raw_scores.append(result['raw_score'])\n",
        "\n",
        "  print(f\"File name: {result['file_name']}\")\n",
        "  print(f\"Prediction {result['file_name']}: {result['prediction']}\")\n",
        "  print(f\"Raw Score {result['file_name']}: {result['raw_score']:.4f}\")\n",
        "  print()\n",
        "\n",
        "print(f\"Average Raw Score: {np.mean(raw_scores):.4f}\")"
      ],
      "metadata": {
        "colab": {
          "base_uri": "https://localhost:8080/"
        },
        "id": "4qx6-EzOkrRf",
        "outputId": "ff22199f-f4ab-4b95-a68e-fe6513f95ad9"
      },
      "execution_count": 28,
      "outputs": [
        {
          "output_type": "stream",
          "name": "stdout",
          "text": [
            "AASIST-L\n",
            "no. model params:85306\n",
            "File name: output1.flac\n",
            "Prediction output1.flac: spoof\n",
            "Raw Score output1.flac: -3.4006\n",
            "\n",
            "no. model params:85306\n",
            "File name: ID_TT_ID_Ind404_M_00605_src-Ind338.flac\n",
            "Prediction ID_TT_ID_Ind404_M_00605_src-Ind338.flac: spoof\n",
            "Raw Score ID_TT_ID_Ind404_M_00605_src-Ind338.flac: -3.6485\n",
            "\n",
            "no. model params:85306\n",
            "File name: ID_TT_ID_Ind404_M_00657_src-Ind338.flac\n",
            "Prediction ID_TT_ID_Ind404_M_00657_src-Ind338.flac: spoof\n",
            "Raw Score ID_TT_ID_Ind404_M_00657_src-Ind338.flac: -3.0376\n",
            "\n",
            "no. model params:85306\n",
            "File name: ID_TT_ID_Ind404_M_00989_src-Ind342.flac\n",
            "Prediction ID_TT_ID_Ind404_M_00989_src-Ind342.flac: spoof\n",
            "Raw Score ID_TT_ID_Ind404_M_00989_src-Ind342.flac: -3.4030\n",
            "\n",
            "no. model params:85306\n",
            "File name: ID_TT_ID_Ind505_F_03197_src-Ind390.flac\n",
            "Prediction ID_TT_ID_Ind505_F_03197_src-Ind390.flac: spoof\n",
            "Raw Score ID_TT_ID_Ind505_F_03197_src-Ind390.flac: -2.2355\n",
            "\n",
            "Average Raw Score: -3.1450\n"
          ]
        }
      ]
    },
    {
      "cell_type": "code",
      "source": [
        "model_config_rawgatst =  {\n",
        "  \"architecture\": \"RawNetGatSpoofST\",\n",
        "  \"nb_samp\": 64600,\n",
        "  \"first_conv\": 128,\n",
        "  \"filts\": [70, [1, 32], [32, 32], [32, 64], [64, 64]]\n",
        "}\n",
        "\n",
        "model_path = \"/content/drive/MyDrive/dataspoofv2/IDASVspoofing_RawGATST_baseline_ep10_bs16/weights/epoch_9_0.000.pth\"\n",
        "\n",
        "audio_name_ls = [\n",
        "    'output1.flac',\n",
        "    'ID_TT_ID_Ind404_M_00605_src-Ind338.flac',\n",
        "    'ID_TT_ID_Ind404_M_00657_src-Ind338.flac',\n",
        "    'ID_TT_ID_Ind404_M_00989_src-Ind342.flac',\n",
        "    'ID_TT_ID_Ind505_F_03197_src-Ind390.flac',\n",
        "]\n",
        "\n",
        "raw_scores = []\n",
        "print(\"RAWGAT-ST\")\n",
        "for audio_name in audio_name_ls:\n",
        "\n",
        "  if audio_name != 'output1.flac':\n",
        "    audio_path = f\"/content/drive/MyDrive/dataspoofv2/IDASVspoofing_test_joined/flac/{audio_name}\"\n",
        "  else:\n",
        "    audio_path = 'output1.flac'\n",
        "\n",
        "  result = predict(model_config_rawgatst, model_path, audio_path)\n",
        "  raw_scores.append(result['raw_score'])\n",
        "\n",
        "  print(f\"File name: {result['file_name']}\")\n",
        "  print(f\"Prediction {result['file_name']}: {result['prediction']}\")\n",
        "  print(f\"Raw Score {result['file_name']}: {result['raw_score']:.4f}\")\n",
        "  print()\n",
        "\n",
        "print(f\"Average Raw Score: {np.mean(raw_scores):.4f}\")"
      ],
      "metadata": {
        "colab": {
          "base_uri": "https://localhost:8080/"
        },
        "id": "R9WcEP26lLrD",
        "outputId": "fbde587d-7c02-4fce-a79b-33cc618a33c3"
      },
      "execution_count": 29,
      "outputs": [
        {
          "output_type": "stream",
          "name": "stdout",
          "text": [
            "RAWGAT-ST\n",
            "no. model params:437034\n",
            "File name: output1.flac\n",
            "Prediction output1.flac: spoof\n",
            "Raw Score output1.flac: -2.8055\n",
            "\n",
            "no. model params:437034\n",
            "File name: ID_TT_ID_Ind404_M_00605_src-Ind338.flac\n",
            "Prediction ID_TT_ID_Ind404_M_00605_src-Ind338.flac: spoof\n",
            "Raw Score ID_TT_ID_Ind404_M_00605_src-Ind338.flac: -2.2820\n",
            "\n",
            "no. model params:437034\n",
            "File name: ID_TT_ID_Ind404_M_00657_src-Ind338.flac\n",
            "Prediction ID_TT_ID_Ind404_M_00657_src-Ind338.flac: spoof\n",
            "Raw Score ID_TT_ID_Ind404_M_00657_src-Ind338.flac: -2.8022\n",
            "\n",
            "no. model params:437034\n",
            "File name: ID_TT_ID_Ind404_M_00989_src-Ind342.flac\n",
            "Prediction ID_TT_ID_Ind404_M_00989_src-Ind342.flac: spoof\n",
            "Raw Score ID_TT_ID_Ind404_M_00989_src-Ind342.flac: -2.2555\n",
            "\n",
            "no. model params:437034\n",
            "File name: ID_TT_ID_Ind505_F_03197_src-Ind390.flac\n",
            "Prediction ID_TT_ID_Ind505_F_03197_src-Ind390.flac: spoof\n",
            "Raw Score ID_TT_ID_Ind505_F_03197_src-Ind390.flac: -1.7762\n",
            "\n",
            "Average Raw Score: -2.3843\n"
          ]
        }
      ]
    },
    {
      "cell_type": "code",
      "source": [],
      "metadata": {
        "id": "Lckd-DvQlVH3"
      },
      "execution_count": null,
      "outputs": []
    }
  ]
}